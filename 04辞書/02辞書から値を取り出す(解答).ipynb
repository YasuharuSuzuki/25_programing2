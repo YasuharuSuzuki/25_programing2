{
 "cells": [
  {
   "cell_type": "markdown",
   "metadata": {
    "id": "hygGLJVrsFck"
   },
   "source": [
    "# Section 4-2 辞書から値を取り出す\n",
    "- Pythonの辞書（dictionary）は、キー（key）と値（value）のペアを格納するデータ構造です。"
   ]
  },
  {
   "cell_type": "markdown",
   "metadata": {
    "id": "mjgsv87NsFco"
   },
   "source": [
    "## 辞書 参考サイト\n",
    "## [参考サイト1【Python早見表】辞書](https://chokkan.github.io/python/09dict.html)\n",
    "\n",
    "## [参考サイト2【Python入門】辞書](https://utokyo-ipp.github.io/3/3-1.html)"
   ]
  },
  {
   "cell_type": "markdown",
   "metadata": {
    "id": "luMtHdr4sFcp"
   },
   "source": [
    "## サンプルプログラム5　キーの値を取得する\n",
    "### [ キー名 ] で取得\n",
    "- [キー名]のように指定します"
   ]
  },
  {
   "cell_type": "code",
   "execution_count": 1,
   "metadata": {
    "colab": {
     "base_uri": "https://localhost:8080/"
    },
    "executionInfo": {
     "elapsed": 2,
     "status": "ok",
     "timestamp": 1715149150932,
     "user": {
      "displayName": "鈴木康元",
      "userId": "15385942521303414593"
     },
     "user_tz": -540
    },
    "id": "I7Y1isuusFcp",
    "outputId": "27194b35-60b9-43d0-b506-b994b8c86d6b"
   },
   "outputs": [
    {
     "name": "stdout",
     "output_type": "stream",
     "text": [
      "prefecture_type= {1: '北海道', 2: '青森県', 3: '岩手県', 47: '沖縄県'}\n",
      "region_map= {'北海道': '北海道地方', '青森県': '東北地方', '岩手県': '東北地方', '沖縄県': '九州地方'}\n"
     ]
    }
   ],
   "source": [
    "# 辞書の作成\n",
    "prefecture_type = {1:\"北海道\", 2:\"青森県\", 3:\"岩手県\", 47:\"沖縄県\"}\n",
    "region_map = {\"北海道\":\"北海道地方\", \"青森県\":\"東北地方\", \"岩手県\":\"東北地方\", \"沖縄県\":\"九州地方\"}\n",
    "\n",
    "print('prefecture_type=', prefecture_type)\n",
    "print('region_map=', region_map)"
   ]
  },
  {
   "cell_type": "code",
   "execution_count": 2,
   "metadata": {
    "colab": {
     "base_uri": "https://localhost:8080/"
    },
    "executionInfo": {
     "elapsed": 488,
     "status": "ok",
     "timestamp": 1715149160486,
     "user": {
      "displayName": "鈴木康元",
      "userId": "15385942521303414593"
     },
     "user_tz": -540
    },
    "id": "vZaJgwOcsFcq",
    "outputId": "43ab262f-0e48-497a-9c1f-dd858e53c72f",
    "scrolled": true
   },
   "outputs": [
    {
     "name": "stdout",
     "output_type": "stream",
     "text": [
      "prefecture_type[2]= 青森県\n",
      "region_map[prefecture_type[47]]= 九州地方\n"
     ]
    }
   ],
   "source": [
    "print('prefecture_type[2]=',prefecture_type[2])\n",
    "print('region_map[prefecture_type[47]]=',region_map[prefecture_type[47]])"
   ]
  },
  {
   "cell_type": "markdown",
   "metadata": {
    "id": "TPCs1QwbsFcr"
   },
   "source": [
    "- キー名を指定すると値を取得できます"
   ]
  },
  {
   "cell_type": "markdown",
   "metadata": {
    "id": "zj0haurLsFcr"
   },
   "source": [
    "### 存在しない値を調べようとするとエラー\n",
    "- 存在しない値を調べようとするとエラーになる\n",
    "- try 〜 except で括るとエラーを補足できる"
   ]
  },
  {
   "cell_type": "code",
   "execution_count": 3,
   "metadata": {
    "colab": {
     "base_uri": "https://localhost:8080/",
     "height": 141
    },
    "executionInfo": {
     "elapsed": 1152,
     "status": "error",
     "timestamp": 1715149228361,
     "user": {
      "displayName": "鈴木康元",
      "userId": "15385942521303414593"
     },
     "user_tz": -540
    },
    "id": "CzL9is3IsFcs",
    "outputId": "bb8015fa-e0cb-42be-9ede-bf3fb2711ba3"
   },
   "outputs": [
    {
     "ename": "KeyError",
     "evalue": "21",
     "output_type": "error",
     "traceback": [
      "\u001b[0;31m---------------------------------------------------------------------------\u001b[0m",
      "\u001b[0;31mKeyError\u001b[0m                                  Traceback (most recent call last)",
      "Cell \u001b[0;32mIn[3], line 1\u001b[0m\n\u001b[0;32m----> 1\u001b[0m \u001b[38;5;28mprint\u001b[39m(\u001b[38;5;124m'\u001b[39m\u001b[38;5;124mprefecture_type[21]=\u001b[39m\u001b[38;5;124m'\u001b[39m,\u001b[43mprefecture_type\u001b[49m\u001b[43m[\u001b[49m\u001b[38;5;241;43m21\u001b[39;49m\u001b[43m]\u001b[49m)\n",
      "\u001b[0;31mKeyError\u001b[0m: 21"
     ]
    }
   ],
   "source": [
    "print('prefecture_type[21]=',prefecture_type[21])"
   ]
  },
  {
   "cell_type": "code",
   "execution_count": 4,
   "metadata": {
    "colab": {
     "base_uri": "https://localhost:8080/"
    },
    "executionInfo": {
     "elapsed": 428,
     "status": "ok",
     "timestamp": 1715149237435,
     "user": {
      "displayName": "鈴木康元",
      "userId": "15385942521303414593"
     },
     "user_tz": -540
    },
    "id": "j_-GJC8FsFcs",
    "outputId": "8c97d692-3a6c-4587-cc05-c61453eea380"
   },
   "outputs": [
    {
     "name": "stdout",
     "output_type": "stream",
     "text": [
      "KeyErrorエラーが発生しました\n"
     ]
    }
   ],
   "source": [
    "try:\n",
    "    print('prefecture_type[21]=',prefecture_type[21])\n",
    "except KeyError as key_error:\n",
    "    print('KeyErrorエラーが発生しました')"
   ]
  },
  {
   "cell_type": "markdown",
   "metadata": {
    "id": "xGiso2WnsFcs"
   },
   "source": [
    "### 値を確認する2\n",
    "- get(キー名)で値を取得できます。このメソッドは、キーが存在しない時はNoneを返します"
   ]
  },
  {
   "cell_type": "code",
   "execution_count": 5,
   "metadata": {
    "colab": {
     "base_uri": "https://localhost:8080/"
    },
    "executionInfo": {
     "elapsed": 493,
     "status": "ok",
     "timestamp": 1715149287374,
     "user": {
      "displayName": "鈴木康元",
      "userId": "15385942521303414593"
     },
     "user_tz": -540
    },
    "id": "b6xX_Q4dsFcs",
    "outputId": "f6ad3336-ee48-4b76-e462-2992bc309a9a"
   },
   "outputs": [
    {
     "name": "stdout",
     "output_type": "stream",
     "text": [
      "prefecture_type.get(2)= 青森県\n",
      "prefecture_type.get(21)= None\n"
     ]
    }
   ],
   "source": [
    "print('prefecture_type.get(2)=',prefecture_type.get(2))\n",
    "print('prefecture_type.get(21)=',prefecture_type.get(21))"
   ]
  },
  {
   "cell_type": "markdown",
   "metadata": {
    "id": "FI0atiZUsFct"
   },
   "source": [
    "- 青森県は普通に取得できる\n",
    "- 21は存在しないためNoneを返すが、エラーにならない"
   ]
  },
  {
   "cell_type": "markdown",
   "metadata": {
    "id": "KkATEz4SsFct"
   },
   "source": [
    "### 指定したキーが存在するか確認する\n",
    "- キー名 in dict で確認できます"
   ]
  },
  {
   "cell_type": "code",
   "execution_count": 6,
   "metadata": {
    "colab": {
     "base_uri": "https://localhost:8080/"
    },
    "executionInfo": {
     "elapsed": 461,
     "status": "ok",
     "timestamp": 1715149316517,
     "user": {
      "displayName": "鈴木康元",
      "userId": "15385942521303414593"
     },
     "user_tz": -540
    },
    "id": "UsmO44hHsFct",
    "outputId": "214fa507-50a8-4e6f-eceb-6becb8a3ece9"
   },
   "outputs": [
    {
     "name": "stdout",
     "output_type": "stream",
     "text": [
      "2 in prefecture_type= True\n",
      "21 in prefecture_type= False\n"
     ]
    }
   ],
   "source": [
    "print('2 in prefecture_type=', 2 in prefecture_type)\n",
    "print('21 in prefecture_type=', 21 in prefecture_type)"
   ]
  },
  {
   "cell_type": "markdown",
   "metadata": {
    "id": "H2pMD7mjsFct"
   },
   "source": [
    "## 練習プログラム5 (1.6点)\n",
    "- [] を使用して値を取り出してみましょう\n",
    "- [] を使用して存在しない値を取り出そうとしたときにエラーになることを確認しましょう\n",
    "- get()を使用して値を取り出してみましょう\n",
    "- in演算子を使用してキーが存在するかどうかを確認しましょう"
   ]
  },
  {
   "cell_type": "code",
   "execution_count": 7,
   "metadata": {
    "colab": {
     "base_uri": "https://localhost:8080/",
     "height": 35
    },
    "executionInfo": {
     "elapsed": 5,
     "status": "ok",
     "timestamp": 1715149394155,
     "user": {
      "displayName": "鈴木康元",
      "userId": "15385942521303414593"
     },
     "user_tz": -540
    },
    "id": "xEgT_OeBsFct",
    "outputId": "be284f5f-e649-409e-a4f2-aa044d9fc26b"
   },
   "outputs": [
    {
     "data": {
      "text/plain": [
       "'不可'"
      ]
     },
     "execution_count": 7,
     "metadata": {},
     "output_type": "execute_result"
    }
   ],
   "source": [
    "# 1. [] を使用して値を取り出してみましょう\n",
    "# 入れる値は何でも良いですが、このNotebookのサンプルプログラムや教科書の値とは違う独自の値を入れましょう\n",
    "# 変数名も独自のものに変えましょう\n",
    "\n",
    "# ここにPythonプログラムを記述してください\n",
    "seiseki = {59:\"不可\", 60:\"可\", 70:\"良\", 80:\"優\", 90:\"秀\"}\n",
    "seiseki[59]"
   ]
  },
  {
   "cell_type": "code",
   "execution_count": 8,
   "metadata": {
    "colab": {
     "base_uri": "https://localhost:8080/",
     "height": 176
    },
    "executionInfo": {
     "elapsed": 5,
     "status": "error",
     "timestamp": 1715149411898,
     "user": {
      "displayName": "鈴木康元",
      "userId": "15385942521303414593"
     },
     "user_tz": -540
    },
    "id": "MCqGLp7MsFct",
    "outputId": "5defbc15-a74e-4ed0-f0d5-00c9387a5616"
   },
   "outputs": [
    {
     "ename": "KeyError",
     "evalue": "9999",
     "output_type": "error",
     "traceback": [
      "\u001b[0;31m---------------------------------------------------------------------------\u001b[0m",
      "\u001b[0;31mKeyError\u001b[0m                                  Traceback (most recent call last)",
      "Cell \u001b[0;32mIn[8], line 4\u001b[0m\n\u001b[1;32m      1\u001b[0m \u001b[38;5;66;03m# 2. [] を使用して存在しない値を取り出そうとしたときにエラーになることを確認しましょう\u001b[39;00m\n\u001b[1;32m      2\u001b[0m \n\u001b[1;32m      3\u001b[0m \u001b[38;5;66;03m# ここにPythonプログラムを記述してください\u001b[39;00m\n\u001b[0;32m----> 4\u001b[0m \u001b[43mseiseki\u001b[49m\u001b[43m[\u001b[49m\u001b[38;5;241;43m9999\u001b[39;49m\u001b[43m]\u001b[49m\n",
      "\u001b[0;31mKeyError\u001b[0m: 9999"
     ]
    }
   ],
   "source": [
    "# 2. [] を使用して存在しない値を取り出そうとしたときにエラーになることを確認しましょう\n",
    "\n",
    "# ここにPythonプログラムを記述してください\n",
    "seiseki[9999]"
   ]
  },
  {
   "cell_type": "code",
   "execution_count": 9,
   "metadata": {
    "colab": {
     "base_uri": "https://localhost:8080/"
    },
    "executionInfo": {
     "elapsed": 5,
     "status": "ok",
     "timestamp": 1715149449592,
     "user": {
      "displayName": "鈴木康元",
      "userId": "15385942521303414593"
     },
     "user_tz": -540
    },
    "id": "P2YRTCozsFcu",
    "outputId": "6dd10d9c-f0bf-4559-b03a-3c6cd0a432bc"
   },
   "outputs": [
    {
     "name": "stdout",
     "output_type": "stream",
     "text": [
      "seiseki.get(90)= 秀\n",
      "seiseki.get(99)= None\n"
     ]
    }
   ],
   "source": [
    "# 3. get()を使用して値を取り出してみましょう\n",
    "\n",
    "# ここにPythonプログラムを記述してください\n",
    "print('seiseki.get(90)=',seiseki.get(90))\n",
    "print('seiseki.get(99)=',seiseki.get(99))"
   ]
  },
  {
   "cell_type": "code",
   "execution_count": 10,
   "metadata": {
    "colab": {
     "base_uri": "https://localhost:8080/"
    },
    "executionInfo": {
     "elapsed": 4,
     "status": "ok",
     "timestamp": 1715149487658,
     "user": {
      "displayName": "鈴木康元",
      "userId": "15385942521303414593"
     },
     "user_tz": -540
    },
    "id": "dzxsbJSqsFcu",
    "outputId": "6ce153ba-03fe-4b2c-c499-6825f2262404"
   },
   "outputs": [
    {
     "name": "stdout",
     "output_type": "stream",
     "text": [
      "90 in seiseki= True\n",
      "99 in seiseki= False\n"
     ]
    }
   ],
   "source": [
    "# 4. in演算子を使用してキーが存在するかどうかを確認しましょう\n",
    "\n",
    "# ここにPythonプログラムを記述してください\n",
    "print('90 in seiseki=', 90 in seiseki)\n",
    "print('99 in seiseki=', 99 in seiseki)"
   ]
  },
  {
   "cell_type": "markdown",
   "metadata": {
    "id": "KcegJZz_sFcu"
   },
   "source": [
    "# サンプルプログラム6　すべての値を順に取り出す"
   ]
  },
  {
   "cell_type": "markdown",
   "metadata": {
    "id": "l2W9GMXnsFcu"
   },
   "source": [
    "### for-inでdictを指定してループする\n",
    "- for-inでdictを指定するとkeyが取り出されるため、取り出されたキーを使って処理をします"
   ]
  },
  {
   "cell_type": "code",
   "execution_count": 11,
   "metadata": {
    "colab": {
     "base_uri": "https://localhost:8080/"
    },
    "executionInfo": {
     "elapsed": 436,
     "status": "ok",
     "timestamp": 1715149547711,
     "user": {
      "displayName": "鈴木康元",
      "userId": "15385942521303414593"
     },
     "user_tz": -540
    },
    "id": "WsqIQjbKsFcu",
    "outputId": "85fafe68-68ea-4b2b-cad1-4f0b5487b9e0"
   },
   "outputs": [
    {
     "name": "stdout",
     "output_type": "stream",
     "text": [
      "都道府県番号`1`は北海道で、北海道地方に属しています\n",
      "都道府県番号`2`は青森県で、東北地方に属しています\n",
      "都道府県番号`3`は岩手県で、東北地方に属しています\n",
      "都道府県番号`47`は沖縄県で、九州地方に属しています\n"
     ]
    }
   ],
   "source": [
    "for key in prefecture_type:\n",
    "    print(f\"都道府県番号`{key}`は{prefecture_type[key]}で、{region_map[prefecture_type[key]]}に属しています\")"
   ]
  },
  {
   "cell_type": "markdown",
   "metadata": {
    "id": "m23RSvpvsFcu"
   },
   "source": [
    "### keyのリストを取得\n",
    "- keys()メソッドで取得できます"
   ]
  },
  {
   "cell_type": "code",
   "execution_count": 12,
   "metadata": {
    "colab": {
     "base_uri": "https://localhost:8080/"
    },
    "executionInfo": {
     "elapsed": 417,
     "status": "ok",
     "timestamp": 1715149676990,
     "user": {
      "displayName": "鈴木康元",
      "userId": "15385942521303414593"
     },
     "user_tz": -540
    },
    "id": "fE5QT-57sFcu",
    "outputId": "f360865d-be71-48c8-87e9-b0ce8d4330e3"
   },
   "outputs": [
    {
     "name": "stdout",
     "output_type": "stream",
     "text": [
      "prefecture_type.keys()= dict_keys([1, 2, 3, 47])\n",
      "region_map.keys()= dict_keys(['北海道', '青森県', '岩手県', '沖縄県'])\n"
     ]
    }
   ],
   "source": [
    "print('prefecture_type.keys()=',prefecture_type.keys())\n",
    "print('region_map.keys()=',region_map.keys())"
   ]
  },
  {
   "cell_type": "markdown",
   "metadata": {
    "id": "M_tKO-UOsFcv"
   },
   "source": [
    "### valueのリストを取得\n",
    "- values()メソッドで取得できます"
   ]
  },
  {
   "cell_type": "code",
   "execution_count": 13,
   "metadata": {
    "colab": {
     "base_uri": "https://localhost:8080/"
    },
    "executionInfo": {
     "elapsed": 420,
     "status": "ok",
     "timestamp": 1715149692177,
     "user": {
      "displayName": "鈴木康元",
      "userId": "15385942521303414593"
     },
     "user_tz": -540
    },
    "id": "MDsKog3NsFcv",
    "outputId": "9c972db3-0b75-4e9a-d1f6-203df14d22b2"
   },
   "outputs": [
    {
     "name": "stdout",
     "output_type": "stream",
     "text": [
      "prefecture_type.values()= dict_values(['北海道', '青森県', '岩手県', '沖縄県'])\n",
      "region_map.values()= dict_values(['北海道地方', '東北地方', '東北地方', '九州地方'])\n"
     ]
    }
   ],
   "source": [
    "print('prefecture_type.values()=',prefecture_type.values())\n",
    "print('region_map.values()=',region_map.values())"
   ]
  },
  {
   "cell_type": "markdown",
   "metadata": {
    "id": "SX3rAaAPsFcv"
   },
   "source": [
    "### (key, value)のリストを取得\n",
    "- items()メソッドで取得できます"
   ]
  },
  {
   "cell_type": "code",
   "execution_count": 14,
   "metadata": {
    "colab": {
     "base_uri": "https://localhost:8080/"
    },
    "executionInfo": {
     "elapsed": 593,
     "status": "ok",
     "timestamp": 1715149719532,
     "user": {
      "displayName": "鈴木康元",
      "userId": "15385942521303414593"
     },
     "user_tz": -540
    },
    "id": "53Iu9A9OsFcv",
    "outputId": "706924b2-f71c-4fe5-eb78-22377d02aa36"
   },
   "outputs": [
    {
     "name": "stdout",
     "output_type": "stream",
     "text": [
      "prefecture_type.items()= dict_items([(1, '北海道'), (2, '青森県'), (3, '岩手県'), (47, '沖縄県')])\n",
      "region_map.items()= dict_items([('北海道', '北海道地方'), ('青森県', '東北地方'), ('岩手県', '東北地方'), ('沖縄県', '九州地方')])\n"
     ]
    }
   ],
   "source": [
    "print('prefecture_type.items()=',prefecture_type.items())\n",
    "print('region_map.items()=',region_map.items())"
   ]
  },
  {
   "cell_type": "markdown",
   "metadata": {
    "id": "LB6mDdBisFcw"
   },
   "source": [
    "### for-inでdict.items()を指定すると(key,value)が取り出されます\n",
    "- for-inループでkeyとvalue両方使いたい時に使いましょう"
   ]
  },
  {
   "cell_type": "code",
   "execution_count": 15,
   "metadata": {
    "colab": {
     "base_uri": "https://localhost:8080/"
    },
    "executionInfo": {
     "elapsed": 4,
     "status": "ok",
     "timestamp": 1715149894046,
     "user": {
      "displayName": "鈴木康元",
      "userId": "15385942521303414593"
     },
     "user_tz": -540
    },
    "id": "1qKo5TpGsFcw",
    "outputId": "77900d99-f5b5-4043-f25f-a0623b62f732"
   },
   "outputs": [
    {
     "name": "stdout",
     "output_type": "stream",
     "text": [
      "都道府県番号`1`は北海道で、北海道地方に属しています\n",
      "都道府県番号`2`は青森県で、東北地方に属しています\n",
      "都道府県番号`3`は岩手県で、東北地方に属しています\n",
      "都道府県番号`47`は沖縄県で、九州地方に属しています\n"
     ]
    }
   ],
   "source": [
    "for prefecture_number, prefecture_name in prefecture_type.items():\n",
    "    print(f\"都道府県番号`{prefecture_number}`は{prefecture_name}で、{region_map[prefecture_name]}に属しています\")"
   ]
  },
  {
   "cell_type": "markdown",
   "metadata": {
    "id": "LzX4gSodsFcw"
   },
   "source": [
    "## 練習プログラム6 (2.0点)\n",
    "- for-inでdictを指定してループしてみましょう\n",
    "- keyのリストを取得してみましょう\n",
    "- valueのリストを取得してみましょう\n",
    "- (key, value)のリストを取得してみましょう\n",
    "- for-inでdict.items()を指定ループしてみましょう"
   ]
  },
  {
   "cell_type": "code",
   "execution_count": 16,
   "metadata": {
    "colab": {
     "base_uri": "https://localhost:8080/"
    },
    "executionInfo": {
     "elapsed": 502,
     "status": "ok",
     "timestamp": 1715149946597,
     "user": {
      "displayName": "鈴木康元",
      "userId": "15385942521303414593"
     },
     "user_tz": -540
    },
    "id": "aM0ZNwqwsFcw",
    "outputId": "547cd265-f1ee-4bb5-8082-143976abfa40"
   },
   "outputs": [
    {
     "name": "stdout",
     "output_type": "stream",
     "text": [
      "点数`59`は不可\n",
      "点数`60`は可\n",
      "点数`70`は良\n",
      "点数`80`は優\n",
      "点数`90`は秀\n"
     ]
    }
   ],
   "source": [
    "# 1. for-inでdictを指定してループしてみましょう\n",
    "# 入れる値は何でも良いですが、このNotebookのサンプルプログラムとは違う独自の値を入れましょう\n",
    "# 変数名も独自のものに変えましょう\n",
    "\n",
    "# ここにPythonプログラムを記述してください\n",
    "for key in seiseki:\n",
    "    print(f\"点数`{key}`は{seiseki[key]}\")"
   ]
  },
  {
   "cell_type": "code",
   "execution_count": 17,
   "metadata": {
    "colab": {
     "base_uri": "https://localhost:8080/"
    },
    "executionInfo": {
     "elapsed": 5,
     "status": "ok",
     "timestamp": 1715149974186,
     "user": {
      "displayName": "鈴木康元",
      "userId": "15385942521303414593"
     },
     "user_tz": -540
    },
    "id": "z7hmE9w-sFcw",
    "outputId": "328069d3-2ee0-4d26-82cf-4a5dd61f52c5"
   },
   "outputs": [
    {
     "name": "stdout",
     "output_type": "stream",
     "text": [
      "seiseki.keys()= dict_keys([59, 60, 70, 80, 90])\n"
     ]
    }
   ],
   "source": [
    "# 2. keyのリストを取得してみましょう\n",
    "# 入れる値は何でも良いですが、このNotebookのサンプルプログラムとは違う独自の値を入れましょう\n",
    "# 変数名も独自のものに変えましょう\n",
    "\n",
    "# ここにPythonプログラムを記述してください\n",
    "print('seiseki.keys()=',seiseki.keys())"
   ]
  },
  {
   "cell_type": "code",
   "execution_count": 18,
   "metadata": {
    "colab": {
     "base_uri": "https://localhost:8080/"
    },
    "executionInfo": {
     "elapsed": 435,
     "status": "ok",
     "timestamp": 1715149992536,
     "user": {
      "displayName": "鈴木康元",
      "userId": "15385942521303414593"
     },
     "user_tz": -540
    },
    "id": "4IRJcYXRsFcw",
    "outputId": "88c68905-fdfd-4cf3-998a-fff07308ebf1"
   },
   "outputs": [
    {
     "name": "stdout",
     "output_type": "stream",
     "text": [
      "seiseki.values()= dict_values(['不可', '可', '良', '優', '秀'])\n"
     ]
    }
   ],
   "source": [
    "# 3. valueのリストを取得してみましょう\n",
    "# 入れる値は何でも良いですが、このNotebookのサンプルプログラムとは違う独自の値を入れましょう\n",
    "# 変数名も独自のものに変えましょう\n",
    "\n",
    "# ここにPythonプログラムを記述してください\n",
    "print('seiseki.values()=',seiseki.values())"
   ]
  },
  {
   "cell_type": "code",
   "execution_count": 19,
   "metadata": {
    "colab": {
     "base_uri": "https://localhost:8080/"
    },
    "executionInfo": {
     "elapsed": 3,
     "status": "ok",
     "timestamp": 1715150008464,
     "user": {
      "displayName": "鈴木康元",
      "userId": "15385942521303414593"
     },
     "user_tz": -540
    },
    "id": "DQDQnaqEsFcw",
    "outputId": "d079fba7-45f0-4b27-81d7-08de4d5aa4b1"
   },
   "outputs": [
    {
     "name": "stdout",
     "output_type": "stream",
     "text": [
      "seiseki.items()= dict_items([(59, '不可'), (60, '可'), (70, '良'), (80, '優'), (90, '秀')])\n"
     ]
    }
   ],
   "source": [
    "# 4. (key, value)のリストを取得してみましょう\n",
    "# 入れる値は何でも良いですが、このNotebookのサンプルプログラムとは違う独自の値を入れましょう\n",
    "# 変数名も独自のものに変えましょう\n",
    "\n",
    "# ここにPythonプログラムを記述してください\n",
    "print('seiseki.items()=',seiseki.items())"
   ]
  },
  {
   "cell_type": "code",
   "execution_count": 20,
   "metadata": {
    "colab": {
     "base_uri": "https://localhost:8080/"
    },
    "executionInfo": {
     "elapsed": 6,
     "status": "ok",
     "timestamp": 1715150050690,
     "user": {
      "displayName": "鈴木康元",
      "userId": "15385942521303414593"
     },
     "user_tz": -540
    },
    "id": "5wMLHwE-sFcw",
    "outputId": "b43a8278-e34b-4623-d424-aee1ddef112b"
   },
   "outputs": [
    {
     "name": "stdout",
     "output_type": "stream",
     "text": [
      "点数`59`は不可\n",
      "点数`60`は可\n",
      "点数`70`は良\n",
      "点数`80`は優\n",
      "点数`90`は秀\n"
     ]
    }
   ],
   "source": [
    "# 5. for-inでdict.items()を指定ループしてみましょう\n",
    "# 入れる値は何でも良いですが、このNotebookのサンプルプログラムとは違う独自の値を入れましょう\n",
    "# 変数名も独自のものに変えましょう\n",
    "\n",
    "# ここにPythonプログラムを記述してください\n",
    "for key, name in seiseki.items():\n",
    "    print(f\"点数`{key}`は{name}\")"
   ]
  },
  {
   "cell_type": "code",
   "execution_count": null,
   "metadata": {
    "id": "sDCxTFjDsFcw"
   },
   "outputs": [],
   "source": []
  },
  {
   "cell_type": "code",
   "execution_count": null,
   "metadata": {
    "id": "KvzF6f2CsFcw"
   },
   "outputs": [],
   "source": []
  },
  {
   "cell_type": "code",
   "execution_count": null,
   "metadata": {
    "id": "IFdUfoRCsFcx"
   },
   "outputs": [],
   "source": []
  },
  {
   "cell_type": "code",
   "execution_count": null,
   "metadata": {
    "id": "EeD3TdUZsFc0"
   },
   "outputs": [],
   "source": []
  }
 ],
 "metadata": {
  "colab": {
   "provenance": [
    {
     "file_id": "https://github.com/YasuharuSuzuki/24_programing2/blob/main/04%E8%BE%9E%E6%9B%B8/02%E8%BE%9E%E6%9B%B8%E3%81%8B%E3%82%89%E5%80%A4%E3%82%92%E5%8F%96%E3%82%8A%E5%87%BA%E3%81%99.ipynb",
     "timestamp": 1715146366646
    }
   ]
  },
  "kernelspec": {
   "display_name": "Python 3 (ipykernel)",
   "language": "python",
   "name": "python3"
  },
  "language_info": {
   "codemirror_mode": {
    "name": "ipython",
    "version": 3
   },
   "file_extension": ".py",
   "mimetype": "text/x-python",
   "name": "python",
   "nbconvert_exporter": "python",
   "pygments_lexer": "ipython3",
   "version": "3.11.9"
  }
 },
 "nbformat": 4,
 "nbformat_minor": 4
}
