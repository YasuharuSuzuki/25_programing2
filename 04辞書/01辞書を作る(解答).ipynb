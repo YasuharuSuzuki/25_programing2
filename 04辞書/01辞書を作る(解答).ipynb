{
 "cells": [
  {
   "cell_type": "markdown",
   "metadata": {
    "id": "KSSJqXOosEeX"
   },
   "source": [
    "# Section 4-1 辞書\n",
    "- Pythonの辞書（dictionary）は、キー（key）と値（value）のペアを格納するデータ構造です。\n",
    "\n",
    "####  雑学\n",
    "- キーを指定すると値が取り出せるシンプルなデータ構造は、KVS（KeyValueStore）もしくは単にKeyValueと呼ばれることがあります\n",
    "  - memcashedやredis、ドキュメント型データベースでよく使われますね\n",
    "- 異なるプログラミング言語で言いますと、PHPでは連想配列、Javaではハッシュマップとそれぞれ名前は違いますが、仕組みとしてはほぼ同じ仕組みです"
   ]
  },
  {
   "cell_type": "markdown",
   "metadata": {
    "id": "AtK_2qK8sEeb"
   },
   "source": [
    "## 辞書 参考サイト\n",
    "## [参考サイト1【Python早見表】辞書](https://chokkan.github.io/python/09dict.html)\n",
    "\n",
    "## [参考サイト2【Python入門】辞書](https://utokyo-ipp.github.io/3/3-1.html)"
   ]
  },
  {
   "cell_type": "markdown",
   "metadata": {
    "id": "VRQcesdKsEec"
   },
   "source": [
    "## サンプルプログラム1　辞書を作る\n",
    "### コロン区切りでキーと値のペアを定義し、大かっこ { } で括って辞書を作る\n",
    "- コロン区切りでキーと値のペアを定義し、大かっこ { } で括って辞書を作ります"
   ]
  },
  {
   "cell_type": "code",
   "execution_count": 1,
   "metadata": {
    "colab": {
     "base_uri": "https://localhost:8080/"
    },
    "executionInfo": {
     "elapsed": 4,
     "status": "ok",
     "timestamp": 1715146891566,
     "user": {
      "displayName": "鈴木康元",
      "userId": "15385942521303414593"
     },
     "user_tz": -540
    },
    "id": "EoLQwK5fsEec",
    "outputId": "7ba8a3ba-9e37-42db-c12e-d410e0a3ab2c"
   },
   "outputs": [
    {
     "data": {
      "text/plain": [
       "{1: '北海道', 2: '青森県', 3: '岩手県', 47: '沖縄県'}"
      ]
     },
     "execution_count": 1,
     "metadata": {},
     "output_type": "execute_result"
    }
   ],
   "source": [
    "# 辞書の作成\n",
    "# コロン区切りでキーと値のペアを定義し、カンマで区切り、大かっこ { } で括って辞書を作ります\n",
    "prefecture_type = {1:\"北海道\", 2:\"青森県\", 3:\"岩手県\", 47:\"沖縄県\"}\n",
    "prefecture_type"
   ]
  },
  {
   "cell_type": "code",
   "execution_count": 2,
   "metadata": {
    "colab": {
     "base_uri": "https://localhost:8080/"
    },
    "executionInfo": {
     "elapsed": 265,
     "status": "ok",
     "timestamp": 1715146988599,
     "user": {
      "displayName": "鈴木康元",
      "userId": "15385942521303414593"
     },
     "user_tz": -540
    },
    "id": "_oiNYIaxsEed",
    "outputId": "c127d002-8e8c-45b3-d98b-c5304b00f17d"
   },
   "outputs": [
    {
     "data": {
      "text/plain": [
       "{'北海道': '北海道地方', '青森県': '東北地方', '岩手県': '東北地方', '沖縄県': '九州地方'}"
      ]
     },
     "execution_count": 2,
     "metadata": {},
     "output_type": "execute_result"
    }
   ],
   "source": [
    "# キーには文字列を使うことができます。\n",
    "region_map = {\"北海道\":\"北海道地方\", \"青森県\":\"東北地方\", \"岩手県\":\"東北地方\", \"沖縄県\":\"九州地方\"}\n",
    "region_map"
   ]
  },
  {
   "cell_type": "markdown",
   "metadata": {
    "id": "TGtt4NzPsEee"
   },
   "source": [
    "- 数字と文字列を混在させることも可能です。\n",
    "- key&valueを,で区切って並べ、全体を{ }で囲んで作成します。"
   ]
  },
  {
   "cell_type": "markdown",
   "metadata": {
    "id": "bP053hXUsEee"
   },
   "source": [
    "### 要素の数を確認する\n",
    "- len()を使います\n",
    "- リストやタプルと同じですね"
   ]
  },
  {
   "cell_type": "code",
   "execution_count": 3,
   "metadata": {
    "colab": {
     "base_uri": "https://localhost:8080/"
    },
    "executionInfo": {
     "elapsed": 255,
     "status": "ok",
     "timestamp": 1715147036615,
     "user": {
      "displayName": "鈴木康元",
      "userId": "15385942521303414593"
     },
     "user_tz": -540
    },
    "id": "8cg5YTLosEee",
    "outputId": "c6671804-b225-4341-ea70-8833bd5eb194",
    "scrolled": true
   },
   "outputs": [
    {
     "name": "stdout",
     "output_type": "stream",
     "text": [
      "len(prefecture_type)= 4\n",
      "len(region_map)= 4\n"
     ]
    }
   ],
   "source": [
    "print('len(prefecture_type)=',len(prefecture_type))\n",
    "print('len(region_map)=',len(region_map))"
   ]
  },
  {
   "cell_type": "markdown",
   "metadata": {
    "id": "qEuAodr3sEef"
   },
   "source": [
    "### 空のdictを作る\n",
    "- { } または dict() で作ります"
   ]
  },
  {
   "cell_type": "code",
   "execution_count": 4,
   "metadata": {
    "colab": {
     "base_uri": "https://localhost:8080/"
    },
    "executionInfo": {
     "elapsed": 278,
     "status": "ok",
     "timestamp": 1715147048787,
     "user": {
      "displayName": "鈴木康元",
      "userId": "15385942521303414593"
     },
     "user_tz": -540
    },
    "id": "y2CxWqMusEef",
    "outputId": "8129fcea-362e-4f33-d57b-529f8313a51f"
   },
   "outputs": [
    {
     "data": {
      "text/plain": [
       "{}"
      ]
     },
     "execution_count": 4,
     "metadata": {},
     "output_type": "execute_result"
    }
   ],
   "source": [
    "empty_dict = dict()\n",
    "empty_dict"
   ]
  },
  {
   "cell_type": "markdown",
   "metadata": {
    "id": "sqzgb-X2sEef"
   },
   "source": [
    "## 練習プログラム1 (1.2点)\n",
    "- dictを作成してみましょう\n",
    "- dictの要素の数を出力してみましょう\n",
    "- 空のdictを作成してみましょう"
   ]
  },
  {
   "cell_type": "code",
   "execution_count": 7,
   "metadata": {
    "colab": {
     "base_uri": "https://localhost:8080/"
    },
    "executionInfo": {
     "elapsed": 440,
     "status": "ok",
     "timestamp": 1715147253788,
     "user": {
      "displayName": "鈴木康元",
      "userId": "15385942521303414593"
     },
     "user_tz": -540
    },
    "id": "l8NxqEh3sEef",
    "outputId": "82144241-b18d-429f-a4c6-e2ba9b680e47"
   },
   "outputs": [
    {
     "data": {
      "text/plain": [
       "{59: '不可', 60: '可', 70: '良', 80: '優', 90: '秀'}"
      ]
     },
     "execution_count": 7,
     "metadata": {},
     "output_type": "execute_result"
    }
   ],
   "source": [
    "# 1. dictを作成してみましょう\n",
    "# 入れる値は何でも良いですが、このNotebookのサンプルプログラムとは違う独自の値を入れましょう\n",
    "# 変数名も独自のものに変えましょう\n",
    "\n",
    "# ここにPythonプログラムを記述してください\n",
    "seiseki = {59:\"不可\", 60:\"可\", 70:\"良\", 80:\"優\", 90:\"秀\"}\n",
    "seiseki"
   ]
  },
  {
   "cell_type": "code",
   "execution_count": 8,
   "metadata": {
    "colab": {
     "base_uri": "https://localhost:8080/"
    },
    "executionInfo": {
     "elapsed": 268,
     "status": "ok",
     "timestamp": 1715147255303,
     "user": {
      "displayName": "鈴木康元",
      "userId": "15385942521303414593"
     },
     "user_tz": -540
    },
    "id": "AXmjTxIdsEeg",
    "outputId": "2e2c42b9-ea55-4aae-c6cf-38e3e3f47720"
   },
   "outputs": [
    {
     "data": {
      "text/plain": [
       "5"
      ]
     },
     "execution_count": 8,
     "metadata": {},
     "output_type": "execute_result"
    }
   ],
   "source": [
    "# 2.  dictの要素の数を出力してみましょう\n",
    "\n",
    "# ここにPythonプログラムを記述してください\n",
    "len(seiseki)"
   ]
  },
  {
   "cell_type": "code",
   "execution_count": 9,
   "metadata": {
    "colab": {
     "base_uri": "https://localhost:8080/"
    },
    "executionInfo": {
     "elapsed": 265,
     "status": "ok",
     "timestamp": 1715147279777,
     "user": {
      "displayName": "鈴木康元",
      "userId": "15385942521303414593"
     },
     "user_tz": -540
    },
    "id": "pEkOVG3gsEeg",
    "outputId": "eb0c6f0e-d9ad-4bca-c50b-fbf552763c1c"
   },
   "outputs": [
    {
     "data": {
      "text/plain": [
       "{}"
      ]
     },
     "execution_count": 9,
     "metadata": {},
     "output_type": "execute_result"
    }
   ],
   "source": [
    "# 3. 空のdictを作成してみましょう\n",
    "# 入れる値は何でも良いですが、このNotebookのサンプルプログラムとは違う独自の値を入れましょう\n",
    "# 変数名も独自のものに変えましょう\n",
    "\n",
    "# ここにPythonプログラムを記述してください\n",
    "empty_dict = dict()\n",
    "empty_dict"
   ]
  },
  {
   "cell_type": "markdown",
   "metadata": {
    "id": "RNgPzOw6sEeg"
   },
   "source": [
    "# サンプルプログラム2　dictの要素の追加・更新"
   ]
  },
  {
   "cell_type": "markdown",
   "metadata": {
    "id": "aQ4XlMISsEeg"
   },
   "source": [
    "### 要素の追加・更新\n",
    "- キーを指定して値を代入する形で要素を追加、または更新できます"
   ]
  },
  {
   "cell_type": "code",
   "execution_count": 10,
   "metadata": {
    "colab": {
     "base_uri": "https://localhost:8080/"
    },
    "executionInfo": {
     "elapsed": 259,
     "status": "ok",
     "timestamp": 1715147362628,
     "user": {
      "displayName": "鈴木康元",
      "userId": "15385942521303414593"
     },
     "user_tz": -540
    },
    "id": "an8KGs9bsEeg",
    "outputId": "3e282f38-7916-4a15-f29b-87817d4d8d89"
   },
   "outputs": [
    {
     "data": {
      "text/plain": [
       "{1: '北海道', 2: '青森県', 3: '岩手県', 47: '沖縄県', 4: '宮城県'}"
      ]
     },
     "execution_count": 10,
     "metadata": {},
     "output_type": "execute_result"
    }
   ],
   "source": [
    "prefecture_type[4] = '宮城県'\n",
    "prefecture_type"
   ]
  },
  {
   "cell_type": "markdown",
   "metadata": {
    "id": "PtZuaAzQsEeg"
   },
   "source": [
    "- キーがない時は追加"
   ]
  },
  {
   "cell_type": "code",
   "execution_count": 11,
   "metadata": {
    "colab": {
     "base_uri": "https://localhost:8080/"
    },
    "executionInfo": {
     "elapsed": 252,
     "status": "ok",
     "timestamp": 1715147371231,
     "user": {
      "displayName": "鈴木康元",
      "userId": "15385942521303414593"
     },
     "user_tz": -540
    },
    "id": "VQVZH4OusEeg",
    "outputId": "7a8989e9-595c-4f68-cf4c-2c9290ddf93c"
   },
   "outputs": [
    {
     "data": {
      "text/plain": [
       "{1: '北海道', 2: '青森県', 3: '岩手県', 47: '琉球', 4: '宮城県'}"
      ]
     },
     "execution_count": 11,
     "metadata": {},
     "output_type": "execute_result"
    }
   ],
   "source": [
    "prefecture_type[47] = '琉球'\n",
    "prefecture_type"
   ]
  },
  {
   "cell_type": "markdown",
   "metadata": {
    "id": "1QVe4hMjsEeh"
   },
   "source": [
    "- キーがある時は更新"
   ]
  },
  {
   "cell_type": "markdown",
   "metadata": {
    "id": "hZ2RRj_LsEeh"
   },
   "source": [
    "## 練習プログラム2 (0.8点)\n",
    "- dictの要素を追加してみましょう\n",
    "- dictの要素を更新してみましょう"
   ]
  },
  {
   "cell_type": "code",
   "execution_count": 12,
   "metadata": {
    "colab": {
     "base_uri": "https://localhost:8080/"
    },
    "executionInfo": {
     "elapsed": 5,
     "status": "ok",
     "timestamp": 1715147413398,
     "user": {
      "displayName": "鈴木康元",
      "userId": "15385942521303414593"
     },
     "user_tz": -540
    },
    "id": "EQx1nNjusEeh",
    "outputId": "78bceba7-8ca6-4ac4-dda2-e575a6e0b5bc"
   },
   "outputs": [
    {
     "data": {
      "text/plain": [
       "{59: '不可', 60: '可', 70: '良', 80: '優', 90: '秀', 100: '満点'}"
      ]
     },
     "execution_count": 12,
     "metadata": {},
     "output_type": "execute_result"
    }
   ],
   "source": [
    "# 1. dictの要素を追加してみましょう\n",
    "# 入れる値は何でも良いですが、このNotebookのサンプルプログラムとは違う独自の値を入れましょう\n",
    "# 変数名も独自のものに変えましょう\n",
    "\n",
    "# ここにPythonプログラムを記述してください\n",
    "seiseki[100] = '満点'\n",
    "seiseki"
   ]
  },
  {
   "cell_type": "code",
   "execution_count": 13,
   "metadata": {
    "colab": {
     "base_uri": "https://localhost:8080/"
    },
    "executionInfo": {
     "elapsed": 259,
     "status": "ok",
     "timestamp": 1715147450545,
     "user": {
      "displayName": "鈴木康元",
      "userId": "15385942521303414593"
     },
     "user_tz": -540
    },
    "id": "EXak5cZnsEeh",
    "outputId": "dc1684f2-4b68-4cba-99da-d8964d0a7adb"
   },
   "outputs": [
    {
     "data": {
      "text/plain": [
       "{59: '不可', 60: '可', 70: '良', 80: '優', 90: '秀', 100: 'カンスト'}"
      ]
     },
     "execution_count": 13,
     "metadata": {},
     "output_type": "execute_result"
    }
   ],
   "source": [
    "# 2. dictの要素を更新してみましょう\n",
    "# 入れる値は何でも良いですが、このNotebookのサンプルプログラムとは違う独自の値を入れましょう\n",
    "# 変数名も独自のものに変えましょう\n",
    "\n",
    "# ここにPythonプログラムを記述してください\n",
    "seiseki[100] = 'カンスト'\n",
    "seiseki"
   ]
  },
  {
   "cell_type": "markdown",
   "metadata": {
    "id": "8NKFoq-fsEeh"
   },
   "source": [
    "# サンプルプログラム3　dictの要素の削除"
   ]
  },
  {
   "cell_type": "markdown",
   "metadata": {
    "id": "vTV2DQBYsEeh"
   },
   "source": [
    "### 要素の削除\n",
    "- delで要素を削除できます\n",
    "- clear()は全要素を削除します"
   ]
  },
  {
   "cell_type": "code",
   "execution_count": 14,
   "metadata": {
    "colab": {
     "base_uri": "https://localhost:8080/"
    },
    "executionInfo": {
     "elapsed": 417,
     "status": "ok",
     "timestamp": 1715147518445,
     "user": {
      "displayName": "鈴木康元",
      "userId": "15385942521303414593"
     },
     "user_tz": -540
    },
    "id": "FUpXrXt9sEeh",
    "outputId": "44caf4bc-ec85-4c36-f52f-5721faa21c94"
   },
   "outputs": [
    {
     "data": {
      "text/plain": [
       "{1: '北海道', 2: '青森県', 3: '岩手県', 47: '琉球'}"
      ]
     },
     "execution_count": 14,
     "metadata": {},
     "output_type": "execute_result"
    }
   ],
   "source": [
    "# delで要素を削除\n",
    "del prefecture_type[4]\n",
    "prefecture_type"
   ]
  },
  {
   "cell_type": "markdown",
   "metadata": {
    "id": "RrDFSBFgsEeh"
   },
   "source": [
    "- 1要素が削除されました"
   ]
  },
  {
   "cell_type": "code",
   "execution_count": 15,
   "metadata": {
    "colab": {
     "base_uri": "https://localhost:8080/"
    },
    "executionInfo": {
     "elapsed": 416,
     "status": "ok",
     "timestamp": 1715147525347,
     "user": {
      "displayName": "鈴木康元",
      "userId": "15385942521303414593"
     },
     "user_tz": -540
    },
    "id": "zkkcO_FDsEeh",
    "outputId": "cb437676-038e-499a-dfd8-ef2a4f85a1d5"
   },
   "outputs": [
    {
     "data": {
      "text/plain": [
       "{}"
      ]
     },
     "execution_count": 15,
     "metadata": {},
     "output_type": "execute_result"
    }
   ],
   "source": [
    "# clear()は全要素を削除します\n",
    "prefecture_type.clear()\n",
    "prefecture_type"
   ]
  },
  {
   "cell_type": "markdown",
   "metadata": {
    "id": "TT6fg5J7sEeh"
   },
   "source": [
    "- 全ての要素が削除されました"
   ]
  },
  {
   "cell_type": "markdown",
   "metadata": {
    "id": "Mlg87SRZsEeh"
   },
   "source": [
    "## 練習プログラム3 (0.8点)\n",
    "- dictの要素を1つ削除してみましょう\n",
    "- dictの要素を全て削除してみましょう"
   ]
  },
  {
   "cell_type": "code",
   "execution_count": 16,
   "metadata": {
    "colab": {
     "base_uri": "https://localhost:8080/"
    },
    "executionInfo": {
     "elapsed": 365,
     "status": "ok",
     "timestamp": 1715147560957,
     "user": {
      "displayName": "鈴木康元",
      "userId": "15385942521303414593"
     },
     "user_tz": -540
    },
    "id": "uq-jzr6ysEeh",
    "outputId": "bc184790-48b6-47b7-af81-730d772c82a2"
   },
   "outputs": [
    {
     "data": {
      "text/plain": [
       "{59: '不可', 60: '可', 70: '良', 80: '優', 90: '秀'}"
      ]
     },
     "execution_count": 16,
     "metadata": {},
     "output_type": "execute_result"
    }
   ],
   "source": [
    "# 1. dictの要素を1つ削除してみましょう\n",
    "# 削除する値は何でも良いですが、このNotebookのサンプルプログラムとは違う独自の値を入れましょう\n",
    "# 変数名も独自のものに変えましょう\n",
    "\n",
    "# ここにPythonプログラムを記述してください\n",
    "del seiseki[100]\n",
    "seiseki"
   ]
  },
  {
   "cell_type": "code",
   "execution_count": 17,
   "metadata": {
    "colab": {
     "base_uri": "https://localhost:8080/"
    },
    "executionInfo": {
     "elapsed": 4,
     "status": "ok",
     "timestamp": 1715147589589,
     "user": {
      "displayName": "鈴木康元",
      "userId": "15385942521303414593"
     },
     "user_tz": -540
    },
    "id": "vQb5M3IHsEei",
    "outputId": "e9154df1-8190-4552-900b-0879a4bc4c4a"
   },
   "outputs": [
    {
     "data": {
      "text/plain": [
       "{}"
      ]
     },
     "execution_count": 17,
     "metadata": {},
     "output_type": "execute_result"
    }
   ],
   "source": [
    "# 2. dictの要素を全て削除してみましょう\n",
    "\n",
    "seiseki2 = seiseki.copy()\n",
    "\n",
    "# ここにPythonプログラムを記述してください\n",
    "seiseki2.clear()\n",
    "seiseki2"
   ]
  },
  {
   "cell_type": "markdown",
   "metadata": {
    "id": "VipmKx05sEei"
   },
   "source": [
    "# サンプルプログラム4　dictの複製\n",
    "- リスト同様にミュータブルオブジェクトであるdictは、`=` 演算子で代入すると参照が渡されます\n",
    "- copy()で複製すると、元のdictの変更が複製先に反映されません"
   ]
  },
  {
   "cell_type": "code",
   "execution_count": 18,
   "metadata": {
    "colab": {
     "base_uri": "https://localhost:8080/"
    },
    "executionInfo": {
     "elapsed": 298,
     "status": "ok",
     "timestamp": 1715148685698,
     "user": {
      "displayName": "鈴木康元",
      "userId": "15385942521303414593"
     },
     "user_tz": -540
    },
    "id": "LAeXasI2sEei",
    "outputId": "a733d9a0-27dd-43fd-b4ae-17e36a73f2b4"
   },
   "outputs": [
    {
     "name": "stdout",
     "output_type": "stream",
     "text": [
      "prefecture_type= {1: '北海道', 2: '青森県', 3: '岩手県', 47: '沖縄県', 4: '宮城県'}\n",
      "prefecture_type2= {1: '北海道', 2: '青森県', 3: '岩手県', 47: '沖縄県', 4: '宮城県'}\n"
     ]
    }
   ],
   "source": [
    "prefecture_type = {1:\"北海道\", 2:\"青森県\", 3:\"岩手県\", 47:\"沖縄県\"}\n",
    "prefecture_type2 = prefecture_type # `=` 演算子で代入する\n",
    "prefecture_type[4] = '宮城県'\n",
    "\n",
    "print('prefecture_type=', prefecture_type)\n",
    "print('prefecture_type2=', prefecture_type2)"
   ]
  },
  {
   "cell_type": "markdown",
   "metadata": {
    "id": "QR3WmZp8sEei"
   },
   "source": [
    "- `=` 演算子で代入すると参照が渡されるため、prefecture_type を修正すると prefecture_type2 も変更されています"
   ]
  },
  {
   "cell_type": "code",
   "execution_count": 19,
   "metadata": {
    "colab": {
     "base_uri": "https://localhost:8080/"
    },
    "executionInfo": {
     "elapsed": 298,
     "status": "ok",
     "timestamp": 1715148831032,
     "user": {
      "displayName": "鈴木康元",
      "userId": "15385942521303414593"
     },
     "user_tz": -540
    },
    "id": "zILmcnlasEei",
    "outputId": "449fb1c0-12d6-46a8-83c9-032de016745a"
   },
   "outputs": [
    {
     "name": "stdout",
     "output_type": "stream",
     "text": [
      "prefecture_type= {1: '北海道', 2: '青森県', 3: '岩手県', 47: '沖縄県', 4: '宮城県', 5: '秋田県'}\n",
      "prefecture_type2= {1: '北海道', 2: '青森県', 3: '岩手県', 47: '沖縄県', 4: '宮城県', 5: '秋田県'}\n",
      "prefecture_type3= {1: '北海道', 2: '青森県', 3: '岩手県', 47: '沖縄県', 4: '宮城県'}\n"
     ]
    }
   ],
   "source": [
    "prefecture_type3 = prefecture_type.copy() # `=` 演算子で代入する\n",
    "prefecture_type[5] = '秋田県'\n",
    "\n",
    "print('prefecture_type=', prefecture_type)\n",
    "print('prefecture_type2=', prefecture_type2)\n",
    "print('prefecture_type3=', prefecture_type3)"
   ]
  },
  {
   "cell_type": "markdown",
   "metadata": {
    "id": "vvF0ea55sEei"
   },
   "source": [
    "- copy()で複製すると、元のdictの変更が複製先に反映されません\n",
    "- 用途に合わせて適切な方を使いましょう"
   ]
  },
  {
   "cell_type": "markdown",
   "metadata": {
    "id": "P1bI2VOwsEei"
   },
   "source": [
    "## 練習プログラム4 (0.8点)\n",
    "- dictを `=` 演算子で参照渡しして、要素を修正してみましょう\n",
    "- dictを copy() で複製しして、要素を修正してみましょう"
   ]
  },
  {
   "cell_type": "code",
   "execution_count": 21,
   "metadata": {
    "colab": {
     "base_uri": "https://localhost:8080/"
    },
    "executionInfo": {
     "elapsed": 313,
     "status": "ok",
     "timestamp": 1715149068385,
     "user": {
      "displayName": "鈴木康元",
      "userId": "15385942521303414593"
     },
     "user_tz": -540
    },
    "id": "XnEK_ejpsEej",
    "outputId": "bb4df0bf-bbd1-4add-8d89-d72a3d83c599"
   },
   "outputs": [
    {
     "name": "stdout",
     "output_type": "stream",
     "text": [
      "seiseki= {59: '不可', 60: '可', 70: '良', 80: '優', 90: '秀', 91: '秀＋１'}\n",
      "seiseki3= {59: '不可', 60: '可', 70: '良', 80: '優', 90: '秀', 91: '秀＋１'}\n"
     ]
    }
   ],
   "source": [
    "# 1. dictを `=` 演算子で参照渡しして、要素を修正してみましょう\n",
    "# 修正の仕方は何でも良いですが、このNotebookのサンプルプログラムとは違う独自の値を入れましょう\n",
    "# 変数名も独自のものに変えましょう\n",
    "\n",
    "# ここにPythonプログラムを記述してください\n",
    "seiseki3 = seiseki\n",
    "seiseki3[91] = '秀＋１'\n",
    "\n",
    "print('seiseki=', seiseki)\n",
    "print('seiseki3=', seiseki3)"
   ]
  },
  {
   "cell_type": "code",
   "execution_count": 22,
   "metadata": {
    "colab": {
     "base_uri": "https://localhost:8080/"
    },
    "executionInfo": {
     "elapsed": 510,
     "status": "ok",
     "timestamp": 1715149109043,
     "user": {
      "displayName": "鈴木康元",
      "userId": "15385942521303414593"
     },
     "user_tz": -540
    },
    "id": "1y8TdzdesEem",
    "outputId": "753eaa3e-93e3-455d-c17c-bbbf2cce25aa"
   },
   "outputs": [
    {
     "name": "stdout",
     "output_type": "stream",
     "text": [
      "seiseki= {59: '不可', 60: '可', 70: '良', 80: '優', 90: '秀', 91: '秀＋１'}\n",
      "seiseki3= {59: '不可', 60: '可', 70: '良', 80: '優', 90: '秀', 91: '秀＋１'}\n",
      "seiseki4= {59: '不可', 60: '可', 70: '良', 80: '優', 90: '秀', 91: '秀＋１', 92: '秀＋２'}\n"
     ]
    }
   ],
   "source": [
    "# 2. dictを copy() で複製して、要素を修正してみましょう\n",
    "# 修正の仕方は何でも良いですが、このNotebookのサンプルプログラムとは違う独自の値を入れましょう\n",
    "# 変数名も独自のものに変えましょう\n",
    "\n",
    "# ここにPythonプログラムを記述してください\n",
    "seiseki4 = seiseki.copy()\n",
    "seiseki4[92] = '秀＋２'\n",
    "\n",
    "print('seiseki=', seiseki)\n",
    "print('seiseki3=', seiseki3)\n",
    "print('seiseki4=', seiseki4)"
   ]
  },
  {
   "cell_type": "code",
   "execution_count": null,
   "metadata": {
    "id": "lPjbKnAosEem"
   },
   "outputs": [],
   "source": []
  },
  {
   "cell_type": "code",
   "execution_count": null,
   "metadata": {
    "id": "spxE7dZUsEem"
   },
   "outputs": [],
   "source": []
  },
  {
   "cell_type": "code",
   "execution_count": null,
   "metadata": {
    "id": "M502lp_JsEem"
   },
   "outputs": [],
   "source": []
  },
  {
   "cell_type": "code",
   "execution_count": null,
   "metadata": {
    "id": "iImoZwTasEem"
   },
   "outputs": [],
   "source": []
  }
 ],
 "metadata": {
  "colab": {
   "provenance": [
    {
     "file_id": "https://github.com/YasuharuSuzuki/24_programing2/blob/main/04%E8%BE%9E%E6%9B%B8/01%E8%BE%9E%E6%9B%B8%E3%82%92%E4%BD%9C%E3%82%8B.ipynb",
     "timestamp": 1715146358060
    }
   ]
  },
  "kernelspec": {
   "display_name": "Python 3 (ipykernel)",
   "language": "python",
   "name": "python3"
  },
  "language_info": {
   "codemirror_mode": {
    "name": "ipython",
    "version": 3
   },
   "file_extension": ".py",
   "mimetype": "text/x-python",
   "name": "python",
   "nbconvert_exporter": "python",
   "pygments_lexer": "ipython3",
   "version": "3.11.9"
  }
 },
 "nbformat": 4,
 "nbformat_minor": 4
}
