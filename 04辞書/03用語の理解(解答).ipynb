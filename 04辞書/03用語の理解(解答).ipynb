{
 "cells": [
  {
   "cell_type": "markdown",
   "metadata": {},
   "source": [
    "<a href=\"https://colab.research.google.com/github/YasuharuSuzuki/25_programing2/blob/main/\" target=\"_parent\"><img src=\"https://colab.research.google.com/assets/colab-badge.svg\" alt=\"Open In Colab\"/></a>"
   ]
  },
  {
   "cell_type": "markdown",
   "metadata": {
    "id": "KSSJqXOosEeX"
   },
   "source": [
    "# 03_用語の理解"
   ]
  },
  {
   "cell_type": "markdown",
   "metadata": {
    "id": "VRQcesdKsEec"
   },
   "source": [
    "## 用語の理解を問う問題\n",
    "- 以下の問題について、正解となる選択肢を出力してください"
   ]
  },
  {
   "cell_type": "markdown",
   "metadata": {
    "id": "bP053hXUsEee"
   },
   "source": [
    "---\n",
    "---\n",
    "---\n",
    "### 問7 辞書とは (0.3点)\n",
    "- 次の[ a ][ b ]に当てはまる語句の組み合わせを選んでください\n",
    "    - Pythonの辞書（[ a ]）は、キー（key）と [ b ] のペアを格納するデータ構造です。\n",
    "\n",
    "      1. [a]list, [b]値(value)\n",
    "      2. [a]dict, [b]値(value)\n",
    "      3. [a]list, [b]インスタンス(instance)\n",
    "      4. [a]dict, [b]インスタンス(instance)\n"
   ]
  },
  {
   "cell_type": "code",
   "execution_count": 1,
   "metadata": {
    "colab": {
     "base_uri": "https://localhost:8080/"
    },
    "executionInfo": {
     "elapsed": 255,
     "status": "ok",
     "timestamp": 1715147036615,
     "user": {
      "displayName": "鈴木康元",
      "userId": "15385942521303414593"
     },
     "user_tz": -540
    },
    "id": "8cg5YTLosEee",
    "outputId": "c6671804-b225-4341-ea70-8833bd5eb194"
   },
   "outputs": [
    {
     "name": "stdout",
     "output_type": "stream",
     "text": [
      "2\n"
     ]
    }
   ],
   "source": [
    "# 正解を出力してください\n",
    "print('2')"
   ]
  },
  {
   "cell_type": "markdown",
   "metadata": {},
   "source": [
    "---\n",
    "---\n",
    "---\n",
    "### 問8 すべてを取得する関数 (0.3点)\n",
    "\n",
    "- 辞書内のすべてのキーと値を取得するメソッドは次のうちどれか？\n",
    "  1. values()\n",
    "  2. elements()\n",
    "  3. keys()\n",
    "  4. items()\n"
   ]
  },
  {
   "cell_type": "code",
   "execution_count": 2,
   "metadata": {
    "colab": {
     "base_uri": "https://localhost:8080/"
    },
    "executionInfo": {
     "elapsed": 278,
     "status": "ok",
     "timestamp": 1715147048787,
     "user": {
      "displayName": "鈴木康元",
      "userId": "15385942521303414593"
     },
     "user_tz": -540
    },
    "id": "y2CxWqMusEef",
    "outputId": "8129fcea-362e-4f33-d57b-529f8313a51f"
   },
   "outputs": [
    {
     "name": "stdout",
     "output_type": "stream",
     "text": [
      "4\n"
     ]
    }
   ],
   "source": [
    "# 正解を出力してください\n",
    "print('4')"
   ]
  },
  {
   "cell_type": "markdown",
   "metadata": {},
   "source": [
    "---\n",
    "---\n",
    "---\n",
    "### 問9 年齢の取得 (0.3点)  \n",
    "以下の辞書があります。  \n",
    "student = {\"name\": \"山田太郎\", \"age\": 18, \"grade\": 3, \"subjects\": [\"国語\", \"数学\", \"英語\"]}  \n",
    "この辞書から、年齢を取得するにはどのようなプログラムを書けば良いか選べ  \n",
    "  1. student[\"山田太郎\"]\n",
    "  2. student[\"年齢\"]\n",
    "  3. student[\"age\"]\n",
    "  4. student[\"subjects\"]\n"
   ]
  },
  {
   "cell_type": "code",
   "execution_count": 3,
   "metadata": {},
   "outputs": [
    {
     "name": "stdout",
     "output_type": "stream",
     "text": [
      "3\n"
     ]
    }
   ],
   "source": [
    "# 正解を出力してください\n",
    "print('3')"
   ]
  },
  {
   "cell_type": "markdown",
   "metadata": {},
   "source": [
    "---\n",
    "---\n",
    "---\n",
    "### 問10 辞書内包表記 (0.3点)\n",
    "\n",
    "以下のPythonコードの実行結果として正しいものはどれですか？\n",
    "\n",
    "```python\n",
    "numbers = [1, 2, 3, 4, 5]\n",
    "square_dict = {n: n**2 for n in numbers if n % 2 == 0}\n",
    "print(square_dict)\n",
    "```\n",
    "\n",
    "1. {1: 1, 2: 4, 3: 9, 4: 16, 5: 25}\n",
    "2. {2: 4, 4: 16}\n",
    "3. {1: 1, 3: 9, 5: 25}\n",
    "4. {4, 16}\n",
    "\n"
   ]
  },
  {
   "cell_type": "code",
   "execution_count": 4,
   "metadata": {},
   "outputs": [
    {
     "name": "stdout",
     "output_type": "stream",
     "text": [
      "2\n"
     ]
    }
   ],
   "source": [
    "# 正解を出力してください\n",
    "print('2')"
   ]
  },
  {
   "cell_type": "markdown",
   "metadata": {},
   "source": [
    "---\n",
    "\n",
    "### 解説\n",
    "\n",
    "このコードでは辞書内包表記を使用して、`numbers`リストの各要素について、偶数(`n % 2 == 0`を満たす)の場合のみ、キーを数値自身、値をその2乗とした辞書を作成しています。\n",
    "したがって、`numbers`リストの偶数である2と4に対して、`{2: 4, 4: 16}`という辞書が生成されます。\n",
    "\n",
    "---"
   ]
  },
  {
   "cell_type": "markdown",
   "metadata": {},
   "source": [
    "---\n",
    "---\n",
    "---\n",
    "---\n",
    "---"
   ]
  },
  {
   "cell_type": "code",
   "execution_count": null,
   "metadata": {},
   "outputs": [],
   "source": []
  }
 ],
 "metadata": {
  "colab": {
   "provenance": [
    {
     "file_id": "https://github.com/YasuharuSuzuki/24_programing2/blob/main/04%E8%BE%9E%E6%9B%B8/01%E8%BE%9E%E6%9B%B8%E3%82%92%E4%BD%9C%E3%82%8B.ipynb",
     "timestamp": 1715146358060
    }
   ]
  },
  "kernelspec": {
   "display_name": "Python 3 (ipykernel)",
   "language": "python",
   "name": "python3"
  },
  "language_info": {
   "codemirror_mode": {
    "name": "ipython",
    "version": 3
   },
   "file_extension": ".py",
   "mimetype": "text/x-python",
   "name": "python",
   "nbconvert_exporter": "python",
   "pygments_lexer": "ipython3",
   "version": "3.11.9"
  }
 },
 "nbformat": 4,
 "nbformat_minor": 4
}
