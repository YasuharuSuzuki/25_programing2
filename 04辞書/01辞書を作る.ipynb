{
 "cells": [
  {
   "cell_type": "markdown",
   "metadata": {
    "colab_type": "text",
    "id": "view-in-github"
   },
   "source": [
    "<a href=\"https://colab.research.google.com/github/YasuharuSuzuki/25_programing2/blob/main/\" target=\"_parent\"><img src=\"https://colab.research.google.com/assets/colab-badge.svg\" alt=\"Open In Colab\"/></a>"
   ]
  },
  {
   "cell_type": "markdown",
   "metadata": {},
   "source": [
    "# Section 4-1 辞書\n",
    "- Pythonの辞書（dictionary）は、キー（key）と値（value）のペアを格納するデータ構造です。\n",
    "\n",
    "####  雑学\n",
    "- キーを指定すると値が取り出せるシンプルなデータ構造は、KVS（KeyValueStore）もしくは単にKeyValueと呼ばれることがあります\n",
    "  - memcashedやredis、ドキュメント型データベースでよく使われますね\n",
    "- 異なるプログラミング言語で言いますと、PHPでは連想配列、Javaではハッシュマップとそれぞれ名前は違いますが、仕組みとしてはほぼ同じ仕組みです"
   ]
  },
  {
   "cell_type": "markdown",
   "metadata": {},
   "source": [
    "## 辞書 参考サイト\n",
    "## [参考サイト1【Python早見表】辞書](https://chokkan.github.io/python/09dict.html)\n",
    "\n",
    "## [参考サイト2【Python入門】辞書](https://utokyo-ipp.github.io/3/3-1.html)"
   ]
  },
  {
   "cell_type": "markdown",
   "metadata": {},
   "source": [
    "## サンプルプログラム1　辞書を作る\n",
    "### コロン区切りでキーと値のペアを定義し、大かっこ { } で括って辞書を作る\n",
    "- コロン区切りでキーと値のペアを定義し、大かっこ { } で括って辞書を作ります"
   ]
  },
  {
   "cell_type": "code",
   "execution_count": 1,
   "metadata": {},
   "outputs": [
    {
     "data": {
      "text/plain": [
       "{1: '北海道', 2: '青森県', 3: '岩手県', 47: '沖縄県'}"
      ]
     },
     "execution_count": 1,
     "metadata": {},
     "output_type": "execute_result"
    }
   ],
   "source": [
    "# 辞書の作成\n",
    "# コロン区切りでキーと値のペアを定義し、カンマで区切り、大かっこ { } で括って辞書を作ります\n",
    "prefecture_type = {1:\"北海道\", 2:\"青森県\", 3:\"岩手県\", 47:\"沖縄県\"}\n",
    "prefecture_type"
   ]
  },
  {
   "cell_type": "code",
   "execution_count": 2,
   "metadata": {},
   "outputs": [
    {
     "data": {
      "text/plain": [
       "{'北海道': '北海道地方', '青森県': '東北地方', '岩手県': '東北地方', '沖縄県': '九州地方'}"
      ]
     },
     "execution_count": 2,
     "metadata": {},
     "output_type": "execute_result"
    }
   ],
   "source": [
    "# キーには文字列を使うことができます。\n",
    "region_map = {\"北海道\":\"北海道地方\", \"青森県\":\"東北地方\", \"岩手県\":\"東北地方\", \"沖縄県\":\"九州地方\"}\n",
    "region_map"
   ]
  },
  {
   "cell_type": "markdown",
   "metadata": {},
   "source": [
    "- 数字と文字列を混在させることも可能です。\n",
    "- key&valueを,で区切って並べ、全体を{ }で囲んで作成します。"
   ]
  },
  {
   "cell_type": "markdown",
   "metadata": {},
   "source": [
    "### 要素の数を確認する\n",
    "- len()を使います\n",
    "- リストやタプルと同じですね"
   ]
  },
  {
   "cell_type": "code",
   "execution_count": 4,
   "metadata": {
    "scrolled": true
   },
   "outputs": [
    {
     "name": "stdout",
     "output_type": "stream",
     "text": [
      "len(prefecture_type)= 4\n",
      "len(region_map)= 4\n"
     ]
    }
   ],
   "source": [
    "print('len(prefecture_type)=',len(prefecture_type))\n",
    "print('len(region_map)=',len(region_map))"
   ]
  },
  {
   "cell_type": "markdown",
   "metadata": {},
   "source": [
    "### 空のdictを作る\n",
    "- { } または dict() で作ります"
   ]
  },
  {
   "cell_type": "code",
   "execution_count": 8,
   "metadata": {},
   "outputs": [
    {
     "data": {
      "text/plain": [
       "{}"
      ]
     },
     "execution_count": 8,
     "metadata": {},
     "output_type": "execute_result"
    }
   ],
   "source": [
    "empty_dict = dict()\n",
    "empty_dict"
   ]
  },
  {
   "cell_type": "markdown",
   "metadata": {},
   "source": [
    "## 練習プログラム1 (1.2点)\n",
    "- dictを作成してみましょう\n",
    "- dictの要素の数を出力してみましょう\n",
    "- 空のdictを作成してみましょう"
   ]
  },
  {
   "cell_type": "code",
   "execution_count": null,
   "metadata": {},
   "outputs": [],
   "source": [
    "# 1. dictを作成してみましょう\n",
    "# 入れる値は何でも良いですが、このNotebookのサンプルプログラムとは違う独自の値を入れましょう\n",
    "# 変数名も独自のものに変えましょう\n",
    "\n",
    "# ここにPythonプログラムを記述してください"
   ]
  },
  {
   "cell_type": "code",
   "execution_count": null,
   "metadata": {},
   "outputs": [],
   "source": [
    "# 2.  dictの要素の数を出力してみましょう\n",
    "\n",
    "# ここにPythonプログラムを記述してください"
   ]
  },
  {
   "cell_type": "code",
   "execution_count": null,
   "metadata": {},
   "outputs": [],
   "source": [
    "# 3. 空のdictを作成してみましょう\n",
    "# 入れる値は何でも良いですが、このNotebookのサンプルプログラムとは違う独自の値を入れましょう\n",
    "# 変数名も独自のものに変えましょう\n",
    "\n",
    "# ここにPythonプログラムを記述してください"
   ]
  },
  {
   "cell_type": "markdown",
   "metadata": {},
   "source": [
    "# サンプルプログラム2　dictの要素の追加・更新"
   ]
  },
  {
   "cell_type": "markdown",
   "metadata": {},
   "source": [
    "### 要素の追加・更新\n",
    "- キーを指定して値を代入する形で要素を追加、または更新できます"
   ]
  },
  {
   "cell_type": "code",
   "execution_count": 5,
   "metadata": {},
   "outputs": [
    {
     "data": {
      "text/plain": [
       "{1: '北海道', 2: '青森県', 3: '岩手県', 47: '沖縄県', 4: '宮城県'}"
      ]
     },
     "execution_count": 5,
     "metadata": {},
     "output_type": "execute_result"
    }
   ],
   "source": [
    "prefecture_type[4] = '宮城県'\n",
    "prefecture_type"
   ]
  },
  {
   "cell_type": "markdown",
   "metadata": {},
   "source": [
    "- キーがない時は追加"
   ]
  },
  {
   "cell_type": "code",
   "execution_count": 6,
   "metadata": {},
   "outputs": [
    {
     "data": {
      "text/plain": [
       "{1: '北海道', 2: '青森県', 3: '岩手県', 47: '琉球', 4: '宮城県'}"
      ]
     },
     "execution_count": 6,
     "metadata": {},
     "output_type": "execute_result"
    }
   ],
   "source": [
    "prefecture_type[47] = '琉球'\n",
    "prefecture_type"
   ]
  },
  {
   "cell_type": "markdown",
   "metadata": {},
   "source": [
    "- キーがある時は更新"
   ]
  },
  {
   "cell_type": "markdown",
   "metadata": {},
   "source": [
    "## 練習プログラム2 (0.8点)\n",
    "- dictの要素を追加してみましょう\n",
    "- dictの要素を更新してみましょう"
   ]
  },
  {
   "cell_type": "code",
   "execution_count": null,
   "metadata": {},
   "outputs": [],
   "source": [
    "# 1. dictの要素を追加してみましょう\n",
    "# 入れる値は何でも良いですが、このNotebookのサンプルプログラムとは違う独自の値を入れましょう\n",
    "# 変数名も独自のものに変えましょう\n",
    "\n",
    "# ここにPythonプログラムを記述してください"
   ]
  },
  {
   "cell_type": "code",
   "execution_count": null,
   "metadata": {},
   "outputs": [],
   "source": [
    "# 2. dictの要素を更新してみましょう\n",
    "# 入れる値は何でも良いですが、このNotebookのサンプルプログラムとは違う独自の値を入れましょう\n",
    "# 変数名も独自のものに変えましょう\n",
    "\n",
    "# ここにPythonプログラムを記述してください"
   ]
  },
  {
   "cell_type": "markdown",
   "metadata": {},
   "source": [
    "# サンプルプログラム3　dictの要素の削除"
   ]
  },
  {
   "cell_type": "markdown",
   "metadata": {},
   "source": [
    "### 要素の削除\n",
    "- delで要素を削除できます\n",
    "- clear()は全要素を削除します"
   ]
  },
  {
   "cell_type": "code",
   "execution_count": 9,
   "metadata": {},
   "outputs": [
    {
     "data": {
      "text/plain": [
       "{1: '北海道', 2: '青森県', 3: '岩手県', 47: '琉球'}"
      ]
     },
     "execution_count": 9,
     "metadata": {},
     "output_type": "execute_result"
    }
   ],
   "source": [
    "# delで要素を削除\n",
    "del prefecture_type[4]\n",
    "prefecture_type"
   ]
  },
  {
   "cell_type": "markdown",
   "metadata": {},
   "source": [
    "- 1要素が削除されました"
   ]
  },
  {
   "cell_type": "code",
   "execution_count": 12,
   "metadata": {},
   "outputs": [
    {
     "data": {
      "text/plain": [
       "{}"
      ]
     },
     "execution_count": 12,
     "metadata": {},
     "output_type": "execute_result"
    }
   ],
   "source": [
    "# clear()は全要素を削除します\n",
    "prefecture_type.clear()\n",
    "prefecture_type"
   ]
  },
  {
   "cell_type": "markdown",
   "metadata": {},
   "source": [
    "- 全ての要素が削除されました"
   ]
  },
  {
   "cell_type": "markdown",
   "metadata": {},
   "source": [
    "## 練習プログラム3 (0.8点)\n",
    "- dictの要素を1つ削除してみましょう\n",
    "- dictの要素を全て削除してみましょう"
   ]
  },
  {
   "cell_type": "code",
   "execution_count": 14,
   "metadata": {},
   "outputs": [],
   "source": [
    "# 1. dictの要素を1つ削除してみましょう\n",
    "# 削除する値は何でも良いですが、このNotebookのサンプルプログラムとは違う独自の値を入れましょう\n",
    "# 変数名も独自のものに変えましょう\n",
    "\n",
    "# ここにPythonプログラムを記述してください"
   ]
  },
  {
   "cell_type": "code",
   "execution_count": 16,
   "metadata": {},
   "outputs": [],
   "source": [
    "# 2. dictの要素を全て削除してみましょう\n",
    "\n",
    "# ここにPythonプログラムを記述してください"
   ]
  },
  {
   "cell_type": "markdown",
   "metadata": {},
   "source": [
    "# サンプルプログラム4　dictの複製\n",
    "- リスト同様にミュータブルオブジェクトであるdictは、`=` 演算子で代入すると参照が渡されます\n",
    "- copy()で複製すると、元のdictの変更が複製先に反映されません"
   ]
  },
  {
   "cell_type": "code",
   "execution_count": 17,
   "metadata": {},
   "outputs": [
    {
     "name": "stdout",
     "output_type": "stream",
     "text": [
      "prefecture_type= {1: '北海道', 2: '青森県', 3: '岩手県', 47: '沖縄県', 4: '宮城県'}\n",
      "prefecture_type2= {1: '北海道', 2: '青森県', 3: '岩手県', 47: '沖縄県', 4: '宮城県'}\n"
     ]
    }
   ],
   "source": [
    "prefecture_type = {1:\"北海道\", 2:\"青森県\", 3:\"岩手県\", 47:\"沖縄県\"}\n",
    "prefecture_type2 = prefecture_type # `=` 演算子で代入する\n",
    "prefecture_type[4] = '宮城県'\n",
    "\n",
    "print('prefecture_type=', prefecture_type)\n",
    "print('prefecture_type2=', prefecture_type2)"
   ]
  },
  {
   "cell_type": "markdown",
   "metadata": {},
   "source": [
    "- `=` 演算子で代入すると参照が渡されるため、prefecture_type を修正すると prefecture_type2 も変更されています"
   ]
  },
  {
   "cell_type": "code",
   "execution_count": 18,
   "metadata": {},
   "outputs": [
    {
     "name": "stdout",
     "output_type": "stream",
     "text": [
      "prefecture_type= {1: '北海道', 2: '青森県', 3: '岩手県', 47: '沖縄県', 4: '宮城県', 5: '秋田県'}\n",
      "prefecture_type2= {1: '北海道', 2: '青森県', 3: '岩手県', 47: '沖縄県', 4: '宮城県', 5: '秋田県'}\n",
      "prefecture_type3= {1: '北海道', 2: '青森県', 3: '岩手県', 47: '沖縄県', 4: '宮城県'}\n"
     ]
    }
   ],
   "source": [
    "prefecture_type3 = prefecture_type.copy() # `=` 演算子で代入する\n",
    "prefecture_type[5] = '秋田県'\n",
    "\n",
    "print('prefecture_type=', prefecture_type)\n",
    "print('prefecture_type2=', prefecture_type2)\n",
    "print('prefecture_type3=', prefecture_type3)"
   ]
  },
  {
   "cell_type": "markdown",
   "metadata": {},
   "source": [
    "- copy()で複製すると、元のdictの変更が複製先に反映されません\n",
    "- 用途に合わせて適切な方を使いましょう"
   ]
  },
  {
   "cell_type": "markdown",
   "metadata": {},
   "source": [
    "## 練習プログラム4 (0.8点)\n",
    "- dictを `=` 演算子で参照渡しして、要素を修正してみましょう\n",
    "- dictを copy() で複製しして、要素を修正してみましょう"
   ]
  },
  {
   "cell_type": "code",
   "execution_count": null,
   "metadata": {},
   "outputs": [],
   "source": [
    "# 1. dictを `=` 演算子で参照渡しして、要素を修正してみましょう\n",
    "# 修正の仕方は何でも良いですが、このNotebookのサンプルプログラムとは違う独自の値を入れましょう\n",
    "# 変数名も独自のものに変えましょう\n",
    "\n",
    "# ここにPythonプログラムを記述してください"
   ]
  },
  {
   "cell_type": "code",
   "execution_count": null,
   "metadata": {},
   "outputs": [],
   "source": [
    "# 2. dictを copy() で複製して、要素を修正してみましょう\n",
    "# 修正の仕方は何でも良いですが、このNotebookのサンプルプログラムやとは違う独自の値を入れましょう\n",
    "# 変数名も独自のものに変えましょう\n",
    "\n",
    "# ここにPythonプログラムを記述してください"
   ]
  },
  {
   "cell_type": "code",
   "execution_count": null,
   "metadata": {},
   "outputs": [],
   "source": []
  },
  {
   "cell_type": "code",
   "execution_count": null,
   "metadata": {},
   "outputs": [],
   "source": []
  },
  {
   "cell_type": "code",
   "execution_count": null,
   "metadata": {},
   "outputs": [],
   "source": []
  },
  {
   "cell_type": "code",
   "execution_count": null,
   "metadata": {},
   "outputs": [],
   "source": []
  }
 ],
 "metadata": {
  "colab": {
   "authorship_tag": "ABX9TyMOtB7OiTVLb+yu2KoVwjto",
   "include_colab_link": true,
   "provenance": []
  },
  "kernelspec": {
   "display_name": "Python 3 (ipykernel)",
   "language": "python",
   "name": "python3"
  },
  "language_info": {
   "codemirror_mode": {
    "name": "ipython",
    "version": 3
   },
   "file_extension": ".py",
   "mimetype": "text/x-python",
   "name": "python",
   "nbconvert_exporter": "python",
   "pygments_lexer": "ipython3",
   "version": "3.11.9"
  }
 },
 "nbformat": 4,
 "nbformat_minor": 4
}
