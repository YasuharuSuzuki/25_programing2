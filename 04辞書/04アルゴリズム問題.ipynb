{
 "cells": [
  {
   "cell_type": "markdown",
   "metadata": {
    "colab_type": "text",
    "id": "view-in-github"
   },
   "source": [
    "<a href=\"https://colab.research.google.com/github/YasuharuSuzuki/25_programing2/blob/main/\" target=\"_parent\"><img src=\"https://colab.research.google.com/assets/colab-badge.svg\" alt=\"Open In Colab\"/></a>"
   ]
  },
  {
   "cell_type": "markdown",
   "metadata": {},
   "source": [
    "### 問11\n",
    "# 駄菓子屋Mix (1.6点)\n",
    "- ゆるるくんは駄菓子屋へ行きました。\n",
    "- 雑多に置かれた駄菓子を $ N $ 個掴みましたが、そのうちの $ S $ 番目〜 $ E $ 番目までを買うことにしました。\n",
    "- 駄菓子は以下の3種類がランダムで選ばれます\n",
    "  - 夢色マカロン (200円)\n",
    "  - クリスタルポップ (50円)\n",
    "  - 月光せんべい  (167円)\n",
    "- 各駄菓子が $ D_1 $ 〜 $ D_N $ で先頭の一文字で入力される時、合計金額はいくらになるかを出力せよ"
   ]
  },
  {
   "cell_type": "markdown",
   "metadata": {},
   "source": [
    "### 制約\n",
    "$ 1 \\leq　N \\leq　10 $   \n",
    "$ 1 \\leq　S \\leq　N $   \n",
    "$ S \\leq　E \\leq　N $   \n",
    "\n",
    "$ N $、$ S $、$ E $  はそれぞれ整数   \n",
    "$　D_i = $　`マ` or `ク` or `月`    \n",
    "$　D_i $ は1文字"
   ]
  },
  {
   "cell_type": "markdown",
   "metadata": {},
   "source": [
    "### 入力\n",
    "入力は以下の形式で標準入力から与えられます\n",
    "\n",
    "---\n",
    "$ N \\quad S \\quad E $  \n",
    "$ D_1 \\quad D_2 \\quad ... \\quad D_N $  \n",
    "\n",
    "---\n",
    "\n",
    "掴んだ駄菓子の個数$ N $、買うことにした範囲（ $ S $、 $ E $）、各駄菓子 $ D_1 $ 〜 $ D_N $ を受け取ります。"
   ]
  },
  {
   "cell_type": "markdown",
   "metadata": {},
   "source": [
    "### 出力\n",
    "\n",
    "---\n",
    "合計金額\n",
    "\n",
    "---\n",
    "合計金額を出力してください。"
   ]
  },
  {
   "cell_type": "markdown",
   "metadata": {},
   "source": [
    "----\n",
    "----\n",
    "\n",
    "### 入力例1\n",
    "```python\n",
    "10 1 5\n",
    "マ マ マ ク ク ク ク 月 月 月\n",
    "```\n",
    "\n",
    "### 出力例1\n",
    "```python\n",
    "700\n",
    "```\n",
    "※ 1番目〜5番目の駄菓子は、夢色マカロンｘ３、クリスタルポップｘ２のため、合計すると700円となります"
   ]
  },
  {
   "cell_type": "markdown",
   "metadata": {},
   "source": [
    "----\n",
    "----\n",
    "\n",
    "### 入力例2\n",
    "```python\n",
    "5 4 5\n",
    "マ ク 月 月 月\n",
    "```\n",
    "\n",
    "### 出力例2\n",
    "```python\n",
    "334\n",
    "```\n",
    "※ 4番目〜5番目の駄菓子は、月光せんべいｘ２のため、合計すると334円となります"
   ]
  },
  {
   "cell_type": "markdown",
   "metadata": {},
   "source": [
    "### ここ↓にPythonコードを記述してください"
   ]
  },
  {
   "cell_type": "code",
   "execution_count": 2,
   "metadata": {},
   "outputs": [
    {
     "name": "stdout",
     "output_type": "stream",
     "text": [
      " 5 4 5\n",
      " マ ク 月 月 月\n"
     ]
    },
    {
     "name": "stdout",
     "output_type": "stream",
     "text": [
      "334\n"
     ]
    }
   ],
   "source": [
    "\n",
    "\n",
    "\n"
   ]
  },
  {
   "cell_type": "code",
   "execution_count": null,
   "metadata": {},
   "outputs": [],
   "source": []
  }
 ],
 "metadata": {
  "colab": {
   "authorship_tag": "ABX9TyMOtB7OiTVLb+yu2KoVwjto",
   "include_colab_link": true,
   "provenance": []
  },
  "kernelspec": {
   "display_name": "Python 3 (ipykernel)",
   "language": "python",
   "name": "python3"
  },
  "language_info": {
   "codemirror_mode": {
    "name": "ipython",
    "version": 3
   },
   "file_extension": ".py",
   "mimetype": "text/x-python",
   "name": "python",
   "nbconvert_exporter": "python",
   "pygments_lexer": "ipython3",
   "version": "3.11.9"
  }
 },
 "nbformat": 4,
 "nbformat_minor": 4
}
