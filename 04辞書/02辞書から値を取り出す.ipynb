{
 "cells": [
  {
   "cell_type": "markdown",
   "metadata": {
    "colab_type": "text",
    "id": "view-in-github"
   },
   "source": [
    "<a href=\"https://colab.research.google.com/github/YasuharuSuzuki/25_programing2/blob/main/\" target=\"_parent\"><img src=\"https://colab.research.google.com/assets/colab-badge.svg\" alt=\"Open In Colab\"/></a>"
   ]
  },
  {
   "cell_type": "markdown",
   "metadata": {},
   "source": [
    "# Section 4-2 辞書から値を取り出す\n",
    "- Pythonの辞書（dictionary）は、キー（key）と値（value）のペアを格納するデータ構造です。"
   ]
  },
  {
   "cell_type": "markdown",
   "metadata": {},
   "source": [
    "## 辞書 参考サイト\n",
    "## [参考サイト1【Python早見表】辞書](https://chokkan.github.io/python/09dict.html)\n",
    "\n",
    "## [参考サイト2【Python入門】辞書](https://utokyo-ipp.github.io/3/3-1.html)"
   ]
  },
  {
   "cell_type": "markdown",
   "metadata": {},
   "source": [
    "## サンプルプログラム5　キーの値を取得する\n",
    "### [ キー名 ] で取得\n",
    "- [キー名]のように指定します"
   ]
  },
  {
   "cell_type": "code",
   "execution_count": 1,
   "metadata": {},
   "outputs": [
    {
     "name": "stdout",
     "output_type": "stream",
     "text": [
      "prefecture_type= {1: '北海道', 2: '青森県', 3: '岩手県', 47: '沖縄県'}\n",
      "region_map= {'北海道': '北海道地方', '青森県': '東北地方', '岩手県': '東北地方', '沖縄県': '九州地方'}\n"
     ]
    }
   ],
   "source": [
    "# 辞書の作成\n",
    "prefecture_type = {1:\"北海道\", 2:\"青森県\", 3:\"岩手県\", 47:\"沖縄県\"}\n",
    "region_map = {\"北海道\":\"北海道地方\", \"青森県\":\"東北地方\", \"岩手県\":\"東北地方\", \"沖縄県\":\"九州地方\"}\n",
    "\n",
    "print('prefecture_type=', prefecture_type)\n",
    "print('region_map=', region_map)"
   ]
  },
  {
   "cell_type": "code",
   "execution_count": 2,
   "metadata": {
    "scrolled": true
   },
   "outputs": [
    {
     "name": "stdout",
     "output_type": "stream",
     "text": [
      "prefecture_type[2]= 青森県\n",
      "region_map[prefecture_type[47]]= 九州地方\n"
     ]
    }
   ],
   "source": [
    "print('prefecture_type[2]=',prefecture_type[2])\n",
    "print('region_map[prefecture_type[47]]=',region_map[prefecture_type[47]])"
   ]
  },
  {
   "cell_type": "markdown",
   "metadata": {},
   "source": [
    "- キー名を指定すると値を取得できます"
   ]
  },
  {
   "cell_type": "markdown",
   "metadata": {},
   "source": [
    "### 存在しない値を調べようとするとエラー\n",
    "- 存在しない値を調べようとするとエラーになる\n",
    "- try 〜 except で括るとエラーを補足できる"
   ]
  },
  {
   "cell_type": "code",
   "execution_count": 4,
   "metadata": {},
   "outputs": [
    {
     "ename": "KeyError",
     "evalue": "21",
     "output_type": "error",
     "traceback": [
      "\u001b[0;31m---------------------------------------------------------------------------\u001b[0m",
      "\u001b[0;31mKeyError\u001b[0m                                  Traceback (most recent call last)",
      "Cell \u001b[0;32mIn[4], line 1\u001b[0m\n\u001b[0;32m----> 1\u001b[0m \u001b[38;5;28mprint\u001b[39m(\u001b[38;5;124m'\u001b[39m\u001b[38;5;124mprefecture_type[21]=\u001b[39m\u001b[38;5;124m'\u001b[39m,\u001b[43mprefecture_type\u001b[49m\u001b[43m[\u001b[49m\u001b[38;5;241;43m21\u001b[39;49m\u001b[43m]\u001b[49m)\n",
      "\u001b[0;31mKeyError\u001b[0m: 21"
     ]
    }
   ],
   "source": [
    "print('prefecture_type[21]=',prefecture_type[21])"
   ]
  },
  {
   "cell_type": "code",
   "execution_count": 5,
   "metadata": {},
   "outputs": [
    {
     "name": "stdout",
     "output_type": "stream",
     "text": [
      "KeyErrorエラーが発生しました\n"
     ]
    }
   ],
   "source": [
    "try:\n",
    "    print('prefecture_type[21]=',prefecture_type[21])\n",
    "except KeyError as key_error:\n",
    "    print('KeyErrorエラーが発生しました')"
   ]
  },
  {
   "cell_type": "markdown",
   "metadata": {},
   "source": [
    "### 値を確認する2\n",
    "- get(キー名)で値を取得できます。このメソッドは、キーが存在しない時はNoneを返します"
   ]
  },
  {
   "cell_type": "code",
   "execution_count": 6,
   "metadata": {},
   "outputs": [
    {
     "name": "stdout",
     "output_type": "stream",
     "text": [
      "prefecture_type.get(2)= 青森県\n",
      "prefecture_type.get(21)= None\n"
     ]
    }
   ],
   "source": [
    "print('prefecture_type.get(2)=',prefecture_type.get(2))\n",
    "print('prefecture_type.get(21)=',prefecture_type.get(21))"
   ]
  },
  {
   "cell_type": "markdown",
   "metadata": {},
   "source": [
    "- 青森県は普通に取得できる\n",
    "- 21は存在しないためNoneを返すが、エラーにならない"
   ]
  },
  {
   "cell_type": "markdown",
   "metadata": {},
   "source": [
    "### 指定したキーが存在するか確認する\n",
    "- キー名 in dict で確認できます"
   ]
  },
  {
   "cell_type": "code",
   "execution_count": 9,
   "metadata": {},
   "outputs": [
    {
     "name": "stdout",
     "output_type": "stream",
     "text": [
      "2 in prefecture_type= True\n",
      "21 in prefecture_type= False\n"
     ]
    }
   ],
   "source": [
    "print('2 in prefecture_type=', 2 in prefecture_type)\n",
    "print('21 in prefecture_type=', 21 in prefecture_type)"
   ]
  },
  {
   "cell_type": "markdown",
   "metadata": {},
   "source": [
    "## 練習プログラム5 (1.6点)\n",
    "- [] を使用して値を取り出してみましょう\n",
    "- [] を使用して存在しない値を取り出そうとしたときにエラーになることを確認しましょう\n",
    "- get()を使用して値を取り出してみましょう\n",
    "- in演算子を使用してキーが存在するかどうかを確認しましょう"
   ]
  },
  {
   "cell_type": "code",
   "execution_count": 10,
   "metadata": {},
   "outputs": [],
   "source": [
    "# 1. [] を使用して値を取り出してみましょう\n",
    "# 入れる値は何でも良いですが、このNotebookのサンプルプログラムや教科書の値とは違う独自の値を入れましょう\n",
    "# 変数名も独自のものに変えましょう\n",
    "\n",
    "# ここにPythonプログラムを記述してください"
   ]
  },
  {
   "cell_type": "code",
   "execution_count": 11,
   "metadata": {},
   "outputs": [],
   "source": [
    "# 2. [] を使用して存在しない値を取り出そうとしたときにエラーになることを確認しましょう\n",
    "\n",
    "# ここにPythonプログラムを記述してください"
   ]
  },
  {
   "cell_type": "code",
   "execution_count": 12,
   "metadata": {},
   "outputs": [],
   "source": [
    "# 3. get()を使用して値を取り出してみましょう\n",
    "\n",
    "# ここにPythonプログラムを記述してください"
   ]
  },
  {
   "cell_type": "code",
   "execution_count": 13,
   "metadata": {},
   "outputs": [],
   "source": [
    "# 4. in演算子を使用してキーが存在するかどうかを確認しましょう\n",
    "\n",
    "# ここにPythonプログラムを記述してください"
   ]
  },
  {
   "cell_type": "markdown",
   "metadata": {},
   "source": [
    "# サンプルプログラム6　すべての値を順に取り出す"
   ]
  },
  {
   "cell_type": "markdown",
   "metadata": {},
   "source": [
    "### for-inでdictを指定してループする\n",
    "- for-inでdictを指定するとkeyが取り出されるため、取り出されたキーを使って処理をします"
   ]
  },
  {
   "cell_type": "code",
   "execution_count": 19,
   "metadata": {},
   "outputs": [
    {
     "name": "stdout",
     "output_type": "stream",
     "text": [
      "都道府県番号`1`は北海道で、北海道地方に属しています\n",
      "都道府県番号`2`は青森県で、東北地方に属しています\n",
      "都道府県番号`3`は岩手県で、東北地方に属しています\n",
      "都道府県番号`47`は沖縄県で、九州地方に属しています\n"
     ]
    }
   ],
   "source": [
    "for key in prefecture_type:\n",
    "    print(f\"都道府県番号`{key}`は{prefecture_type[key]}で、{region_map[prefecture_type[key]]}に属しています\")"
   ]
  },
  {
   "cell_type": "markdown",
   "metadata": {},
   "source": [
    "### keyのリストを取得\n",
    "- keys()メソッドで取得できます"
   ]
  },
  {
   "cell_type": "code",
   "execution_count": 20,
   "metadata": {},
   "outputs": [
    {
     "name": "stdout",
     "output_type": "stream",
     "text": [
      "prefecture_type.keys()= dict_keys([1, 2, 3, 47])\n",
      "region_map.keys()= dict_keys(['北海道', '青森県', '岩手県', '沖縄県'])\n"
     ]
    }
   ],
   "source": [
    "print('prefecture_type.keys()=',prefecture_type.keys())\n",
    "print('region_map.keys()=',region_map.keys())"
   ]
  },
  {
   "cell_type": "markdown",
   "metadata": {},
   "source": [
    "### valueのリストを取得\n",
    "- values()メソッドで取得できます"
   ]
  },
  {
   "cell_type": "code",
   "execution_count": 21,
   "metadata": {},
   "outputs": [
    {
     "name": "stdout",
     "output_type": "stream",
     "text": [
      "prefecture_type.values()= dict_values(['北海道', '青森県', '岩手県', '沖縄県'])\n",
      "region_map.values()= dict_values(['北海道地方', '東北地方', '東北地方', '九州地方'])\n"
     ]
    }
   ],
   "source": [
    "print('prefecture_type.values()=',prefecture_type.values())\n",
    "print('region_map.values()=',region_map.values())"
   ]
  },
  {
   "cell_type": "markdown",
   "metadata": {},
   "source": [
    "### (key, value)のリストを取得\n",
    "- items()メソッドで取得できます"
   ]
  },
  {
   "cell_type": "code",
   "execution_count": 22,
   "metadata": {},
   "outputs": [
    {
     "name": "stdout",
     "output_type": "stream",
     "text": [
      "prefecture_type.items()= dict_items([(1, '北海道'), (2, '青森県'), (3, '岩手県'), (47, '沖縄県')])\n",
      "region_map.items()= dict_items([('北海道', '北海道地方'), ('青森県', '東北地方'), ('岩手県', '東北地方'), ('沖縄県', '九州地方')])\n"
     ]
    }
   ],
   "source": [
    "print('prefecture_type.items()=',prefecture_type.items())\n",
    "print('region_map.items()=',region_map.items())"
   ]
  },
  {
   "cell_type": "markdown",
   "metadata": {},
   "source": [
    "### for-inでdict.items()を指定すると(key,value)が取り出されます\n",
    "- for-inループでkeyとvalue両方使いたい時に使いましょう"
   ]
  },
  {
   "cell_type": "code",
   "execution_count": 23,
   "metadata": {},
   "outputs": [
    {
     "name": "stdout",
     "output_type": "stream",
     "text": [
      "都道府県番号`1`は北海道で、北海道地方に属しています\n",
      "都道府県番号`2`は青森県で、東北地方に属しています\n",
      "都道府県番号`3`は岩手県で、東北地方に属しています\n",
      "都道府県番号`47`は沖縄県で、九州地方に属しています\n"
     ]
    }
   ],
   "source": [
    "for prefecture_number, prefecture_name in prefecture_type.items():\n",
    "    print(f\"都道府県番号`{prefecture_number}`は{prefecture_name}で、{region_map[prefecture_name]}に属しています\")"
   ]
  },
  {
   "cell_type": "markdown",
   "metadata": {},
   "source": [
    "## 練習プログラム6 (2.0点)\n",
    "- for-inでdictを指定してループしてみましょう\n",
    "- keyのリストを取得してみましょう\n",
    "- valueのリストを取得してみましょう\n",
    "- (key, value)のリストを取得してみましょう\n",
    "- for-inでdict.items()を指定ループしてみましょう"
   ]
  },
  {
   "cell_type": "code",
   "execution_count": null,
   "metadata": {},
   "outputs": [],
   "source": [
    "# 1. for-inでdictを指定してループしてみましょう\n",
    "# 入れる値は何でも良いですが、このNotebookのサンプルプログラムとは違う独自の値を入れましょう\n",
    "# 変数名も独自のものに変えましょう\n",
    "\n",
    "# ここにPythonプログラムを記述してください"
   ]
  },
  {
   "cell_type": "code",
   "execution_count": null,
   "metadata": {},
   "outputs": [],
   "source": [
    "# 2. keyのリストを取得してみましょう\n",
    "# 入れる値は何でも良いですが、このNotebookのサンプルプログラムとは違う独自の値を入れましょう\n",
    "# 変数名も独自のものに変えましょう\n",
    "\n",
    "# ここにPythonプログラムを記述してください"
   ]
  },
  {
   "cell_type": "code",
   "execution_count": null,
   "metadata": {},
   "outputs": [],
   "source": [
    "# 3. valueのリストを取得してみましょう\n",
    "# 入れる値は何でも良いですが、このNotebookのサンプルプログラムとは違う独自の値を入れましょう\n",
    "# 変数名も独自のものに変えましょう\n",
    "\n",
    "# ここにPythonプログラムを記述してください"
   ]
  },
  {
   "cell_type": "code",
   "execution_count": null,
   "metadata": {},
   "outputs": [],
   "source": [
    "# 4. (key, value)のリストを取得してみましょう\n",
    "# 入れる値は何でも良いですが、このNotebookのサンプルプログラムとは違う独自の値を入れましょう\n",
    "# 変数名も独自のものに変えましょう\n",
    "\n",
    "# ここにPythonプログラムを記述してください"
   ]
  },
  {
   "cell_type": "code",
   "execution_count": null,
   "metadata": {},
   "outputs": [],
   "source": [
    "# 5. for-inでdict.items()を指定ループしてみましょう\n",
    "# 入れる値は何でも良いですが、このNotebookのサンプルプログラムとは違う独自の値を入れましょう\n",
    "# 変数名も独自のものに変えましょう\n",
    "\n",
    "# ここにPythonプログラムを記述してください"
   ]
  },
  {
   "cell_type": "code",
   "execution_count": null,
   "metadata": {},
   "outputs": [],
   "source": []
  },
  {
   "cell_type": "code",
   "execution_count": null,
   "metadata": {},
   "outputs": [],
   "source": []
  },
  {
   "cell_type": "code",
   "execution_count": null,
   "metadata": {},
   "outputs": [],
   "source": []
  },
  {
   "cell_type": "code",
   "execution_count": null,
   "metadata": {},
   "outputs": [],
   "source": []
  }
 ],
 "metadata": {
  "colab": {
   "authorship_tag": "ABX9TyMOtB7OiTVLb+yu2KoVwjto",
   "include_colab_link": true,
   "provenance": []
  },
  "kernelspec": {
   "display_name": "Python 3 (ipykernel)",
   "language": "python",
   "name": "python3"
  },
  "language_info": {
   "codemirror_mode": {
    "name": "ipython",
    "version": 3
   },
   "file_extension": ".py",
   "mimetype": "text/x-python",
   "name": "python",
   "nbconvert_exporter": "python",
   "pygments_lexer": "ipython3",
   "version": "3.11.9"
  }
 },
 "nbformat": 4,
 "nbformat_minor": 4
}
