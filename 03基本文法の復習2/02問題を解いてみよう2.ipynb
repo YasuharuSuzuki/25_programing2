{
 "cells": [
  {
   "cell_type": "markdown",
   "metadata": {
    "colab_type": "text",
    "id": "view-in-github"
   },
   "source": [
    "<a href=\"https://colab.research.google.com/github/YasuharuSuzuki/24_programing2/blob/main/\" target=\"_parent\"><img src=\"https://colab.research.google.com/assets/colab-badge.svg\" alt=\"Open In Colab\"/></a>"
   ]
  },
  {
   "cell_type": "markdown",
   "metadata": {},
   "source": [
    "### 問題5\n",
    "# High/Low (3点)"
   ]
  },
  {
   "cell_type": "markdown",
   "metadata": {},
   "source": [
    "あなたは、とある学校の成績管理システムを開発することになりました。  \n",
    "各生徒の得点が入力されたリストが与えられます。  \n",
    "以下の条件に従って、成績の統計情報を計算するプログラムを作成してください。  \n",
    "- 全生徒の得点の平均値を計算し、出力してください。  \n",
    "- 全生徒の得点の中で、最高点と最低点を求め、出力してください。  \n",
    "- 各生徒の得点について、平均点以上の場合は\"High\"、平均点未満の場合は\"Low\"というラベルを付けて、生徒の得点とラベルのペアを出力してください。  "
   ]
  },
  {
   "cell_type": "markdown",
   "metadata": {},
   "source": [
    "### 制約\n",
    "\n",
    "$ 1 ≦ N ≦ 100 (Nは整数) $  \n",
    "$ 0 ≦ P_i ≦ 100 (P_iは整数) $  \n"
   ]
  },
  {
   "cell_type": "markdown",
   "metadata": {},
   "source": [
    "### 入力\n",
    "入力は以下の形式で標準入力から与えられます\n",
    "\n",
    "---\n",
    "\n",
    "$ N $   \n",
    "$ P_1, P_2, ...P_i, ...P_N $  \n",
    "\n",
    "---"
   ]
  },
  {
   "cell_type": "markdown",
   "metadata": {},
   "source": [
    "### 出力\n",
    "\n",
    "---\n",
    "$ P_{avg} \\quad P_{min} \\quad P_{max} $  \n",
    "$ P_1 \\quad $ \"High\" or \"Low\"  \n",
    "$ P_2 \\quad $ \"High\" or \"Low\"  \n",
    "$ : $  \n",
    "$ : $  \n",
    "$ P_N \\quad $ \"High\" or \"Low\"  \n",
    "\n",
    "---\n",
    "- 1行目で平均値、最小値、最大値をそれぞれ出力してください\n",
    "  - $ P_{avg} $ は全生徒の得点の平均値（小数点以下2桁までの浮動小数点数）\n",
    "  - $ P_{min} $ は全生徒の得点の最低点\n",
    "  - $ P_{max} $ は全生徒の得点の最高点\n",
    "\n",
    "- 各生徒の得点と、その後ろに \"High\"　または \"Low\" を出力してください\n",
    "  - $ P_i $ は $ i $ 番目の生徒の得点\n",
    "  - $ i $ 番目の生徒の得点が平均点以上の場合は\"High\"、平均点未満の場合は\"Low\"を出力\n"
   ]
  },
  {
   "cell_type": "markdown",
   "metadata": {},
   "source": [
    "----\n",
    "----\n",
    "\n",
    "### 入力例1\n",
    "```python\n",
    "5\n",
    "40 50 60 70 80\n",
    "```\n",
    "\n",
    "### 出力例1\n",
    "```python\n",
    "60.00 40 80\n",
    "40 Low\n",
    "50 Low\n",
    "60 High\n",
    "70 High\n",
    "80 High\n",
    "```"
   ]
  },
  {
   "cell_type": "markdown",
   "metadata": {},
   "source": [
    "----\n",
    "----\n",
    "\n",
    "### 入力例2\n",
    "```python\n",
    "3\n",
    "90 80 90\n",
    "```\n",
    "\n",
    "### 出力例2\n",
    "```python\n",
    "86.67 80 90\n",
    "90 High\n",
    "80 Low\n",
    "90 High\n",
    "```"
   ]
  },
  {
   "cell_type": "markdown",
   "metadata": {},
   "source": [
    "----\n",
    "----\n",
    "### ここ↓にPythonコードを記述してください"
   ]
  },
  {
   "cell_type": "code",
   "execution_count": 10,
   "metadata": {},
   "outputs": [
    {
     "name": "stdin",
     "output_type": "stream",
     "text": [
      " 5\n",
      " 40 50 60 70 80\n"
     ]
    },
    {
     "name": "stdout",
     "output_type": "stream",
     "text": [
      "60.00 40 80\n",
      "40 Low\n",
      "50 Low\n",
      "60 High\n",
      "70 High\n",
      "80 High\n"
     ]
    }
   ],
   "source": [
    "\n",
    "\n",
    "\n",
    "\n",
    "\n",
    "\n"
   ]
  },
  {
   "cell_type": "markdown",
   "metadata": {},
   "source": [
    "----\n",
    "----\n",
    "----\n",
    "----\n",
    "----\n",
    "----\n",
    "----\n",
    "----"
   ]
  },
  {
   "cell_type": "markdown",
   "metadata": {},
   "source": [
    "### 問題6\n",
    "# unique alphabets (3点)"
   ]
  },
  {
   "cell_type": "markdown",
   "metadata": {},
   "source": [
    "2つの文字列 $ S1 $ と $ S2 $ が与えられます。  \n",
    "$ S1 $ と $ S2 $ に共通して含まれる文字の種類（重複なし）を、アルファベット順にソートして出力するプログラムを作成してください。  \n",
    "ただし、大文字と小文字は区別しないものとします。  "
   ]
  },
  {
   "cell_type": "markdown",
   "metadata": {},
   "source": [
    "### 制約\n",
    "\n",
    "$ 1 ≦ |S1|, |S2| ≦ 100 (|S| は文字列 S の長さを表す) $   \n",
    "$ S1, S2 は英大文字および英小文字のみからなる $   "
   ]
  },
  {
   "cell_type": "markdown",
   "metadata": {},
   "source": [
    "### 入力\n",
    "入力は以下の形式で標準入力から与えられます\n",
    "\n",
    "---\n",
    "\n",
    "$ S1 $   \n",
    "$ S2 $  \n",
    "\n",
    "---\n"
   ]
  },
  {
   "cell_type": "markdown",
   "metadata": {},
   "source": [
    "### 出力\n",
    "\n",
    "- $ S1 $ と $ S2 $ に共通して含まれる文字の種類を、アルファベット順にソートして、連結した文字列として出力せよ。\n",
    "- 出力時の文字列はすべて小文字とせよ。"
   ]
  },
  {
   "cell_type": "markdown",
   "metadata": {},
   "source": [
    "----\n",
    "----\n",
    "\n",
    "### 入力例1\n",
    "```python\n",
    "Hello\n",
    "World\n",
    "```\n",
    "\n",
    "### 出力例1\n",
    "```python\n",
    "lo\n",
    "```\n"
   ]
  },
  {
   "cell_type": "markdown",
   "metadata": {},
   "source": [
    "----\n",
    "----\n",
    "\n",
    "### 入力例2\n",
    "```python\n",
    "AtCoder\n",
    "Contest\n",
    "```\n",
    "\n",
    "### 出力例2\n",
    "```python\n",
    "ceot\n",
    "```\n"
   ]
  },
  {
   "cell_type": "markdown",
   "metadata": {},
   "source": [
    "----\n",
    "----\n",
    "\n",
    "### 入力例3\n",
    "```python\n",
    "abcdefghijklmnopqrstuvwxyz\n",
    "ABCDEFGHIJKLMNOPQRSTUVWXYZ\n",
    "```\n",
    "\n",
    "### 出力例3\n",
    "```python\n",
    "abcdefghijklmnopqrstuvwxyz\n",
    "```"
   ]
  },
  {
   "cell_type": "markdown",
   "metadata": {},
   "source": [
    "----\n",
    "----\n",
    "### ここ↓にPythonコードを記述してください"
   ]
  },
  {
   "cell_type": "code",
   "execution_count": 7,
   "metadata": {},
   "outputs": [
    {
     "name": "stdin",
     "output_type": "stream",
     "text": [
      " abcdefghijklmnopqrstuvwxyz\n",
      " ABCDEFGHIJKLMNOPQRSTUVWXYZ\n"
     ]
    },
    {
     "name": "stdout",
     "output_type": "stream",
     "text": [
      "abcdefghijklmnopqrstuvwxyz\n"
     ]
    }
   ],
   "source": [
    "\n",
    "\n",
    "\n",
    "\n",
    "\n"
   ]
  },
  {
   "cell_type": "code",
   "execution_count": null,
   "metadata": {},
   "outputs": [],
   "source": []
  },
  {
   "cell_type": "code",
   "execution_count": null,
   "metadata": {},
   "outputs": [],
   "source": []
  },
  {
   "cell_type": "code",
   "execution_count": null,
   "metadata": {},
   "outputs": [],
   "source": []
  }
 ],
 "metadata": {
  "colab": {
   "authorship_tag": "ABX9TyMOtB7OiTVLb+yu2KoVwjto",
   "include_colab_link": true,
   "provenance": []
  },
  "kernelspec": {
   "display_name": "Python 3 (ipykernel)",
   "language": "python",
   "name": "python3"
  },
  "language_info": {
   "codemirror_mode": {
    "name": "ipython",
    "version": 3
   },
   "file_extension": ".py",
   "mimetype": "text/x-python",
   "name": "python",
   "nbconvert_exporter": "python",
   "pygments_lexer": "ipython3",
   "version": "3.11.7"
  }
 },
 "nbformat": 4,
 "nbformat_minor": 4
}
