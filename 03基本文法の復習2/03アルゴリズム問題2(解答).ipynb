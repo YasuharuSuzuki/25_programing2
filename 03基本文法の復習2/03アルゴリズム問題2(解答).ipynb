{
 "cells": [
  {
   "cell_type": "markdown",
   "metadata": {
    "colab_type": "text",
    "id": "view-in-github"
   },
   "source": [
    "<a href=\"https://colab.research.google.com/github/YasuharuSuzuki/25_programing2/blob/main/\" target=\"_parent\"><img src=\"https://colab.research.google.com/assets/colab-badge.svg\" alt=\"Open In Colab\"/></a>"
   ]
  },
  {
   "cell_type": "markdown",
   "metadata": {},
   "source": [
    "# 03_アルゴリズム問題2"
   ]
  },
  {
   "cell_type": "markdown",
   "metadata": {},
   "source": [
    "## 問題9\n",
    "# High/Low (2.4点)"
   ]
  },
  {
   "cell_type": "markdown",
   "metadata": {},
   "source": [
    "あなたは、とある学校の成績管理システムを開発することになりました。  \n",
    "各生徒の得点が入力されたリストが与えられます。  \n",
    "以下の条件に従って、成績の統計情報を計算するプログラムを作成してください。  \n",
    "- 全生徒の得点の平均値を計算し、出力してください。  \n",
    "- 全生徒の得点の中で、最高点と最低点を求め、出力してください。  \n",
    "- 各生徒の得点について、平均点以上の場合は\"High\"、平均点未満の場合は\"Low\"というラベルを付けて、生徒の得点とラベルのペアを出力してください。  "
   ]
  },
  {
   "cell_type": "markdown",
   "metadata": {},
   "source": [
    "### 制約\n",
    "\n",
    "$ 1 ≦ N ≦ 100 (Nは整数) $  \n",
    "$ 0 ≦ P_i ≦ 100 (P_iは整数) $  \n"
   ]
  },
  {
   "cell_type": "markdown",
   "metadata": {},
   "source": [
    "### 入力\n",
    "入力は以下の形式で標準入力から与えられます\n",
    "\n",
    "---\n",
    "\n",
    "$ N $   \n",
    "$ P_1, P_2, ...P_i, ...P_N $  \n",
    "\n",
    "---"
   ]
  },
  {
   "cell_type": "markdown",
   "metadata": {},
   "source": [
    "### 出力\n",
    "\n",
    "---\n",
    "$ P_{avg} \\quad P_{min} \\quad P_{max} $  \n",
    "$ P_1 \\quad $ \"High\" or \"Low\"  \n",
    "$ P_2 \\quad $ \"High\" or \"Low\"  \n",
    "$ : $  \n",
    "$ : $  \n",
    "$ P_N \\quad $ \"High\" or \"Low\"  \n",
    "\n",
    "---\n",
    "- 1行目で平均値、最小値、最大値をそれぞれ出力してください\n",
    "  - $ P_{avg} $ は全生徒の得点の平均値（小数点以下2桁までの浮動小数点数）\n",
    "  - $ P_{min} $ は全生徒の得点の最低点\n",
    "  - $ P_{max} $ は全生徒の得点の最高点\n",
    "\n",
    "- 各生徒の得点と、その後ろに \"High\"　または \"Low\" を出力してください\n",
    "  - $ P_i $ は $ i $ 番目の生徒の得点\n",
    "  - $ i $ 番目の生徒の得点が平均点以上の場合は\"High\"、平均点未満の場合は\"Low\"を出力\n"
   ]
  },
  {
   "cell_type": "markdown",
   "metadata": {},
   "source": [
    "----\n",
    "----\n",
    "\n",
    "### 入力例1\n",
    "```python\n",
    "5\n",
    "40 50 60 70 80\n",
    "```\n",
    "\n",
    "### 出力例1\n",
    "```python\n",
    "60.00 40 80\n",
    "40 Low\n",
    "50 Low\n",
    "60 High\n",
    "70 High\n",
    "80 High\n",
    "```"
   ]
  },
  {
   "cell_type": "markdown",
   "metadata": {},
   "source": [
    "----\n",
    "----\n",
    "\n",
    "### 入力例2\n",
    "```python\n",
    "3\n",
    "90 80 90\n",
    "```\n",
    "\n",
    "### 出力例2\n",
    "```python\n",
    "86.67 80 90\n",
    "90 High\n",
    "80 Low\n",
    "90 High\n",
    "```"
   ]
  },
  {
   "cell_type": "markdown",
   "metadata": {},
   "source": [
    "----\n",
    "----\n",
    "### ここ↓にPythonコードを記述してください"
   ]
  },
  {
   "cell_type": "code",
   "execution_count": 10,
   "metadata": {},
   "outputs": [
    {
     "name": "stdin",
     "output_type": "stream",
     "text": [
      " 5\n",
      " 40 50 60 70 80\n"
     ]
    },
    {
     "name": "stdout",
     "output_type": "stream",
     "text": [
      "60.00 40 80\n",
      "40 Low\n",
      "50 Low\n",
      "60 High\n",
      "70 High\n",
      "80 High\n"
     ]
    }
   ],
   "source": [
    "# 入力を受け取る\n",
    "N = int(input())\n",
    "scores = list(map(int, input().split()))\n",
    "\n",
    "# 平均値、最小値、最大値を計算\n",
    "avg_score = sum(scores) / N\n",
    "min_score = min(scores)\n",
    "max_score = max(scores)\n",
    "\n",
    "# 平均値、最小値、最大値を出力\n",
    "print(f\"{avg_score:.2f} {min_score} {max_score}\")\n",
    "\n",
    "# 各生徒の得点とラベルを出力\n",
    "for score in scores:\n",
    "    if score >= avg_score:\n",
    "        print(f\"{score} High\")\n",
    "    else:\n",
    "        print(f\"{score} Low\")"
   ]
  },
  {
   "cell_type": "markdown",
   "metadata": {},
   "source": [
    "----\n",
    "----\n",
    "----\n",
    "----\n",
    "----\n",
    "----\n",
    "----\n",
    "----"
   ]
  },
  {
   "cell_type": "markdown",
   "metadata": {},
   "source": [
    "## 問題10\n",
    "# unique alphabets (2.4点)"
   ]
  },
  {
   "cell_type": "markdown",
   "metadata": {},
   "source": [
    "2つの文字列 $ S1 $ と $ S2 $ が与えられます。  \n",
    "$ S1 $ と $ S2 $ に共通して含まれる文字の種類（重複なし）を、アルファベット順にソートして出力するプログラムを作成してください。  \n",
    "ただし、大文字と小文字は区別しないものとします。  "
   ]
  },
  {
   "cell_type": "markdown",
   "metadata": {},
   "source": [
    "### 制約\n",
    "\n",
    "$ 1 ≦ |S1|, |S2| ≦ 100 (|S| は文字列 S の長さを表す) $   \n",
    "$ S1, S2 は英大文字および英小文字のみからなる $   "
   ]
  },
  {
   "cell_type": "markdown",
   "metadata": {},
   "source": [
    "### 入力\n",
    "入力は以下の形式で標準入力から与えられます\n",
    "\n",
    "---\n",
    "\n",
    "$ S1 $   \n",
    "$ S2 $  \n",
    "\n",
    "---\n"
   ]
  },
  {
   "cell_type": "markdown",
   "metadata": {},
   "source": [
    "### 出力\n",
    "\n",
    "- $ S1 $ と $ S2 $ に共通して含まれる文字の種類を、アルファベット順にソートして、連結した文字列として出力せよ。\n",
    "- 出力時の文字列はすべて小文字とせよ。"
   ]
  },
  {
   "cell_type": "markdown",
   "metadata": {},
   "source": [
    "----\n",
    "----\n",
    "\n",
    "### 入力例1\n",
    "```python\n",
    "Hello\n",
    "World\n",
    "```\n",
    "\n",
    "### 出力例1\n",
    "```python\n",
    "lo\n",
    "```\n"
   ]
  },
  {
   "cell_type": "markdown",
   "metadata": {},
   "source": [
    "----\n",
    "----\n",
    "\n",
    "### 入力例2\n",
    "```python\n",
    "AtCoder\n",
    "Contest\n",
    "```\n",
    "\n",
    "### 出力例2\n",
    "```python\n",
    "ceot\n",
    "```\n"
   ]
  },
  {
   "cell_type": "markdown",
   "metadata": {},
   "source": [
    "----\n",
    "----\n",
    "\n",
    "### 入力例3\n",
    "```python\n",
    "abcdefghijklmnopqrstuvwxyz\n",
    "ABCDEFGHIJKLMNOPQRSTUVWXYZ\n",
    "```\n",
    "\n",
    "### 出力例3\n",
    "```python\n",
    "abcdefghijklmnopqrstuvwxyz\n",
    "```"
   ]
  },
  {
   "cell_type": "markdown",
   "metadata": {},
   "source": [
    "----\n",
    "----\n",
    "### ここ↓にPythonコードを記述してください"
   ]
  },
  {
   "cell_type": "code",
   "execution_count": 7,
   "metadata": {},
   "outputs": [
    {
     "name": "stdin",
     "output_type": "stream",
     "text": [
      " abcdefghijklmnopqrstuvwxyz\n",
      " ABCDEFGHIJKLMNOPQRSTUVWXYZ\n"
     ]
    },
    {
     "name": "stdout",
     "output_type": "stream",
     "text": [
      "abcdefghijklmnopqrstuvwxyz\n"
     ]
    }
   ],
   "source": [
    "# 入力を受け取る\n",
    "S1 = input().lower()\n",
    "S2 = input().lower()\n",
    "\n",
    "# 共通の文字を格納するセットを初期化\n",
    "common_chars = set()\n",
    "\n",
    "# S1の文字を反復処理\n",
    "for char in S1:\n",
    "    # 文字がS2にも存在する場合、共通の文字セットに追加\n",
    "    if char in S2:\n",
    "        common_chars.add(char)\n",
    "\n",
    "# 共通の文字をアルファベット順にソートしてリストに変換\n",
    "common_chars = sorted(list(common_chars))\n",
    "\n",
    "# 結果を連結して出力\n",
    "print(''.join(common_chars))"
   ]
  },
  {
   "cell_type": "markdown",
   "metadata": {},
   "source": [
    "---\n",
    "---\n",
    "---"
   ]
  },
  {
   "cell_type": "markdown",
   "metadata": {},
   "source": [
    "## さらに得点をゲットするには・・・！"
   ]
  },
  {
   "cell_type": "markdown",
   "metadata": {},
   "source": [
    "### AtCoderによる加点\n",
    "- AtCoderのバチャコンやコンテストを解くと最大で3点まで加点されます\n",
    "- コーディング力もかなり向上するので一石二鳥でお得です！\n",
    "- 提出方法などわからないところはアシスタントの学生さんに聞いて、提出しましょう"
   ]
  },
  {
   "cell_type": "markdown",
   "metadata": {},
   "source": [
    "<img src=\"https://img.atcoder.jp/assets/top/img/logo_bk.svg\" width=\"500\" height=\"400\" style=\"padding: 10px;\">"
   ]
  },
  {
   "cell_type": "markdown",
   "metadata": {},
   "source": [
    "### 送付例\n",
    "以下のような情報をテキストに記載してください（提出例）\n",
    "\n",
    "```\n",
    "Hugkunバチャコン 2025/4/3\n",
    "https://kenkoooo.com/atcoder/#/contest/show/a65f53a7-a5ef-486e-988b-feed98ef1f84\n",
    "\n",
    "AtCoder Beginner Contest\n",
    "https://atcoder.jp/contests/abc400\n",
    "\n",
    "ユーザープロフィール\n",
    "https://atcoder.jp/users/shugo743\n",
    "```\n",
    "※２つ以上のバチャコン/コンテストに参加している場合は上記のようにURLを２つお送りください  "
   ]
  },
  {
   "cell_type": "markdown",
   "metadata": {},
   "source": [
    "### 制約\n",
    "\n",
    "- バチャコンの参加期限は１週間です。１問につき課題点として１点ずつ加点します。（ACのみ対象）  \n",
    "- １つの授業課題につき３問までを加点対象とします。（最大３点まで貰えます）  "
   ]
  },
  {
   "cell_type": "markdown",
   "metadata": {},
   "source": [
    "### なぜAtCoderで加点するのか\n",
    "\n",
    "- 形式としてはアルゴリズム問題に近く、プログラミングの能力を向上させる効果があります\n",
    "- 課題と違って即座に自動で正解・不正解が判明するので非常に効率の良い練習ができます\n",
    "- 正解が出たら加点しますので、URLをお送りください\n",
    "- 問題内容としてはアルゴリズム問題の易しめの問題が1～2問、難しい問題と同じぐらいの難易度の問題が1～2問出ます\n",
    "  - AtCoderで `A問題` と言われる問題を中心に解きましょう。 `B問題`は解ける方がいるかもしれませんが、`C問題`以降は初心者にはほとんど無理です。\n",
    "  - もっと難しい問題もありますが、そちらはやらなくて良いです（プロのエンジニアでも解くのが難しい問題がたくさん出ます）。"
   ]
  },
  {
   "cell_type": "markdown",
   "metadata": {},
   "source": [
    "### お得情報\n",
    "\n",
    "- 例年、プログラミングⅡで高得点を取る方は以下の傾向があります\n",
    "  - アルゴリズム問題をきちんと解いてた人は点数が高いです（当たり前ですが）\n",
    "  - AtCoderにトライいただいている方も総じて高得点です（数は少ないのですが、効果てきめんなので良い成績に結びつく方が多いです）\n",
    "  - 予習している方（前日までに課題を提出している）も高得点が多いです（これは指摘された減点内容を再提出することによって加点している効果が大きいです）\n",
    "  - まわりの人とわいわい話しながら問題を解いている（自分たちで考える力が身につきます。ただしコピペは実力つかないので辞めましょうね）\n",
    "  - できるかぎり自分の力で解きつつ、わからないところは放置せずにアシスタントや講師に質問している（出来ない問題を出来ないままにする人は点数が低い方が多いです）\n",
    "\n",
    "- プログラミングⅡで秀を取られた方は、毎回AtCoderを提出していた方が多くいました\n",
    "  - 加点になるのに加えて実力もつきますので、ぜひチャレンジしましょう"
   ]
  }
 ],
 "metadata": {
  "colab": {
   "authorship_tag": "ABX9TyMOtB7OiTVLb+yu2KoVwjto",
   "include_colab_link": true,
   "provenance": []
  },
  "kernelspec": {
   "display_name": "Python 3 (ipykernel)",
   "language": "python",
   "name": "python3"
  },
  "language_info": {
   "codemirror_mode": {
    "name": "ipython",
    "version": 3
   },
   "file_extension": ".py",
   "mimetype": "text/x-python",
   "name": "python",
   "nbconvert_exporter": "python",
   "pygments_lexer": "ipython3",
   "version": "3.11.9"
  }
 },
 "nbformat": 4,
 "nbformat_minor": 4
}
