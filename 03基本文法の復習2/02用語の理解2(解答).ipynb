{
 "cells": [
  {
   "cell_type": "markdown",
   "metadata": {},
   "source": [
    "<a href=\"https://colab.research.google.com/github/YasuharuSuzuki/25_programing2/blob/main/\" target=\"_parent\"><img src=\"https://colab.research.google.com/assets/colab-badge.svg\" alt=\"Open In Colab\"/></a>"
   ]
  },
  {
   "cell_type": "markdown",
   "metadata": {
    "id": "KSSJqXOosEeX"
   },
   "source": [
    "# 02_用語の理解2"
   ]
  },
  {
   "cell_type": "markdown",
   "metadata": {
    "id": "VRQcesdKsEec"
   },
   "source": [
    "## 用語の理解を問う問題\n",
    "- 以下の問題について、正解となる選択肢を出力してください"
   ]
  },
  {
   "cell_type": "markdown",
   "metadata": {
    "id": "bP053hXUsEee"
   },
   "source": [
    "---\n",
    "---\n",
    "---\n",
    "### 問5 break文と合計値 (0.3点)\n",
    "\n",
    "以下のコードのうち、1から9までの奇数を順に処理し、5になった時点でループを終了して、それまでの合計を1度だけ出力するコードはどれですか？\n",
    "\n",
    "---\n",
    "#### 1\n",
    "```python\n",
    "total = 0\n",
    "for i in range(1, 10, 2):\n",
    "    if i == 5:\n",
    "        total += i\n",
    "        break\n",
    "print(total)\n",
    "```\n",
    "\n",
    "---\n",
    "#### 2\n",
    "```python\n",
    "total = 0\n",
    "for i in range(1, 10, 2):\n",
    "    if i == 5:\n",
    "        total += i\n",
    "    break\n",
    "print(total)\n",
    "```\n",
    "\n",
    "---\n",
    "#### 3\n",
    "```python\n",
    "total = 0\n",
    "for i in range(1, 10, 2):\n",
    "    if i == 5:\n",
    "        break\n",
    "    total += i\n",
    "    print(total)\n",
    "```\n",
    "\n",
    "---\n",
    "#### 4\n",
    "```python\n",
    "total = 0\n",
    "for i in range(1, 10, 2):\n",
    "    if i == 5:\n",
    "        break\n",
    "    total += i\n",
    "print(total)\n",
    "```"
   ]
  },
  {
   "cell_type": "code",
   "execution_count": 1,
   "metadata": {
    "colab": {
     "base_uri": "https://localhost:8080/"
    },
    "executionInfo": {
     "elapsed": 255,
     "status": "ok",
     "timestamp": 1715147036615,
     "user": {
      "displayName": "鈴木康元",
      "userId": "15385942521303414593"
     },
     "user_tz": -540
    },
    "id": "8cg5YTLosEee",
    "outputId": "c6671804-b225-4341-ea70-8833bd5eb194"
   },
   "outputs": [
    {
     "name": "stdout",
     "output_type": "stream",
     "text": [
      "4\n"
     ]
    }
   ],
   "source": [
    "# 正解を出力してください\n",
    "print('4')"
   ]
  },
  {
   "cell_type": "markdown",
   "metadata": {},
   "source": [
    "---\n",
    "\n",
    "### 解説\n",
    "#### 選択肢4が正しい理由\n",
    "- i=1,3の時はtotalに加算される\n",
    "- i=5の時点でループが終了する\n",
    "- ループ終了後に合計値4（1+3）が出力される\n",
    "\n",
    "#### 1,2,3が不適切な理由\n",
    "- 1) i=1,3の時にtotalに加算せず、5の時のみ加算してからbreakするため、合計が5になる\n",
    "- 2) 最初のループでいきなりbreak文が実行されてしまい、合計が0のまま終了する\n",
    "- 3) 合計値が途中経過（1, 4）として出力され、最終結果のみを表示できない\n",
    "---"
   ]
  },
  {
   "cell_type": "markdown",
   "metadata": {},
   "source": [
    "---\n",
    "---\n",
    "---\n",
    "### 問6 for文で使用する便利な組み込み関数 (0.3点)\n",
    "\n",
    "for文で主に使用し、１つのリストから位置（カウンタ、インデックスとも言います）と要素を取り出す関数はどれか？\n",
    "\n",
    "1. range()\n",
    "2. zip()\n",
    "3. enumerate()\n",
    "4. in\n"
   ]
  },
  {
   "cell_type": "code",
   "execution_count": 2,
   "metadata": {
    "colab": {
     "base_uri": "https://localhost:8080/"
    },
    "executionInfo": {
     "elapsed": 278,
     "status": "ok",
     "timestamp": 1715147048787,
     "user": {
      "displayName": "鈴木康元",
      "userId": "15385942521303414593"
     },
     "user_tz": -540
    },
    "id": "y2CxWqMusEef",
    "outputId": "8129fcea-362e-4f33-d57b-529f8313a51f"
   },
   "outputs": [
    {
     "name": "stdout",
     "output_type": "stream",
     "text": [
      "3\n"
     ]
    }
   ],
   "source": [
    "# 正解を出力してください\n",
    "print('3')"
   ]
  },
  {
   "attachments": {},
   "cell_type": "markdown",
   "metadata": {
    "id": "sqzgb-X2sEef"
   },
   "source": [
    "---\n",
    "\n",
    "### 解説\n",
    "1. range()は数列を取り出します。要素は取り出せません\n",
    "2. zip()は2つのリストから同時に要素を取り出す関数です\n",
    "3. 正解です。\n",
    "4. in はリスト内に特定の値があるかどうかを返す演算子です\n",
    "\n",
    "プログラミングⅠ の課題では、10list2/03要素を順番に取り出す.ipnyb で説明されています\n",
    "\n",
    "---"
   ]
  },
  {
   "cell_type": "markdown",
   "metadata": {},
   "source": [
    "---\n",
    "---\n",
    "---\n",
    "### 問7 例外処理 (0.3点)  \n",
    "- 以下のプログラムで、input()で \"8\" と入力すると、print()で出力される文字列はどのようになりますか？\n",
    "\n",
    "```python\n",
    "try:\n",
    "    i = int(input())\n",
    "    print(8888 / i)\n",
    "    print(\"okikokudai\"[i])\n",
    "except ZeroDivisionError as e:\n",
    "    print('ゼロ除算が発生しました')\n",
    "except IndexError as e:\n",
    "    print('範囲外参照エラーが発生しました')\n",
    "else:\n",
    "    print('エラー発生なし！')\n",
    "finally:\n",
    "    print('例外処理を終了します')\n",
    "print(\"このプログラムを正常終了します\")\n",
    "```\n",
    "\n",
    "---\n",
    "#### 1\n",
    "```\n",
    "1111.0\n",
    "ゼロ除算が発生しました\n",
    "例外処理を終了します\n",
    "このプログラムを正常終了します\n",
    "```\n",
    "---\n",
    "#### 2\n",
    "```\n",
    "1111.0\n",
    "範囲外参照エラーが発生しました\n",
    "例外処理を終了します\n",
    "このプログラムを正常終了します\n",
    "```\n",
    "---\n",
    "#### 3\n",
    "```\n",
    "1111.0\n",
    "a\n",
    "エラー発生なし！\n",
    "例外処理を終了します\n",
    "このプログラムを正常終了します\n",
    "```\n",
    "---\n",
    "#### 4\n",
    "```\n",
    "例外処理を終了します\n",
    "```\n"
   ]
  },
  {
   "cell_type": "code",
   "execution_count": 3,
   "metadata": {},
   "outputs": [
    {
     "name": "stdout",
     "output_type": "stream",
     "text": [
      "3\n"
     ]
    }
   ],
   "source": [
    "# 正解を出力してください\n",
    "print('3')"
   ]
  },
  {
   "cell_type": "markdown",
   "metadata": {},
   "source": [
    "---\n",
    "\n",
    "### 解説\n",
    "\n",
    "プログラミングⅠ の課題では、08try文/01try文.ipnyb の 練習プログラム2 で出題されています\n",
    "\n",
    "---"
   ]
  },
  {
   "cell_type": "markdown",
   "metadata": {},
   "source": [
    "---\n",
    "---\n",
    "---\n",
    "### 問8 set (0.3点)\n",
    "\n",
    "以下のプログラムの出力結果を選べ\n",
    "\n",
    "```python\n",
    "all_color = set([\"赤\",\"白\",\"黄\",\"紫\",\"桃\"])\n",
    "input_color = set({\"赤\",\"白\",\"白\"\"赤\",\"白\",\"黒\"})\n",
    "print(len(all_color-input_color))\n",
    "```\n",
    "\n",
    "   1. {'紫', '黄'}\n",
    "   2. {'桃', '黒, '黄'}\n",
    "   3. 2\n",
    "   4. 3\n"
   ]
  },
  {
   "cell_type": "code",
   "execution_count": 3,
   "metadata": {},
   "outputs": [
    {
     "name": "stdout",
     "output_type": "stream",
     "text": [
      "4\n"
     ]
    }
   ],
   "source": [
    "# 正解を出力してください\n",
    "print('4')"
   ]
  },
  {
   "cell_type": "markdown",
   "metadata": {},
   "source": [
    "---\n",
    "\n",
    "### 解説\n",
    "\n",
    "集合演算に関する理解が必要です  \n",
    "プログラミングⅠ の課題では、12tupleとset/03セットの集合演算.ipnyb で説明されております  \n",
    "\n",
    "---"
   ]
  },
  {
   "cell_type": "markdown",
   "metadata": {},
   "source": [
    "---\n",
    "---\n",
    "---\n",
    "---\n",
    "---"
   ]
  }
 ],
 "metadata": {
  "colab": {
   "provenance": [
    {
     "file_id": "https://github.com/YasuharuSuzuki/24_programing2/blob/main/04%E8%BE%9E%E6%9B%B8/01%E8%BE%9E%E6%9B%B8%E3%82%92%E4%BD%9C%E3%82%8B.ipynb",
     "timestamp": 1715146358060
    }
   ]
  },
  "kernelspec": {
   "display_name": "Python 3 (ipykernel)",
   "language": "python",
   "name": "python3"
  },
  "language_info": {
   "codemirror_mode": {
    "name": "ipython",
    "version": 3
   },
   "file_extension": ".py",
   "mimetype": "text/x-python",
   "name": "python",
   "nbconvert_exporter": "python",
   "pygments_lexer": "ipython3",
   "version": "3.11.9"
  }
 },
 "nbformat": 4,
 "nbformat_minor": 4
}
