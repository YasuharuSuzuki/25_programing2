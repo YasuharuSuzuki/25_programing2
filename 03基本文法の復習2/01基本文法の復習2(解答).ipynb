{
 "cells": [
  {
   "cell_type": "markdown",
   "metadata": {
    "colab_type": "text",
    "id": "view-in-github"
   },
   "source": [
    "<a href=\"https://colab.research.google.com/github/YasuharuSuzuki/25_programing2/blob/main/\" target=\"_parent\"><img src=\"https://colab.research.google.com/assets/colab-badge.svg\" alt=\"Open In Colab\"/></a>"
   ]
  },
  {
   "cell_type": "markdown",
   "metadata": {},
   "source": [
    "# 01_基本文法の復習2\n",
    "\n",
    "## 目次\n",
    "1. for文\n",
    "2. while文\n",
    "3. break文\n",
    "4. continue文"
   ]
  },
  {
   "cell_type": "markdown",
   "metadata": {},
   "source": [
    "---\n",
    "---\n",
    "---\n",
    "---\n",
    "---"
   ]
  },
  {
   "cell_type": "markdown",
   "metadata": {},
   "source": [
    "## サンプルプログラム1　for文\n",
    "for文の使い方を習得しましょう\n",
    "- 特定の回数繰り返す\n",
    "- リストの要素を順番に取り出す\n",
    "- リストの要素数だけ繰り返す\n",
    "- リストの要素数だけ繰り返す2\n",
    "- リスト内包表記でのfor文\n",
    "- リスト内包表記を使わずに同じリストを作る"
   ]
  },
  {
   "cell_type": "code",
   "execution_count": 1,
   "metadata": {},
   "outputs": [
    {
     "name": "stdout",
     "output_type": "stream",
     "text": [
      "0\n",
      "1\n",
      "2\n",
      "3\n",
      "4\n"
     ]
    }
   ],
   "source": [
    "# 特定の回数繰り返す\n",
    "N = 5 # 繰り返したい数\n",
    "for index in range(N):\n",
    "    print(index)"
   ]
  },
  {
   "cell_type": "code",
   "execution_count": 2,
   "metadata": {},
   "outputs": [
    {
     "name": "stdout",
     "output_type": "stream",
     "text": [
      "apple\n",
      "banana\n",
      "orange\n"
     ]
    }
   ],
   "source": [
    "# リストの要素を順番に取り出す\n",
    "fruits = [\"apple\", \"banana\", \"orange\"]\n",
    "for item in fruits:\n",
    "    print(item) # apple, banana, orange"
   ]
  },
  {
   "cell_type": "code",
   "execution_count": 3,
   "metadata": {},
   "outputs": [
    {
     "name": "stdout",
     "output_type": "stream",
     "text": [
      "0\n",
      "4\n",
      "1\n",
      "5\n",
      "2\n",
      "2\n",
      "3\n",
      "6\n",
      "4\n",
      "3\n",
      "5\n",
      "2\n"
     ]
    }
   ],
   "source": [
    "# リストの要素数だけ繰り返す\n",
    "list1 = [4, 5, 2, 6, 3, 2] # 任意の配列\n",
    "for index in range(len(list1)): # 配列要素数\n",
    "    print(index) # 0, 1, 2, 3, 4, 5\n",
    "    print(list1[index]) # 4, 5, 2, 6, 3, 2"
   ]
  },
  {
   "cell_type": "code",
   "execution_count": 4,
   "metadata": {
    "scrolled": true
   },
   "outputs": [
    {
     "name": "stdout",
     "output_type": "stream",
     "text": [
      "0\n",
      "4\n",
      "1\n",
      "5\n",
      "2\n",
      "2\n",
      "3\n",
      "6\n",
      "4\n",
      "3\n",
      "5\n",
      "2\n"
     ]
    }
   ],
   "source": [
    "# リストの要素数だけ繰り返す2\n",
    "list1 = [4, 5, 2, 6, 3, 2] # 任意の配列\n",
    "for index, item in enumerate(list1):\n",
    "    print(index) # 0, 1, 2, 3, 4, 5\n",
    "    print(item) # 4, 5, 2, 6, 3, 2"
   ]
  },
  {
   "cell_type": "code",
   "execution_count": 3,
   "metadata": {},
   "outputs": [
    {
     "name": "stdout",
     "output_type": "stream",
     "text": [
      "[5, 10, 15, 20, 25]\n"
     ]
    }
   ],
   "source": [
    "# リスト内包表記でのfor文\n",
    "list1 = [1, 2, 3, 4, 5] # 任意の配列\n",
    "list5 = [num1*5 for num1 in list1]\n",
    "print(list5)"
   ]
  },
  {
   "cell_type": "code",
   "execution_count": 7,
   "metadata": {},
   "outputs": [
    {
     "name": "stdout",
     "output_type": "stream",
     "text": [
      "[5, 10, 15, 20, 25]\n"
     ]
    }
   ],
   "source": [
    "# リスト内包表記を使わずに同じリストを作る\n",
    "list1 = [1, 2, 3, 4, 5] # 任意の配列\n",
    "list5 = []\n",
    "for num1 in list1:\n",
    "    list5.append(num1*5)\n",
    "print(list5) # [5, 10, 15, 20, 25]"
   ]
  },
  {
   "cell_type": "markdown",
   "metadata": {},
   "source": [
    "## 練習プログラム1 (2.0点)\n",
    "- 特定の回数繰り返すプログラムを作成してみましょう\n",
    "- リストの要素を順番に取り出して出力するプログラムを作成してみましょう\n",
    "- enumerate()を使って、リストの位置と要素を両方出力するプログラムを作成してみましょう\n",
    "- リスト内包表記でfor文を使ってみましょう"
   ]
  },
  {
   "cell_type": "code",
   "execution_count": 1,
   "metadata": {},
   "outputs": [
    {
     "name": "stdout",
     "output_type": "stream",
     "text": [
      "0\n",
      "2\n",
      "4\n",
      "6\n"
     ]
    }
   ],
   "source": [
    "# 1. 特定の回数繰り返すプログラムを作成してみましょう\n",
    "# 出力する値は文字列でも整数値でも浮動小数値でも何でも良いですが、サンプルプログラムとは違う独自の値を入れましょう\n",
    "# 変数名も独自のものに変えましょう\n",
    "\n",
    "repeat = 7\n",
    "for index in range(0,repeat,2):\n",
    "    print(index)"
   ]
  },
  {
   "cell_type": "code",
   "execution_count": 2,
   "metadata": {},
   "outputs": [
    {
     "name": "stdout",
     "output_type": "stream",
     "text": [
      "北海道\n",
      "東北\n",
      "関東\n",
      "中部\n",
      "近畿\n",
      "中国\n",
      "四国\n",
      "九州\n"
     ]
    }
   ],
   "source": [
    "# 2. リストの要素を順番に取り出して出力するプログラムを作成してみましょう\n",
    "# 出力する値は文字列でも整数値でも浮動小数値でも何でも良いですが、サンプルプログラムとは違う独自の値を入れましょう\n",
    "# 変数名も独自のものに変えましょう\n",
    "\n",
    "japan = [\"北海道\",\"東北\",\"関東\",\"中部\",\"近畿\",\"中国\",\"四国\",\"九州\"]\n",
    "for japan_chiho in japan:\n",
    "    print(japan_chiho)"
   ]
  },
  {
   "cell_type": "code",
   "execution_count": 3,
   "metadata": {},
   "outputs": [
    {
     "name": "stdout",
     "output_type": "stream",
     "text": [
      "0 北海道\n",
      "1 東北\n",
      "2 関東\n",
      "3 中部\n",
      "4 近畿\n",
      "5 中国\n",
      "6 四国\n",
      "7 九州\n"
     ]
    }
   ],
   "source": [
    "# 3. enumerate()を使って、リストの位置と要素を両方出力するプログラムを作成してみましょう\n",
    "# 出力する値は文字列でも整数値でも浮動小数値でも何でも良いですが、サンプルプログラムとは違う独自の値を入れましょう\n",
    "# 変数名も独自のものに変えましょう\n",
    "\n",
    "for index, japan_chiho in enumerate(japan):\n",
    "    print(index, japan_chiho)"
   ]
  },
  {
   "cell_type": "code",
   "execution_count": 4,
   "metadata": {},
   "outputs": [
    {
     "name": "stdout",
     "output_type": "stream",
     "text": [
      "['北海道地方', '東北地方', '関東地方', '中部地方', '近畿地方', '中国地方', '四国地方', '九州地方']\n"
     ]
    }
   ],
   "source": [
    "# 4. リスト内包表記でfor文を使ってみましょう\n",
    "# 出力する値は文字列でも整数値でも浮動小数値でも何でも良いですが、サンプルプログラムとは違う独自の値を入れましょう\n",
    "# 変数名も独自のものに変えましょう\n",
    "\n",
    "print([f\"{c}地方\" for c in japan])"
   ]
  },
  {
   "cell_type": "markdown",
   "metadata": {},
   "source": [
    "---\n",
    "---\n",
    "---\n",
    "---\n",
    "---"
   ]
  },
  {
   "cell_type": "markdown",
   "metadata": {},
   "source": [
    "## サンプルプログラム2　while文\n",
    "while文の使い方を習得しましょう\n",
    "- 特定の回数繰り返す\n",
    "- 同じ文をfor文で書く"
   ]
  },
  {
   "cell_type": "code",
   "execution_count": 6,
   "metadata": {},
   "outputs": [
    {
     "name": "stdout",
     "output_type": "stream",
     "text": [
      "0\n",
      "1\n",
      "2\n",
      "3\n"
     ]
    }
   ],
   "source": [
    "# 特定の回数繰り返す\n",
    "count = 0\n",
    "while count < 4:\n",
    "    print(count) # 0, 1, 2, 3\n",
    "    count += 1"
   ]
  },
  {
   "cell_type": "code",
   "execution_count": 7,
   "metadata": {},
   "outputs": [
    {
     "name": "stdout",
     "output_type": "stream",
     "text": [
      "0\n",
      "1\n",
      "2\n",
      "3\n"
     ]
    }
   ],
   "source": [
    "# 同じ文をfor文で書く\n",
    "for count in range(4):\n",
    "    print(count) # 0, 1, 2, 3"
   ]
  },
  {
   "cell_type": "markdown",
   "metadata": {},
   "source": [
    "## 練習プログラム2 (1.0点)\n",
    "- 特定の回数繰り返すプログラムを作成してみましょう\n",
    "- 同じ文をfor文で書いてみましょう"
   ]
  },
  {
   "cell_type": "code",
   "execution_count": 5,
   "metadata": {},
   "outputs": [
    {
     "name": "stdout",
     "output_type": "stream",
     "text": [
      "1\n",
      "3\n",
      "5\n",
      "7\n",
      "9\n",
      "11\n",
      "13\n",
      "15\n",
      "17\n",
      "19\n"
     ]
    }
   ],
   "source": [
    "# 1. 特定の回数繰り返すプログラムを作成してみましょう\n",
    "# 出力する値は何でも良いですが、サンプルプログラムとは違う独自の値を入れましょう\n",
    "# 変数名も独自のものに変えましょう\n",
    "\n",
    "odd = 1\n",
    "while odd < 20:\n",
    "    print(odd)\n",
    "    odd += 2"
   ]
  },
  {
   "cell_type": "code",
   "execution_count": 6,
   "metadata": {},
   "outputs": [
    {
     "name": "stdout",
     "output_type": "stream",
     "text": [
      "1\n",
      "3\n",
      "5\n",
      "7\n",
      "9\n",
      "11\n",
      "13\n",
      "15\n",
      "17\n",
      "19\n"
     ]
    }
   ],
   "source": [
    "# 2. 同じ文をfor文で書いてみましょう\n",
    "# 出力する値は何でも良いですが、サンプルプログラムとは違う独自の値を入れましょう\n",
    "# 変数名も独自のものに変えましょう\n",
    "\n",
    "for odd in range(1,20,2):\n",
    "    print(odd)"
   ]
  },
  {
   "cell_type": "markdown",
   "metadata": {},
   "source": [
    "---\n",
    "---\n",
    "---\n",
    "---\n",
    "---"
   ]
  },
  {
   "cell_type": "markdown",
   "metadata": {},
   "source": [
    "## サンプルプログラム3　break文\n",
    "break文の使い方を習得しましょう\n",
    "- 特定の条件でループを抜ける"
   ]
  },
  {
   "cell_type": "code",
   "execution_count": 8,
   "metadata": {},
   "outputs": [
    {
     "name": "stdout",
     "output_type": "stream",
     "text": [
      "a\n",
      "b\n",
      "c\n",
      "d\n"
     ]
    }
   ],
   "source": [
    "# 特定の条件でループを抜ける\n",
    "list1 = [\"a\", \"b\", \"c\", \"d\", \"e\"] # 任意の配列\n",
    "for index, item in enumerate(list1):\n",
    "    print(item) # a, b, c, d\n",
    "    if index >= 3:\n",
    "        break"
   ]
  },
  {
   "cell_type": "markdown",
   "metadata": {},
   "source": [
    "## 練習プログラム3 (0.5点)\n",
    "- 特定の条件でループを抜けるプログラムを作成してみましょう"
   ]
  },
  {
   "cell_type": "code",
   "execution_count": 8,
   "metadata": {},
   "outputs": [
    {
     "name": "stdout",
     "output_type": "stream",
     "text": [
      "北海道\n",
      "東北\n"
     ]
    }
   ],
   "source": [
    "# 1. 特定の条件でループを抜けるプログラムを作成してみましょう\n",
    "# 使用する値は文字列でも整数値でも浮動小数値でも何でも良いですが、サンプルプログラムとは違う独自の値を使用しましょう\n",
    "# 変数名も独自のものに変えましょう\n",
    "\n",
    "for japan_chiho in japan:\n",
    "    if \"北\" not in japan_chiho:\n",
    "        break\n",
    "    print(japan_chiho)"
   ]
  },
  {
   "cell_type": "markdown",
   "metadata": {},
   "source": [
    "---\n",
    "---\n",
    "---\n",
    "---\n",
    "---"
   ]
  },
  {
   "cell_type": "markdown",
   "metadata": {},
   "source": [
    "## サンプルプログラム4　continue文\n",
    "continue文の使い方を習得しましょう\n",
    "- 特定の条件で次の繰り返し処理へ遷移する"
   ]
  },
  {
   "cell_type": "code",
   "execution_count": 11,
   "metadata": {},
   "outputs": [
    {
     "name": "stdout",
     "output_type": "stream",
     "text": [
      "a\n",
      "c\n",
      "e\n"
     ]
    }
   ],
   "source": [
    "# 特定の条件で次の繰り返し処理へ遷移する\n",
    "list1 = [\"a\", \"b\", \"c\", \"d\", \"e\"] # 任意の配列\n",
    "for index, item in enumerate(list1):\n",
    "    if (index % 2) > 0:\n",
    "        continue\n",
    "    print(item) # a, c, e"
   ]
  },
  {
   "cell_type": "markdown",
   "metadata": {},
   "source": [
    "## 練習プログラム4 (0.5点)\n",
    "- 特定の条件で次の繰り返し処理へ遷移するプログラムを作成してみましょう"
   ]
  },
  {
   "cell_type": "code",
   "execution_count": 13,
   "metadata": {},
   "outputs": [
    {
     "name": "stdout",
     "output_type": "stream",
     "text": [
      "北海道には[北]が含まれています\n",
      "東北には[北]と[東]が含まれています\n",
      "関東には[東]が含まれています\n",
      "中部には[中]が含まれています\n",
      "近畿には[北,東,中,国]がいずれも含まれていません\n",
      "中国には[中]と[国]が含まれています\n",
      "四国には[国]が含まれています\n",
      "九州には[北,東,中,国]がいずれも含まれていません\n"
     ]
    }
   ],
   "source": [
    "# 1. 特定の条件で次の繰り返し処理へ遷移するプログラムを作成してみましょう\n",
    "# 使用する値は文字列でも整数値でも浮動小数値でも何でも良いですが、サンプルプログラムとは違う独自の値を使用しましょう\n",
    "# 変数名も独自のものに変えましょう\n",
    "\n",
    "check = \"北東中国\"\n",
    "\n",
    "for japan_chiho in japan:\n",
    "    check_result = [check_char for check_char in check if check_char in japan_chiho]\n",
    "    if len(check_result) == 0:\n",
    "        print(f\"{japan_chiho}には[\" + \",\".join(check) + \"]がいずれも含まれていません\")\n",
    "        continue\n",
    "\n",
    "    print(f\"{japan_chiho}には[\" + \"]と[\".join(check_result) + \"]が含まれています\")"
   ]
  },
  {
   "cell_type": "markdown",
   "metadata": {},
   "source": [
    "---\n",
    "---\n",
    "---\n",
    "---\n",
    "---"
   ]
  }
 ],
 "metadata": {
  "colab": {
   "authorship_tag": "ABX9TyMOtB7OiTVLb+yu2KoVwjto",
   "include_colab_link": true,
   "provenance": []
  },
  "kernelspec": {
   "display_name": "Python 3 (ipykernel)",
   "language": "python",
   "name": "python3"
  },
  "language_info": {
   "codemirror_mode": {
    "name": "ipython",
    "version": 3
   },
   "file_extension": ".py",
   "mimetype": "text/x-python",
   "name": "python",
   "nbconvert_exporter": "python",
   "pygments_lexer": "ipython3",
   "version": "3.11.9"
  }
 },
 "nbformat": 4,
 "nbformat_minor": 4
}
