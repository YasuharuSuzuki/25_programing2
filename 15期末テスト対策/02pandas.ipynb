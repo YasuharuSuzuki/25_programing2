{
 "cells": [
  {
   "cell_type": "markdown",
   "metadata": {},
   "source": [
    "<a href=\"https://colab.research.google.com/github/YasuharuSuzuki/25_programing2/blob/main/\" target=\"_parent\"><img src=\"https://colab.research.google.com/assets/colab-badge.svg\" alt=\"Open In Colab\"/></a>"
   ]
  },
  {
   "cell_type": "markdown",
   "metadata": {
    "id": "KSSJqXOosEeX"
   },
   "source": [
    "# pandasに関する問題"
   ]
  },
  {
   "cell_type": "markdown",
   "metadata": {
    "id": "VRQcesdKsEec"
   },
   "source": [
    "## 用語の理解を問う問題\n",
    "- 以下の問題について、正解となる選択肢を出力してください"
   ]
  },
  {
   "cell_type": "markdown",
   "metadata": {},
   "source": [
    "### 問題10 1次元のラベル付き配列 (3点)\n",
    "- Pandasの主要なデータ構造で、1次元のラベル付き配列を表すものは何ですか？\n",
    "    1. DataFrame\n",
    "    2. Series\n",
    "    3. Array\n",
    "    4. List"
   ]
  },
  {
   "cell_type": "code",
   "execution_count": 1,
   "metadata": {
    "colab": {
     "base_uri": "https://localhost:8080/"
    },
    "executionInfo": {
     "elapsed": 265,
     "status": "ok",
     "timestamp": 1715146988599,
     "user": {
      "displayName": "鈴木康元",
      "userId": "15385942521303414593"
     },
     "user_tz": -540
    },
    "id": "_oiNYIaxsEed",
    "outputId": "c127d002-8e8c-45b3-d98b-c5304b00f17d"
   },
   "outputs": [],
   "source": [
    "# 正解を出力してください\n",
    "print('')"
   ]
  },
  {
   "cell_type": "markdown",
   "metadata": {
    "id": "bP053hXUsEee"
   },
   "source": [
    "### 問題11 欠損値 (3点)\n",
    "- DataFrameの欠損値を表すためにPandasが使用する特殊な値は何ですか？\n",
    "  1. None\n",
    "  2. NaN\n",
    "  3. Null\n",
    "  4. Missing"
   ]
  },
  {
   "cell_type": "code",
   "execution_count": 2,
   "metadata": {
    "colab": {
     "base_uri": "https://localhost:8080/"
    },
    "executionInfo": {
     "elapsed": 255,
     "status": "ok",
     "timestamp": 1715147036615,
     "user": {
      "displayName": "鈴木康元",
      "userId": "15385942521303414593"
     },
     "user_tz": -540
    },
    "id": "8cg5YTLosEee",
    "outputId": "c6671804-b225-4341-ea70-8833bd5eb194"
   },
   "outputs": [],
   "source": [
    "# 正解を出力してください\n",
    "print('')"
   ]
  },
  {
   "cell_type": "markdown",
   "metadata": {
    "id": "sqzgb-X2sEef"
   },
   "source": [
    "## プログラムを書く問題\n",
    "- Titanicのデータセットを使って、データの読み込み、データの確認、データの可視化を行ってください。\n",
    "\n",
    "### Titanicのデータセット\n",
    "- タイタニック号の乗船リストから、どのような属性の人が \"助かる\" かを予測 するデータセットです。\n",
    "- `data/titanic_train.csv` のデータを読み込んで処理して行きましょう。\n",
    "- 各列の名称と内容は以下の通りです。\n",
    "\n",
    "| Variable | Definition | Key |\n",
    "| --- | --- | --- | \n",
    "| survival | Survival | 0 = No, 1 = Yes |\n",
    "| pclass | Ticket class | 1 = 1st, 2 = 2nd, 3 = 3rd |\n",
    "| sex | Sex |  |\n",
    "| age | Age in years |\n",
    "| sibsp | # of siblings / spouses aboard the Titanic |\n",
    "| parch | # of parents / children aboard the Titanic |\n",
    "| ticket | Ticket number | |\n",
    "| fare | Passenger fare\t | |\n",
    "| cabin | Cabin number | |\n",
    "| embarked | Port of Embarkation | C = Cherbourg, Q = Queenstown, S = Southampton |"
   ]
  },
  {
   "cell_type": "markdown",
   "metadata": {},
   "source": [
    "### 問題12 Titanicのデータセットを読み込む (6点)"
   ]
  },
  {
   "cell_type": "code",
   "execution_count": 3,
   "metadata": {},
   "outputs": [],
   "source": [
    "# ライブラリのimport\n"
   ]
  },
  {
   "cell_type": "code",
   "execution_count": 4,
   "metadata": {
    "colab": {
     "base_uri": "https://localhost:8080/"
    },
    "executionInfo": {
     "elapsed": 440,
     "status": "ok",
     "timestamp": 1715147253788,
     "user": {
      "displayName": "鈴木康元",
      "userId": "15385942521303414593"
     },
     "user_tz": -540
    },
    "id": "l8NxqEh3sEef",
    "outputId": "82144241-b18d-429f-a4c6-e2ba9b680e47"
   },
   "outputs": [],
   "source": [
    "# drive.mount()を使用してGoogleDriveをMount\n"
   ]
  },
  {
   "cell_type": "code",
   "execution_count": 5,
   "metadata": {},
   "outputs": [],
   "source": [
    "# os.chdir()を使用してカレントディレクトリを変更。作成したショーットカット名を使ってパスを指定します。\n"
   ]
  },
  {
   "cell_type": "code",
   "execution_count": 6,
   "metadata": {},
   "outputs": [],
   "source": [
    "# データファイルパス定義\n"
   ]
  },
  {
   "cell_type": "code",
   "execution_count": 7,
   "metadata": {},
   "outputs": [],
   "source": [
    "# read_csvを使ってcsvを読み込みます\n"
   ]
  },
  {
   "cell_type": "markdown",
   "metadata": {},
   "source": [
    "### 問題13 読み込んだDataFrameを確認(12点)\n",
    "- 以下のいずれかの確認作業を少なくとも３つ行って、それぞれに最低１つの簡単な考察をつけてみましょう\n",
    "  - ざっと眺める\n",
    "  - 行数、列数、データ型、欠損値の確認\n",
    "  - 基本統計量の確認\n",
    "  - カテゴリカル変数の確認"
   ]
  },
  {
   "cell_type": "code",
   "execution_count": 8,
   "metadata": {},
   "outputs": [],
   "source": [
    "# DataFrameの確認１\n"
   ]
  },
  {
   "cell_type": "markdown",
   "metadata": {},
   "source": [
    "- （考察を付けましょう）"
   ]
  },
  {
   "cell_type": "code",
   "execution_count": 9,
   "metadata": {},
   "outputs": [],
   "source": [
    "# DataFrameの確認２\n"
   ]
  },
  {
   "cell_type": "markdown",
   "metadata": {},
   "source": [
    "- （考察を付けましょう）"
   ]
  },
  {
   "cell_type": "code",
   "execution_count": 10,
   "metadata": {},
   "outputs": [],
   "source": [
    "# DataFrameの確認３\n"
   ]
  },
  {
   "cell_type": "markdown",
   "metadata": {},
   "source": [
    "- （考察を付けましょう）"
   ]
  },
  {
   "cell_type": "markdown",
   "metadata": {},
   "source": [
    "### 問題14 欠損値の対策(6点)\n",
    "- Age は平均値を求めてfillnaで埋めてみましょう。\n",
    "- Cabin はfillna('Unknown')を使用して埋めてみましょう。\n",
    "- 欠損値が無くなったことを確認しましょう。"
   ]
  },
  {
   "cell_type": "code",
   "execution_count": 12,
   "metadata": {},
   "outputs": [],
   "source": [
    "# ageを埋める例\n",
    "age_mean = df_titanic['Age'].mean()\n",
    "df_titanic['Age'] = df_titanic['Age'].fillna(age_mean)"
   ]
  },
  {
   "cell_type": "code",
   "execution_count": 29,
   "metadata": {},
   "outputs": [],
   "source": [
    "# Cabinを埋める\n",
    "# 上記の”ageを埋める”の例を参考に、Cabinを埋めてみましょう\n"
   ]
  },
  {
   "cell_type": "code",
   "execution_count": 13,
   "metadata": {},
   "outputs": [],
   "source": [
    "# 欠損値が無くなったことを確認しましょう\n"
   ]
  },
  {
   "cell_type": "markdown",
   "metadata": {},
   "source": [
    "### 問題15 読み込んだDataFrameの可視化(12点)\n",
    "- 以下のいずれかの可視化を少なくとも２つ行って、それぞれに最低１つの簡単な考察をつけてみましょう\n",
    "  - 棒グラフの表示\n",
    "  - 散布図の表示\n",
    "  - 箱ひげ図の表示\n",
    "  - ヒストグラムの表示\n",
    "  - 相関係数の表示\n",
    "  - 多変量連関図の表示"
   ]
  },
  {
   "cell_type": "code",
   "execution_count": 14,
   "metadata": {},
   "outputs": [],
   "source": [
    "# 可視化１\n"
   ]
  },
  {
   "cell_type": "markdown",
   "metadata": {},
   "source": [
    "- （考察を付けましょう）"
   ]
  },
  {
   "cell_type": "code",
   "execution_count": 15,
   "metadata": {},
   "outputs": [],
   "source": [
    "# 可視化２\n"
   ]
  },
  {
   "cell_type": "markdown",
   "metadata": {},
   "source": [
    "- （考察を付けましょう）"
   ]
  },
  {
   "cell_type": "markdown",
   "metadata": {},
   "source": [
    "---\n",
    "---\n",
    "---\n",
    "---\n",
    "---"
   ]
  },
  {
   "cell_type": "code",
   "execution_count": null,
   "metadata": {
    "id": "iImoZwTasEem"
   },
   "outputs": [],
   "source": []
  }
 ],
 "metadata": {
  "colab": {
   "provenance": [
    {
     "file_id": "https://github.com/YasuharuSuzuki/24_programing2/blob/main/04%E8%BE%9E%E6%9B%B8/01%E8%BE%9E%E6%9B%B8%E3%82%92%E4%BD%9C%E3%82%8B.ipynb",
     "timestamp": 1715146358060
    }
   ]
  },
  "kernelspec": {
   "display_name": "Python 3 (ipykernel)",
   "language": "python",
   "name": "python3"
  },
  "language_info": {
   "codemirror_mode": {
    "name": "ipython",
    "version": 3
   },
   "file_extension": ".py",
   "mimetype": "text/x-python",
   "name": "python",
   "nbconvert_exporter": "python",
   "pygments_lexer": "ipython3",
   "version": "3.11.9"
  }
 },
 "nbformat": 4,
 "nbformat_minor": 4
}
