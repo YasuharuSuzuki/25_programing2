{
 "cells": [
  {
   "cell_type": "markdown",
   "metadata": {},
   "source": [
    "<a href=\"https://colab.research.google.com/github/YasuharuSuzuki/25_programing2/blob/main/\" target=\"_parent\"><img src=\"https://colab.research.google.com/assets/colab-badge.svg\" alt=\"Open In Colab\"/></a>"
   ]
  },
  {
   "cell_type": "markdown",
   "metadata": {
    "id": "KSSJqXOosEeX"
   },
   "source": [
    "# クラスの継承・プロパティの利用に関する問題"
   ]
  },
  {
   "cell_type": "markdown",
   "metadata": {
    "id": "VRQcesdKsEec"
   },
   "source": [
    "## 用語の理解を問う問題\n",
    "- 以下の問題について、正解となる選択肢を出力してください"
   ]
  },
  {
   "cell_type": "markdown",
   "metadata": {},
   "source": [
    "### 問題1 (3点)\n",
    "- 継承元のクラスを何と呼びますか？\n",
    "    1. 子クラス\n",
    "    2. 派生クラス\n",
    "    3. スーパークラス\n",
    "    4. サブクラス"
   ]
  },
  {
   "cell_type": "code",
   "execution_count": 1,
   "metadata": {
    "colab": {
     "base_uri": "https://localhost:8080/"
    },
    "executionInfo": {
     "elapsed": 265,
     "status": "ok",
     "timestamp": 1715146988599,
     "user": {
      "displayName": "鈴木康元",
      "userId": "15385942521303414593"
     },
     "user_tz": -540
    },
    "id": "_oiNYIaxsEed",
    "outputId": "c127d002-8e8c-45b3-d98b-c5304b00f17d"
   },
   "outputs": [],
   "source": [
    "# 正解を出力してください\n",
    "print('')"
   ]
  },
  {
   "cell_type": "markdown",
   "metadata": {
    "id": "bP053hXUsEee"
   },
   "source": [
    "### 問題2 (3点)\n",
    "- プロパティの getter メソッドを定義するためのデコレータは何ですか？\n",
    "  1. @setter\n",
    "  2. @property\n",
    "  3. @getter\n",
    "  4. @classmethod"
   ]
  },
  {
   "cell_type": "code",
   "execution_count": 2,
   "metadata": {
    "colab": {
     "base_uri": "https://localhost:8080/"
    },
    "executionInfo": {
     "elapsed": 255,
     "status": "ok",
     "timestamp": 1715147036615,
     "user": {
      "displayName": "鈴木康元",
      "userId": "15385942521303414593"
     },
     "user_tz": -540
    },
    "id": "8cg5YTLosEee",
    "outputId": "c6671804-b225-4341-ea70-8833bd5eb194"
   },
   "outputs": [],
   "source": [
    "# 正解を出力してください\n",
    "print('')"
   ]
  },
  {
   "cell_type": "markdown",
   "metadata": {
    "id": "sqzgb-X2sEef"
   },
   "source": [
    "## 簡単なプログラムを書く問題"
   ]
  },
  {
   "cell_type": "markdown",
   "metadata": {},
   "source": [
    "### 問題3 (10点)\n",
    "書きかけのプログラムがあります。  \n",
    "期待される出力結果は以下のとおりです\n",
    "\n",
    "```\n",
    "Brand: Toyota\n",
    "Model: Corolla\n",
    "```\n",
    "\n",
    "出力結果が一致するように`Vehicle` クラスのdisplay_info()にプログラムを1行追加して完成させてください。"
   ]
  },
  {
   "cell_type": "code",
   "execution_count": 8,
   "metadata": {
    "colab": {
     "base_uri": "https://localhost:8080/"
    },
    "executionInfo": {
     "elapsed": 440,
     "status": "ok",
     "timestamp": 1715147253788,
     "user": {
      "displayName": "鈴木康元",
      "userId": "15385942521303414593"
     },
     "user_tz": -540
    },
    "id": "l8NxqEh3sEef",
    "outputId": "82144241-b18d-429f-a4c6-e2ba9b680e47"
   },
   "outputs": [
    {
     "name": "stdout",
     "output_type": "stream",
     "text": [
      "Brand: Toyota\n",
      "Model: Corolla\n"
     ]
    }
   ],
   "source": [
    "class Vehicle:\n",
    "    def __init__(self, brand):\n",
    "        self.brand = brand\n",
    "    \n",
    "    def display_info(self):\n",
    "        # ここにプログラムを書きましょう\n",
    "\n",
    "class Car(Vehicle):\n",
    "    def __init__(self, brand, model):\n",
    "        super().__init__(brand)\n",
    "        self.model = model\n",
    "    \n",
    "    def display_info(self):\n",
    "        super().display_info()\n",
    "        print(f\"Model: {self.model}\")\n",
    "\n",
    "# インスタンスの作成と使用\n",
    "my_car = Car(\"Toyota\", \"Corolla\")\n",
    "my_car.display_info()"
   ]
  },
  {
   "cell_type": "markdown",
   "metadata": {},
   "source": [
    "---\n",
    "---\n",
    "---\n",
    "---\n",
    "---"
   ]
  },
  {
   "cell_type": "markdown",
   "metadata": {},
   "source": [
    "# テキストファイルの読み込み、書き出しに関する問題"
   ]
  },
  {
   "cell_type": "markdown",
   "metadata": {},
   "source": [
    "## 用語の理解を問う問題\n",
    "- 以下の問題について、正解となる選択肢を出力してください\n",
    "\n",
    "\n",
    "### 問題4 (3点)\n",
    "- ファイルの末尾に新しい内容を追加するモードを以下から選べ\n",
    "    1. r\n",
    "    2. w\n",
    "    3. a\n",
    "    4. w+"
   ]
  },
  {
   "cell_type": "code",
   "execution_count": 3,
   "metadata": {},
   "outputs": [],
   "source": [
    "# 正解を出力してください\n",
    "print('')"
   ]
  },
  {
   "cell_type": "markdown",
   "metadata": {},
   "source": [
    "## 簡単なプログラムを書く問題"
   ]
  },
  {
   "cell_type": "markdown",
   "metadata": {},
   "source": [
    "### 問題5 (10点)\n",
    "`data/kokoro.txt` のファイル内容を読み込んで、そのままprint文で出力するPythonプログラムを作成してください。"
   ]
  },
  {
   "cell_type": "code",
   "execution_count": null,
   "metadata": {},
   "outputs": [],
   "source": [
    "# drive.mount()を使用してGoogleDriveをMount\n",
    "from google.colab import drive\n",
    "drive.mount('/content/drive')"
   ]
  },
  {
   "cell_type": "code",
   "execution_count": null,
   "metadata": {},
   "outputs": [],
   "source": [
    "# os.chdir()を使用してカレントディレクトリを変更。作成したショーットカット名を使ってパスを指定します。\n",
    "import os\n",
    "os.chdir('/content/drive/MyDrive/＜作成したショートカット名＞')"
   ]
  },
  {
   "cell_type": "code",
   "execution_count": 11,
   "metadata": {},
   "outputs": [
    {
     "name": "stdout",
     "output_type": "stream",
     "text": [
      "私はその人を常に先生と呼んでいた。\n",
      "だからここでもただ先生と書くだけで本名は打ち明けない。\n",
      "これは世間を憚かる遠慮というよりも、その方が私にとって自然だからである。\n",
      "私はその人の記憶を呼び起こすごとに、すぐ「先生」といいたくなる。\n",
      "筆を執っても心持は同じである。\n",
      "\n"
     ]
    }
   ],
   "source": [
    "# ./data/以下のファイルをアップロードしておき、ここでパスを指定します\n",
    "\n",
    "# ファイルを読み込みます\n",
    "\n"
   ]
  },
  {
   "cell_type": "markdown",
   "metadata": {},
   "source": [
    "---\n",
    "---\n",
    "---\n",
    "---\n",
    "---"
   ]
  },
  {
   "cell_type": "markdown",
   "metadata": {},
   "source": [
    "# グラフに関する問題"
   ]
  },
  {
   "cell_type": "markdown",
   "metadata": {},
   "source": [
    "## 用語の理解を問う問題\n",
    "- 以下の問題について、正解となる選択肢を出力してください\n",
    "\n",
    "### 問題6 (3点)\n",
    "- matplotlibを使用して、散布図を作成する関数は何ですか？\n",
    "    1. plt.scatter()\n",
    "    2. plt.dot()\n",
    "    3. plt.point()\n",
    "    4. plt.spread()"
   ]
  },
  {
   "cell_type": "code",
   "execution_count": 4,
   "metadata": {},
   "outputs": [],
   "source": [
    "# 正解を出力してください\n",
    "print('')"
   ]
  },
  {
   "cell_type": "markdown",
   "metadata": {},
   "source": [
    "### 問題7 (3点)\n",
    "- matplotlibを使用して、グラフを描画する際に x 軸にラベルを追加するための関数は何ですか？\n",
    "    1. plt.xlabel()\n",
    "    2. plt.xname()\n",
    "    3. plt.xtitle()\n",
    "    4. plt.xaxis()"
   ]
  },
  {
   "cell_type": "code",
   "execution_count": 5,
   "metadata": {},
   "outputs": [],
   "source": [
    "# 正解を出力してください\n",
    "print('')"
   ]
  },
  {
   "cell_type": "markdown",
   "metadata": {},
   "source": [
    "### 問題8 (3点)\n",
    "- 以下のグラフの種類を選べ\n",
    "    1. 円グラフ\n",
    "    2. 棒グラフ\n",
    "    3. 散布図\n",
    "    4. 折れ線グラフ\n",
    "\n",
    "![グラフ](data/image01.png)"
   ]
  },
  {
   "cell_type": "code",
   "execution_count": 6,
   "metadata": {},
   "outputs": [],
   "source": [
    "# 正解を出力してください\n",
    "print('')"
   ]
  },
  {
   "cell_type": "markdown",
   "metadata": {},
   "source": [
    "## 簡単なプログラムを書く問題"
   ]
  },
  {
   "cell_type": "markdown",
   "metadata": {},
   "source": [
    "### 問題9 (10点)\n",
    "以下の要件を満たすPythonプログラムを作成してください。\n",
    "\n",
    "1. 以下のデータを使用して折れ線グラフを作成してください：  \n",
    "   x = [1, 2, 3, 4, 5]  \n",
    "   y = [2, 4, 6, 8, 10]  \n",
    "\n",
    "2. グラフには以下の要素を含めてください：  \n",
    "   - タイトル: \"Simple Line Graph\"\n",
    "   - x軸のラベル: \"X-axis\"\n",
    "   - y軸のラベル: \"Y-axis\"\n",
    "   - 青色の線\n",
    "   - 赤色の丸いマーカー\n",
    "\n",
    "3. グラフを表示してください。\n",
    "\n",
    "ヒント：\n",
    "- Matplotlibライブラリを使用してください。\n",
    "- グラフの色やマーカーは、plt.plot()関数のパラメータで指定できます。\n"
   ]
  },
  {
   "cell_type": "code",
   "execution_count": 18,
   "metadata": {
    "id": "M502lp_JsEem"
   },
   "outputs": [
    {
     "data": {
      "image/png": "[encoded data removed]",
      "text/plain": [
       "<Figure size 640x480 with 1 Axes>"
      ]
     },
     "metadata": {},
     "output_type": "display_data"
    }
   ],
   "source": [
    "# ライブラリのimport\n",
    "\n",
    "# データの準備\n",
    "\n",
    "# グラフの作成\n",
    "\n",
    "# タイトルと軸ラベルの設定\n",
    "\n",
    "# グラフの表示\n"
   ]
  },
  {
   "cell_type": "code",
   "execution_count": null,
   "metadata": {
    "id": "iImoZwTasEem"
   },
   "outputs": [],
   "source": []
  }
 ],
 "metadata": {
  "colab": {
   "provenance": [
    {
     "file_id": "https://github.com/YasuharuSuzuki/24_programing2/blob/main/04%E8%BE%9E%E6%9B%B8/01%E8%BE%9E%E6%9B%B8%E3%82%92%E4%BD%9C%E3%82%8B.ipynb",
     "timestamp": 1715146358060
    }
   ]
  },
  "kernelspec": {
   "display_name": "Python 3 (ipykernel)",
   "language": "python",
   "name": "python3"
  },
  "language_info": {
   "codemirror_mode": {
    "name": "ipython",
    "version": 3
   },
   "file_extension": ".py",
   "mimetype": "text/x-python",
   "name": "python",
   "nbconvert_exporter": "python",
   "pygments_lexer": "ipython3",
   "version": "3.11.9"
  }
 },
 "nbformat": 4,
 "nbformat_minor": 4
}
