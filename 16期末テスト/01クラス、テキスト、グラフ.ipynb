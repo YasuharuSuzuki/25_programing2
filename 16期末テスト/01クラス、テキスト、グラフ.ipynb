{
 "cells": [
  {
   "cell_type": "markdown",
   "metadata": {},
   "source": [
    "<a href=\"https://colab.research.google.com/github/YasuharuSuzuki/25_programing2/blob/main/\" target=\"_parent\"><img src=\"https://colab.research.google.com/assets/colab-badge.svg\" alt=\"Open In Colab\"/></a>"
   ]
  },
  {
   "cell_type": "markdown",
   "metadata": {
    "id": "KSSJqXOosEeX"
   },
   "source": [
    "# クラスの継承・プロパティの利用に関する問題"
   ]
  },
  {
   "cell_type": "markdown",
   "metadata": {
    "id": "VRQcesdKsEec"
   },
   "source": [
    "## 用語の理解を問う問題\n",
    "- 以下の問題について、正解となる選択肢を出力してください"
   ]
  },
  {
   "cell_type": "markdown",
   "metadata": {},
   "source": [
    "### 問題1 継承して作られたクラス (3点)\n",
    "- 継承を使って新しく作られたクラスを何と呼ぶか？\n",
    "    1. 親クラス\n",
    "    2. ベースクラス\n",
    "    3. メインクラス\n",
    "    4. 派生クラス"
   ]
  },
  {
   "cell_type": "code",
   "execution_count": 1,
   "metadata": {
    "colab": {
     "base_uri": "https://localhost:8080/"
    },
    "executionInfo": {
     "elapsed": 265,
     "status": "ok",
     "timestamp": 1715146988599,
     "user": {
      "displayName": "鈴木康元",
      "userId": "15385942521303414593"
     },
     "user_tz": -540
    },
    "id": "_oiNYIaxsEed",
    "outputId": "c127d002-8e8c-45b3-d98b-c5304b00f17d"
   },
   "outputs": [],
   "source": [
    "# 正解を出力してください\n"
   ]
  },
  {
   "cell_type": "markdown",
   "metadata": {
    "id": "bP053hXUsEee"
   },
   "source": [
    "### 問題2 クラス属性へのアクセス (3点)\n",
    "- Pythonで、クラスの属性へのアクセスを制御するための特殊なメソッドを何と呼ぶか？\n",
    "  1. アクセサ\n",
    "  2. プロパティ\n",
    "  3. デコレータ\n",
    "  4. イテレータ"
   ]
  },
  {
   "cell_type": "code",
   "execution_count": 2,
   "metadata": {
    "colab": {
     "base_uri": "https://localhost:8080/"
    },
    "executionInfo": {
     "elapsed": 255,
     "status": "ok",
     "timestamp": 1715147036615,
     "user": {
      "displayName": "鈴木康元",
      "userId": "15385942521303414593"
     },
     "user_tz": -540
    },
    "id": "8cg5YTLosEee",
    "outputId": "c6671804-b225-4341-ea70-8833bd5eb194"
   },
   "outputs": [],
   "source": [
    "# 正解を出力してください\n"
   ]
  },
  {
   "cell_type": "markdown",
   "metadata": {
    "id": "sqzgb-X2sEef"
   },
   "source": [
    "## 簡単なプログラムを書く問題"
   ]
  },
  {
   "cell_type": "markdown",
   "metadata": {},
   "source": [
    "### 問題3 (10点)\n",
    "書きかけのプログラムがあります。  \n",
    "期待される出力結果は以下のとおりです  \n",
    "\n",
    "```\n",
    "Rex says Bark\n",
    "Whiskers says Meow\n",
    "```\n",
    "\n",
    "出力結果が一致するように、以下のクラスを作成してください。\n",
    "\n",
    "- `Animal` クラスを継承し、**派生クラス** `Cat` を作成します。\n",
    "-  `Cat` クラスでは `make_sound(self)` メソッドをオーバーライドして \"Meow\" を返します。\n"
   ]
  },
  {
   "cell_type": "code",
   "execution_count": 5,
   "metadata": {
    "colab": {
     "base_uri": "https://localhost:8080/"
    },
    "executionInfo": {
     "elapsed": 440,
     "status": "ok",
     "timestamp": 1715147253788,
     "user": {
      "displayName": "鈴木康元",
      "userId": "15385942521303414593"
     },
     "user_tz": -540
    },
    "id": "l8NxqEh3sEef",
    "outputId": "82144241-b18d-429f-a4c6-e2ba9b680e47"
   },
   "outputs": [
    {
     "name": "stdout",
     "output_type": "stream",
     "text": [
      "Rex says Bark\n",
      "Whiskers says Meow\n"
     ]
    }
   ],
   "source": [
    "# 基底クラス\n",
    "class Animal:\n",
    "    def __init__(self, name):\n",
    "        self.name = name\n",
    "    \n",
    "    def make_sound(self):\n",
    "        return \"Some sound\"\n",
    "\n",
    "# 派生クラス Dog\n",
    "class Dog(Animal):\n",
    "    def make_sound(self):\n",
    "        return \"Bark\"\n",
    "\n",
    "# 派生クラス Cat\n",
    "# ここにプログラムを追加して、Catクラスを完成させてください\n",
    "\n",
    "# インスタンスの作成と使用\n",
    "dog = Dog(name=\"Rex\")\n",
    "cat = Cat(name=\"Whiskers\")\n",
    "\n",
    "print(f\"{dog.name} says {dog.make_sound()}\")\n",
    "print(f\"{cat.name} says {cat.make_sound()}\")"
   ]
  },
  {
   "cell_type": "markdown",
   "metadata": {},
   "source": [
    "---\n",
    "---\n",
    "---\n",
    "---\n",
    "---"
   ]
  },
  {
   "cell_type": "markdown",
   "metadata": {},
   "source": [
    "# テキストファイルの読み込み、書き出しに関する問題"
   ]
  },
  {
   "cell_type": "markdown",
   "metadata": {},
   "source": [
    "## 用語の理解を問う問題\n",
    "- 以下の問題について、正解となる選択肢を出力してください\n",
    "\n",
    "\n",
    "### 問題4 with構文 (3点)\n",
    "- Python のファイルの読み取りは、`file = open('file.txt', 'r')` のように開始することができますが `with open('file.txt', 'r') as file:` のように書くことも出来ます。この構文のメリットは何ですか？\n",
    "    1. ファイルの内容を文字列として返す  \n",
    "    2. ファイルを自動的に閉じる  \n",
    "    3. ファイルを開くが、閉じない  \n",
    "    4. 両方ともファイルの読み取りを開始するが、特に違いはない  "
   ]
  },
  {
   "cell_type": "code",
   "execution_count": 3,
   "metadata": {},
   "outputs": [],
   "source": [
    "# 正解を出力してください\n"
   ]
  },
  {
   "cell_type": "markdown",
   "metadata": {},
   "source": [
    "## 簡単なプログラムを書く問題"
   ]
  },
  {
   "cell_type": "markdown",
   "metadata": {},
   "source": [
    "### 問題5 (10点)\n",
    "`data/melos_was_angry.txt` に以下の文章が記載されています。\n",
    "\n",
    "```\n",
    "メロスは激怒した。\n",
    "```\n",
    "\n",
    "`data/melos_was_angry.txt` ファイルを追記専用で開き、以下の文章を追記するプログラムを書いてください\n",
    "\n",
    "```\n",
    "必ず、かの邪智暴虐の王を除かなければならぬと決意した。\n",
    "メロスには政治がわからぬ。\n",
    "メロスは、村の牧人である。\n",
    "笛を吹き、羊と遊んで暮して来た。\n",
    "けれども邪悪に対しては、人一倍に敏感であった。\n",
    "```"
   ]
  },
  {
   "cell_type": "code",
   "execution_count": null,
   "metadata": {},
   "outputs": [],
   "source": [
    "# drive.mount()を使用してGoogleDriveをMount\n"
   ]
  },
  {
   "cell_type": "code",
   "execution_count": null,
   "metadata": {},
   "outputs": [],
   "source": [
    "# os.chdir()を使用してカレントディレクトリを変更。作成したショーットカット名を使ってパスを指定します。\n"
   ]
  },
  {
   "cell_type": "code",
   "execution_count": 8,
   "metadata": {},
   "outputs": [],
   "source": [
    "# ./data/以下の追記ファイルパスを指定\n",
    "\n",
    "# ファイルへ文字列を追記します\n"
   ]
  },
  {
   "cell_type": "markdown",
   "metadata": {},
   "source": [
    "---\n",
    "---\n",
    "---\n",
    "---\n",
    "---"
   ]
  },
  {
   "cell_type": "markdown",
   "metadata": {},
   "source": [
    "# グラフに関する問題"
   ]
  },
  {
   "cell_type": "markdown",
   "metadata": {},
   "source": [
    "## 用語の理解を問う問題\n",
    "- 以下の問題について、正解となる選択肢を出力してください\n",
    "\n",
    "### 問題6 legend (3点)\n",
    "- `plt.legend()` メソッドを使用する目的は何ですか？\n",
    "    1. グラフの軸の範囲を設定する  \n",
    "    2. グラフにタイトルを追加する\n",
    "    3. グラフに凡例を追加する\n",
    "    4. データのプロットスタイルを変更する"
   ]
  },
  {
   "cell_type": "code",
   "execution_count": 4,
   "metadata": {},
   "outputs": [],
   "source": [
    "# 正解を出力してください\n"
   ]
  },
  {
   "cell_type": "markdown",
   "metadata": {},
   "source": [
    "### 問題7 show (3点)\n",
    "- `plt.show()` メソッドの役割は何ですか？\n",
    "    1. グラフをファイルに保存する  \n",
    "    2. グラフのデータを更新する  \n",
    "    3. グラフを画面に表示する  \n",
    "    4. グラフのデザインを変更する"
   ]
  },
  {
   "cell_type": "code",
   "execution_count": 5,
   "metadata": {},
   "outputs": [],
   "source": [
    "# 正解を出力してください\n"
   ]
  },
  {
   "cell_type": "markdown",
   "metadata": {},
   "source": [
    "### 問題8 (3点)\n",
    "- 以下のグラフの種類を選べ\n",
    "    1. 相関係数\n",
    "    2. 箱ひげ図\n",
    "    3. ヒストグラム\n",
    "    4. 多変量連関図\n",
    "\n",
    "![グラフ](data/image17_01.png)"
   ]
  },
  {
   "cell_type": "code",
   "execution_count": 6,
   "metadata": {},
   "outputs": [],
   "source": [
    "# 正解を出力してください\n"
   ]
  },
  {
   "cell_type": "markdown",
   "metadata": {},
   "source": [
    "## 簡単なプログラムを書く問題"
   ]
  },
  {
   "cell_type": "markdown",
   "metadata": {},
   "source": [
    "### 問題9 折れ線グラフの描画（平方根） (10点)\n",
    "以下の要件を満たすPythonプログラムを作成してください。\n",
    "\n",
    "1. 以下のデータを使用して折れ線グラフを作成してください：  \n",
    "   - x軸のデータとして、1から30までの整数を使用する。\n",
    "   - y軸のデータとして、x軸の各値の平方根を使用する。平方根は `math` ライブラリの `sqrt()` 関数を使用して計算できます。\n",
    "\n",
    "\n",
    "2. グラフには以下の要素を含めてください：  \n",
    "   - グラフのタイトルを「x vs √x」とする。\n",
    "   - x軸のラベルを「X」、y軸のラベルを「√x」とする。\n",
    "   - マーカーを丸で表示する。\n",
    "   - XY両方向にグリッドを表示する。\n",
    "\n",
    "\n",
    "3. グラフを表示してください。\n",
    "\n",
    "ヒント：\n",
    "- Matplotlibライブラリを使用しましょう。"
   ]
  },
  {
   "cell_type": "code",
   "execution_count": 15,
   "metadata": {
    "id": "M502lp_JsEem"
   },
   "outputs": [
    {
     "data": {
      "image/png": "[encoded data removed]",
      "text/plain": [
       "<Figure size 1000x600 with 1 Axes>"
      ]
     },
     "metadata": {},
     "output_type": "display_data"
    }
   ],
   "source": [
    "# ライブラリのimport\n",
    "\n",
    "# データの準備\n",
    "\n",
    "# 折れ線グラフの描画\n",
    "\n",
    "# 軸ラベルとタイトルの設定\n",
    "\n",
    "# グリッドの表示\n",
    "\n",
    "# グラフの表示\n"
   ]
  },
  {
   "cell_type": "code",
   "execution_count": null,
   "metadata": {
    "id": "iImoZwTasEem"
   },
   "outputs": [],
   "source": []
  }
 ],
 "metadata": {
  "colab": {
   "provenance": [
    {
     "file_id": "https://github.com/YasuharuSuzuki/24_programing2/blob/main/04%E8%BE%9E%E6%9B%B8/01%E8%BE%9E%E6%9B%B8%E3%82%92%E4%BD%9C%E3%82%8B.ipynb",
     "timestamp": 1715146358060
    }
   ]
  },
  "kernelspec": {
   "display_name": "Python 3 (ipykernel)",
   "language": "python",
   "name": "python3"
  },
  "language_info": {
   "codemirror_mode": {
    "name": "ipython",
    "version": 3
   },
   "file_extension": ".py",
   "mimetype": "text/x-python",
   "name": "python",
   "nbconvert_exporter": "python",
   "pygments_lexer": "ipython3",
   "version": "3.11.9"
  }
 },
 "nbformat": 4,
 "nbformat_minor": 4
}
