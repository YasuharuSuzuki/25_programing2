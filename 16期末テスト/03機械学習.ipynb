{
 "cells": [
  {
   "cell_type": "markdown",
   "metadata": {},
   "source": [
    "<a href=\"https://colab.research.google.com/github/YasuharuSuzuki/25_programing2/blob/main/\" target=\"_parent\"><img src=\"https://colab.research.google.com/assets/colab-badge.svg\" alt=\"Open In Colab\"/></a>"
   ]
  },
  {
   "cell_type": "markdown",
   "metadata": {
    "id": "KSSJqXOosEeX"
   },
   "source": [
    "# 機械学習に関する問題"
   ]
  },
  {
   "cell_type": "markdown",
   "metadata": {
    "id": "VRQcesdKsEec"
   },
   "source": [
    "## 用語の理解を問う問題\n",
    "- 以下の問題について、正解となる選択肢を出力してください"
   ]
  },
  {
   "cell_type": "markdown",
   "metadata": {},
   "source": [
    "### 問題16 過学習 (3点)\n",
    "過学習（Overfitting）の説明として最も適切なものを選択してください\n",
    "   1. モデルが訓練データに対して過度に単純である状態\n",
    "   2. モデルが訓練データを完全に学習しすぎて、テストデータに対して性能が低下する状態\n",
    "   3. モデルが訓練データに対して十分に学習できない状態\n",
    "   4. モデルがテストデータに対して過度に複雑である状態"
   ]
  },
  {
   "cell_type": "code",
   "execution_count": 1,
   "metadata": {
    "colab": {
     "base_uri": "https://localhost:8080/"
    },
    "executionInfo": {
     "elapsed": 265,
     "status": "ok",
     "timestamp": 1715146988599,
     "user": {
      "displayName": "鈴木康元",
      "userId": "15385942521303414593"
     },
     "user_tz": -540
    },
    "id": "_oiNYIaxsEed",
    "outputId": "c127d002-8e8c-45b3-d98b-c5304b00f17d"
   },
   "outputs": [],
   "source": [
    "# 正解を出力してください\n"
   ]
  },
  {
   "cell_type": "markdown",
   "metadata": {
    "id": "bP053hXUsEee"
   },
   "source": [
    "### 問題17 テストデータ (3点)\n",
    "テストデータ（Test Data）の説明として最も適切なものを選択してください\n",
    "   1. モデルの訓練を行うためのデータ\n",
    "   2. モデルのパラメータを最適化するためのデータ\n",
    "   3. 訓練済みモデルの性能を評価するためのデータ\n",
    "   4. データの前処理を行うためのデータ"
   ]
  },
  {
   "cell_type": "code",
   "execution_count": 2,
   "metadata": {
    "colab": {
     "base_uri": "https://localhost:8080/"
    },
    "executionInfo": {
     "elapsed": 255,
     "status": "ok",
     "timestamp": 1715147036615,
     "user": {
      "displayName": "鈴木康元",
      "userId": "15385942521303414593"
     },
     "user_tz": -540
    },
    "id": "8cg5YTLosEee",
    "outputId": "c6671804-b225-4341-ea70-8833bd5eb194"
   },
   "outputs": [],
   "source": [
    "# 正解を出力してください\n"
   ]
  },
  {
   "cell_type": "markdown",
   "metadata": {},
   "source": [
    "### 問題18 目的変数 (3点)\n",
    "目的変数（Target Variable）の説明として最も適切なものを選択してください\n",
    "   1. モデルを学習する際に入力データとなる、ある現象や値の原因となる変数のこと\n",
    "   2. モデルを学習させることで予測したい変数のこと\n",
    "   3. アンケート調査データの場合の無回答項目やカルテデータの場合の未検査項目のように，あるケースのある項目の値が欠落している変数のこと\n",
    "   4. モデルの性能を評価する指標のこと"
   ]
  },
  {
   "cell_type": "code",
   "execution_count": 3,
   "metadata": {},
   "outputs": [],
   "source": [
    "# 正解を出力してください\n"
   ]
  },
  {
   "cell_type": "markdown",
   "metadata": {
    "id": "sqzgb-X2sEef"
   },
   "source": [
    "## プログラムを書く問題\n",
    "- Auto-MPG-prediction のデータセットを使って、モデルの作成、評価を行ってください。\n",
    "\n",
    "### Auto-MPG-prediction データセット\n",
    "- 自動車のシリンダー数、馬力、重量等から、燃費を推測するデータセットです。\n",
    "- `data/auto_mpg_customized.csv` のデータを読み込んで処理して行きましょう。\n",
    "- 各列の名称と内容は以下の通りです。([Githubの情報](https://github.com/Munees11/Auto-MPG-prediction?tab=readme-ov-file#features-on-data-set)から抜粋)\n",
    "\n",
    "| Variable | Definition |\n",
    "| --- | --- |\n",
    "| mpg | Taget Variable. contains the fuel consumption value(in Miles per Gallon) for car. |\n",
    "| cylinders | contains the number of cylinders present in the car |\n",
    "| displacement | contains the Displacement of the car |\n",
    "| horsepower | contains the Horsepower of the car |\n",
    "| weight | contains the weight of the car |\n",
    "| acceleration | contains the Acceleration of the car |\n",
    "| model_year | contains the model year of the car |\n",
    "| origin | contains the origin country which car belong to |\n",
    "| car_name | contains the name of the car(Brand-Model-Variant) |"
   ]
  },
  {
   "cell_type": "markdown",
   "metadata": {},
   "source": [
    "### 問題19 モデルの作成 (9点)\n",
    "- データセットを読み込み、欠損値の処理やカテゴリカル変数の対策を行って、モデルを作成してみましょう\n",
    "  - データセットの読み込み（02pandas.ipynbと同じプログラムで大丈夫です）\n",
    "  - 欠損値の対策（02pandas.ipynbと同じプログラムで大丈夫です）\n",
    "  - カテゴリカル変数の対策\n",
    "  - 説明変数と目的変数に分ける\n",
    "  - モデルを学習する（学習に使用するモデルは何でも良いです。例：LinearRegression、SVR、RandomForestRegressor など）"
   ]
  },
  {
   "cell_type": "code",
   "execution_count": 23,
   "metadata": {},
   "outputs": [],
   "source": [
    "# ライブラリのimport\n"
   ]
  },
  {
   "cell_type": "code",
   "execution_count": null,
   "metadata": {
    "colab": {
     "base_uri": "https://localhost:8080/"
    },
    "executionInfo": {
     "elapsed": 440,
     "status": "ok",
     "timestamp": 1715147253788,
     "user": {
      "displayName": "鈴木康元",
      "userId": "15385942521303414593"
     },
     "user_tz": -540
    },
    "id": "l8NxqEh3sEef",
    "outputId": "82144241-b18d-429f-a4c6-e2ba9b680e47"
   },
   "outputs": [],
   "source": [
    "# drive.mount()を使用してGoogleDriveをMount\n"
   ]
  },
  {
   "cell_type": "code",
   "execution_count": null,
   "metadata": {},
   "outputs": [],
   "source": [
    "# os.chdir()を使用してカレントディレクトリを変更。作成したショーットカット名を使ってパスを指定します。\n"
   ]
  },
  {
   "cell_type": "code",
   "execution_count": 5,
   "metadata": {},
   "outputs": [],
   "source": [
    "# データファイルパス定義\n"
   ]
  },
  {
   "cell_type": "code",
   "execution_count": 4,
   "metadata": {},
   "outputs": [],
   "source": [
    "# read_csvを使ってcsvを読み込みます\n"
   ]
  },
  {
   "cell_type": "code",
   "execution_count": 5,
   "metadata": {},
   "outputs": [],
   "source": [
    "# 欠損値対策\n"
   ]
  },
  {
   "cell_type": "code",
   "execution_count": 6,
   "metadata": {},
   "outputs": [],
   "source": [
    "# 欠損値が無くなったことを確認しましょう\n"
   ]
  },
  {
   "cell_type": "code",
   "execution_count": 7,
   "metadata": {},
   "outputs": [],
   "source": [
    "# カテゴリカル変数の対策\n"
   ]
  },
  {
   "cell_type": "code",
   "execution_count": 8,
   "metadata": {},
   "outputs": [],
   "source": [
    "# 説明変数と目的変数に分ける\n"
   ]
  },
  {
   "cell_type": "code",
   "execution_count": 9,
   "metadata": {},
   "outputs": [],
   "source": [
    "# 訓練データとテストデータに分割する\n"
   ]
  },
  {
   "cell_type": "code",
   "execution_count": 10,
   "metadata": {},
   "outputs": [],
   "source": [
    "# 学習する\n"
   ]
  },
  {
   "cell_type": "markdown",
   "metadata": {},
   "source": [
    "### 問題20 モデルの評価 (12点)\n",
    "- 以下のいずれかの評価を少なくとも２つ行って、それぞれに最低１つの簡単な考察をつけてみましょう\n",
    "  - エラーレートと決定係数を出力する\n",
    "  - 残差の可視化によるモデル評価\n",
    "  - FeatureImportanceを表示する(決定木系のモデルでしか使用できません)\n",
    "  - モデルを２つ以上作り、評価を１つずつ行って頂いても認定します"
   ]
  },
  {
   "cell_type": "code",
   "execution_count": 11,
   "metadata": {},
   "outputs": [],
   "source": [
    "# モデルの評価１\n"
   ]
  },
  {
   "cell_type": "markdown",
   "metadata": {},
   "source": [
    "- （考察を付けましょう）"
   ]
  },
  {
   "cell_type": "code",
   "execution_count": 30,
   "metadata": {},
   "outputs": [],
   "source": [
    "# モデルの評価２\n"
   ]
  },
  {
   "cell_type": "markdown",
   "metadata": {},
   "source": [
    "- （考察を付けましょう）"
   ]
  },
  {
   "cell_type": "markdown",
   "metadata": {},
   "source": [
    "---\n",
    "---\n",
    "---\n",
    "---\n",
    "---"
   ]
  },
  {
   "cell_type": "code",
   "execution_count": null,
   "metadata": {
    "id": "iImoZwTasEem"
   },
   "outputs": [],
   "source": []
  }
 ],
 "metadata": {
  "colab": {
   "provenance": [
    {
     "file_id": "https://github.com/YasuharuSuzuki/24_programing2/blob/main/04%E8%BE%9E%E6%9B%B8/01%E8%BE%9E%E6%9B%B8%E3%82%92%E4%BD%9C%E3%82%8B.ipynb",
     "timestamp": 1715146358060
    }
   ]
  },
  "kernelspec": {
   "display_name": "Python 3 (ipykernel)",
   "language": "python",
   "name": "python3"
  },
  "language_info": {
   "codemirror_mode": {
    "name": "ipython",
    "version": 3
   },
   "file_extension": ".py",
   "mimetype": "text/x-python",
   "name": "python",
   "nbconvert_exporter": "python",
   "pygments_lexer": "ipython3",
   "version": "3.11.9"
  }
 },
 "nbformat": 4,
 "nbformat_minor": 4
}
