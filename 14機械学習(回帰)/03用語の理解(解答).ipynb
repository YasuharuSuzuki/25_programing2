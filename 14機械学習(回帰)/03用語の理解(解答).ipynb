{
 "cells": [
  {
   "cell_type": "markdown",
   "metadata": {},
   "source": [
    "<a href=\"https://colab.research.google.com/github/YasuharuSuzuki/25_programing2/blob/main/\" target=\"_parent\"><img src=\"https://colab.research.google.com/assets/colab-badge.svg\" alt=\"Open In Colab\"/></a>"
   ]
  },
  {
   "cell_type": "markdown",
   "metadata": {
    "id": "KSSJqXOosEeX"
   },
   "source": [
    "# 03_用語の理解"
   ]
  },
  {
   "cell_type": "markdown",
   "metadata": {
    "id": "VRQcesdKsEec"
   },
   "source": [
    "## 用語の理解を問う問題\n",
    "- 以下の問題について、正解となる選択肢を出力してください"
   ]
  },
  {
   "cell_type": "markdown",
   "metadata": {
    "id": "bP053hXUsEee"
   },
   "source": [
    "---\n",
    "---\n",
    "---\n",
    "## 問14 回帰問題 (0.3点)\n",
    "- 次のうち、回帰問題の例として最も適切なものを選べ\n",
    "\n",
    "1. Eメールがスパムかどうかを判定する\n",
    "2. 顧客の年齢を予測する\n",
    "3. 画像が犬か猫かを識別する\n",
    "4. 文章の感情（ポジティブ/ネガティブ）を分析する\n"
   ]
  },
  {
   "cell_type": "code",
   "execution_count": 2,
   "metadata": {
    "colab": {
     "base_uri": "https://localhost:8080/"
    },
    "executionInfo": {
     "elapsed": 255,
     "status": "ok",
     "timestamp": 1715147036615,
     "user": {
      "displayName": "鈴木康元",
      "userId": "15385942521303414593"
     },
     "user_tz": -540
    },
    "id": "8cg5YTLosEee",
    "outputId": "c6671804-b225-4341-ea70-8833bd5eb194"
   },
   "outputs": [
    {
     "name": "stdout",
     "output_type": "stream",
     "text": [
      "2\n"
     ]
    }
   ],
   "source": [
    "# 正解を出力してください\n",
    "print('2')"
   ]
  },
  {
   "cell_type": "markdown",
   "metadata": {},
   "source": [
    "### 解説\n",
    "\n",
    "1. これは「分類問題」の説明です。\n",
    "2. 正しい選択肢です。\n",
    "3. これは「分類問題」の説明です。\n",
    "4. これは「分類問題」の説明です。"
   ]
  },
  {
   "cell_type": "markdown",
   "metadata": {},
   "source": [
    "---\n",
    "---\n",
    "---\n",
    "## 問15 過学習 (0.3点)\n",
    "\n",
    "- 過学習（Overfitting）の説明として最も適切なものを次から選べ\n",
    "\n",
    "1. モデルが訓練データに対して過度に単純である状態\n",
    "2. モデルが訓練データを完全に学習しすぎて、テストデータに対して性能が低下する状態\n",
    "3. モデルが訓練データに対して十分に学習できない状態\n",
    "4. モデルがテストデータに対して過度に複雑である状態"
   ]
  },
  {
   "cell_type": "code",
   "execution_count": 3,
   "metadata": {
    "colab": {
     "base_uri": "https://localhost:8080/"
    },
    "executionInfo": {
     "elapsed": 278,
     "status": "ok",
     "timestamp": 1715147048787,
     "user": {
      "displayName": "鈴木康元",
      "userId": "15385942521303414593"
     },
     "user_tz": -540
    },
    "id": "y2CxWqMusEef",
    "outputId": "8129fcea-362e-4f33-d57b-529f8313a51f"
   },
   "outputs": [
    {
     "name": "stdout",
     "output_type": "stream",
     "text": [
      "2\n"
     ]
    }
   ],
   "source": [
    "# 正解を出力してください\n",
    "print('2')"
   ]
  },
  {
   "cell_type": "markdown",
   "metadata": {},
   "source": [
    "### 解説\n",
    "\n",
    "1. 過小適合（Underfitting）の説明です。\n",
    "2. 正しい選択肢です。\n",
    "3. 過小適合（Underfitting）の説明です。\n",
    "4. テストデータに対して性能が低下するかどうかについて言及していないため、過学習とはいえません。"
   ]
  },
  {
   "cell_type": "markdown",
   "metadata": {},
   "source": [
    "---\n",
    "---\n",
    "---\n",
    "## 問16 目的変数 (0.3点)\n",
    "\n",
    "- 次のうち目的変数（Target Variable）の説明として最も適切なものを次から選べ"
   ]
  },
  {
   "cell_type": "markdown",
   "metadata": {},
   "source": [
    "1. モデルを学習する際に入力データとなる、ある現象や値の原因となる変数のこと\n",
    "2. モデルを学習させることで予測したい変数のこと\n",
    "3. アンケート調査データの場合の無回答項目やカルテデータの場合の未検査項目のように，あるケースのある項目の値が欠落している変数のこと\n",
    "4. モデルの性能を評価する指標のこと"
   ]
  },
  {
   "cell_type": "code",
   "execution_count": 4,
   "metadata": {},
   "outputs": [
    {
     "name": "stdout",
     "output_type": "stream",
     "text": [
      "2\n"
     ]
    }
   ],
   "source": [
    "# 正解を出力してください\n",
    "print('2')"
   ]
  },
  {
   "cell_type": "markdown",
   "metadata": {},
   "source": [
    "### 解説\n",
    "1. この説明は「説明変数（X）」に該当します。\n",
    "2. 正しい選択肢です。説明変数（X）とは、モデルに与える入力のことです。\n",
    "3. この説明は「欠損値」に該当します。\n",
    "4. この説明は「評価指標」に該当します。"
   ]
  },
  {
   "cell_type": "markdown",
   "metadata": {},
   "source": [
    "---\n",
    "---\n",
    "---\n",
    "## 問17 ルールベース (0.3点)\n",
    "\n",
    "- ルールベースから機械学習へと移行が進んだ理由として適切でないものを次の中から1つ選べ。\n",
    "\n",
    "1. 複雑な状況に対応するには、ルールの数が膨大になり、人手による管理が困難だったため\n",
    "2. 現実の問題では曖昧さや例外が多く、機械学習の方が柔軟に対応できるため\n",
    "3. ルールベースは専門家の知識を忠実に再現でき、さらに構築後に新たな知識を自動で取り込むなど、継続的な改善が容易だったため\n",
    "4. ビッグデータの活用と計算資源の向上により、機械学習の予測精度が実用レベルに達したため\n"
   ]
  },
  {
   "cell_type": "code",
   "execution_count": 5,
   "metadata": {},
   "outputs": [
    {
     "name": "stdout",
     "output_type": "stream",
     "text": [
      "3\n"
     ]
    }
   ],
   "source": [
    "# 正解を出力してください\n",
    "print('3')"
   ]
  },
  {
   "cell_type": "markdown",
   "metadata": {},
   "source": [
    "### 解説\n",
    "1. 移行が進んだ理由として適切なため、不正解です。（適切でないものを選ぶ問題のため）\n",
    "2. 移行が進んだ理由として適切なため、不正解です。\n",
    "3. 正解です。ルールベースは知識を自動で取り込みません。また、継続的な改善は徐々に難しくなります。\n",
    "4. 移行が進んだ理由として適切なため、不正解です。"
   ]
  },
  {
   "cell_type": "markdown",
   "metadata": {},
   "source": [
    "---\n",
    "---\n",
    "---\n",
    "## 問18 性能を評価するために使用するデータ (0.3点)\n",
    "\n",
    "- 学習済みモデルの性能を評価する際に使用するのはどのデータか？\n",
    "\n",
    "1. テストデータ\n",
    "2. 訓練データ\n",
    "3. 説明変数\n",
    "4. 水増しデータ\n"
   ]
  },
  {
   "cell_type": "code",
   "execution_count": 6,
   "metadata": {},
   "outputs": [
    {
     "name": "stdout",
     "output_type": "stream",
     "text": [
      "1\n"
     ]
    }
   ],
   "source": [
    "# 正解を出力してください\n",
    "print('1')"
   ]
  },
  {
   "cell_type": "markdown",
   "metadata": {},
   "source": [
    "### 解説\n",
    "1. 正しい選択肢です。\n",
    "2. モデル学習に使用するデータです。\n",
    "3. モデル学習に使用するデータです。\n",
    "4. モデル学習に使用するデータです。"
   ]
  },
  {
   "cell_type": "markdown",
   "metadata": {},
   "source": [
    "---\n",
    "---\n",
    "---\n",
    "---\n",
    "---"
   ]
  },
  {
   "cell_type": "code",
   "execution_count": null,
   "metadata": {},
   "outputs": [],
   "source": []
  }
 ],
 "metadata": {
  "colab": {
   "provenance": [
    {
     "file_id": "https://github.com/YasuharuSuzuki/24_programing2/blob/main/04%E8%BE%9E%E6%9B%B8/01%E8%BE%9E%E6%9B%B8%E3%82%92%E4%BD%9C%E3%82%8B.ipynb",
     "timestamp": 1715146358060
    }
   ]
  },
  "kernelspec": {
   "display_name": "Python 3 (ipykernel)",
   "language": "python",
   "name": "python3"
  },
  "language_info": {
   "codemirror_mode": {
    "name": "ipython",
    "version": 3
   },
   "file_extension": ".py",
   "mimetype": "text/x-python",
   "name": "python",
   "nbconvert_exporter": "python",
   "pygments_lexer": "ipython3",
   "version": "3.11.9"
  }
 },
 "nbformat": 4,
 "nbformat_minor": 4
}
