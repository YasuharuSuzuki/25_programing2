{
 "cells": [
  {
   "cell_type": "markdown",
   "metadata": {},
   "source": [
    "<a href=\"https://colab.research.google.com/github/YasuharuSuzuki/25_programing2/blob/main/\" target=\"_parent\"><img src=\"https://colab.research.google.com/assets/colab-badge.svg\" alt=\"Open In Colab\"/></a>"
   ]
  },
  {
   "cell_type": "markdown",
   "metadata": {
    "id": "KSSJqXOosEeX"
   },
   "source": [
    "# 02_用語の理解"
   ]
  },
  {
   "cell_type": "markdown",
   "metadata": {
    "id": "VRQcesdKsEec"
   },
   "source": [
    "## 用語の理解を問う問題\n",
    "- 以下の問題について、正解となる選択肢を出力してください"
   ]
  },
  {
   "cell_type": "markdown",
   "metadata": {
    "id": "bP053hXUsEee"
   },
   "source": [
    "---\n",
    "---\n",
    "---\n",
    "### 問6 Pandasの主要なデータ構造 (0.3点)\n",
    "- Pandasの主要なデータ構造で、1次元のラベル付き配列を表すものを次から選べ\n",
    "\n",
    "1. DataFrame\n",
    "2. Series\n",
    "3. Array\n",
    "4. List\n"
   ]
  },
  {
   "cell_type": "code",
   "execution_count": 1,
   "metadata": {
    "colab": {
     "base_uri": "https://localhost:8080/"
    },
    "executionInfo": {
     "elapsed": 255,
     "status": "ok",
     "timestamp": 1715147036615,
     "user": {
      "displayName": "鈴木康元",
      "userId": "15385942521303414593"
     },
     "user_tz": -540
    },
    "id": "8cg5YTLosEee",
    "outputId": "c6671804-b225-4341-ea70-8833bd5eb194"
   },
   "outputs": [
    {
     "name": "stdout",
     "output_type": "stream",
     "text": [
      "2\n"
     ]
    }
   ],
   "source": [
    "# 正解を出力してください\n",
    "print('2')"
   ]
  },
  {
   "cell_type": "markdown",
   "metadata": {},
   "source": [
    "---\n",
    "\n",
    "### 解説\n",
    "- Seriesは、Pandasの1次元のラベル付き配列を表すデータ構造です。\n",
    "- インデックス付きの単一の列のデータを扱うのに適しています。\n",
    "\n",
    "---"
   ]
  },
  {
   "cell_type": "markdown",
   "metadata": {},
   "source": [
    "---\n",
    "---\n",
    "---\n",
    "### 問7 条件による行の抽出 (0.3点)\n",
    "\n",
    "DataFrameから「age」列が30以上の行を抽出する記法を次から選べ\n",
    "\n",
    "1. df[df['age'] >= 30]\n",
    "2. df[df.age >= 30]\n",
    "3. df.loc[df['age'] >= 30]\n",
    "4. 上記すべて正しい\n"
   ]
  },
  {
   "cell_type": "code",
   "execution_count": 1,
   "metadata": {
    "colab": {
     "base_uri": "https://localhost:8080/"
    },
    "executionInfo": {
     "elapsed": 278,
     "status": "ok",
     "timestamp": 1715147048787,
     "user": {
      "displayName": "鈴木康元",
      "userId": "15385942521303414593"
     },
     "user_tz": -540
    },
    "id": "y2CxWqMusEef",
    "outputId": "8129fcea-362e-4f33-d57b-529f8313a51f"
   },
   "outputs": [
    {
     "name": "stdout",
     "output_type": "stream",
     "text": [
      "4\n"
     ]
    }
   ],
   "source": [
    "# 正解を出力してください\n",
    "print('4')"
   ]
  },
  {
   "cell_type": "markdown",
   "metadata": {},
   "source": [
    "---\n",
    "\n",
    "### 解説\n",
    "- ブール値インデックスによる抽出（正しい）\n",
    "- ドット記法を使った条件抽出（正しい）\n",
    "- locを使った条件抽出（正しい）\n",
    "- 正解\n",
    "\n",
    "---"
   ]
  },
  {
   "cell_type": "markdown",
   "metadata": {},
   "source": [
    "---\n",
    "---\n",
    "---\n",
    "### 問8 iloc と loc の違い (0.3点)\n",
    "\n",
    "- 以下の説明で正しいものを1つ選べ\n"
   ]
  },
  {
   "cell_type": "markdown",
   "metadata": {},
   "source": [
    "1. ilocは列名で指定、locは位置番号で指定する\n",
    "2. locは列名で指定、ilocは位置番号で指定する\n",
    "3. ilocとlocは同じ機能を持つ\n",
    "4. ilocは行のみ、locは列のみを指定できる"
   ]
  },
  {
   "cell_type": "code",
   "execution_count": 3,
   "metadata": {},
   "outputs": [
    {
     "name": "stdout",
     "output_type": "stream",
     "text": [
      "2\n"
     ]
    }
   ],
   "source": [
    "# 正解を出力してください\n",
    "print('2')"
   ]
  },
  {
   "cell_type": "markdown",
   "metadata": {},
   "source": [
    "---\n",
    "\n",
    "### 解説\n",
    "- ilocは列名で指定、locは位置番号で指定する - 逆の説明\n",
    "- locは列名で指定、ilocは位置番号で指定する - 正しい説明\n",
    "- ilocとlocは同じ機能を持つ - 異なる指定方法を持つ\n",
    "- ilocは行のみ、locは列のみを指定できる - 両方とも行と列を指定可能\n",
    "\n",
    "---"
   ]
  },
  {
   "cell_type": "markdown",
   "metadata": {},
   "source": [
    "---\n",
    "---\n",
    "---\n",
    "### 問9 DataFrameの基本情報表示 (0.3点)\n",
    "\n",
    "- DataFrameの各列のデータ型、非欠損値の個数、メモリ使用量などの基本情報を表示するメソッドを次から選べ\n",
    "\n",
    "1. df.summary()\n",
    "2. df.info()\n",
    "3. df.details()\n",
    "4. df.overview()\n"
   ]
  },
  {
   "cell_type": "code",
   "execution_count": 4,
   "metadata": {},
   "outputs": [
    {
     "name": "stdout",
     "output_type": "stream",
     "text": [
      "2\n"
     ]
    }
   ],
   "source": [
    "# 正解を出力してください\n",
    "print('2')"
   ]
  },
  {
   "cell_type": "markdown",
   "metadata": {},
   "source": [
    "---\n",
    "\n",
    "### 解説\n",
    "- df.summary() - 存在しないメソッド\n",
    "- df.info() - DataFrameの基本情報を表示する正しいメソッド\n",
    "- df.details() - 存在しないメソッド\n",
    "- df.overview() - 存在しないメソッド\n",
    "\n",
    "---"
   ]
  },
  {
   "cell_type": "markdown",
   "metadata": {},
   "source": [
    "---\n",
    "---\n",
    "---\n",
    "### 問10 箱ひげ図の作成 (0.3点)\n",
    "\n",
    "- pandasで箱ひげ図を作成する際に使用する正しいメソッドはどれですか？\n",
    "\n",
    "1. df.box()\n",
    "2. df.boxplot()\n",
    "3. df.plot.box()\n",
    "4. df.plot.boxplot()\n"
   ]
  },
  {
   "cell_type": "code",
   "execution_count": 4,
   "metadata": {},
   "outputs": [
    {
     "name": "stdout",
     "output_type": "stream",
     "text": [
      "3\n"
     ]
    }
   ],
   "source": [
    "# 正解を出力してください\n",
    "print('3')"
   ]
  },
  {
   "cell_type": "markdown",
   "metadata": {},
   "source": [
    "---\n",
    "\n",
    "### 解説\n",
    "- df.box() - 存在しないメソッド\n",
    "- df.boxplot() - DataFrameに直接的なboxplotメソッドは存在しない\n",
    "- df.plot.box() - 箱ひげ図を作成する正しいメソッド\n",
    "- df.plot.boxplot() - 存在しないメソッド\n",
    "\n",
    "---"
   ]
  },
  {
   "cell_type": "markdown",
   "metadata": {},
   "source": [
    "---\n",
    "---\n",
    "---\n",
    "---\n",
    "---"
   ]
  },
  {
   "cell_type": "code",
   "execution_count": null,
   "metadata": {},
   "outputs": [],
   "source": []
  }
 ],
 "metadata": {
  "colab": {
   "provenance": [
    {
     "file_id": "https://github.com/YasuharuSuzuki/24_programing2/blob/main/04%E8%BE%9E%E6%9B%B8/01%E8%BE%9E%E6%9B%B8%E3%82%92%E4%BD%9C%E3%82%8B.ipynb",
     "timestamp": 1715146358060
    }
   ]
  },
  "kernelspec": {
   "display_name": "Python 3 (ipykernel)",
   "language": "python",
   "name": "python3"
  },
  "language_info": {
   "codemirror_mode": {
    "name": "ipython",
    "version": 3
   },
   "file_extension": ".py",
   "mimetype": "text/x-python",
   "name": "python",
   "nbconvert_exporter": "python",
   "pygments_lexer": "ipython3",
   "version": "3.11.9"
  }
 },
 "nbformat": 4,
 "nbformat_minor": 4
}
