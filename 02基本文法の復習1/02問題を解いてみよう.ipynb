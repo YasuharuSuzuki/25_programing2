{
 "cells": [
  {
   "cell_type": "markdown",
   "metadata": {
    "colab_type": "text",
    "id": "view-in-github"
   },
   "source": [
    "<a href=\"https://colab.research.google.com/github/YasuharuSuzuki/24_programing2/blob/main/\" target=\"_parent\"><img src=\"https://colab.research.google.com/assets/colab-badge.svg\" alt=\"Open In Colab\"/></a>"
   ]
  },
  {
   "cell_type": "markdown",
   "metadata": {},
   "source": [
    "### 例題\n",
    "# 5をかけてください"
   ]
  },
  {
   "cell_type": "markdown",
   "metadata": {},
   "source": [
    "- 数値 N が与えられます。\n",
    "- 5倍した数 5*N を出力して下さい。"
   ]
  },
  {
   "cell_type": "markdown",
   "metadata": {},
   "source": [
    "### 制約\n",
    "$\n",
    "1 \\leq N \\leq 10^{10} (Nは整数) \\\\\n",
    "$"
   ]
  },
  {
   "cell_type": "markdown",
   "metadata": {},
   "source": [
    "### 入力\n",
    "入力は以下の形式で標準入力から与えられます\n",
    "\n",
    "---\n",
    "$\n",
    "N  \\\\\n",
    "$\n",
    "\n",
    "---"
   ]
  },
  {
   "cell_type": "markdown",
   "metadata": {},
   "source": [
    "### 出力\n",
    "\n",
    "---\n",
    "5倍した数\n",
    "\n",
    "---\n",
    "5倍した数を出力して下さい。"
   ]
  },
  {
   "cell_type": "markdown",
   "metadata": {},
   "source": [
    "----\n",
    "----\n",
    "\n",
    "### 入力例1\n",
    "```python\n",
    "123456789\n",
    "```\n",
    "\n",
    "### 出力例1\n",
    "```python\n",
    "617283945\n",
    "```\n",
    "※ 123456789の5倍の数として 617283945 を出力します"
   ]
  },
  {
   "cell_type": "markdown",
   "metadata": {},
   "source": [
    "----\n",
    "----\n",
    "\n",
    "### 入力例2\n",
    "```python\n",
    "5\n",
    "```\n",
    "\n",
    "### 出力例2\n",
    "```python\n",
    "25\n",
    "```\n",
    "※ 5の5倍の数は25ですので、 25 を出力します"
   ]
  },
  {
   "cell_type": "markdown",
   "metadata": {},
   "source": [
    "----\n",
    "----\n",
    "\n",
    "### 入力例3\n",
    "```python\n",
    "99999999\n",
    "```\n",
    "\n",
    "### 出力例3\n",
    "```python\n",
    "499999995\n",
    "```\n",
    "※ 99999999 の5倍の数は 499999995 のため、 499999995 を出力してください。"
   ]
  },
  {
   "cell_type": "markdown",
   "metadata": {},
   "source": [
    "----\n",
    "----\n",
    "### ここ↓にPythonコードを記述してください"
   ]
  },
  {
   "cell_type": "code",
   "execution_count": null,
   "metadata": {},
   "outputs": [],
   "source": [
    "\n",
    "\n",
    "\n"
   ]
  },
  {
   "cell_type": "markdown",
   "metadata": {},
   "source": [
    "----\n",
    "----\n",
    "----\n",
    "----\n",
    "----\n",
    "----\n",
    "----\n",
    "----"
   ]
  },
  {
   "cell_type": "markdown",
   "metadata": {},
   "source": [
    "### 問題7\n",
    "# わり算するといくつになるかな？ (1点)\n",
    "- ゆるるくんは小学3年生向けの問題を作成しています。\n",
    "- 割り算の結果を自動的に求めるプログラムを作成し、小学生に見せたいと思っています。\n",
    "- 元の数を $ A $、割る数を $ B $ とし、商を $ D $ 、余りを $ R $としたとき、 以下の２行の文字列で表示するプログラムを作成してください。\n",
    "  - $ A $ ÷ $ B $ = $ D $ あまり $ R $\n",
    "  - 答えは $ D $ あまり $ R $ です"
   ]
  },
  {
   "cell_type": "markdown",
   "metadata": {},
   "source": [
    "### 制約\n",
    "$ 1 \\leq　A \\leq　99 $   \n",
    "$ 1 \\leq　B \\leq　9 $   \n",
    "$ 1 \\leq　D \\leq　9 $   \n",
    "$ 0 \\leq　R \\leq　8 $   \n",
    "$ A $、 $ B $、 $ D $、 $ R $ は整数"
   ]
  },
  {
   "cell_type": "markdown",
   "metadata": {},
   "source": [
    "### 入力\n",
    "入力は以下の形式で標準入力から与えられます\n",
    "\n",
    "---\n",
    "$ A \\quad B $\n",
    "\n",
    "---\n",
    "\n",
    "元の数 $ A $、割る数 $ B $ を空白区切りで受け取ります"
   ]
  },
  {
   "cell_type": "markdown",
   "metadata": {},
   "source": [
    "### 出力\n",
    "\n",
    "---\n",
    "$ A $ ÷ $ B $ = $ D $ あまり $ R $  \n",
    "答えは $ D $ あまり $ R $ です   \n",
    "  \n",
    "---\n",
    "\n",
    "わり算の結果を、式と答えの２行の文章に分けて出力してください。"
   ]
  },
  {
   "cell_type": "markdown",
   "metadata": {},
   "source": [
    "----\n",
    "----\n",
    "\n",
    "### 入力例1\n",
    "```python\n",
    "35  4\n",
    "```\n",
    "\n",
    "### 出力例1\n",
    "```python\n",
    "35 ÷ 4 = 8 あまり 3   \n",
    "答えは 8 あまり 3 です   \n",
    "```\n",
    "- 式「35 ÷ 4 = 8 あまり 3」と、答え「答えは 8 あまり 3 です」の２行の文章に分けて出力します。"
   ]
  },
  {
   "cell_type": "markdown",
   "metadata": {},
   "source": [
    "----\n",
    "----\n",
    "\n",
    "### 入力例2\n",
    "```python\n",
    "67  9\n",
    "```\n",
    "\n",
    "### 出力例2\n",
    "```python\n",
    "67 ÷ 9 = 7 あまり 4   \n",
    "答えは 7 あまり 4 です   \n",
    "```\n",
    "- 式「67 ÷ 9 = 7 あまり 4」と、答え「答えは 7 あまり 4 です」の２行の文章に分けて出力します。"
   ]
  },
  {
   "cell_type": "markdown",
   "metadata": {},
   "source": [
    "---- \n",
    "----\n",
    "### ここ↓にPythonコードを記述してください"
   ]
  },
  {
   "cell_type": "code",
   "execution_count": 4,
   "metadata": {},
   "outputs": [
    {
     "name": "stdin",
     "output_type": "stream",
     "text": [
      " 67 9\n"
     ]
    },
    {
     "name": "stdout",
     "output_type": "stream",
     "text": [
      "67 ÷ 9 = 7 あまり 4\n",
      "答えは 7 あまり 4 です\n"
     ]
    }
   ],
   "source": [
    "\n",
    "\n",
    "\n",
    "\n"
   ]
  },
  {
   "cell_type": "markdown",
   "metadata": {},
   "source": [
    "----\n",
    "----\n",
    "----\n",
    "----\n",
    "----\n",
    "----\n",
    "----\n",
    "----"
   ]
  },
  {
   "cell_type": "markdown",
   "metadata": {},
   "source": [
    "### 問題8\n",
    "# ゆるるパーク (1点)\n",
    "- あなたは、「ゆるるパーク」というテーマパークのチケット販売システムを開発することになりました。\n",
    "- このテーマパークでは、年齢に応じて料金が異なります。\n",
    "- 以下の料金体系に基づいて、入力された大人の料金 $ A $ と年齢 $ N $ に対する料金 $ R $ を計算するプログラムを作成してください。\n",
    "  - 0歳から5歳までは無料\n",
    "  - 6歳から12歳までは半額（大人料金の50%）\n",
    "  - 13歳から64歳までは大人料金\n",
    "  - 65歳以上は敬老割引（大人料金の70%）"
   ]
  },
  {
   "cell_type": "markdown",
   "metadata": {},
   "source": [
    "### 制約\n",
    "\n",
    "$ 1000 \\leq　A \\leq　10000 $   \n",
    "$ 0 \\leq　N \\leq　120 $   \n",
    "$ 0 \\leq　R \\leq　10000 $   \n",
    "\n",
    "$ A $、$ N $、$ R $ はそれぞれ整数  \n",
    "$ R $ は小数点以下切り捨て"
   ]
  },
  {
   "cell_type": "markdown",
   "metadata": {},
   "source": [
    "### 入力\n",
    "入力は以下の形式で標準入力から与えられます\n",
    "\n",
    "---\n",
    "$\n",
    "A \\quad N \\\\\n",
    "$\n",
    "\n",
    "---\n",
    "\n",
    "Aは整数で、大人の料金を表します。  \n",
    "Nは整数で、入力される年齢を表します。"
   ]
  },
  {
   "cell_type": "markdown",
   "metadata": {},
   "source": [
    "### 出力\n",
    "\n",
    "---\n",
    "$ R $   \n",
    "  \n",
    "---\n",
    "\n",
    "料金 $ R $ を出力してください。"
   ]
  },
  {
   "cell_type": "markdown",
   "metadata": {},
   "source": [
    "----\n",
    "----\n",
    "\n",
    "### 入力例1\n",
    "```python\n",
    "1000 3\n",
    "```\n",
    "\n",
    "### 出力例1\n",
    "```python\n",
    "0\n",
    "```\n",
    "- 3歳児の料金は0円です"
   ]
  },
  {
   "cell_type": "markdown",
   "metadata": {},
   "source": [
    "----\n",
    "----\n",
    "\n",
    "### 入力例2\n",
    "```python\n",
    "1500 10\n",
    "```\n",
    "\n",
    "### 出力例2\n",
    "```python\n",
    "750\n",
    "```\n",
    "- 10歳では半額になります"
   ]
  },
  {
   "cell_type": "markdown",
   "metadata": {},
   "source": [
    "----\n",
    "----\n",
    "\n",
    "### 入力例3\n",
    "```python\n",
    "2000 25\n",
    "```\n",
    "\n",
    "### 出力例3\n",
    "```python\n",
    "2000\n",
    "```\n",
    "- 25歳は割引なしです"
   ]
  },
  {
   "cell_type": "markdown",
   "metadata": {},
   "source": [
    "----\n",
    "----\n",
    "\n",
    "### 入力例4\n",
    "```python\n",
    "1200 70\n",
    "```\n",
    "\n",
    "### 出力例4\n",
    "```python\n",
    "840\n",
    "```\n",
    "- 70歳は3割引です"
   ]
  },
  {
   "cell_type": "markdown",
   "metadata": {},
   "source": [
    "----\n",
    "----\n",
    "\n",
    "### ここ↓にPythonコードを記述してください"
   ]
  },
  {
   "cell_type": "code",
   "execution_count": 9,
   "metadata": {},
   "outputs": [
    {
     "name": "stdin",
     "output_type": "stream",
     "text": [
      " 1200 70\n"
     ]
    },
    {
     "name": "stdout",
     "output_type": "stream",
     "text": [
      "840\n"
     ]
    }
   ],
   "source": [
    "\n",
    "\n",
    "\n",
    "\n",
    "\n",
    "\n",
    "\n",
    "\n",
    "\n"
   ]
  },
  {
   "cell_type": "markdown",
   "metadata": {},
   "source": [
    "----\n",
    "----\n",
    "----\n",
    "----\n",
    "----\n",
    "----\n",
    "----\n",
    "----"
   ]
  },
  {
   "cell_type": "markdown",
   "metadata": {},
   "source": [
    "### 問題9\n",
    "# ゆるる寿司 (1点)\n",
    "- あなたは、「ゆるる寿司」という回転寿司屋でたくさんの寿司を食べました。\n",
    "- 食べた寿司ネタの値段 $ P_i $ が整数のリストで与えられるので、合計金額 $ R $ を求めるプログラムを作成してください。"
   ]
  },
  {
   "cell_type": "markdown",
   "metadata": {},
   "source": [
    "### 制約\n",
    "\n",
    "$ 1 \\leq N \\leq 100 $  \n",
    "$ 1 \\leq P_i \\leq 1000 $  \n"
   ]
  },
  {
   "cell_type": "markdown",
   "metadata": {},
   "source": [
    "### 入力\n",
    "入力は以下の形式で標準入力から与えられます\n",
    "\n",
    "---\n",
    "$ N $  \n",
    "$ P_1 \\quad P_2 \\quad ... \\quad P_N $  \n",
    "\n",
    "---"
   ]
  },
  {
   "cell_type": "markdown",
   "metadata": {},
   "source": [
    "### 出力\n",
    "\n",
    "---\n",
    "$ R $\n",
    "\n",
    "---\n",
    "食べた寿司ネタの合計金額を出力してください。"
   ]
  },
  {
   "cell_type": "markdown",
   "metadata": {},
   "source": [
    "----\n",
    "----\n",
    "\n",
    "### 入力例1\n",
    "```python\n",
    "5\n",
    "100 150 200 120 180\n",
    "```\n",
    "\n",
    "\n",
    "### 出力例1\n",
    "```python\n",
    "750\n",
    "```"
   ]
  },
  {
   "cell_type": "markdown",
   "metadata": {},
   "source": [
    "----\n",
    "----\n",
    "\n",
    "### 入力例2\n",
    "```python\n",
    "8\n",
    "100 50 80 120 150 200 300 400\n",
    "```\n",
    "\n",
    "\n",
    "### 出力例2\n",
    "```python\n",
    "1400\n",
    "```"
   ]
  },
  {
   "cell_type": "code",
   "execution_count": 10,
   "metadata": {},
   "outputs": [
    {
     "name": "stdin",
     "output_type": "stream",
     "text": [
      " 8\n",
      " 100 50 80 120 150 200 300 400\n"
     ]
    },
    {
     "name": "stdout",
     "output_type": "stream",
     "text": [
      "1400\n"
     ]
    }
   ],
   "source": [
    "\n",
    "\n",
    "\n",
    "\n",
    "\n"
   ]
  },
  {
   "cell_type": "markdown",
   "metadata": {},
   "source": [
    "----\n",
    "----\n",
    "----\n",
    "----\n",
    "----\n",
    "----\n",
    "----\n",
    "----"
   ]
  },
  {
   "cell_type": "markdown",
   "metadata": {},
   "source": [
    "### 問題10\n",
    "# 駄菓子屋AVG (1点)"
   ]
  },
  {
   "cell_type": "markdown",
   "metadata": {},
   "source": [
    "- ゆるるくんは駄菓子屋へ行きました。\n",
    "- 雑多に置かれた駄菓子を $ N $ 個掴みましたが、そのうちの $ S $ 番目〜 $ E $ 番目までを買うことにしました。\n",
    "- 各駄菓子の値段が $ D_1 $ 〜 $ D_N $ で表される時、駄菓子の平均金額 $ A $ を出力せよ"
   ]
  },
  {
   "cell_type": "markdown",
   "metadata": {},
   "source": [
    "### 制約\n",
    "$ 1 \\leq　N \\leq　10 $   \n",
    "$ 1 \\leq　S \\leq　N $   \n",
    "$ S \\leq　E \\leq　N $   \n",
    "$ 5 \\leq　D_i \\leq　100 $   \n",
    "$ 5.0 \\leq　A \\leq　100.0 $   \n",
    "$ N $、$ S $、$ E $ 、$ D_i $ はそれぞれ整数  \n",
    "\n",
    "$ A $ は小数点第一位まで出力\n",
    "- 小数点第二位以下は丸めてください。\n",
    "- 小数点以下は適切な桁数で表示が丸まっていればOKとします。formatやfstringの桁数指定を使用してください。\n",
    "- 厳密な四捨五入かどうかは問わないこととします(Pythonで四捨五入するのは難しいため）"
   ]
  },
  {
   "cell_type": "markdown",
   "metadata": {},
   "source": [
    "### 入力\n",
    "入力は以下の形式で標準入力から与えられます\n",
    "\n",
    "---\n",
    "\n",
    "$ N \\quad S \\quad E $  \n",
    "$ D_1 \\quad D_2 \\quad ... \\quad D_N $  \n",
    "\n",
    "---\n",
    "\n",
    "１行目で掴んだ駄菓子の個数$ N $、買うことにした範囲（$ S $、$ E $）を受け取ります。  \n",
    "２行目では各駄菓子の値段 $ D_1 $ 〜 $ D_N $ を受け取ります。  "
   ]
  },
  {
   "cell_type": "markdown",
   "metadata": {},
   "source": [
    "### 出力\n",
    "\n",
    "---\n",
    "$ A $  \n",
    "\n",
    "---\n",
    "駄菓子の平均金額 $ A $ を出力してください。"
   ]
  },
  {
   "cell_type": "markdown",
   "metadata": {},
   "source": [
    "----\n",
    "----\n",
    "\n",
    "### 入力例1\n",
    "```python\n",
    "10 1 5\n",
    "5 10 15 20 25 30 35 40 45 50\n",
    "```\n",
    "- １行目で掴んだ駄菓子の個数$ N=10 $、買うことにした範囲（$ S=1 $、$ E=5 $）を受け取ります。  \n",
    "- ２行目では各駄菓子の値段 $ D_1=5 $ 〜 $ D_{10}=50 $ を受け取ります。  \n",
    "\n",
    "### 出力例1\n",
    "```python\n",
    "15.0 \n",
    "```\n",
    "\n",
    "- $ D_1 $ 〜 $ D_{5} $ の合計値は $ 75 $です。\n",
    "  - $ 5+10+15+20+25 = 75 $\n",
    "- 掴んだ駄菓子の数は $5$ になります。\n",
    "  - $ E(5)-S(1)+1 = 5 $\n",
    "- 合計値を駄菓子の個数で割り算し、平均値は$15.0$となります。"
   ]
  },
  {
   "cell_type": "markdown",
   "metadata": {},
   "source": [
    "----\n",
    "----\n",
    "\n",
    "### 入力例2\n",
    "```python\n",
    "5 2 4\n",
    "60 70 80 90 100\n",
    "```\n",
    "- １行目で掴んだ駄菓子の個数$ N=5 $、買うことにした範囲（$ S=2 $、$ E=4 $）を受け取ります。  \n",
    "- ２行目では各駄菓子の値段 $ D_1=60 $ 〜 $ D_{5}=100 $ を受け取ります。  \n",
    "\n",
    "### 出力例2\n",
    "```python\n",
    "80.0\n",
    "```\n",
    "- $ D_2 $ 〜 $ D_{4} $ の合計値は $ 240 $です。\n",
    "  - $ 70+80+90 = 240 $\n",
    "- 掴んだ駄菓子の数は $3$ になります。\n",
    "  - $ E(4)-S(2)+1 = 3 $\n",
    "- 合計値を駄菓子の個数で割り算し、平均値は$80.0$となります。"
   ]
  },
  {
   "cell_type": "markdown",
   "metadata": {},
   "source": [
    "----\n",
    "----\n",
    "\n",
    "### 入力例3\n",
    "```python\n",
    "9 3 5\n",
    "50 50 100 100 51 60 10 5 5\n",
    "```\n",
    "- １行目で掴んだ駄菓子の個数$ N=9 $、買うことにした範囲（$ S=3 $、$ E=5 $）を受け取ります。  \n",
    "- ２行目では各駄菓子の値段 $ D_{1}=50 $ 〜 $ D_{9}=5 $ を受け取ります。  \n",
    "\n",
    "### 出力例3\n",
    "```python\n",
    "83.7\n",
    "```\n",
    "- $ D_{3} $ 〜 $ D_{5} $ の合計値は $ 251 $です。\n",
    "  - $ 100+100+51 = 251 $\n",
    "- 掴んだ駄菓子の数は $3$ になります。\n",
    "  - $ E(5)-S(3)+1 = 3 $\n",
    "- 合計値を駄菓子の個数で割り算し、平均値は$83.66666666666667$となりますが、制約に記載の通り小数点第一位までに丸めて $83.7$ (小数点第二位以下は丸め) を出力します。\n",
    "  - ヒント：表示にはformatまたはfstringの桁数指定等を使いましょう"
   ]
  },
  {
   "cell_type": "markdown",
   "metadata": {},
   "source": [
    "----\n",
    "----\n",
    "\n",
    "### ここ↓にPythonコードを記述してください"
   ]
  },
  {
   "cell_type": "code",
   "execution_count": 1,
   "metadata": {},
   "outputs": [
    {
     "name": "stdin",
     "output_type": "stream",
     "text": [
      " 9 3 5\n",
      " 50 50 100 100 51 60 10 5 5\n"
     ]
    },
    {
     "name": "stdout",
     "output_type": "stream",
     "text": [
      "83.7\n"
     ]
    }
   ],
   "source": [
    "\n",
    "\n",
    "\n",
    "\n",
    "\n"
   ]
  },
  {
   "cell_type": "code",
   "execution_count": null,
   "metadata": {},
   "outputs": [],
   "source": []
  }
 ],
 "metadata": {
  "colab": {
   "authorship_tag": "ABX9TyMOtB7OiTVLb+yu2KoVwjto",
   "include_colab_link": true,
   "provenance": []
  },
  "kernelspec": {
   "display_name": "Python 3 (ipykernel)",
   "language": "python",
   "name": "python3"
  },
  "language_info": {
   "codemirror_mode": {
    "name": "ipython",
    "version": 3
   },
   "file_extension": ".py",
   "mimetype": "text/x-python",
   "name": "python",
   "nbconvert_exporter": "python",
   "pygments_lexer": "ipython3",
   "version": "3.11.7"
  }
 },
 "nbformat": 4,
 "nbformat_minor": 4
}
