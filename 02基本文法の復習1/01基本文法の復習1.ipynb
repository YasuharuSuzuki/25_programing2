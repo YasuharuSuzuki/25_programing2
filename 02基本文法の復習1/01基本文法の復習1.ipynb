{
 "cells": [
  {
   "cell_type": "markdown",
   "metadata": {
    "colab_type": "text",
    "id": "view-in-github"
   },
   "source": [
    "<a href=\"https://colab.research.google.com/github/YasuharuSuzuki/24_programing2/blob/main/\" target=\"_parent\"><img src=\"https://colab.research.google.com/assets/colab-badge.svg\" alt=\"Open In Colab\"/></a>"
   ]
  },
  {
   "cell_type": "markdown",
   "metadata": {},
   "source": [
    "# 基本文法の復習1\n",
    "\n",
    "## 目次\n",
    "0. Google Colaboの使い方\n",
    "1. 入力と出力\n",
    "2. 型変換\n",
    "3. 算術演算子\n",
    "4. if文\n",
    "5. list\n",
    "6. 組み込み関数"
   ]
  },
  {
   "cell_type": "markdown",
   "metadata": {},
   "source": [
    "---\n",
    "---\n",
    "---\n",
    "---\n",
    "---"
   ]
  },
  {
   "cell_type": "markdown",
   "metadata": {},
   "source": [
    "## 0. Google Colaboの使い方\n",
    "(Google公式から転記・修正)"
   ]
  },
  {
   "cell_type": "markdown",
   "metadata": {},
   "source": [
    "### Google Colabo とは"
   ]
  },
  {
   "cell_type": "markdown",
   "metadata": {},
   "source": [
    "Google Colabo（正式名称「Google Colaboratory」）は、ブラウザ上で Python を記述、実行できます。以下の特徴があります。 \n",
    "- 環境構築が不要\n",
    "- GPU / TPU の利用（無料） ※有料にすると、よりパフォーマンスの高い GPU / TPU が割りあたりやすくなります。\n",
    "- 簡単に共有 ※Google Driveで簡単に共有できます。\n",
    "- Googleアカウントがあれば実行できます ※学科のカウントでも大丈夫です。\n",
    "\n",
    "Google Colaboは、プログラム初心者から学生のデータ分析習得や研究、社会人のデータサイエンティストや機械学習エンジニアまで幅広く使用されています。"
   ]
  },
  {
   "cell_type": "markdown",
   "metadata": {},
   "source": [
    "### コードの実行の仕方\n"
   ]
  },
  {
   "cell_type": "markdown",
   "metadata": {},
   "source": [
    "このドキュメントは静的なウェブページではなく、<strong>Colabo ノートブック</strong>という、コードを記述して実行できるインタラクティブな環境です。  \n",
    "たとえば次の<strong>コードセル</strong>には、値を計算して変数に保存し、結果を出力する短い Python スクリプトが記述されています。"
   ]
  },
  {
   "cell_type": "code",
   "execution_count": 1,
   "metadata": {},
   "outputs": [
    {
     "data": {
      "text/plain": [
       "86400"
      ]
     },
     "execution_count": 1,
     "metadata": {},
     "output_type": "execute_result"
    }
   ],
   "source": [
    "seconds_in_a_day = 24 * 60 * 60\n",
    "seconds_in_a_day"
   ]
  },
  {
   "cell_type": "markdown",
   "metadata": {},
   "source": [
    "上記のセルのコードを実行するには、セルをクリックして選択し、コードの左側にある実行ボタンをクリックするか、キーボード ショートカット「Shift+Enter」を使用します。コードはセルをクリックしてそのまま編集できます。\n",
    "\n",
    "1 つのセルで定義した変数は、後で他のセルで使用できます。"
   ]
  },
  {
   "cell_type": "markdown",
   "metadata": {},
   "source": [
    "### もっと丁寧に知りたい方"
   ]
  },
  {
   "cell_type": "markdown",
   "metadata": {},
   "source": [
    "今回は時間も限らているためこの程度の紹介に留めておきますが、ネットを検索すると、いくつか詳しい紹介をしているサイトが見つかります。\n",
    "- [Python初体験](https://www.python.jp/train/experience/index.html)\n",
    "  - 初心者向けに丁寧にスクショ付きで紹介されています。少し文量が多めです\n",
    "- [Google Colaboratory とは？使い方・メリット・設定などを徹底解説！](https://blog.kikagaku.co.jp/google-colab-howto)\n",
    "  - こちらもスクショ付きで有料版と無料版の違いなどが紹介されています。初心者向けと言うより機能の紹介が少し多めですね"
   ]
  },
  {
   "cell_type": "markdown",
   "metadata": {},
   "source": [
    "---\n",
    "---\n",
    "---\n",
    "---\n",
    "---"
   ]
  },
  {
   "cell_type": "markdown",
   "metadata": {},
   "source": [
    "## サンプルプログラム1　入力と出力\n",
    "### 1行に1つの値\n",
    "- 文字列の受け取り → 出力\n",
    "- 数値の受け取り → 出力"
   ]
  },
  {
   "cell_type": "code",
   "execution_count": 6,
   "metadata": {},
   "outputs": [
    {
     "name": "stdout",
     "output_type": "stream",
     "text": [
      "aaabbb\n"
     ]
    }
   ],
   "source": [
    "# 1行・1文字列の受け取り\n",
    "text1 = input()"
   ]
  },
  {
   "cell_type": "code",
   "execution_count": 7,
   "metadata": {},
   "outputs": [
    {
     "name": "stdout",
     "output_type": "stream",
     "text": [
      "aaabbb\n"
     ]
    }
   ],
   "source": [
    "print(text1) # 出力"
   ]
  },
  {
   "cell_type": "code",
   "execution_count": 8,
   "metadata": {},
   "outputs": [
    {
     "name": "stdout",
     "output_type": "stream",
     "text": [
      "4649\n"
     ]
    }
   ],
   "source": [
    "# 1行・1整数値の受け取り\n",
    "integer1 = int(input())"
   ]
  },
  {
   "cell_type": "code",
   "execution_count": 9,
   "metadata": {},
   "outputs": [
    {
     "name": "stdout",
     "output_type": "stream",
     "text": [
      "4649\n"
     ]
    }
   ],
   "source": [
    "print(integer1) # 出力"
   ]
  },
  {
   "cell_type": "markdown",
   "metadata": {},
   "source": [
    "### 1行に複数の値\n",
    "- 複数の文字列を複数の変数に受け取る\n",
    "- 複数の文字列を１つのリスト変数に受け取る\n",
    "- 複数の整数値を複数の変数に受け取る\n",
    "- 複数の整数値を１つのリスト変数に受け取る\n",
    "- 複数の浮動小数値を複数の変数に受け取る\n",
    "- 複数の浮動小数値を１つのリスト変数に受け取る"
   ]
  },
  {
   "cell_type": "code",
   "execution_count": 15,
   "metadata": {},
   "outputs": [
    {
     "name": "stdout",
     "output_type": "stream",
     "text": [
      "あああ イイイ ｳｳｳ\n"
     ]
    }
   ],
   "source": [
    "# 複数の文字列を複数の変数に受け取る\n",
    "text2, text3, text4 = input().split()"
   ]
  },
  {
   "cell_type": "code",
   "execution_count": 16,
   "metadata": {},
   "outputs": [
    {
     "name": "stdout",
     "output_type": "stream",
     "text": [
      "あああ\n"
     ]
    }
   ],
   "source": [
    "print(text2)"
   ]
  },
  {
   "cell_type": "code",
   "execution_count": 17,
   "metadata": {},
   "outputs": [
    {
     "name": "stdout",
     "output_type": "stream",
     "text": [
      "イイイ\n"
     ]
    }
   ],
   "source": [
    "print(text3)"
   ]
  },
  {
   "cell_type": "code",
   "execution_count": 18,
   "metadata": {},
   "outputs": [
    {
     "name": "stdout",
     "output_type": "stream",
     "text": [
      "ｳｳｳ\n"
     ]
    }
   ],
   "source": [
    "print(text4)"
   ]
  },
  {
   "cell_type": "code",
   "execution_count": 19,
   "metadata": {},
   "outputs": [
    {
     "name": "stdout",
     "output_type": "stream",
     "text": [
      "赤 白 黄\n"
     ]
    }
   ],
   "source": [
    "# 複数の文字列を１つのリスト変数に受け取る\n",
    "colors1 = input().split()"
   ]
  },
  {
   "cell_type": "code",
   "execution_count": 20,
   "metadata": {},
   "outputs": [
    {
     "name": "stdout",
     "output_type": "stream",
     "text": [
      "['赤', '白', '黄']\n"
     ]
    }
   ],
   "source": [
    "print(colors1)"
   ]
  },
  {
   "cell_type": "code",
   "execution_count": 21,
   "metadata": {},
   "outputs": [
    {
     "name": "stdout",
     "output_type": "stream",
     "text": [
      "10 20 30 40\n"
     ]
    }
   ],
   "source": [
    "# 複数の整数値を複数の変数に受け取る\n",
    "integer2, integer3, integer4, integer5 = map(int,input().split())"
   ]
  },
  {
   "cell_type": "code",
   "execution_count": 22,
   "metadata": {},
   "outputs": [
    {
     "name": "stdout",
     "output_type": "stream",
     "text": [
      "10 20 30 40\n"
     ]
    }
   ],
   "source": [
    "print(integer2, integer3, integer4, integer5) # 出力"
   ]
  },
  {
   "cell_type": "code",
   "execution_count": 25,
   "metadata": {},
   "outputs": [
    {
     "name": "stdout",
     "output_type": "stream",
     "text": [
      "50 55 100\n"
     ]
    }
   ],
   "source": [
    "# 複数の整数値を1つのリスト変数に受け取る\n",
    "snacks1 = list(map(int,input().split()))"
   ]
  },
  {
   "cell_type": "code",
   "execution_count": 26,
   "metadata": {},
   "outputs": [
    {
     "name": "stdout",
     "output_type": "stream",
     "text": [
      "[50, 55, 100]\n"
     ]
    }
   ],
   "source": [
    "print(snacks1)"
   ]
  },
  {
   "cell_type": "code",
   "execution_count": 27,
   "metadata": {},
   "outputs": [
    {
     "name": "stdout",
     "output_type": "stream",
     "text": [
      "123.45 50\n"
     ]
    }
   ],
   "source": [
    "# 複数の浮動小数値を複数の変数に受け取る\n",
    "float1, float2 = map(float,input().split())"
   ]
  },
  {
   "cell_type": "code",
   "execution_count": 28,
   "metadata": {},
   "outputs": [
    {
     "name": "stdout",
     "output_type": "stream",
     "text": [
      "123.45 50.0\n"
     ]
    }
   ],
   "source": [
    "print(float1,float2) # 出力"
   ]
  },
  {
   "cell_type": "markdown",
   "metadata": {},
   "source": [
    "## 練習プログラム1 (0.6点)\n",
    "- 1行で1つの入力値を受け取って、出力してみましょう\n",
    "- 1行で複数の入力値を受け取って、出力してみましょう"
   ]
  },
  {
   "cell_type": "code",
   "execution_count": 29,
   "metadata": {},
   "outputs": [],
   "source": [
    "# 1. 1行で1つの入力値を受け取って、出力してみましょう\n",
    "# 入力する値は文字列でも整数値でも浮動小数値でも何でも良いですが、サンプルプログラムとは違う独自の値を入れましょう\n",
    "# 変数名も独自のものに変えましょう\n",
    "\n",
    "\n",
    "# ここにPythonプログラムを記述してください\n"
   ]
  },
  {
   "cell_type": "code",
   "execution_count": 30,
   "metadata": {},
   "outputs": [],
   "source": [
    "# 2. 1行で複数の入力値を受け取って、出力してみましょう\n",
    "# 入力する値は文字列でも整数値でも浮動小数値でも何でも良いですが、サンプルプログラムとは違う独自の値を入れましょう\n",
    "\n",
    "\n",
    "# ここにPythonプログラムを記述してください\n",
    "\n"
   ]
  },
  {
   "cell_type": "markdown",
   "metadata": {},
   "source": [
    "---\n",
    "---\n",
    "---\n",
    "---\n",
    "---"
   ]
  },
  {
   "cell_type": "markdown",
   "metadata": {},
   "source": [
    "## サンプルプログラム2　型変換\n",
    "文字列を整数値に変換したり、浮動小数値を文字列に変換するなど、値の変換方法を習得しましょう\n",
    "- 型の確認\n",
    "- str → int\n",
    "- int → str\n",
    "- str → float\n",
    "- float → int\n",
    "- float → str"
   ]
  },
  {
   "cell_type": "code",
   "execution_count": 53,
   "metadata": {},
   "outputs": [
    {
     "name": "stdout",
     "output_type": "stream",
     "text": [
      "<class 'str'>\n",
      "<class 'int'>\n",
      "<class 'float'>\n"
     ]
    }
   ],
   "source": [
    "# 型の確認\n",
    "text5 = \"1234\"\n",
    "integer6 = 32768\n",
    "text7 = \"68.47\"\n",
    "float3 = 170.1769246653111\n",
    "print(type(text5))\n",
    "print(type(integer6))\n",
    "print(type(float3))"
   ]
  },
  {
   "cell_type": "code",
   "execution_count": 54,
   "metadata": {},
   "outputs": [
    {
     "name": "stdout",
     "output_type": "stream",
     "text": [
      "1234\n",
      "<class 'int'>\n"
     ]
    }
   ],
   "source": [
    "# str → int\n",
    "integer7 = int(text5)\n",
    "print(integer7)\n",
    "print(type(integer7))"
   ]
  },
  {
   "cell_type": "code",
   "execution_count": 55,
   "metadata": {},
   "outputs": [
    {
     "name": "stdout",
     "output_type": "stream",
     "text": [
      "32768\n",
      "<class 'str'>\n"
     ]
    }
   ],
   "source": [
    "# int → str\n",
    "text6 = str(integer6)\n",
    "print(text6)\n",
    "print(type(text6))"
   ]
  },
  {
   "cell_type": "code",
   "execution_count": 56,
   "metadata": {},
   "outputs": [
    {
     "name": "stdout",
     "output_type": "stream",
     "text": [
      "68.47\n",
      "<class 'float'>\n"
     ]
    }
   ],
   "source": [
    "# str → float\n",
    "float4 = float(text7)\n",
    "print(float4)\n",
    "print(type(float4))"
   ]
  },
  {
   "cell_type": "code",
   "execution_count": 57,
   "metadata": {},
   "outputs": [
    {
     "name": "stdout",
     "output_type": "stream",
     "text": [
      "68\n",
      "<class 'int'>\n"
     ]
    }
   ],
   "source": [
    "# float → int\n",
    "integer8 = int(float4)\n",
    "print(integer8)\n",
    "print(type(integer8))"
   ]
  },
  {
   "cell_type": "code",
   "execution_count": 58,
   "metadata": {},
   "outputs": [
    {
     "name": "stdout",
     "output_type": "stream",
     "text": [
      "170.1769246653111\n",
      "170.18\n",
      "<class 'str'>\n",
      "<class 'str'>\n"
     ]
    }
   ],
   "source": [
    "# float → str\n",
    "text8 = str(float3)\n",
    "text9 = \"{:.2f}\".format(float3)\n",
    "print(text8)\n",
    "print(text9)\n",
    "print(type(text8))\n",
    "print(type(text9))"
   ]
  },
  {
   "cell_type": "markdown",
   "metadata": {},
   "source": [
    "## 練習プログラム2 (0.6点)\n",
    "- 型の確認をしてみましょう\n",
    "- 型を変換して出力してみましょう"
   ]
  },
  {
   "cell_type": "code",
   "execution_count": 59,
   "metadata": {},
   "outputs": [],
   "source": [
    "# 1. 型の確認をしてみましょう\n",
    "# 入力する値は文字列でも整数値でも浮動小数値でも何でも良いですが、サンプルプログラムとは違う独自の値を入れましょう\n",
    "# 変数名も独自のものに変えましょう\n",
    "\n",
    "\n",
    "# ここにPythonプログラムを記述してください\n"
   ]
  },
  {
   "cell_type": "code",
   "execution_count": 60,
   "metadata": {},
   "outputs": [],
   "source": [
    "# 2. 型を変換して出力してみましょう\n",
    "# 入力する値は文字列でも整数値でも浮動小数値でも何でも良いですが、サンプルプログラムとは違う独自の値を入れましょう\n",
    "# 変数名も独自のものに変えましょう\n",
    "\n",
    "\n",
    "# ここにPythonプログラムを記述してください\n"
   ]
  },
  {
   "cell_type": "markdown",
   "metadata": {},
   "source": [
    "---\n",
    "---\n",
    "---\n",
    "---\n",
    "---"
   ]
  },
  {
   "cell_type": "markdown",
   "metadata": {},
   "source": [
    "## サンプルプログラム3　算術演算子\n",
    "算術演算子を使った計算を習得しましょう\n",
    "- 足し算(+)\n",
    "- 引き算(-)\n",
    "- かけ算(*)\n",
    "- 割り算(/)\n",
    "- 割り算の商(//)\n",
    "- 割り算の余り(%)\n",
    "- べき乗(**)"
   ]
  },
  {
   "cell_type": "code",
   "execution_count": 61,
   "metadata": {},
   "outputs": [
    {
     "name": "stdout",
     "output_type": "stream",
     "text": [
      "10\n"
     ]
    }
   ],
   "source": [
    "# 足し算(+)\n",
    "num = 5 + 5\n",
    "print(num)"
   ]
  },
  {
   "cell_type": "code",
   "execution_count": 62,
   "metadata": {},
   "outputs": [
    {
     "name": "stdout",
     "output_type": "stream",
     "text": [
      "2\n"
     ]
    }
   ],
   "source": [
    "# 引き算(-)\n",
    "num = 10 - 8\n",
    "print(num)"
   ]
  },
  {
   "cell_type": "code",
   "execution_count": 63,
   "metadata": {},
   "outputs": [
    {
     "name": "stdout",
     "output_type": "stream",
     "text": [
      "6\n"
     ]
    }
   ],
   "source": [
    "# かけ算(*)\n",
    "num = 2 * 3\n",
    "print(num)"
   ]
  },
  {
   "cell_type": "code",
   "execution_count": 64,
   "metadata": {},
   "outputs": [
    {
     "name": "stdout",
     "output_type": "stream",
     "text": [
      "3.3333333333333335\n"
     ]
    }
   ],
   "source": [
    "# 割り算(/)\n",
    "num = 10 / 3\n",
    "print(num)"
   ]
  },
  {
   "cell_type": "code",
   "execution_count": 65,
   "metadata": {},
   "outputs": [
    {
     "name": "stdout",
     "output_type": "stream",
     "text": [
      "3\n"
     ]
    }
   ],
   "source": [
    "# 割り算の商(//)\n",
    "num = 10 // 3\n",
    "print(num)"
   ]
  },
  {
   "cell_type": "code",
   "execution_count": 66,
   "metadata": {},
   "outputs": [
    {
     "name": "stdout",
     "output_type": "stream",
     "text": [
      "1\n"
     ]
    }
   ],
   "source": [
    "# 割り算の余り(%)\n",
    "num = 10 % 3\n",
    "print(num)"
   ]
  },
  {
   "cell_type": "code",
   "execution_count": 67,
   "metadata": {},
   "outputs": [
    {
     "name": "stdout",
     "output_type": "stream",
     "text": [
      "8\n"
     ]
    }
   ],
   "source": [
    "# べき乗(**)\n",
    "num = 2 ** 3\n",
    "print(num)"
   ]
  },
  {
   "cell_type": "markdown",
   "metadata": {},
   "source": [
    "## 練習プログラム3 (0.9点)\n",
    "- 割り算を使った計算をしてみましょう\n",
    "- 割り算の商を使った計算をしてみましょう\n",
    "- 割り算の余りを使った計算をしてみましょう"
   ]
  },
  {
   "cell_type": "code",
   "execution_count": null,
   "metadata": {},
   "outputs": [],
   "source": [
    "# 1. 割り算を使った計算をしてみましょう\n",
    "# 値は何でも良いですが、サンプルプログラムとは違う独自の値を入れましょう\n",
    "# 変数名も独自のものに変えましょう\n",
    "\n",
    "\n",
    "# ここにPythonプログラムを記述してください\n"
   ]
  },
  {
   "cell_type": "code",
   "execution_count": null,
   "metadata": {},
   "outputs": [],
   "source": [
    "# 2. 割り算の商を使った計算をしてみましょう\n",
    "# 値は何でも良いですが、サンプルプログラムとは違う独自の値を入れましょう\n",
    "# 変数名も独自のものに変えましょう\n",
    "\n",
    "\n",
    "# ここにPythonプログラムを記述してください\n"
   ]
  },
  {
   "cell_type": "code",
   "execution_count": null,
   "metadata": {},
   "outputs": [],
   "source": [
    "# 3. 割り算の余りを使った計算をしてみましょう\n",
    "# 値は何でも良いですが、サンプルプログラムとは違う独自の値を入れましょう\n",
    "# 変数名も独自のものに変えましょう\n",
    "\n",
    "\n",
    "# ここにPythonプログラムを記述してください\n"
   ]
  },
  {
   "cell_type": "markdown",
   "metadata": {},
   "source": [
    "---\n",
    "---\n",
    "---\n",
    "---\n",
    "---"
   ]
  },
  {
   "cell_type": "markdown",
   "metadata": {},
   "source": [
    "## サンプルプログラム4　if文\n",
    "if文を使った条件分岐を習得しましょう\n",
    "- if文\n",
    "- if - else 文\n",
    "- if - elif - else 文"
   ]
  },
  {
   "cell_type": "code",
   "execution_count": 68,
   "metadata": {},
   "outputs": [
    {
     "name": "stdout",
     "output_type": "stream",
     "text": [
      "55\n",
      "不可\n"
     ]
    }
   ],
   "source": [
    "# if文\n",
    "# input()で点数を受け取り、60点未満の時は”不可”と表示するプログラム\n",
    "exam_score1 = int(input()) # 入力した値をintに変換して取得\n",
    "if exam_score1 < 60: # 60点未満かどうかを比較。条件に適合する場合は、、、\n",
    "    print(\"不可\") # ”不可”と表示する"
   ]
  },
  {
   "cell_type": "code",
   "execution_count": 69,
   "metadata": {},
   "outputs": [
    {
     "name": "stdout",
     "output_type": "stream",
     "text": [
      "65\n",
      "可\n"
     ]
    }
   ],
   "source": [
    "# if - else 文\n",
    "# input()で点数を受け取り、60点未満の時は”不可”、60点以上の場合は\"可\"と表示するプログラム\n",
    "exam_score2 = int(input()) # 入力した値をintに変換して取得\n",
    "if exam_score2 < 60: # 60点未満かどうかを比較。条件に適合する場合は、\n",
    "    print(\"不可\") # ”不可”と表示する\n",
    "else: # 条件に適合しない場合は\n",
    "    print(\"可\") # ”可”と表示する"
   ]
  },
  {
   "cell_type": "code",
   "execution_count": 70,
   "metadata": {},
   "outputs": [
    {
     "name": "stdout",
     "output_type": "stream",
     "text": [
      "75\n",
      "良\n"
     ]
    }
   ],
   "source": [
    "# if - elif - else 文\n",
    "# input()で点数を受け取り、90点以上の時は”秀”、80点以上の場合は\"優\"、70点以上の場合は\"良\"、60点以上の場合は\"可\"、\n",
    "# 60点未満の場合は\"不可\"と表示するプログラム\n",
    "exam_score3 = int(input())\n",
    "if exam_score3 >= 90:\n",
    "    print(\"秀\")\n",
    "elif exam_score3 >= 80:\n",
    "    print(\"優\")\n",
    "elif exam_score3 >= 70:\n",
    "    print(\"良\")\n",
    "elif exam_score3 >= 60:\n",
    "    print(\"可\")\n",
    "else:\n",
    "    print(\"不可\")"
   ]
  },
  {
   "cell_type": "markdown",
   "metadata": {},
   "source": [
    "## 練習プログラム4 (0.9点)\n",
    "- if文を使った条件分岐のプログラムを作成してみましょう\n",
    "- if - else 文を使った条件分岐のプログラムを作成してみましょう\n",
    "- if - elif - else 文を使った条件分岐のプログラムを作成してみましょう"
   ]
  },
  {
   "cell_type": "code",
   "execution_count": 71,
   "metadata": {},
   "outputs": [],
   "source": [
    "# 1. if文を使った条件分岐のプログラムを作成してみましょう\n",
    "# 値は何でも良いですが、サンプルプログラムとは違う独自の値を入れるか、input()で値を受け取りましょう\n",
    "# 変数名も独自のものに変えましょう\n",
    "\n",
    "\n",
    "# ここにPythonプログラムを記述してください\n"
   ]
  },
  {
   "cell_type": "code",
   "execution_count": 72,
   "metadata": {},
   "outputs": [],
   "source": [
    "# 2. if - else 文を使った条件分岐のプログラムを作成してみましょう\n",
    "# 値は何でも良いですが、サンプルプログラムとは違う独自の値を入れるか、input()で値を受け取りましょう\n",
    "# 変数名も独自のものに変えましょう\n",
    "\n",
    "\n",
    "# ここにPythonプログラムを記述してください\n"
   ]
  },
  {
   "cell_type": "code",
   "execution_count": 73,
   "metadata": {},
   "outputs": [],
   "source": [
    "# 3. if - elif - else 文を使った条件分岐のプログラムを作成してみましょう\n",
    "# 値は何でも良いですが、サンプルプログラムとは違う独自の値を入れるか、input()で値を受け取りましょう\n",
    "# 変数名も独自のものに変えましょう\n",
    "\n",
    "\n",
    "# ここにPythonプログラムを記述してください\n"
   ]
  },
  {
   "cell_type": "markdown",
   "metadata": {},
   "source": [
    "---\n",
    "---\n",
    "---\n",
    "---\n",
    "---"
   ]
  },
  {
   "cell_type": "markdown",
   "metadata": {},
   "source": [
    "## サンプルプログラム5　list\n",
    "listの使い方を習得しましょう\n",
    "- listを作る\n",
    "- 要素の参照\n",
    "- 要素の追加1 〜 append()\n",
    "- 要素の追加2 〜 \"+=\"演算子を使ったリストの結合\n",
    "- 要素の削除1 〜 pop()\n",
    "- 要素の削除2 〜 del\n",
    "- 要素の削除3 〜 remove()\n",
    "- 空のリストを作る\n",
    "- range()でリストを作る\n",
    "- スライス1 抽出開始位置を指定したスライス\n",
    "- スライス2 抽出終了位置を指定したスライス\n",
    "- スライス3 抽出開始位置、抽出終了位置を指定したスライス\n",
    "- スライス4 何も指定しないスライス\n",
    "- スライス5 マイナスを指定したスライス（開始位置に指定）\n",
    "- スライス6 マイナスを指定したスライス（終了位置に指定）\n",
    "- スライス7 マイナスを指定したスライス（開始位置と終了位置に指定）\n",
    "- スライス8 stepを指定したスライス\n",
    "- スライス9 stepと抽出位置を指定したスライス"
   ]
  },
  {
   "cell_type": "code",
   "execution_count": 82,
   "metadata": {},
   "outputs": [
    {
     "name": "stdout",
     "output_type": "stream",
     "text": [
      "['赤', '白', '黄', '赤', '白', '黄']\n"
     ]
    }
   ],
   "source": [
    "# listを作る\n",
    "# 要素を初期化してlistを作成します\n",
    "colors = [\"赤\",\"白\",\"黄\",\"赤\",\"白\",\"黄\"]\n",
    "print(colors)"
   ]
  },
  {
   "cell_type": "code",
   "execution_count": 83,
   "metadata": {},
   "outputs": [
    {
     "name": "stdout",
     "output_type": "stream",
     "text": [
      "赤\n"
     ]
    }
   ],
   "source": [
    "# 要素の参照\n",
    "print(colors[3]) "
   ]
  },
  {
   "cell_type": "code",
   "execution_count": 84,
   "metadata": {},
   "outputs": [
    {
     "name": "stdout",
     "output_type": "stream",
     "text": [
      "['赤', '白', '黄', '赤', '白', '黄', '紫']\n"
     ]
    }
   ],
   "source": [
    "# 要素の追加1 〜 append()で要素を追加\n",
    "colors.append(\"紫\")\n",
    "print(colors)"
   ]
  },
  {
   "cell_type": "code",
   "execution_count": 85,
   "metadata": {},
   "outputs": [
    {
     "name": "stdout",
     "output_type": "stream",
     "text": [
      "['赤', '白', '黄', '赤', '白', '黄', '紫', '黒', '赤']\n"
     ]
    }
   ],
   "source": [
    "# 要素の追加2 〜 \"+=\"演算子を使ったリストの結合\n",
    "colors += [\"黒\",\"赤\"]\n",
    "print(colors)"
   ]
  },
  {
   "cell_type": "code",
   "execution_count": 86,
   "metadata": {},
   "outputs": [
    {
     "name": "stdout",
     "output_type": "stream",
     "text": [
      "['赤', '白', '赤', '白', '黄', '紫', '黒', '赤']\n"
     ]
    }
   ],
   "source": [
    "# 要素の削除1 〜 pop()でインデックスを指定して要素を削除。\n",
    "colors.pop(2)\n",
    "print(colors)"
   ]
  },
  {
   "cell_type": "code",
   "execution_count": 87,
   "metadata": {},
   "outputs": [
    {
     "name": "stdout",
     "output_type": "stream",
     "text": [
      "['赤', '黄', '紫', '黒', '赤']\n"
     ]
    }
   ],
   "source": [
    "# 要素の削除2 〜 delで範囲を指定して削除\n",
    "del colors[1:4]\n",
    "print(colors)"
   ]
  },
  {
   "cell_type": "code",
   "execution_count": 88,
   "metadata": {},
   "outputs": [
    {
     "name": "stdout",
     "output_type": "stream",
     "text": [
      "['黄', '紫', '黒', '赤']\n"
     ]
    }
   ],
   "source": [
    "# 要素の削除3 〜 remove()で値を指定して削除。複数ある時は前の方から削除されます\n",
    "colors.remove(\"赤\") # 黄紫黒赤\n",
    "print(colors)"
   ]
  },
  {
   "cell_type": "code",
   "execution_count": 1,
   "metadata": {},
   "outputs": [],
   "source": [
    "# 空のリストを作る\n",
    "empty_list = []"
   ]
  },
  {
   "cell_type": "code",
   "execution_count": 3,
   "metadata": {},
   "outputs": [
    {
     "name": "stdout",
     "output_type": "stream",
     "text": [
      "[0, 1, 2, 3, 4]\n"
     ]
    }
   ],
   "source": [
    "# range()でリストを作る\n",
    "range_list = list(range(5)) # 0,1,2,3,4\n",
    "print(range_list)"
   ]
  },
  {
   "cell_type": "code",
   "execution_count": 4,
   "metadata": {},
   "outputs": [
    {
     "name": "stdout",
     "output_type": "stream",
     "text": [
      "[3, 4]\n"
     ]
    }
   ],
   "source": [
    "# スライス1 抽出開始位置を指定したスライス\n",
    "print(range_list[3:])"
   ]
  },
  {
   "cell_type": "code",
   "execution_count": 5,
   "metadata": {},
   "outputs": [
    {
     "name": "stdout",
     "output_type": "stream",
     "text": [
      "[0, 1]\n"
     ]
    }
   ],
   "source": [
    "# スライス2 抽出終了位置を指定したスライス\n",
    "print(range_list[:2])"
   ]
  },
  {
   "cell_type": "code",
   "execution_count": 6,
   "metadata": {},
   "outputs": [
    {
     "name": "stdout",
     "output_type": "stream",
     "text": [
      "[1, 2]\n"
     ]
    }
   ],
   "source": [
    "# スライス3 抽出開始位置、抽出終了位置を指定したスライス\n",
    "print(range_list[1:3])"
   ]
  },
  {
   "cell_type": "code",
   "execution_count": 7,
   "metadata": {},
   "outputs": [
    {
     "name": "stdout",
     "output_type": "stream",
     "text": [
      "[0, 1, 2, 3, 4]\n"
     ]
    }
   ],
   "source": [
    "# スライス4 何も指定しないスライス\n",
    "print(range_list[:])"
   ]
  },
  {
   "cell_type": "code",
   "execution_count": 8,
   "metadata": {},
   "outputs": [
    {
     "name": "stdout",
     "output_type": "stream",
     "text": [
      "[2, 3, 4]\n"
     ]
    }
   ],
   "source": [
    "# スライス5 マイナスを指定したスライス（開始位置に指定）\n",
    "print(range_list[-3:])"
   ]
  },
  {
   "cell_type": "code",
   "execution_count": 9,
   "metadata": {},
   "outputs": [
    {
     "name": "stdout",
     "output_type": "stream",
     "text": [
      "[0, 1, 2]\n"
     ]
    }
   ],
   "source": [
    "# スライス6 マイナスを指定したスライス（終了位置に指定）\n",
    "print(range_list[:-2])"
   ]
  },
  {
   "cell_type": "code",
   "execution_count": 10,
   "metadata": {},
   "outputs": [
    {
     "name": "stdout",
     "output_type": "stream",
     "text": [
      "[2]\n"
     ]
    }
   ],
   "source": [
    "# スライス7 マイナスを指定したスライス（開始位置と終了位置に指定）\n",
    "print(range_list[-3:-2])"
   ]
  },
  {
   "cell_type": "code",
   "execution_count": 12,
   "metadata": {},
   "outputs": [
    {
     "name": "stdout",
     "output_type": "stream",
     "text": [
      "[0, 2, 4]\n"
     ]
    }
   ],
   "source": [
    "# スライス8 stepを指定したスライス\n",
    "print(range_list[::2])"
   ]
  },
  {
   "cell_type": "code",
   "execution_count": 13,
   "metadata": {},
   "outputs": [
    {
     "name": "stdout",
     "output_type": "stream",
     "text": [
      "[2, 4]\n"
     ]
    }
   ],
   "source": [
    "# スライス9 stepと抽出位置を指定したスライス\n",
    "print(range_list[-3::2])"
   ]
  },
  {
   "cell_type": "markdown",
   "metadata": {},
   "source": [
    "## 練習プログラム5 (2.4点)\n",
    "- listを作ってみましょう\n",
    "- 要素を１つ取り出して出力してみましょう\n",
    "- 要素を追加してみましょう\n",
    "- 要素を削除してみましょう\n",
    "- rangeでリストを作ってみましょう\n",
    "- スライスでリストを抽出してみましょう\n",
    "- マイナス値を使ったスライスでリストを抽出してみましょう\n",
    "- stepを指定してスライスを使ってみましょう"
   ]
  },
  {
   "cell_type": "code",
   "execution_count": 89,
   "metadata": {},
   "outputs": [],
   "source": [
    "# 1. listを作ってみましょう\n",
    "# 値は何でも良いですが、サンプルプログラムとは違う独自の値を入れるか、input()で値を受け取りましょう\n",
    "# 変数名も独自のものに変えましょう\n",
    "\n",
    "\n",
    "# ここにPythonプログラムを記述してください\n"
   ]
  },
  {
   "cell_type": "code",
   "execution_count": 90,
   "metadata": {},
   "outputs": [],
   "source": [
    "# 2. 要素を１つ取り出して出力してみましょう\n",
    "# サンプルプログラムとは違う独自の値を出力しましょう\n",
    "\n",
    "\n",
    "# ここにPythonプログラムを記述してください\n"
   ]
  },
  {
   "cell_type": "code",
   "execution_count": 92,
   "metadata": {},
   "outputs": [],
   "source": [
    "# 3. 要素を追加してみましょう\n",
    "# サンプルプログラムとは違う独自の値を追加、出力しましょう\n",
    "\n",
    "\n",
    "# ここにPythonプログラムを記述してください\n"
   ]
  },
  {
   "cell_type": "code",
   "execution_count": 91,
   "metadata": {},
   "outputs": [],
   "source": [
    "# 4. 要素を削除してみましょう\n",
    "# サンプルプログラムとは違う独自の値を削除、出力しましょう\n",
    "\n",
    "\n",
    "# ここにPythonプログラムを記述してください\n"
   ]
  },
  {
   "cell_type": "code",
   "execution_count": 14,
   "metadata": {},
   "outputs": [],
   "source": [
    "# 5. rangeでリストを作ってみましょう\n",
    "# サンプルプログラムとは違う独自の値を作って出力しましょう\n",
    "\n",
    "\n",
    "# ここにPythonプログラムを記述してください\n"
   ]
  },
  {
   "cell_type": "code",
   "execution_count": 15,
   "metadata": {},
   "outputs": [],
   "source": [
    "# 6. スライスでリストを抽出してみましょう\n",
    "# サンプルプログラムとは違う独自の値を抽出、出力しましょう\n",
    "\n",
    "\n",
    "# ここにPythonプログラムを記述してください\n"
   ]
  },
  {
   "cell_type": "code",
   "execution_count": 16,
   "metadata": {},
   "outputs": [],
   "source": [
    "# 7. マイナス値を使ったスライスでリストを抽出してみましょう\n",
    "# サンプルプログラムとは違う独自の値を抽出、出力しましょう\n",
    "\n",
    "\n",
    "# ここにPythonプログラムを記述してください\n"
   ]
  },
  {
   "cell_type": "code",
   "execution_count": 17,
   "metadata": {},
   "outputs": [],
   "source": [
    "# 8. stepを指定してスライスを使ってみましょう\n",
    "# サンプルプログラムとは違う独自の値を抽出、出力しましょう\n",
    "\n",
    "\n",
    "# ここにPythonプログラムを記述してください\n"
   ]
  },
  {
   "cell_type": "markdown",
   "metadata": {},
   "source": [
    "---\n",
    "---\n",
    "---\n",
    "---\n",
    "---"
   ]
  },
  {
   "cell_type": "markdown",
   "metadata": {},
   "source": [
    "## サンプルプログラム6　組み込み関数\n",
    "min(),max(),sum()の使い方を習得しましょう\n",
    "- min() を使って最小値を出力\n",
    "- max() を使って最大値を出力\n",
    "- sum() を使って合計値を出力"
   ]
  },
  {
   "cell_type": "code",
   "execution_count": 93,
   "metadata": {},
   "outputs": [
    {
     "name": "stdout",
     "output_type": "stream",
     "text": [
      "30\n"
     ]
    }
   ],
   "source": [
    "# min() を使って最小値を出力\n",
    "snack_price = [30, 70, 50, 90]\n",
    "print(min(snack_price))"
   ]
  },
  {
   "cell_type": "code",
   "execution_count": 94,
   "metadata": {},
   "outputs": [
    {
     "name": "stdout",
     "output_type": "stream",
     "text": [
      "90\n"
     ]
    }
   ],
   "source": [
    "# max() を使って最大値を出力\n",
    "print(max(snack_price))"
   ]
  },
  {
   "cell_type": "code",
   "execution_count": 95,
   "metadata": {},
   "outputs": [
    {
     "name": "stdout",
     "output_type": "stream",
     "text": [
      "240\n"
     ]
    }
   ],
   "source": [
    "# sum() を使って最大値を出力\n",
    "print(sum(snack_price))"
   ]
  },
  {
   "cell_type": "markdown",
   "metadata": {},
   "source": [
    "## 練習プログラム6 (0.6点)\n",
    "- min()もしくはmax()を使って最小値もしくは最大値を出力してみましょう\n",
    "- sum()を使って合計値を出力してみましょう"
   ]
  },
  {
   "cell_type": "code",
   "execution_count": 96,
   "metadata": {},
   "outputs": [],
   "source": [
    "# 1. min()もしくはmax()を使って最小値もしくは最大値を出力してみましょう\n",
    "# 値は何でも良いですが、サンプルプログラムとは違う独自の値を入れるか、input()で値を受け取りましょう\n",
    "# 変数名も独自のものに変えましょう\n",
    "\n",
    "\n",
    "# ここにPythonプログラムを記述してください\n"
   ]
  },
  {
   "cell_type": "code",
   "execution_count": 97,
   "metadata": {},
   "outputs": [],
   "source": [
    "# 2. sum()を使って合計値を出力してみましょう\n",
    "# 値は何でも良いですが、サンプルプログラムとは違う独自の値を入れるか、input()で値を受け取りましょう\n",
    "# 変数名も独自のものに変えましょう\n",
    "\n",
    "\n",
    "# ここにPythonプログラムを記述してください\n"
   ]
  },
  {
   "cell_type": "code",
   "execution_count": null,
   "metadata": {},
   "outputs": [],
   "source": []
  }
 ],
 "metadata": {
  "colab": {
   "authorship_tag": "ABX9TyMOtB7OiTVLb+yu2KoVwjto",
   "include_colab_link": true,
   "provenance": []
  },
  "kernelspec": {
   "display_name": "Python 3 (ipykernel)",
   "language": "python",
   "name": "python3"
  },
  "language_info": {
   "codemirror_mode": {
    "name": "ipython",
    "version": 3
   },
   "file_extension": ".py",
   "mimetype": "text/x-python",
   "name": "python",
   "nbconvert_exporter": "python",
   "pygments_lexer": "ipython3",
   "version": "3.11.7"
  }
 },
 "nbformat": 4,
 "nbformat_minor": 4
}
