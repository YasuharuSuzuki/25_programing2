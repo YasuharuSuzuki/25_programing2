{
 "cells": [
  {
   "cell_type": "markdown",
   "metadata": {},
   "source": [
    "<a href=\"https://colab.research.google.com/github/YasuharuSuzuki/25_programing2/blob/main/\" target=\"_parent\"><img src=\"https://colab.research.google.com/assets/colab-badge.svg\" alt=\"Open In Colab\"/></a>"
   ]
  },
  {
   "cell_type": "markdown",
   "metadata": {
    "id": "KSSJqXOosEeX"
   },
   "source": [
    "# 02_用語の理解1"
   ]
  },
  {
   "cell_type": "markdown",
   "metadata": {
    "id": "VRQcesdKsEec"
   },
   "source": [
    "## 用語の理解を問う問題\n",
    "- 以下の問題について、正解となる選択肢を出力してください"
   ]
  },
  {
   "cell_type": "markdown",
   "metadata": {},
   "source": [
    "### 例題1\n",
    "- 繰り返し文（ループ文）で使用する制御文を次から選択してください\n",
    "  1. loop\n",
    "  2. whole\n",
    "  3. for\n",
    "  4. if"
   ]
  },
  {
   "cell_type": "code",
   "execution_count": 2,
   "metadata": {
    "colab": {
     "base_uri": "https://localhost:8080/"
    },
    "executionInfo": {
     "elapsed": 4,
     "status": "ok",
     "timestamp": 1715146891566,
     "user": {
      "displayName": "鈴木康元",
      "userId": "15385942521303414593"
     },
     "user_tz": -540
    },
    "id": "EoLQwK5fsEec",
    "outputId": "7ba8a3ba-9e37-42db-c12e-d410e0a3ab2c"
   },
   "outputs": [
    {
     "name": "stdout",
     "output_type": "stream",
     "text": [
      "3\n"
     ]
    }
   ],
   "source": [
    "# 正解例\n",
    "print('3')"
   ]
  },
  {
   "cell_type": "markdown",
   "metadata": {
    "id": "bP053hXUsEee"
   },
   "source": [
    "---\n",
    "---\n",
    "---\n",
    "### 問7 小数点の桁数指定 (0.3点)\n",
    "- 小数点以下を3桁以上持つ小数値を定義し、小数点以下2桁までの文字列として出力する正しいコードはどれですか？\n",
    "---\n",
    "#### 1\n",
    "```python\n",
    "value = 3.14159\n",
    "print(value[0:4])\n",
    "```\n",
    "---\n",
    "#### 2\n",
    "```python\n",
    "value = 3.14159\n",
    "print(\"{:.2}\".format(value))\n",
    "```\n",
    "---\n",
    "#### 3\n",
    "```python\n",
    "value = 3.14159\n",
    "print(f\"{value:.2f}\")\n",
    "```\n",
    "---\n",
    "#### 4\n",
    "```python\n",
    "value = 3.14159\n",
    "print(f\"{.2f:value}\")\n",
    "```\n"
   ]
  },
  {
   "cell_type": "code",
   "execution_count": 14,
   "metadata": {
    "colab": {
     "base_uri": "https://localhost:8080/"
    },
    "executionInfo": {
     "elapsed": 255,
     "status": "ok",
     "timestamp": 1715147036615,
     "user": {
      "displayName": "鈴木康元",
      "userId": "15385942521303414593"
     },
     "user_tz": -540
    },
    "id": "8cg5YTLosEee",
    "outputId": "c6671804-b225-4341-ea70-8833bd5eb194"
   },
   "outputs": [
    {
     "name": "stdout",
     "output_type": "stream",
     "text": [
      "3\n"
     ]
    }
   ],
   "source": [
    "# 正解を出力してください\n",
    "print('3')"
   ]
  },
  {
   "cell_type": "markdown",
   "metadata": {},
   "source": [
    "---\n",
    "\n",
    "### 解説\n",
    "- 1. は文字列を抽出するかのようにスライスを用いていますが、実行するとエラーになります\n",
    "- 2. は桁数指定と認識され、3.1と出力されます\n",
    "- 4. は値と桁数指定が逆です\n",
    "\n",
    "プログラミングⅠの課題では、04組み込み関数/04文字列のメソッド.ipnyb で類似の問題を出題しています\n",
    "\n",
    "---"
   ]
  },
  {
   "cell_type": "markdown",
   "metadata": {},
   "source": [
    "---\n",
    "---\n",
    "---\n",
    "### 問8 危険な代入 (0.3点)\n",
    "\n",
    "以下のコードのうち、Pythonの予約語や組み込み関数を変数として使用しており、プログラムの動作に重大な問題を引き起こす可能性があるものはどれですか？\n",
    "\n",
    "---\n",
    "#### 1\n",
    "```python\n",
    "print = 42\n",
    "result = print + 10\n",
    "```\n",
    "\n",
    "---\n",
    "#### 2\n",
    "```python\n",
    "number = 42\n",
    "result = number + 10\n",
    "print(result)\n",
    "```\n",
    "\n",
    "---\n",
    "#### 3\n",
    "```python\n",
    "value = 42\n",
    "total = value + 10\n",
    "print(total)\n",
    "```\n",
    "\n",
    "---\n",
    "#### 4\n",
    "```python\n",
    "score = 42\n",
    "answer = score + 10\n",
    "print(answer)\n",
    "```"
   ]
  },
  {
   "cell_type": "code",
   "execution_count": 15,
   "metadata": {
    "colab": {
     "base_uri": "https://localhost:8080/"
    },
    "executionInfo": {
     "elapsed": 278,
     "status": "ok",
     "timestamp": 1715147048787,
     "user": {
      "displayName": "鈴木康元",
      "userId": "15385942521303414593"
     },
     "user_tz": -540
    },
    "id": "y2CxWqMusEef",
    "outputId": "8129fcea-362e-4f33-d57b-529f8313a51f"
   },
   "outputs": [
    {
     "name": "stdout",
     "output_type": "stream",
     "text": [
      "1\n"
     ]
    }
   ],
   "source": [
    "# 正解を出力してください\n",
    "print('1')"
   ]
  },
  {
   "attachments": {},
   "cell_type": "markdown",
   "metadata": {
    "id": "sqzgb-X2sEef"
   },
   "source": [
    "---\n",
    "\n",
    "### 解説\n",
    "- 1のコードが問題である理由\n",
    "    - print はPythonの重要な組み込み関数です\n",
    "    - これを変数として使用すると、以降の print() による出力が全てできなくなります\n",
    "    - この状態を解消するにはPython環境の再起動が必要になります\n",
    "\n",
    "- 2、3、4のコードは適切\n",
    "    - number、value、score、result、total、answer は一般的な変数名で問題ありません\n",
    "    - Pythonの予約語や組み込み関数と重複していません\n",
    "\n",
    "- このような問題を避けるために\n",
    "    - 変数名には具体的で分かりやすい一般的な名前を付ける\n",
    "    - Pythonの組み込み関数の名前は変数として使用しない\n",
    "\n",
    "---\n"
   ]
  },
  {
   "cell_type": "markdown",
   "metadata": {},
   "source": [
    "---\n",
    "---\n",
    "---\n",
    "### 問9 インデント (0.3点)\n",
    "- PEP 8（Pythonのスタイルガイド）で推奨されているインデントの幅は何スペースですか？\n",
    "    1. タブ１つ\n",
    "    2. 空白２つ\n",
    "    3. 空白４つ\n",
    "    4. 空白８つ\n"
   ]
  },
  {
   "cell_type": "code",
   "execution_count": 3,
   "metadata": {},
   "outputs": [
    {
     "name": "stdout",
     "output_type": "stream",
     "text": [
      "3\n"
     ]
    }
   ],
   "source": [
    "# 正解を出力してください\n",
    "print('3')"
   ]
  },
  {
   "cell_type": "markdown",
   "metadata": {},
   "source": [
    "---\n",
    "\n",
    "### 解説\n",
    "- タブ（\\t）は推奨されていません。空白４つが正解です\n",
    "\n",
    "プログラミングⅠの課題では、05if文/01if文_条件で処理を分岐する.ipnyb で説明されています\n",
    "\n",
    "---"
   ]
  },
  {
   "cell_type": "markdown",
   "metadata": {},
   "source": [
    "---\n",
    "---\n",
    "---\n",
    "### 問10 リスト操作 (0.3点)\n",
    "- リストをコロン（：）区切りで value[start:end] のように使用してリストの部分列を抽出できる機能をなんというか？\n",
    "    1. ストリップ（strip）\n",
    "    2. スプリット（split）  \n",
    "    3. スライス（slice）  \n",
    "    4. リスト内包表記  "
   ]
  },
  {
   "cell_type": "code",
   "execution_count": 4,
   "metadata": {},
   "outputs": [
    {
     "name": "stdout",
     "output_type": "stream",
     "text": [
      "3\n"
     ]
    }
   ],
   "source": [
    "# 正解を出力してください\n",
    "print('3')"
   ]
  },
  {
   "cell_type": "markdown",
   "metadata": {},
   "source": [
    "---\n",
    "\n",
    "### 解説\n",
    "\n",
    "プログラミングⅠの課題では、09list1/04スライス.ipnyb で取り扱っております\n",
    "\n",
    "---"
   ]
  },
  {
   "cell_type": "markdown",
   "metadata": {},
   "source": [
    "---\n",
    "---\n",
    "---\n",
    "---\n",
    "---"
   ]
  }
 ],
 "metadata": {
  "colab": {
   "provenance": [
    {
     "file_id": "https://github.com/YasuharuSuzuki/24_programing2/blob/main/04%E8%BE%9E%E6%9B%B8/01%E8%BE%9E%E6%9B%B8%E3%82%92%E4%BD%9C%E3%82%8B.ipynb",
     "timestamp": 1715146358060
    }
   ]
  },
  "kernelspec": {
   "display_name": "Python 3 (ipykernel)",
   "language": "python",
   "name": "python3"
  },
  "language_info": {
   "codemirror_mode": {
    "name": "ipython",
    "version": 3
   },
   "file_extension": ".py",
   "mimetype": "text/x-python",
   "name": "python",
   "nbconvert_exporter": "python",
   "pygments_lexer": "ipython3",
   "version": "3.11.9"
  }
 },
 "nbformat": 4,
 "nbformat_minor": 4
}
