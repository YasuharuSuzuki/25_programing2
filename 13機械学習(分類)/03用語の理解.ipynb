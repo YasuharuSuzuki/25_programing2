{
 "cells": [
  {
   "cell_type": "markdown",
   "metadata": {},
   "source": [
    "<a href=\"https://colab.research.google.com/github/YasuharuSuzuki/25_programing2/blob/main/\" target=\"_parent\"><img src=\"https://colab.research.google.com/assets/colab-badge.svg\" alt=\"Open In Colab\"/></a>"
   ]
  },
  {
   "cell_type": "markdown",
   "metadata": {
    "id": "KSSJqXOosEeX"
   },
   "source": [
    "# 03_用語の理解"
   ]
  },
  {
   "cell_type": "markdown",
   "metadata": {
    "id": "VRQcesdKsEec"
   },
   "source": [
    "## 用語の理解を問う問題\n",
    "- 以下の問題について、正解となる選択肢を出力してください"
   ]
  },
  {
   "cell_type": "markdown",
   "metadata": {
    "id": "bP053hXUsEee"
   },
   "source": [
    "---\n",
    "---\n",
    "---\n",
    "## 問14 教師あり学習 (0.3点)\n",
    "- 教師あり学習の説明として、最も適切なものを次から選べ\n",
    "\n",
    "1. データにラベル（正解）が存在しない状態で学習を行う手法である\n",
    "2. モデルは、報酬を最大化するために環境との相互作用から学習する\n",
    "3. 入力とそれに対応する正解ラベルのペアを用いて、予測モデルを学習する手法である\n",
    "4. データの次元削減を行って特徴量を自動的に抽出するための手法である\n"
   ]
  },
  {
   "cell_type": "code",
   "execution_count": 1,
   "metadata": {
    "colab": {
     "base_uri": "https://localhost:8080/"
    },
    "executionInfo": {
     "elapsed": 255,
     "status": "ok",
     "timestamp": 1715147036615,
     "user": {
      "displayName": "鈴木康元",
      "userId": "15385942521303414593"
     },
     "user_tz": -540
    },
    "id": "8cg5YTLosEee",
    "outputId": "c6671804-b225-4341-ea70-8833bd5eb194"
   },
   "outputs": [
    {
     "name": "stdout",
     "output_type": "stream",
     "text": [
      "\n"
     ]
    }
   ],
   "source": [
    "# 正解を出力してください\n",
    "print('')"
   ]
  },
  {
   "cell_type": "markdown",
   "metadata": {},
   "source": [
    "---\n",
    "---\n",
    "---\n",
    "## 問15 訓練データとテストデータを分割する目的 (0.3点)\n",
    "\n",
    "機械学習で訓練データとテストデータを分割する主な目的として、最も適切なものはどれか？\n",
    "\n",
    "1. モデルの学習時間を短縮するため\n",
    "2. 学習データをより多く確保するため\n",
    "3. モデルの汎化性能（未知のデータへの対応力）を評価するため\n",
    "4. モデルの正解ラベルを増やして精度を高めるため\n"
   ]
  },
  {
   "cell_type": "code",
   "execution_count": 2,
   "metadata": {
    "colab": {
     "base_uri": "https://localhost:8080/"
    },
    "executionInfo": {
     "elapsed": 278,
     "status": "ok",
     "timestamp": 1715147048787,
     "user": {
      "displayName": "鈴木康元",
      "userId": "15385942521303414593"
     },
     "user_tz": -540
    },
    "id": "y2CxWqMusEef",
    "outputId": "8129fcea-362e-4f33-d57b-529f8313a51f"
   },
   "outputs": [
    {
     "name": "stdout",
     "output_type": "stream",
     "text": [
      "\n"
     ]
    }
   ],
   "source": [
    "# 正解を出力してください\n",
    "print('')"
   ]
  },
  {
   "cell_type": "markdown",
   "metadata": {},
   "source": [
    "---\n",
    "---\n",
    "---\n",
    "## 問16 説明変数 (0.3点)\n",
    "\n",
    "- 次のうち「説明変数（X）」の説明として最も適切なものはどれか？\n"
   ]
  },
  {
   "cell_type": "markdown",
   "metadata": {},
   "source": [
    "1. モデルの正解を表すラベルのこと\n",
    "2. モデルを構築するための入力データのこと\n",
    "3. 評価結果を格納するための変数のこと\n",
    "4. 学習の途中で生成される中間データのこと"
   ]
  },
  {
   "cell_type": "code",
   "execution_count": 3,
   "metadata": {},
   "outputs": [
    {
     "name": "stdout",
     "output_type": "stream",
     "text": [
      "\n"
     ]
    }
   ],
   "source": [
    "# 正解を出力してください\n",
    "print('')"
   ]
  },
  {
   "cell_type": "markdown",
   "metadata": {},
   "source": [
    "---\n",
    "---\n",
    "---\n",
    "## 問17 複数の決定木を使った機械学習モデル (0.3点)\n",
    "\n",
    "- 複数の決定木を使い、多数決や平均で最終判断を行うモデルを次から選べ\n",
    "\n",
    "1. SVM\n",
    "2. Decision Tree\n",
    "3. Logistic Regression\n",
    "4. RandomForest\n"
   ]
  },
  {
   "cell_type": "code",
   "execution_count": 4,
   "metadata": {},
   "outputs": [
    {
     "name": "stdout",
     "output_type": "stream",
     "text": [
      "\n"
     ]
    }
   ],
   "source": [
    "# 正解を出力してください\n",
    "print('')"
   ]
  },
  {
   "cell_type": "markdown",
   "metadata": {},
   "source": [
    "---\n",
    "---\n",
    "---\n",
    "## 問18 ルールベース (0.3点)\n",
    "\n",
    "- AI研究初期の頃にスタンフォード大学にて開発された医療診断用エキスパートシステムなどは、ルールベースで構築された有名な事例の１つです。\n",
    "この「ルールベース」の特徴として最も適切なものを次から選べ\n",
    "\n",
    "1. 統計的な学習手法により、データから自動的にパターンを見つけ出すシステムである\n",
    "2. 人間があらかじめ大量のif文などのルールを記述し、それに従って動作する仕組みである\n",
    "3. 報酬を最大化するために環境との相互作用から学習する強化学習の一種である\n",
    "4. 学習用データを使って予測モデルを構築する教師あり学習の手法である\n"
   ]
  },
  {
   "cell_type": "code",
   "execution_count": 5,
   "metadata": {},
   "outputs": [
    {
     "name": "stdout",
     "output_type": "stream",
     "text": [
      "\n"
     ]
    }
   ],
   "source": [
    "# 正解を出力してください\n",
    "print('')"
   ]
  },
  {
   "cell_type": "markdown",
   "metadata": {},
   "source": [
    "---\n",
    "---\n",
    "---\n",
    "---\n",
    "---"
   ]
  },
  {
   "cell_type": "code",
   "execution_count": null,
   "metadata": {},
   "outputs": [],
   "source": []
  }
 ],
 "metadata": {
  "colab": {
   "provenance": [
    {
     "file_id": "https://github.com/YasuharuSuzuki/24_programing2/blob/main/04%E8%BE%9E%E6%9B%B8/01%E8%BE%9E%E6%9B%B8%E3%82%92%E4%BD%9C%E3%82%8B.ipynb",
     "timestamp": 1715146358060
    }
   ]
  },
  "kernelspec": {
   "display_name": "Python 3 (ipykernel)",
   "language": "python",
   "name": "python3"
  },
  "language_info": {
   "codemirror_mode": {
    "name": "ipython",
    "version": 3
   },
   "file_extension": ".py",
   "mimetype": "text/x-python",
   "name": "python",
   "nbconvert_exporter": "python",
   "pygments_lexer": "ipython3",
   "version": "3.11.9"
  }
 },
 "nbformat": 4,
 "nbformat_minor": 4
}
