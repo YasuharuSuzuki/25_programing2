{
 "cells": [
  {
   "cell_type": "markdown",
   "metadata": {},
   "source": [
    "<a href=\"https://colab.research.google.com/github/YasuharuSuzuki/25_programing2/blob/main/\" target=\"_parent\"><img src=\"https://colab.research.google.com/assets/colab-badge.svg\" alt=\"Open In Colab\"/></a>"
   ]
  },
  {
   "cell_type": "markdown",
   "metadata": {
    "id": "KSSJqXOosEeX"
   },
   "source": [
    "# 03_用語の理解"
   ]
  },
  {
   "cell_type": "markdown",
   "metadata": {
    "id": "VRQcesdKsEec"
   },
   "source": [
    "## 用語の理解を問う問題\n",
    "- 以下の問題について、正解となる選択肢を出力してください"
   ]
  },
  {
   "cell_type": "markdown",
   "metadata": {
    "id": "bP053hXUsEee"
   },
   "source": [
    "---\n",
    "---\n",
    "---\n",
    "## 問14 教師あり学習 (0.3点)\n",
    "- 教師あり学習の説明として、最も適切なものを次から選べ\n",
    "\n",
    "1. データにラベル（正解）が存在しない状態で学習を行う手法である\n",
    "2. モデルは、報酬を最大化するために環境との相互作用から学習する\n",
    "3. 入力とそれに対応する正解ラベルのペアを用いて、予測モデルを学習する手法である\n",
    "4. データの次元削減を行って特徴量を自動的に抽出するための手法である\n"
   ]
  },
  {
   "cell_type": "code",
   "execution_count": 1,
   "metadata": {
    "colab": {
     "base_uri": "https://localhost:8080/"
    },
    "executionInfo": {
     "elapsed": 255,
     "status": "ok",
     "timestamp": 1715147036615,
     "user": {
      "displayName": "鈴木康元",
      "userId": "15385942521303414593"
     },
     "user_tz": -540
    },
    "id": "8cg5YTLosEee",
    "outputId": "c6671804-b225-4341-ea70-8833bd5eb194"
   },
   "outputs": [
    {
     "name": "stdout",
     "output_type": "stream",
     "text": [
      "3\n"
     ]
    }
   ],
   "source": [
    "# 正解を出力してください\n",
    "print('3')"
   ]
  },
  {
   "cell_type": "markdown",
   "metadata": {},
   "source": [
    "### 解説\n",
    "\n",
    "1. これは「教師なし学習」の説明です。教師あり学習では「ラベル付きデータ」が必要です。\n",
    "2. これは「強化学習」の説明です。報酬に基づいて学習します。\n",
    "3. 正しい選択肢です。教師あり学習は、入力と正解（ラベル）のセットから、入力に対する出力を予測できるようなモデルを学習します。\n",
    "4. これは「教師なし学習」や「次元削減（PCAなど）」の目的に近い内容です。教師あり学習の定義とは異なります。"
   ]
  },
  {
   "cell_type": "markdown",
   "metadata": {},
   "source": [
    "---\n",
    "---\n",
    "---\n",
    "## 問15 訓練データとテストデータを分割する目的 (0.3点)\n",
    "\n",
    "機械学習で訓練データとテストデータを分割する主な目的として、最も適切なものはどれか？\n",
    "\n",
    "1. モデルの学習時間を短縮するため\n",
    "2. 学習データをより多く確保するため\n",
    "3. モデルの汎化性能（未知のデータへの対応力）を評価するため\n",
    "4. モデルの正解ラベルを増やして精度を高めるため\n"
   ]
  },
  {
   "cell_type": "code",
   "execution_count": 2,
   "metadata": {
    "colab": {
     "base_uri": "https://localhost:8080/"
    },
    "executionInfo": {
     "elapsed": 278,
     "status": "ok",
     "timestamp": 1715147048787,
     "user": {
      "displayName": "鈴木康元",
      "userId": "15385942521303414593"
     },
     "user_tz": -540
    },
    "id": "y2CxWqMusEef",
    "outputId": "8129fcea-362e-4f33-d57b-529f8313a51f"
   },
   "outputs": [
    {
     "name": "stdout",
     "output_type": "stream",
     "text": [
      "3\n"
     ]
    }
   ],
   "source": [
    "# 正解を出力してください\n",
    "print('3')"
   ]
  },
  {
   "cell_type": "markdown",
   "metadata": {},
   "source": [
    "### 解説\n",
    "\n",
    "1. 訓練データを減らすことで学習時間は短くなりますが、それが分割の主目的ではありません。\n",
    "2. 分割により訓練データはむしろ減るため、これは誤りです。\n",
    "3. 正しい選択肢です。テストデータは、訓練に使われていない未知のデータであり、モデルが新しいデータにどれくらい対応できるか（汎化性能）を評価するために使われます。\n",
    "4. 分割は正解ラベルの数を増やすものではありません。むしろ、データが分散されることで1つのセットあたりのデータは減ることがあります。"
   ]
  },
  {
   "cell_type": "markdown",
   "metadata": {},
   "source": [
    "---\n",
    "---\n",
    "---\n",
    "## 問16 説明変数 (0.3点)\n",
    "\n",
    "- 次のうち「説明変数（X）」の説明として最も適切なものはどれか？\n"
   ]
  },
  {
   "cell_type": "markdown",
   "metadata": {},
   "source": [
    "1. モデルの正解を表すラベルのこと\n",
    "2. モデルを構築するための入力データのこと\n",
    "3. 評価結果を格納するための変数のこと\n",
    "4. 学習の途中で生成される中間データのこと"
   ]
  },
  {
   "cell_type": "code",
   "execution_count": 3,
   "metadata": {},
   "outputs": [
    {
     "name": "stdout",
     "output_type": "stream",
     "text": [
      "2\n"
     ]
    }
   ],
   "source": [
    "# 正解を出力してください\n",
    "print('2')"
   ]
  },
  {
   "cell_type": "markdown",
   "metadata": {},
   "source": [
    "### 解説\n",
    "1. この説明は「目的変数（y）」に該当します。\n",
    "   yは教師あり学習における「正解ラベル」であり、モデルが学習の目標とするものです。\n",
    "   例：画像分類で「猫」「犬」などのラベルがyに相当。\n",
    "2. 正しい選択肢です。説明変数（X）とは、モデルに与える入力のことです。\n",
    "   特徴量とも呼ばれ、モデルはXをもとにy（正解）を予測するように学習します。\n",
    "   例：家の価格予測であれば、Xは「間取り」「立地」「築年数」など。\n",
    "3. 評価結果（例えば精度や損失値など）は、別途評価関数やスコア変数に格納されます。\n",
    "   Xはそのような「結果を入れる場所」ではなく、あくまで学習に使う入力データです。\n",
    "4. 中間データ（例えばニューラルネットワークの中間層の出力など）はXではありません。\n",
    "   Xは最初にモデルに入力される外部データであり、学習前から存在している変数です。"
   ]
  },
  {
   "cell_type": "markdown",
   "metadata": {},
   "source": [
    "---\n",
    "---\n",
    "---\n",
    "## 問17 複数の決定木を使った機械学習モデル (0.3点)\n",
    "\n",
    "- 複数の決定木を使い、多数決や平均で最終判断を行うモデルを次から選べ\n",
    "\n",
    "1. SVM\n",
    "2. Decision Tree\n",
    "3. Logistic Regression\n",
    "4. RandomForest\n"
   ]
  },
  {
   "cell_type": "code",
   "execution_count": 4,
   "metadata": {},
   "outputs": [
    {
     "name": "stdout",
     "output_type": "stream",
     "text": [
      "4\n"
     ]
    }
   ],
   "source": [
    "# 正解を出力してください\n",
    "print('4')"
   ]
  },
  {
   "cell_type": "markdown",
   "metadata": {},
   "source": [
    "### 解説\n",
    "1. SVMは、「マージン（境界）」を最大化するような1つの超平面（境界線）を見つけるモデルです。\n",
    "   カーネル法を使って高次元空間でも分類が可能ですが、決定木を使うことはありません。\n",
    "2. 決定木は1本の木構造で構成され、条件分岐によって分類や回帰を行います。\n",
    "   単独で使われることもありますが、「複数の決定木を使う」モデルではありません。\n",
    "3. ロジスティック回帰は線形モデルであり、確率的な分類を行うものです。\n",
    "   決定木も多数決も使いません。数式に基づいて分類境界を計算するアプローチです。\n",
    "4. 複数の決定木を構築し、それぞれの予測結果に対して分類なら多数決、回帰なら平均を取ることで最終判断を行うアンサンブル学習の一種です。\n",
    "   データと特徴量をランダムに選ぶことで、過学習を防ぎつつ精度の高い予測が可能になります。\""
   ]
  },
  {
   "cell_type": "markdown",
   "metadata": {},
   "source": [
    "---\n",
    "---\n",
    "---\n",
    "## 問18 ルールベース (0.3点)\n",
    "\n",
    "- AI研究初期の頃にスタンフォード大学にて開発された医療診断用エキスパートシステムなどは、ルールベースで構築された有名な事例の１つです。\n",
    "この「ルールベース」の特徴として最も適切なものを次から選べ\n",
    "\n",
    "1. 統計的な学習手法により、データから自動的にパターンを見つけ出すシステムである\n",
    "2. 人間があらかじめ大量のif文などのルールを記述し、それに従って動作する仕組みである\n",
    "3. 報酬を最大化するために環境との相互作用から学習する強化学習の一種である\n",
    "4. 学習用データを使って予測モデルを構築する教師あり学習の手法である\n"
   ]
  },
  {
   "cell_type": "code",
   "execution_count": 5,
   "metadata": {},
   "outputs": [
    {
     "name": "stdout",
     "output_type": "stream",
     "text": [
      "2\n"
     ]
    }
   ],
   "source": [
    "# 正解を出力してください\n",
    "print('2')"
   ]
  },
  {
   "cell_type": "markdown",
   "metadata": {},
   "source": [
    "### 解説\n",
    "1. これは機械学習（特に教師あり学習や教師なし学習）の説明です。\n",
    "   統計的な処理やパターン抽出はルールベースではなく、データドリブンな学習手法によるものです。\n",
    "2. ルールベースは人間の専門知識をif-thenルールとして明示的に記述し、それに基づいて推論を行うAIの初期形態です。\n",
    "   スタンフォード大学で開発された「MYCIN」などが代表例で、感染症の診断を目的としたエキスパートシステムでした。\n",
    "3. これは強化学習（Reinforcement Learning）の説明です。\n",
    "   強化学習ではエージェントが環境からの報酬に基づいて学習しますが、ルールベースはあらかじめ定められたルールに従うだけで、学習や最適化は行いません。\n",
    "   これは教師あり学習（Supervised Learning）の説明です。\n",
    "4. 説明変数と目的変数の関係をデータから学習してモデルを構築するのが教師あり学習であり、ルールベースはデータから学習せず、明示的な規則に従います。"
   ]
  },
  {
   "cell_type": "markdown",
   "metadata": {},
   "source": [
    "---\n",
    "---\n",
    "---\n",
    "---\n",
    "---"
   ]
  },
  {
   "cell_type": "code",
   "execution_count": null,
   "metadata": {},
   "outputs": [],
   "source": []
  }
 ],
 "metadata": {
  "colab": {
   "provenance": [
    {
     "file_id": "https://github.com/YasuharuSuzuki/24_programing2/blob/main/04%E8%BE%9E%E6%9B%B8/01%E8%BE%9E%E6%9B%B8%E3%82%92%E4%BD%9C%E3%82%8B.ipynb",
     "timestamp": 1715146358060
    }
   ]
  },
  "kernelspec": {
   "display_name": "Python 3 (ipykernel)",
   "language": "python",
   "name": "python3"
  },
  "language_info": {
   "codemirror_mode": {
    "name": "ipython",
    "version": 3
   },
   "file_extension": ".py",
   "mimetype": "text/x-python",
   "name": "python",
   "nbconvert_exporter": "python",
   "pygments_lexer": "ipython3",
   "version": "3.11.9"
  }
 },
 "nbformat": 4,
 "nbformat_minor": 4
}
