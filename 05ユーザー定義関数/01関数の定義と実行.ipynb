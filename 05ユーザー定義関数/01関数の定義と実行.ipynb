{
 "cells": [
  {
   "cell_type": "markdown",
   "metadata": {
    "colab_type": "text",
    "id": "view-in-github"
   },
   "source": [
    "<a href=\"https://colab.research.google.com/github/YasuharuSuzuki/25_programing2/blob/main/\" target=\"_parent\"><img src=\"https://colab.research.google.com/assets/colab-badge.svg\" alt=\"Open In Colab\"/></a>"
   ]
  },
  {
   "cell_type": "markdown",
   "metadata": {},
   "source": [
    "# Section 5 ユーザー定義関数\n",
    "## Section 5-1 関数の定義と実行\n",
    "- Pythonでユーザー定義関数を作成することで、コードの再利用性を高め、独自の機能を追加することができます。"
   ]
  },
  {
   "cell_type": "markdown",
   "metadata": {},
   "source": [
    "## 関数 参考サイト\n",
    "### [参考サイト1【Python早見表】関数](https://chokkan.github.io/python/04function.html)\n",
    "### [参考サイト2【Python入門】関数](https://utokyo-ipp.github.io/3/3-3.html)"
   ]
  },
  {
   "cell_type": "markdown",
   "metadata": {},
   "source": [
    "## サンプルプログラム1　関数の定義と実行\n",
    "### 関数の作り方\n",
    "ユーザー定義関数は、def キーワードを使って定義され、以下のような構文を持ちます。\n",
    "\n",
    "```python\n",
    "def 関数名(引数1, 引数2, ..., 引数n):\n",
    "    処理内容\n",
    "    return 戻り値\n",
    "```"
   ]
  },
  {
   "cell_type": "markdown",
   "metadata": {},
   "source": [
    "1. `def`：関数定義の始まりを示すキーワード。\n",
    "1. 関数名：関数を識別するための名前。一般的には、関数の目的を表す英単語を使って命名します。\n",
    "1. 引数：関数に渡す入力値。0個以上の引数を持つことができます。引数は関数内で変数として使用されます。\n",
    "1. 処理内容：関数が実行するコードブロック。インデントを使って関数の範囲を示します。\n",
    "1. `return`：関数の戻り値を返すためのキーワード。戻り値がない場合、return は省略することができます。"
   ]
  },
  {
   "cell_type": "markdown",
   "metadata": {},
   "source": [
    "### 1〜6の整数をランダム返す関数\n",
    "- 引数なし、戻り値1つの関数を作る"
   ]
  },
  {
   "cell_type": "code",
   "execution_count": 1,
   "metadata": {},
   "outputs": [
    {
     "name": "stdout",
     "output_type": "stream",
     "text": [
      "2\n"
     ]
    }
   ],
   "source": [
    "# 関数の作成\n",
    "# 1〜6の整数をランダムで返すシンプルなユーザー定義関数の例\n",
    "from random import randint\n",
    "\n",
    "def dice():\n",
    "    result = randint(1, 6)\n",
    "    return result\n",
    "\n",
    "# 関数の使用\n",
    "num = dice()\n",
    "print(num)  # 出力：1〜6の整数"
   ]
  },
  {
   "cell_type": "markdown",
   "metadata": {},
   "source": [
    "1. 上記の例では、dice という名前の関数を定義しています。引数はありません。\n",
    "1. 関数は、1〜6の整数をランダムで生成し、その結果を result という変数に格納します。\n",
    "1. 最後に、return キーワードを使って result の値を返します。\n",
    "1. 関数を使用する際には、関数名に続いて括弧 () を記述し、必要な引数を渡します。\n",
    "1. 上記の例では、dice() のようにして関数を呼び出しています。"
   ]
  },
  {
   "cell_type": "markdown",
   "metadata": {},
   "source": [
    "### 2つの数値の和を返す関数\n",
    "- 引数２つ、戻り値1つの関数を作る"
   ]
  },
  {
   "cell_type": "code",
   "execution_count": 2,
   "metadata": {},
   "outputs": [
    {
     "name": "stdout",
     "output_type": "stream",
     "text": [
      "8\n"
     ]
    }
   ],
   "source": [
    "# 関数の作成\n",
    "# 2つの数値の和を返すシンプルなユーザー定義関数の例\n",
    "def add(a, b):\n",
    "    result = a + b\n",
    "    return result\n",
    "\n",
    "# 関数の使用\n",
    "added = add(3, 5)\n",
    "print(added)  # 出力：8"
   ]
  },
  {
   "cell_type": "markdown",
   "metadata": {},
   "source": [
    "1. 上記の例では、add という名前の関数を定義し、2つの引数 a と b を受け取ります。\n",
    "1. 関数は、a と b の和を計算し、その結果を result という変数に格納します。\n",
    "1. 最後に、return キーワードを使って result の値を返します。\n",
    "1. 関数を使用する際には、関数名に続いて括弧 () を記述し、必要な引数を渡します。\n",
    "1. 上記の例では、add(3, 5) のようにして関数を呼び出しています。"
   ]
  },
  {
   "cell_type": "markdown",
   "metadata": {},
   "source": [
    "### マイルをメートルに変換する関数\n",
    "- 引数1つ、戻り値1つの関数を作る"
   ]
  },
  {
   "cell_type": "code",
   "execution_count": 3,
   "metadata": {},
   "outputs": [
    {
     "name": "stdout",
     "output_type": "stream",
     "text": [
      "32186.88\n"
     ]
    }
   ],
   "source": [
    "# 関数の作成\n",
    "# マイルをメートルに変換するシンプルなユーザー定義関数の例\n",
    "def mile2meter(mile):\n",
    "    meter = mile * 1609.344\n",
    "    return meter\n",
    "\n",
    "# 関数の使用\n",
    "distance_mile = 20\n",
    "distance_meter = mile2meter(distance_mile)\n",
    "print(distance_meter)  # 出力：32186.88"
   ]
  },
  {
   "cell_type": "markdown",
   "metadata": {},
   "source": [
    "1. 上記の例では、mile2meter という名前の関数を定義し、1つの引数 mile を受け取ります。\n",
    "1. 関数は、マイルからメートルを計算し、その結果を meter という変数に格納します。\n",
    "1. 最後に、return キーワードを使って meter の値を返します。\n",
    "1. 関数を使用する際には、関数名に続いて括弧 () を記述し、必要な引数を渡します。\n",
    "1. 上記の例では、mile2meter(distance_mile) のようにして関数を呼び出しています。"
   ]
  },
  {
   "cell_type": "markdown",
   "metadata": {},
   "source": [
    "## 練習プログラム1 (2.4点)\n",
    "1. じゃんけんの\"グー\",\"チョキ\",\"パー\"のいずれかをランダムで返す関数を作成して、呼び出してみましょう\n",
    "2. 台形の面積を返す関数を作成して、呼び出してみましょう\n",
    "3. メートルをヤードに変換する関数を作成して、呼び出してみましょう"
   ]
  },
  {
   "cell_type": "code",
   "execution_count": 4,
   "metadata": {},
   "outputs": [],
   "source": [
    "# 1. じゃんけんの\"グー\",\"チョキ\",\"パー\"のいずれかをランダムで返す関数を作成して、呼び出してみましょう\n",
    "\n",
    "# ここにPythonプログラムを記述してください"
   ]
  },
  {
   "cell_type": "code",
   "execution_count": 5,
   "metadata": {},
   "outputs": [],
   "source": [
    "# 2.  台形の面積を返す関数を作成して、呼び出してみましょう\n",
    "\n",
    "# ここにPythonプログラムを記述してください"
   ]
  },
  {
   "cell_type": "code",
   "execution_count": 6,
   "metadata": {},
   "outputs": [],
   "source": [
    "# 3. メートルをヤードに変換する関数を作成して、呼び出してみましょう\n",
    "\n",
    "# ここにPythonプログラムを記述してください"
   ]
  },
  {
   "cell_type": "markdown",
   "metadata": {},
   "source": [
    "---\n",
    "---\n",
    "---\n",
    "---\n",
    "---"
   ]
  },
  {
   "cell_type": "markdown",
   "metadata": {},
   "source": [
    "## サンプルプログラム2　戻り値がない関数"
   ]
  },
  {
   "cell_type": "markdown",
   "metadata": {},
   "source": [
    "### 2個のサイコロを振り、大きい方を結果を表示する関数\n",
    "- 引数なし、戻り値なしの関数を作る"
   ]
  },
  {
   "cell_type": "code",
   "execution_count": 7,
   "metadata": {},
   "outputs": [
    {
     "name": "stdout",
     "output_type": "stream",
     "text": [
      "dice1=4, dice2=2\n",
      "1個めの勝ち\n"
     ]
    }
   ],
   "source": [
    "# 2個のサイコロを振って、大きい方を勝ちとして表示するシンプルな関数の定義\n",
    "def dicegame():\n",
    "    dice1 = dice() # 1個めのサイコロを振る\n",
    "    dice2 = dice() # 2個めのサイコロを振る\n",
    "\n",
    "    print(f\"dice1={dice1}, dice2={dice2}\")\n",
    "    print('引き分け' if dice1 == dice2 else \"1個めの勝ち\" if dice1> dice2 else \"2個めの勝ち\")\n",
    "\n",
    "# 関数の呼び出し\n",
    "dicegame()"
   ]
  },
  {
   "cell_type": "markdown",
   "metadata": {},
   "source": [
    "## 練習プログラム2 (0.8点)\n",
    "1. じゃんけんの\"グー\",\"チョキ\",\"パー\"のいずれかをランダムで返す関数を2回呼び出して、勝者を表示する関数を作成し、呼び出してみましょう"
   ]
  },
  {
   "cell_type": "code",
   "execution_count": 8,
   "metadata": {},
   "outputs": [],
   "source": [
    "# 1. じゃんけんの\"グー\",\"チョキ\",\"パー\"のいずれかをランダムで返す関数を2回呼び出して、勝者を表示する関数を作成して、呼び出してみましょう\n",
    "\n",
    "# ここにPythonプログラムを記述してください"
   ]
  },
  {
   "cell_type": "markdown",
   "metadata": {},
   "source": [
    "---\n",
    "---\n",
    "---\n",
    "---\n",
    "---"
   ]
  },
  {
   "cell_type": "markdown",
   "metadata": {},
   "source": [
    "# サンプルプログラム3　関数を途中で抜ける"
   ]
  },
  {
   "cell_type": "markdown",
   "metadata": {},
   "source": [
    "### 引数が数字でない時は処理を中断する関数"
   ]
  },
  {
   "cell_type": "code",
   "execution_count": 9,
   "metadata": {},
   "outputs": [
    {
     "name": "stdin",
     "output_type": "stream",
     "text": [
      "購入する個数を入力してください:  文字列入力テスト\n"
     ]
    },
    {
     "name": "stdout",
     "output_type": "stream",
     "text": [
      "金額＝None\n"
     ]
    }
   ],
   "source": [
    "# 引数が数字でない時は処理を中断するシンプルな関数の定義\n",
    "def calc_price(count):\n",
    "    if not count.isdigit():\n",
    "        return None\n",
    "    unit_price = 50\n",
    "    price = int(count) * unit_price\n",
    "    return price\n",
    "\n",
    "print(\"金額＝\" + str(calc_price(input(\"購入する個数を入力してください: \"))))"
   ]
  },
  {
   "cell_type": "markdown",
   "metadata": {},
   "source": [
    "## 練習プログラム3 (0.4点)\n",
    "1. 引数が文字列でない時は処理を中断する関数を作成し、呼び出してみましょう"
   ]
  },
  {
   "cell_type": "code",
   "execution_count": 10,
   "metadata": {},
   "outputs": [],
   "source": [
    "# 1. 引数が文字列でない時は処理を中断する関数を作成し、呼び出してみましょう\n"
   ]
  },
  {
   "cell_type": "markdown",
   "metadata": {},
   "source": [
    "---\n",
    "---\n",
    "---\n",
    "---\n",
    "---"
   ]
  },
  {
   "cell_type": "markdown",
   "metadata": {},
   "source": [
    "# サンプルプログラム4　関数で使う変数の有効範囲"
   ]
  },
  {
   "cell_type": "code",
   "execution_count": 11,
   "metadata": {},
   "outputs": [
    {
     "ename": "NameError",
     "evalue": "name 'unit_price' is not defined",
     "output_type": "error",
     "traceback": [
      "\u001b[0;31m---------------------------------------------------------------------------\u001b[0m",
      "\u001b[0;31mNameError\u001b[0m                                 Traceback (most recent call last)",
      "Cell \u001b[0;32mIn[11], line 2\u001b[0m\n\u001b[1;32m      1\u001b[0m \u001b[38;5;66;03m# サンプルプログラム３の関数内で使用したunit_priceを参照してみる\u001b[39;00m\n\u001b[0;32m----> 2\u001b[0m \u001b[38;5;28mprint\u001b[39m(\u001b[43munit_price\u001b[49m)\n",
      "\u001b[0;31mNameError\u001b[0m: name 'unit_price' is not defined"
     ]
    }
   ],
   "source": [
    "# サンプルプログラム３の関数内で使用したunit_priceを参照してみる\n",
    "print(unit_price)"
   ]
  },
  {
   "cell_type": "markdown",
   "metadata": {},
   "source": [
    "- エラーになります\n",
    "  - NameError: name 'unit_price' is not defined は　’unit_price’は定義されていません の意味になります\n",
    "- 関数定義は閉じた空間であって、その中で定義されている変数等は関数外から参照することはできません\n",
    "  - 関数内で定義された変数を「ローカル変数」といいます。"
   ]
  },
  {
   "cell_type": "markdown",
   "metadata": {},
   "source": [
    "## 練習プログラム4 (0.4点)\n",
    "1. これまで練習プログラム内のオリジナルで作成した関数内で定義した変数を参照して、エラーを起こしてみましょう"
   ]
  },
  {
   "cell_type": "code",
   "execution_count": null,
   "metadata": {},
   "outputs": [],
   "source": [
    "# 1. これまで練習プログラム内のオリジナルで作成した関数内で定義した変数を参照して、エラーを起こしてみましょう\n"
   ]
  },
  {
   "cell_type": "code",
   "execution_count": null,
   "metadata": {},
   "outputs": [],
   "source": []
  },
  {
   "cell_type": "code",
   "execution_count": null,
   "metadata": {},
   "outputs": [],
   "source": []
  },
  {
   "cell_type": "code",
   "execution_count": null,
   "metadata": {},
   "outputs": [],
   "source": []
  },
  {
   "cell_type": "code",
   "execution_count": null,
   "metadata": {},
   "outputs": [],
   "source": []
  }
 ],
 "metadata": {
  "colab": {
   "authorship_tag": "ABX9TyMOtB7OiTVLb+yu2KoVwjto",
   "include_colab_link": true,
   "provenance": []
  },
  "kernelspec": {
   "display_name": "Python 3 (ipykernel)",
   "language": "python",
   "name": "python3"
  },
  "language_info": {
   "codemirror_mode": {
    "name": "ipython",
    "version": 3
   },
   "file_extension": ".py",
   "mimetype": "text/x-python",
   "name": "python",
   "nbconvert_exporter": "python",
   "pygments_lexer": "ipython3",
   "version": "3.11.9"
  }
 },
 "nbformat": 4,
 "nbformat_minor": 4
}
