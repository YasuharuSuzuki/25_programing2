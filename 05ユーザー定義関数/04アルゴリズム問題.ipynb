{
 "cells": [
  {
   "cell_type": "markdown",
   "metadata": {
    "colab_type": "text",
    "id": "view-in-github"
   },
   "source": [
    "<a href=\"https://colab.research.google.com/github/YasuharuSuzuki/25_programing2/blob/main/\" target=\"_parent\"><img src=\"https://colab.research.google.com/assets/colab-badge.svg\" alt=\"Open In Colab\"/></a>"
   ]
  },
  {
   "cell_type": "markdown",
   "metadata": {},
   "source": [
    "# 問11　関数版じゃんけん5回戦 (2.4点)\n",
    "- AさんとBさんが５回じゃんけんをします。\n",
    "- じゃんけんでグーを出したときには'G'、チョキを出したときには'C'、パーを出したときには'P'の文字がそれぞれ与えられます。\n",
    "- Aさんが勝ったときにはAさんの勝利数をカウントし、Bさんが勝ったときにはBさんの勝利数をカウントします。\n",
    "- あいこのときにはどちらの勝利数もカウントしません。\n",
    "- ５回戦ったAさんとBさんの勝利数を出力してください。\n",
    "\n",
    "## ユーザー定義関数を作ること\n",
    "- 今回のじゃんけん５回戦では、必ずユーザー定義関数を作って下さい\n",
    "- 作成するユーザー定義関数\n",
    "  - `janken` などわかり易い名前を付けましょう\n",
    "  - 引数でAさんの勝ち数、Bさんの勝ち数を受け取ります\n",
    "  - 関数内で input() を呼び出して、Aさん、Bさん二人の`G``C``P`を受け取りましょう\n",
    "  - じゃんけんの結果によってAさんの勝ち数、Bさんの勝ち数をカウントアップします。引き分けの時はカウントアップしません\n",
    "  - 戻り値でAさんの勝ち数、Bさんの勝ち数を返します\n",
    "- 作成したユーザー定義関数を５回呼び出して、結果を求めて下さい\n",
    "  "
   ]
  },
  {
   "cell_type": "markdown",
   "metadata": {},
   "source": [
    "### 制約\n",
    "- $ S_{ij} $は``G``、``C``、``P``のいずれか\n",
    "- $ | S | = 1 $"
   ]
  },
  {
   "cell_type": "markdown",
   "metadata": {},
   "source": [
    "### 入力\n",
    "入力は以下の形式で標準入力から与えられます\n",
    "\n",
    "---\n",
    "$ S_{A1} \\quad S_{B1} $  \n",
    "$ S_{A2} \\quad S_{B2} $  \n",
    "$ S_{A3} \\quad S_{B3} $  \n",
    "$ S_{A4} \\quad S_{B4} $  \n",
    "$ S_{A5} \\quad S_{B5} $  \n",
    "\n",
    "---\n",
    "\n",
    "Aさんの手を$ S_{Ai}$ Bさんの手を$ S_{Bi} $で受け取ります"
   ]
  },
  {
   "cell_type": "markdown",
   "metadata": {},
   "source": [
    "### 出力\n",
    "\n",
    " \n",
    "---\n",
    "$ Aさんの勝利数 \\quad Bさんの勝利数 $\n",
    "\n",
    "---\n",
    "AさんとBさんの勝利数をそれぞれ出力してください。"
   ]
  },
  {
   "cell_type": "markdown",
   "metadata": {},
   "source": [
    "----\n",
    "----\n",
    "\n",
    "### 入力例1\n",
    "```python\n",
    "C P\n",
    "G G\n",
    "C G\n",
    "P C\n",
    "P P\n",
    "```\n",
    "\n",
    "### 出力例1\n",
    "```python\n",
    "1 2\n",
    "```\n",
    "※ Aさん1勝、Bさん2勝のため、1 2 と出力します"
   ]
  },
  {
   "cell_type": "markdown",
   "metadata": {},
   "source": [
    "----\n",
    "----\n",
    "\n",
    "### 入力例2\n",
    "```python\n",
    "G C\n",
    "C G\n",
    "P P\n",
    "P C\n",
    "C G\n",
    "```\n",
    "\n",
    "### 出力例2\n",
    "```python\n",
    "1 3\n",
    "```\n",
    "※ Aさんの1勝、Bさんの3勝のため、1 3 と出力します"
   ]
  },
  {
   "cell_type": "markdown",
   "metadata": {},
   "source": [
    "### ここ↓にPythonコードを記述してください"
   ]
  },
  {
   "cell_type": "code",
   "execution_count": 4,
   "metadata": {},
   "outputs": [
    {
     "name": "stdout",
     "output_type": "stream",
     "text": [
      "G C\n",
      "C G\n",
      "P P\n",
      "P C\n",
      "C G\n",
      "1 3\n"
     ]
    }
   ],
   "source": [
    "\n",
    "\n",
    "\n",
    "\n"
   ]
  },
  {
   "cell_type": "code",
   "execution_count": null,
   "metadata": {},
   "outputs": [],
   "source": []
  }
 ],
 "metadata": {
  "colab": {
   "authorship_tag": "ABX9TyMOtB7OiTVLb+yu2KoVwjto",
   "include_colab_link": true,
   "provenance": []
  },
  "kernelspec": {
   "display_name": "Python 3 (ipykernel)",
   "language": "python",
   "name": "python3"
  },
  "language_info": {
   "codemirror_mode": {
    "name": "ipython",
    "version": 3
   },
   "file_extension": ".py",
   "mimetype": "text/x-python",
   "name": "python",
   "nbconvert_exporter": "python",
   "pygments_lexer": "ipython3",
   "version": "3.11.9"
  }
 },
 "nbformat": 4,
 "nbformat_minor": 4
}
