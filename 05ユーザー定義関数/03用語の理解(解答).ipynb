{
 "cells": [
  {
   "cell_type": "markdown",
   "metadata": {},
   "source": [
    "<a href=\"https://colab.research.google.com/github/YasuharuSuzuki/25_programing2/blob/main/\" target=\"_parent\"><img src=\"https://colab.research.google.com/assets/colab-badge.svg\" alt=\"Open In Colab\"/></a>"
   ]
  },
  {
   "cell_type": "markdown",
   "metadata": {
    "id": "KSSJqXOosEeX"
   },
   "source": [
    "# 03_用語の理解"
   ]
  },
  {
   "cell_type": "markdown",
   "metadata": {
    "id": "VRQcesdKsEec"
   },
   "source": [
    "## 用語の理解を問う問題\n",
    "- 以下の問題について、正解となる選択肢を出力してください"
   ]
  },
  {
   "cell_type": "markdown",
   "metadata": {
    "id": "bP053hXUsEee"
   },
   "source": [
    "---\n",
    "---\n",
    "---\n",
    "### 問7 関数内の変数 (0.3点)\n",
    "- 関数内で定義された変数で、関数の外部からアクセスできない変数を何と呼ぶか？\n",
    "1. グローバル変数\n",
    "2. ローカル変数\n",
    "3. プライベート変数\n",
    "4. パブリック変数\n"
   ]
  },
  {
   "cell_type": "code",
   "execution_count": 1,
   "metadata": {
    "colab": {
     "base_uri": "https://localhost:8080/"
    },
    "executionInfo": {
     "elapsed": 255,
     "status": "ok",
     "timestamp": 1715147036615,
     "user": {
      "displayName": "鈴木康元",
      "userId": "15385942521303414593"
     },
     "user_tz": -540
    },
    "id": "8cg5YTLosEee",
    "outputId": "c6671804-b225-4341-ea70-8833bd5eb194"
   },
   "outputs": [
    {
     "name": "stdout",
     "output_type": "stream",
     "text": [
      "3\n"
     ]
    }
   ],
   "source": [
    "# 正解を出力してください\n",
    "print('3')"
   ]
  },
  {
   "cell_type": "markdown",
   "metadata": {},
   "source": [
    "---\n",
    "---\n",
    "---\n",
    "### 問8 関数が呼び出し元に返す値 (0.3点)\n",
    "\n",
    "- 関数が呼び出し元に返す値を何と呼ぶか？\n",
    "1. パラメータ\n",
    "2. 引数\n",
    "3. 戻り値\n",
    "4. 属性\n"
   ]
  },
  {
   "cell_type": "code",
   "execution_count": 2,
   "metadata": {
    "colab": {
     "base_uri": "https://localhost:8080/"
    },
    "executionInfo": {
     "elapsed": 278,
     "status": "ok",
     "timestamp": 1715147048787,
     "user": {
      "displayName": "鈴木康元",
      "userId": "15385942521303414593"
     },
     "user_tz": -540
    },
    "id": "y2CxWqMusEef",
    "outputId": "8129fcea-362e-4f33-d57b-529f8313a51f"
   },
   "outputs": [
    {
     "name": "stdout",
     "output_type": "stream",
     "text": [
      "3\n"
     ]
    }
   ],
   "source": [
    "# 正解を出力してください\n",
    "print('3')"
   ]
  },
  {
   "cell_type": "markdown",
   "metadata": {},
   "source": [
    "---\n",
    "---\n",
    "---\n",
    "### 問9 順序に基づいて渡す引数 (0.3点)  \n",
    "関数呼び出し時に順序に基づいて渡す引数はのことをなんと呼ぶか？\n",
    "1. キーワード引数\n",
    "2. デフォルト引数\n",
    "3. 位置引数\n",
    "4. 可変長引数\n"
   ]
  },
  {
   "cell_type": "code",
   "execution_count": 3,
   "metadata": {},
   "outputs": [
    {
     "name": "stdout",
     "output_type": "stream",
     "text": [
      "3\n"
     ]
    }
   ],
   "source": [
    "# 正解を出力してください\n",
    "print('3')"
   ]
  },
  {
   "cell_type": "markdown",
   "metadata": {},
   "source": [
    "---\n",
    "---\n",
    "---\n",
    "### 問10 可変長引数 (0.3点)\n",
    "\n",
    "Pythonの関数で使われる「可変長キーワード引数」の引数定義として正しいものはどれか？\n",
    "\n",
    "1. param\n",
    "2. params=[]\n",
    "3. *args\n",
    "4. **kwargs\n",
    "\n"
   ]
  },
  {
   "cell_type": "code",
   "execution_count": 4,
   "metadata": {},
   "outputs": [
    {
     "name": "stdout",
     "output_type": "stream",
     "text": [
      "4\n"
     ]
    }
   ],
   "source": [
    "# 正解を出力してください\n",
    "print('4')"
   ]
  },
  {
   "cell_type": "markdown",
   "metadata": {},
   "source": [
    "---\n",
    "---\n",
    "---\n",
    "---\n",
    "---"
   ]
  },
  {
   "cell_type": "code",
   "execution_count": null,
   "metadata": {},
   "outputs": [],
   "source": []
  }
 ],
 "metadata": {
  "colab": {
   "provenance": [
    {
     "file_id": "https://github.com/YasuharuSuzuki/24_programing2/blob/main/04%E8%BE%9E%E6%9B%B8/01%E8%BE%9E%E6%9B%B8%E3%82%92%E4%BD%9C%E3%82%8B.ipynb",
     "timestamp": 1715146358060
    }
   ]
  },
  "kernelspec": {
   "display_name": "Python 3 (ipykernel)",
   "language": "python",
   "name": "python3"
  },
  "language_info": {
   "codemirror_mode": {
    "name": "ipython",
    "version": 3
   },
   "file_extension": ".py",
   "mimetype": "text/x-python",
   "name": "python",
   "nbconvert_exporter": "python",
   "pygments_lexer": "ipython3",
   "version": "3.11.9"
  }
 },
 "nbformat": 4,
 "nbformat_minor": 4
}
