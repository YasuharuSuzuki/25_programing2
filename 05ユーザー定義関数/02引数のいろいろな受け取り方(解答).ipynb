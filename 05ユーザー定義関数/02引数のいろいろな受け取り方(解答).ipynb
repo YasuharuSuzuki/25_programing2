{
 "cells": [
  {
   "cell_type": "markdown",
   "metadata": {
    "colab_type": "text",
    "id": "view-in-github"
   },
   "source": [
    "<a href=\"https://colab.research.google.com/github/YasuharuSuzuki/25_programing2/blob/main/\" target=\"_parent\"><img src=\"https://colab.research.google.com/assets/colab-badge.svg\" alt=\"Open In Colab\"/></a>"
   ]
  },
  {
   "cell_type": "markdown",
   "metadata": {},
   "source": [
    "# Section 5 ユーザー定義関数\n",
    "## Section 5-2 引数のいろいろな受け取り方\n",
    "- 便利な機能がたくさんあります"
   ]
  },
  {
   "cell_type": "markdown",
   "metadata": {},
   "source": [
    "## 関数 参考サイト\n",
    "### [参考サイト1【Python早見表】関数](https://chokkan.github.io/python/04function.html)\n",
    "### [参考サイト2【Python入門】関数](https://utokyo-ipp.github.io/3/3-3.html)"
   ]
  },
  {
   "cell_type": "markdown",
   "metadata": {},
   "source": [
    "## サンプルプログラム5　位置引数とキーワード引数\n",
    "### 位置引数\n",
    "- Pythonでは、関数の引数にはいくつかの種類がありますが、その中でも位置引数（positional arguments）は最も一般的な引数の形式です。\n",
    "- 位置引数は、関数に渡される引数が、関数定義で指定された順序に従って渡されることを意味します。\n",
    "- これにより、関数は引数の位置に基づいて、どの引数がどのパラメータに対応するかを決定します。"
   ]
  },
  {
   "cell_type": "markdown",
   "metadata": {},
   "source": [
    "#### 以下に、位置引数を使用した関数の例を示します。"
   ]
  },
  {
   "cell_type": "code",
   "execution_count": 2,
   "metadata": {},
   "outputs": [
    {
     "name": "stdout",
     "output_type": "stream",
     "text": [
      "Hello, John!\n"
     ]
    }
   ],
   "source": [
    "def greet(name, greeting):\n",
    "    return f\"{greeting}, {name}!\"\n",
    "\n",
    "message = greet(\"John\", \"Hello\")\n",
    "print(message)  # 出力：Hello, John!"
   ]
  },
  {
   "cell_type": "markdown",
   "metadata": {},
   "source": [
    "- この例では、`greet` という名前の関数を定義し、2つの位置引数 `name` と `greeting` を受け取ります。関数を呼び出す際に、`greet(\"John\", \"Hello\")` のようにして引数を渡しています。\n",
    "- この場合、`\"John\"` は `name` に、`\"Hello\"` は `greeting` にそれぞれ対応します。"
   ]
  },
  {
   "cell_type": "markdown",
   "metadata": {},
   "source": [
    "#### 位置引数の注意点\n",
    "- 位置引数を使用する際には、関数呼び出し時に引数の順序を正確に指定する必要があります。\n",
    "- もし引数の順序が間違っていると、意図しない動作やエラーが発生する可能性があります。"
   ]
  },
  {
   "cell_type": "markdown",
   "metadata": {},
   "source": [
    "#### 引数の順序を間違えた例"
   ]
  },
  {
   "cell_type": "code",
   "execution_count": 3,
   "metadata": {},
   "outputs": [
    {
     "name": "stdout",
     "output_type": "stream",
     "text": [
      "John, Hello!\n"
     ]
    }
   ],
   "source": [
    "message = greet(\"Hello\", \"John\")\n",
    "print(message)  # 出力：John, Hello! （意図しない結果）"
   ]
  },
  {
   "cell_type": "markdown",
   "metadata": {},
   "source": [
    "### キーワード引数\n",
    "- Pythonのキーワード引数（keyword arguments）は、関数の引数を名前と値のペアで指定することができる引数の形式です。\n",
    "- キーワード引数を使用することで、関数呼び出し時に引数の順序を気にせず、引数名を明示的に指定して値を渡すことができます。\n",
    "- これにより、コードの可読性が向上し、引数の順序によるエラーを防ぐことができます。"
   ]
  },
  {
   "cell_type": "markdown",
   "metadata": {},
   "source": [
    "#### 以下に、キーワード引数を使用した関数の例を示します。"
   ]
  },
  {
   "cell_type": "code",
   "execution_count": 5,
   "metadata": {},
   "outputs": [
    {
     "name": "stdout",
     "output_type": "stream",
     "text": [
      "Hello, John!\n"
     ]
    }
   ],
   "source": [
    "message = greet(name=\"John\", greeting=\"Hello\")\n",
    "print(message)  # 出力：Hello, John!"
   ]
  },
  {
   "cell_type": "markdown",
   "metadata": {},
   "source": [
    "- この例では、関数を呼び出す際に、`greet(name=\"John\", greeting=\"Hello\")` のようにして引数名を明示的に指定し、値を渡しています。\n",
    "- キーワード引数を使用する場合、引数の順序は関係なくなります。\n",
    "\n",
    "#### 引数の順序を変更しても、期待通りの結果が得られます。"
   ]
  },
  {
   "cell_type": "code",
   "execution_count": 6,
   "metadata": {},
   "outputs": [
    {
     "name": "stdout",
     "output_type": "stream",
     "text": [
      "Hello, John!\n"
     ]
    }
   ],
   "source": [
    "message = greet(greeting=\"Hello\", name=\"John\")\n",
    "print(message)  # 出力：Hello, John!"
   ]
  },
  {
   "cell_type": "markdown",
   "metadata": {},
   "source": [
    "###  デフォルト引数(初期値がある引数)\n",
    "- また、関数定義時にデフォルト値を設定することで、引数が省略された場合にデフォルト値を使用することができます。\n",
    "- これにより、関数の柔軟性が向上します。"
   ]
  },
  {
   "cell_type": "markdown",
   "metadata": {},
   "source": [
    "#### 以下に、デフォルト引数を使用した関数の例を示します。"
   ]
  },
  {
   "cell_type": "code",
   "execution_count": 7,
   "metadata": {},
   "outputs": [
    {
     "name": "stdout",
     "output_type": "stream",
     "text": [
      "Hello, John!\n"
     ]
    }
   ],
   "source": [
    "def greet2(name, greeting=\"Hello\"):\n",
    "    return f\"{greeting}, {name}!\"\n",
    "\n",
    "message = greet2(name=\"John\")\n",
    "print(message)  # 出力：Hello, John!"
   ]
  },
  {
   "cell_type": "markdown",
   "metadata": {},
   "source": [
    "- この例では、`greeting` 引数にデフォルト値 `\"Hello\"` を設定しています。\n",
    "- そのため、`greeting` 引数を省略しても、デフォルト値が使用され、期待通りの結果が得られます。"
   ]
  },
  {
   "cell_type": "markdown",
   "metadata": {},
   "source": [
    "## 練習プログラム5 (1.6点)\n",
    "1. デフォルト引数のある関数を作成してみましょう\n",
    "2. 作成した関数を位置引数を使用して呼び出してみましょう\n",
    "3. 作成した関数をキーワード引数を使用して呼び出してみましょう\n",
    "4. 初期値のある引数を省略して関数を呼び出してみましょう"
   ]
  },
  {
   "cell_type": "code",
   "execution_count": 1,
   "metadata": {},
   "outputs": [],
   "source": [
    "# 1. デフォルト引数のある関数を作成してみましょう\n",
    "# 作成する関数は何でも良いですが、このNotebookのサンプルプログラムとは違う独自の値を入れましょう\n",
    "# 変数名も独自のものに変えましょう\n",
    "\n",
    "# 正答例\n",
    "def calculate_total(price, quantity, tax_rate=0.08):\n",
    "    subtotal = price * quantity\n",
    "    tax = subtotal * tax_rate\n",
    "    total = subtotal + tax\n",
    "    return total"
   ]
  },
  {
   "cell_type": "code",
   "execution_count": 2,
   "metadata": {},
   "outputs": [
    {
     "name": "stdout",
     "output_type": "stream",
     "text": [
      "合計金額（税率10%）: 550.0\n"
     ]
    }
   ],
   "source": [
    "# 2. 作成した関数を位置引数を使用して呼び出してみましょう\n",
    "\n",
    "# 正答例\n",
    "# 位置引数を使用して関数を呼び出す\n",
    "result2 = calculate_total(100, 5, 0.10)\n",
    "print(f\"合計金額（税率10%）: {result2}\")"
   ]
  },
  {
   "cell_type": "code",
   "execution_count": 6,
   "metadata": {},
   "outputs": [
    {
     "name": "stdout",
     "output_type": "stream",
     "text": [
      "合計金額（税率10%）: 550.0\n"
     ]
    }
   ],
   "source": [
    "# 3. 作成した関数をキーワード引数を使用して呼び出してみましょう\n",
    "\n",
    "# 正答例\n",
    "# キーワード引数を使用して関数を呼び出す\n",
    "result3 = calculate_total(price=100, quantity=5, tax_rate=0.10)\n",
    "print(f\"合計金額（税率10%）: {result3}\")"
   ]
  },
  {
   "cell_type": "code",
   "execution_count": 7,
   "metadata": {},
   "outputs": [
    {
     "name": "stdout",
     "output_type": "stream",
     "text": [
      "合計金額（デフォルトの税率）: 540.0\n"
     ]
    }
   ],
   "source": [
    "# 4. 初期値のある引数を省略して関数を呼び出してみましょう\n",
    "\n",
    "# 正答例\n",
    "# デフォルト引数を使用して関数を呼び出す\n",
    "result1 = calculate_total(100, 5)\n",
    "print(f\"合計金額（デフォルトの税率）: {result1}\")"
   ]
  },
  {
   "cell_type": "markdown",
   "metadata": {},
   "source": [
    "---\n",
    "---\n",
    "---\n",
    "---\n",
    "---"
   ]
  },
  {
   "cell_type": "markdown",
   "metadata": {},
   "source": [
    "## サンプルプログラム6　可変長位置引数(*args)と可変長キーワード引数(**kwargs)\n",
    "- Pythonでは、アスタリスク（*）を付けて可変長の位置引数を定義・呼び出ししたり、ダブルアスタリスク（**）を引数の前に付けることで可変長キーワード引数を定義・呼び出しすることができます。"
   ]
  },
  {
   "cell_type": "markdown",
   "metadata": {},
   "source": [
    "### 可変長位置引数(*args)\n",
    "- 関数に任意の数の位置引数を渡すことができます。`*args` は、引数をタプルとして受け取ります。"
   ]
  },
  {
   "cell_type": "markdown",
   "metadata": {},
   "source": [
    "#### 以下に、可変長位置引数を使用した関数の例を示します。"
   ]
  },
  {
   "cell_type": "code",
   "execution_count": 9,
   "metadata": {},
   "outputs": [
    {
     "name": "stdout",
     "output_type": "stream",
     "text": [
      "1\n",
      "2\n",
      "3\n",
      "4\n"
     ]
    }
   ],
   "source": [
    "def my_function(*args):\n",
    "    for arg in args:\n",
    "        print(arg)\n",
    "\n",
    "my_function(1, 2, 3, 4)  # 出力：1, 2, 3, 4（改行で区切られた各値）"
   ]
  },
  {
   "cell_type": "markdown",
   "metadata": {},
   "source": [
    "### 可変長キーワード引数(**kwargs)\n",
    "- 関数に任意の数のキーワード引数を渡すことができます。`**kwargs` は、引数を辞書として受け取ります。"
   ]
  },
  {
   "cell_type": "markdown",
   "metadata": {},
   "source": [
    "#### 以下に、可変長キーワード引数を使用した関数の例を示します。"
   ]
  },
  {
   "cell_type": "code",
   "execution_count": 10,
   "metadata": {},
   "outputs": [
    {
     "name": "stdout",
     "output_type": "stream",
     "text": [
      "a: 1\n",
      "b: 2\n",
      "c: 3\n"
     ]
    }
   ],
   "source": [
    "def my_function(**kwargs):\n",
    "    for key, value in kwargs.items():\n",
    "        print(f\"{key}: {value}\")\n",
    "\n",
    "my_function(a=1, b=2, c=3)  # 出力：a: 1, b: 2, c: 3（改行で区切られた各値）"
   ]
  },
  {
   "cell_type": "markdown",
   "metadata": {},
   "source": [
    "- これらの可変長引数は、通常の引数と組み合わせて使用することもできます。ただし、関数定義内での引数の順序に注意してください。\n",
    "- 通常の引数は最初に配置し、その後に可変長位置引数（*args）を配置し、最後に可変長キーワード引数（**kwargs）を配置するのが一般的です。"
   ]
  },
  {
   "cell_type": "markdown",
   "metadata": {},
   "source": [
    "## 練習プログラム6 (0.8点)\n",
    "1. 可変長位置引数を使用した関数を作成し、呼び出してみましょう。\n",
    "2. 可変長キーワード引数を使用した関数を作成し、呼び出してみましょう。"
   ]
  },
  {
   "cell_type": "code",
   "execution_count": 2,
   "metadata": {},
   "outputs": [
    {
     "name": "stdout",
     "output_type": "stream",
     "text": [
      "合計値: 6\n",
      "合計値: 30\n",
      "合計値: 0\n"
     ]
    }
   ],
   "source": [
    "# 1. 可変長位置引数を使用した関数を作成し、呼び出してみましょう。\n",
    "# 作成する関数は何でも良いですが、このNotebookのサンプルプログラムとは違う独自の値を入れましょう\n",
    "# 変数名も独自のものに変えましょう\n",
    "\n",
    "# 正答例\n",
    "def calculate_sum(*numbers):\n",
    "    total = 0\n",
    "    for num in numbers:\n",
    "        total += num\n",
    "    return total\n",
    "\n",
    "# 可変長位置引数を使用して関数を呼び出す\n",
    "result1 = calculate_sum(1, 2, 3)\n",
    "print(f\"合計値: {result1}\")\n",
    "\n",
    "result2 = calculate_sum(4, 5, 6, 7, 8)\n",
    "print(f\"合計値: {result2}\")\n",
    "\n",
    "result3 = calculate_sum()\n",
    "print(f\"合計値: {result3}\")"
   ]
  },
  {
   "cell_type": "code",
   "execution_count": 9,
   "metadata": {},
   "outputs": [
    {
     "name": "stdout",
     "output_type": "stream",
     "text": [
      "name: 山田\n",
      "age: 25\n",
      "city: 東京\n",
      "\n",
      "name: 佐藤\n",
      "age: 30\n",
      "city: 大阪\n",
      "occupation: エンジニア\n",
      "\n",
      "name: 鈴木\n",
      "\n"
     ]
    }
   ],
   "source": [
    "# 2. 可変長キーワード引数を使用した関数を作成し、呼び出してみましょう。\n",
    "# 作成する関数は何でも良いですが、このNotebookのサンプルプログラムや教科書の値とは違う独自の値を入れましょう\n",
    "# 変数名も独自のものに変えましょう\n",
    "\n",
    "# 正答例\n",
    "def print_user_info(**user):\n",
    "    for key, value in user.items():\n",
    "        print(f\"{key}: {value}\")\n",
    "    print()\n",
    "\n",
    "# 可変長キーワード引数を使用して関数を呼び出す\n",
    "print_user_info(name=\"山田\", age=25, city=\"東京\")\n",
    "\n",
    "print_user_info(name=\"佐藤\", age=30, city=\"大阪\", occupation=\"エンジニア\")\n",
    "\n",
    "print_user_info(name=\"鈴木\")"
   ]
  },
  {
   "cell_type": "markdown",
   "metadata": {},
   "source": [
    "---\n",
    "---\n",
    "---\n",
    "---\n",
    "---"
   ]
  },
  {
   "cell_type": "code",
   "execution_count": null,
   "metadata": {},
   "outputs": [],
   "source": []
  },
  {
   "cell_type": "code",
   "execution_count": null,
   "metadata": {},
   "outputs": [],
   "source": []
  },
  {
   "cell_type": "code",
   "execution_count": null,
   "metadata": {},
   "outputs": [],
   "source": []
  },
  {
   "cell_type": "code",
   "execution_count": null,
   "metadata": {},
   "outputs": [],
   "source": []
  }
 ],
 "metadata": {
  "colab": {
   "authorship_tag": "ABX9TyMOtB7OiTVLb+yu2KoVwjto",
   "include_colab_link": true,
   "provenance": []
  },
  "kernelspec": {
   "display_name": "Python 3 (ipykernel)",
   "language": "python",
   "name": "python3"
  },
  "language_info": {
   "codemirror_mode": {
    "name": "ipython",
    "version": 3
   },
   "file_extension": ".py",
   "mimetype": "text/x-python",
   "name": "python",
   "nbconvert_exporter": "python",
   "pygments_lexer": "ipython3",
   "version": "3.11.9"
  }
 },
 "nbformat": 4,
 "nbformat_minor": 4
}
