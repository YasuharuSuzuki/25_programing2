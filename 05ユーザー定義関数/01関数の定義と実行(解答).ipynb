{
 "cells": [
  {
   "cell_type": "markdown",
   "metadata": {
    "colab_type": "text",
    "id": "view-in-github"
   },
   "source": [
    "<a href=\"https://colab.research.google.com/github/YasuharuSuzuki/25_programing2/blob/main/\" target=\"_parent\"><img src=\"https://colab.research.google.com/assets/colab-badge.svg\" alt=\"Open In Colab\"/></a>"
   ]
  },
  {
   "cell_type": "markdown",
   "metadata": {},
   "source": [
    "# Section 5 ユーザー定義関数\n",
    "## Section 5-1 関数の定義と実行\n",
    "- Pythonでユーザー定義関数を作成することで、コードの再利用性を高め、独自の機能を追加することができます。"
   ]
  },
  {
   "cell_type": "markdown",
   "metadata": {},
   "source": [
    "## 関数 参考サイト\n",
    "### [参考サイト1【Python早見表】関数](https://chokkan.github.io/python/04function.html)\n",
    "### [参考サイト2【Python入門】関数](https://utokyo-ipp.github.io/3/3-3.html)"
   ]
  },
  {
   "cell_type": "markdown",
   "metadata": {},
   "source": [
    "## サンプルプログラム1　関数の定義と実行\n",
    "### 関数の作り方\n",
    "ユーザー定義関数は、def キーワードを使って定義され、以下のような構文を持ちます。\n",
    "\n",
    "```python\n",
    "def 関数名(引数1, 引数2, ..., 引数n):\n",
    "    処理内容\n",
    "    return 戻り値\n",
    "```"
   ]
  },
  {
   "cell_type": "markdown",
   "metadata": {},
   "source": [
    "1. `def`：関数定義の始まりを示すキーワード。\n",
    "1. 関数名：関数を識別するための名前。一般的には、関数の目的を表す英単語を使って命名します。\n",
    "1. 引数：関数に渡す入力値。0個以上の引数を持つことができます。引数は関数内で変数として使用されます。\n",
    "1. 処理内容：関数が実行するコードブロック。インデントを使って関数の範囲を示します。\n",
    "1. `return`：関数の戻り値を返すためのキーワード。戻り値がない場合、return は省略することができます。"
   ]
  },
  {
   "cell_type": "markdown",
   "metadata": {},
   "source": [
    "### 1〜6の整数をランダム返す関数\n",
    "- 引数なし、戻り値1つの関数を作る"
   ]
  },
  {
   "cell_type": "code",
   "execution_count": 1,
   "metadata": {},
   "outputs": [
    {
     "name": "stdout",
     "output_type": "stream",
     "text": [
      "3\n"
     ]
    }
   ],
   "source": [
    "# 関数の作成\n",
    "# 1〜6の整数をランダムで返すシンプルなユーザー定義関数の例\n",
    "from random import randint\n",
    "\n",
    "def dice():\n",
    "    result = randint(1, 6)\n",
    "    return result\n",
    "\n",
    "# 関数の使用\n",
    "num = dice()\n",
    "print(num)  # 出力：1〜6の整数"
   ]
  },
  {
   "cell_type": "markdown",
   "metadata": {},
   "source": [
    "1. 上記の例では、dice という名前の関数を定義しています。引数はありません。\n",
    "1. 関数は、1〜6の整数をランダムで生成し、その結果を result という変数に格納します。\n",
    "1. 最後に、return キーワードを使って result の値を返します。\n",
    "1. 関数を使用する際には、関数名に続いて括弧 () を記述し、必要な引数を渡します。\n",
    "1. 上記の例では、dice() のようにして関数を呼び出しています。"
   ]
  },
  {
   "cell_type": "markdown",
   "metadata": {},
   "source": [
    "### 2つの数値の和を返す関数\n",
    "- 引数２つ、戻り値1つの関数を作る"
   ]
  },
  {
   "cell_type": "code",
   "execution_count": 2,
   "metadata": {},
   "outputs": [
    {
     "name": "stdout",
     "output_type": "stream",
     "text": [
      "8\n"
     ]
    }
   ],
   "source": [
    "# 関数の作成\n",
    "# 2つの数値の和を返すシンプルなユーザー定義関数の例\n",
    "def add(a, b):\n",
    "    result = a + b\n",
    "    return result\n",
    "\n",
    "# 関数の使用\n",
    "added = add(3, 5)\n",
    "print(added)  # 出力：8"
   ]
  },
  {
   "cell_type": "markdown",
   "metadata": {},
   "source": [
    "1. 上記の例では、add という名前の関数を定義し、2つの引数 a と b を受け取ります。\n",
    "1. 関数は、a と b の和を計算し、その結果を result という変数に格納します。\n",
    "1. 最後に、return キーワードを使って result の値を返します。\n",
    "1. 関数を使用する際には、関数名に続いて括弧 () を記述し、必要な引数を渡します。\n",
    "1. 上記の例では、add(3, 5) のようにして関数を呼び出しています。"
   ]
  },
  {
   "cell_type": "markdown",
   "metadata": {},
   "source": [
    "### マイルをメートルに変換する関数\n",
    "- 引数1つ、戻り値1つの関数を作る"
   ]
  },
  {
   "cell_type": "code",
   "execution_count": 3,
   "metadata": {},
   "outputs": [
    {
     "name": "stdout",
     "output_type": "stream",
     "text": [
      "32186.88\n"
     ]
    }
   ],
   "source": [
    "# 関数の作成\n",
    "# マイルをメートルに変換するシンプルなユーザー定義関数の例\n",
    "def mile2meter(mile):\n",
    "    meter = mile * 1609.344\n",
    "    return meter\n",
    "\n",
    "# 関数の使用\n",
    "distance_mile = 20\n",
    "distance_meter = mile2meter(distance_mile)\n",
    "print(distance_meter)  # 出力：32186.88"
   ]
  },
  {
   "cell_type": "markdown",
   "metadata": {},
   "source": [
    "1. 上記の例では、mile2meter という名前の関数を定義し、1つの引数 mile を受け取ります。\n",
    "1. 関数は、マイルからメートルを計算し、その結果を meter という変数に格納します。\n",
    "1. 最後に、return キーワードを使って meter の値を返します。\n",
    "1. 関数を使用する際には、関数名に続いて括弧 () を記述し、必要な引数を渡します。\n",
    "1. 上記の例では、mile2meter(distance_mile) のようにして関数を呼び出しています。"
   ]
  },
  {
   "cell_type": "markdown",
   "metadata": {},
   "source": [
    "## 練習プログラム1 (2.4点)\n",
    "1. じゃんけんの\"グー\",\"チョキ\",\"パー\"のいずれかをランダムで返す関数を作成して、呼び出してみましょう\n",
    "2. 台形の面積を返す関数を作成して、呼び出してみましょう\n",
    "3. メートルをヤードに変換する関数を作成して、呼び出してみましょう"
   ]
  },
  {
   "cell_type": "code",
   "execution_count": 4,
   "metadata": {},
   "outputs": [
    {
     "name": "stdout",
     "output_type": "stream",
     "text": [
      "チョキ\n"
     ]
    }
   ],
   "source": [
    "# 1. じゃんけんの\"グー\",\"チョキ\",\"パー\"のいずれかをランダムで返す関数を作成して、呼び出してみましょう\n",
    "\n",
    "# 正答例\n",
    "import random\n",
    "\n",
    "def janken():\n",
    "    hands = [\"グー\", \"チョキ\", \"パー\"]\n",
    "    return random.choice(hands)\n",
    "\n",
    "# 関数の呼び出し\n",
    "result = janken()\n",
    "print(result)"
   ]
  },
  {
   "cell_type": "markdown",
   "metadata": {},
   "source": [
    "### 正答例の解説\n",
    "\n",
    "1. import randomでPythonの標準ライブラリであるrandomモジュールをインポートします。このモジュールは、乱数の生成に関する関数を提供します。\n",
    "1. janken()関数を定義します。この関数は引数を取らず、じゃんけんの手をランダムに返します。\n",
    "1. handsリストを定義し、じゃんけんの手である\"グー\", \"チョキ\", \"パー\"を要素として持つリストを作成します。\n",
    "1. random.choice(hands)を使って、handsリストからランダムに要素を選択します。random.choice()関数は、指定したリストからランダムに要素を1つ選択して返します。\n",
    "1. 選択された要素を関数の戻り値として返します。\n",
    "1. janken()関数を呼び出し、返された値をresult変数に代入します。\n",
    "1. print(result)で、選択されたじゃんけんの手を出力します。\n",
    "\n",
    "上記のプログラムにより、実行するたびに、\"グー\", \"チョキ\", \"パー\"のいずれかがランダムに出力されます。"
   ]
  },
  {
   "cell_type": "code",
   "execution_count": 5,
   "metadata": {},
   "outputs": [
    {
     "name": "stdin",
     "output_type": "stream",
     "text": [
      "上底、下底、高さをスペース区切りで入力してください:  5.5 8.7 4\n"
     ]
    },
    {
     "name": "stdout",
     "output_type": "stream",
     "text": [
      "台形の面積: 28.4\n"
     ]
    }
   ],
   "source": [
    "# 2.  台形の面積を返す関数を作成して、呼び出してみましょう\n",
    "\n",
    "# 正答例\n",
    "# 1. trapezoid_area()関数を定義します。\n",
    "def trapezoid_area(upper_base, lower_base, height):\n",
    "    area = (upper_base + lower_base) * height / 2\n",
    "    return area\n",
    "\n",
    "# 2. 入力を受け取る\n",
    "upper_base, lower_base, height = map(float, input(\"上底、下底、高さをスペース区切りで入力してください: \").split())\n",
    "\n",
    "# 3. 関数の呼び出し\n",
    "result = trapezoid_area(upper_base, lower_base, height)\n",
    "\n",
    "# 4. 結果の出力\n",
    "print(f\"台形の面積: {result}\")"
   ]
  },
  {
   "cell_type": "markdown",
   "metadata": {},
   "source": [
    "### 正答例の解説\n",
    "\n",
    "1. trapezoid_area()関数を定義します。\n",
    "   - この関数は、上底（upper_base）、下底（lower_base）、高さ（height）の3つの引数を取ります。\n",
    "   - 台形の面積を計算するために、台形の面積の公式を使用します。\n",
    "      - 台形の面積 = (上底 + 下底) × 高さ ÷ 2\n",
    "   - この公式を使って、area変数に面積を計算して代入します。\n",
    "   - 計算された面積を関数の戻り値として返します。\n",
    "\n",
    "2. 入力を受け取る\n",
    "   - この例では、input()関数を使って、ユーザーに上底、下底、高さを1行で入力するように促します。入力された値は文字列として受け取ります。\n",
    "   - split()メソッドを使って、入力された文字列をスペース区切りで分割し、リストとして返します。\n",
    "   - map()関数を使って、split()メソッドで分割されたリストの各要素にfloat()関数を適用し、浮動小数点数に変換します。\n",
    "   - map()関数の結果をアンパック代入を使って、upper_base、lower_base、height変数にそれぞれ代入します。これにより、入力された値が数値として扱えるようになります。\n",
    "\n",
    "3. 関数の呼び出し\n",
    "   - 上底（upper_base）、下底（lower_base）、高さ（height）の変数をそれぞれ引数と指定してtrapezoid_area()関数を呼び出します。\n",
    "   - 返された面積の値をresult変数に代入します。\n",
    "\n",
    "4. 結果の出力\n",
    "   - print()関数を使って、計算された台形の面積を出力します。\n"
   ]
  },
  {
   "cell_type": "code",
   "execution_count": 6,
   "metadata": {},
   "outputs": [
    {
     "name": "stdin",
     "output_type": "stream",
     "text": [
      "メートルを入力してください:  200\n"
     ]
    },
    {
     "name": "stdout",
     "output_type": "stream",
     "text": [
      "200.0 メートルは 218.72 ヤードです。\n"
     ]
    }
   ],
   "source": [
    "# 3. メートルをヤードに変換する関数を作成して、呼び出してみましょう\n",
    "\n",
    "# 正答例\n",
    "def meters_to_yards(meters):\n",
    "    yards = meters * 1.09361\n",
    "    return yards\n",
    "\n",
    "# 入力を受け取る\n",
    "meters = float(input(\"メートルを入力してください: \"))\n",
    "\n",
    "# 関数の呼び出し\n",
    "result = meters_to_yards(meters)\n",
    "print(f\"{meters} メートルは {result:.2f} ヤードです。\")"
   ]
  },
  {
   "cell_type": "markdown",
   "metadata": {},
   "source": [
    "### 正答例の解説\n",
    "\n",
    "1. meters_to_yards()関数を定義します。\n",
    "   - この関数は、メートルを表す引数metersを受け取ります。\n",
    "   - メートルからヤードへの変換公式を使って、yards変数に変換後の値を計算して代入します。\n",
    "      - 1メートル = 1.09361ヤード\n",
    "   - この公式を使って、metersに1.09361を乗算し、yards変数に代入します。\n",
    "   - 変換されたヤードの値を関数の戻り値として返します。\n",
    "\n",
    "1. 入力を受け取る\n",
    "   - input()関数を使って、ユーザーにメートルの値を入力するように促します。\n",
    "   - 入力された値は文字列として受け取られ、float()関数を使って浮動小数点数に変換されます。\n",
    "\n",
    "1. 関数の呼び出し\n",
    "   - meters_to_yards()関数を呼び出し、引数としてmetersを渡します。\n",
    "   - 返された変換後のヤードの値をresult変数に代入します。\n",
    "\n",
    "1. 結果の出力\n",
    "   - print()関数を使って、入力されたメートルの値と変換後のヤードの値を出力します。\n",
    "   - \":.2f\" を使って、変換後のヤードの値を小数点以下2桁まで表示しています。"
   ]
  },
  {
   "cell_type": "markdown",
   "metadata": {},
   "source": [
    "---\n",
    "---\n",
    "---\n",
    "---\n",
    "---"
   ]
  },
  {
   "cell_type": "markdown",
   "metadata": {},
   "source": [
    "## サンプルプログラム2　戻り値がない関数"
   ]
  },
  {
   "cell_type": "markdown",
   "metadata": {},
   "source": [
    "### 2個のサイコロを振り、大きい方を結果を表示する関数\n",
    "- 引数なし、戻り値なしの関数を作る"
   ]
  },
  {
   "cell_type": "code",
   "execution_count": 7,
   "metadata": {},
   "outputs": [
    {
     "name": "stdout",
     "output_type": "stream",
     "text": [
      "dice1=4, dice2=4\n",
      "引き分け\n"
     ]
    }
   ],
   "source": [
    "# 2個のサイコロを振って、大きい方を勝ちとして表示するシンプルな関数の定義\n",
    "def dicegame():\n",
    "    dice1 = dice() # 1個めのサイコロを振る\n",
    "    dice2 = dice() # 2個めのサイコロを振る\n",
    "\n",
    "    print(f\"dice1={dice1}, dice2={dice2}\")\n",
    "    print('引き分け' if dice1 == dice2 else \"1個めの勝ち\" if dice1> dice2 else \"2個めの勝ち\")\n",
    "\n",
    "# 関数の呼び出し\n",
    "dicegame()"
   ]
  },
  {
   "cell_type": "markdown",
   "metadata": {},
   "source": [
    "## 練習プログラム2 (0.8点)\n",
    "1. じゃんけんの\"グー\",\"チョキ\",\"パー\"のいずれかをランダムで返す関数を2回呼び出して、勝者を表示する関数を作成し、呼び出してみましょう"
   ]
  },
  {
   "cell_type": "code",
   "execution_count": 8,
   "metadata": {},
   "outputs": [
    {
     "name": "stdout",
     "output_type": "stream",
     "text": [
      "プレイヤー1: グー\n",
      "プレイヤー2: パー\n",
      "プレイヤー2の勝利！\n"
     ]
    }
   ],
   "source": [
    "# 1. じゃんけんの\"グー\",\"チョキ\",\"パー\"のいずれかをランダムで返す関数を2回呼び出して、勝者を表示する関数を作成して、呼び出してみましょう\n",
    "\n",
    "# 正答例\n",
    "def play_janken():\n",
    "    player1 = janken()\n",
    "    player2 = janken()\n",
    "    \n",
    "    print(f\"プレイヤー1: {player1}\")\n",
    "    print(f\"プレイヤー2: {player2}\")\n",
    "    \n",
    "    if player1 == player2:\n",
    "        print(\"引き分けです！\")\n",
    "    elif (player1 == \"グー\" and player2 == \"チョキ\") or (player1 == \"チョキ\" and player2 == \"パー\") or (player1 == \"パー\" and player2 == \"グー\"):\n",
    "        print(\"プレイヤー1の勝利！\")\n",
    "    else:\n",
    "        print(\"プレイヤー2の勝利！\")\n",
    "\n",
    "# 関数の呼び出し\n",
    "play_janken()"
   ]
  },
  {
   "cell_type": "markdown",
   "metadata": {},
   "source": [
    "---\n",
    "---\n",
    "---\n",
    "---\n",
    "---"
   ]
  },
  {
   "cell_type": "markdown",
   "metadata": {},
   "source": [
    "# サンプルプログラム3　関数を途中で抜ける"
   ]
  },
  {
   "cell_type": "markdown",
   "metadata": {},
   "source": [
    "### 引数が数字でない時は処理を中断する関数"
   ]
  },
  {
   "cell_type": "code",
   "execution_count": 9,
   "metadata": {},
   "outputs": [
    {
     "name": "stdin",
     "output_type": "stream",
     "text": [
      "購入する個数を入力してください:  15\n"
     ]
    },
    {
     "name": "stdout",
     "output_type": "stream",
     "text": [
      "金額＝750\n"
     ]
    }
   ],
   "source": [
    "# 引数が数字でない時は処理を中断するシンプルな関数の定義\n",
    "def calc_price(count):\n",
    "    if not count.isdigit():\n",
    "        return None\n",
    "    unit_price = 50\n",
    "    price = int(count) * unit_price\n",
    "    return price\n",
    "\n",
    "print(\"金額＝\" + str(calc_price(input(\"購入する個数を入力してください: \"))))"
   ]
  },
  {
   "cell_type": "markdown",
   "metadata": {},
   "source": [
    "## 練習プログラム3 (0.4点)\n",
    "1. 引数が文字列でない時は処理を中断する関数を作成し、呼び出してみましょう"
   ]
  },
  {
   "cell_type": "code",
   "execution_count": 10,
   "metadata": {},
   "outputs": [
    {
     "name": "stdin",
     "output_type": "stream",
     "text": [
      "文字列を入力してください:  20\n"
     ]
    },
    {
     "name": "stdout",
     "output_type": "stream",
     "text": [
      "入力された文字列: None\n"
     ]
    }
   ],
   "source": [
    "# 1. 引数が文字列でない時は処理を中断する関数を作成し、呼び出してみましょう\n",
    "\n",
    "# 正答例\n",
    "def process_string(input_str):\n",
    "    # 入力された文字列が数字であるかどうかを判定する関数を使用して、数字だった場合は”文字列でない”としてNoneを返す\n",
    "    if input_str.isdigit():\n",
    "        return None\n",
    "\n",
    "    # 上記以外にも文字列以外のObjectを受け取っている場合は、Noneを返す (isdigit()を呼び出しているので文字列以外はここには来ないはずだが、念のため)\n",
    "    if not isinstance(input_str, str):\n",
    "        return None\n",
    "\n",
    "    # 文字列として確定したので、戻り値で値を返す\n",
    "    return input_str\n",
    "\n",
    "print(\"入力された文字列: \" + str(process_string(input(\"文字列を入力してください: \"))))"
   ]
  },
  {
   "cell_type": "markdown",
   "metadata": {},
   "source": [
    "---\n",
    "---\n",
    "---\n",
    "---\n",
    "---"
   ]
  },
  {
   "cell_type": "markdown",
   "metadata": {},
   "source": [
    "# サンプルプログラム4　関数で使う変数の有効範囲"
   ]
  },
  {
   "cell_type": "code",
   "execution_count": 11,
   "metadata": {},
   "outputs": [
    {
     "ename": "NameError",
     "evalue": "name 'unit_price' is not defined",
     "output_type": "error",
     "traceback": [
      "\u001b[0;31m---------------------------------------------------------------------------\u001b[0m",
      "\u001b[0;31mNameError\u001b[0m                                 Traceback (most recent call last)",
      "Cell \u001b[0;32mIn[11], line 2\u001b[0m\n\u001b[1;32m      1\u001b[0m \u001b[38;5;66;03m# サンプルプログラム３の関数内で使用したunit_priceを参照してみる\u001b[39;00m\n\u001b[0;32m----> 2\u001b[0m \u001b[38;5;28mprint\u001b[39m(\u001b[43munit_price\u001b[49m)\n",
      "\u001b[0;31mNameError\u001b[0m: name 'unit_price' is not defined"
     ]
    }
   ],
   "source": [
    "# サンプルプログラム３の関数内で使用したunit_priceを参照してみる\n",
    "print(unit_price)"
   ]
  },
  {
   "cell_type": "markdown",
   "metadata": {},
   "source": [
    "- エラーになります\n",
    "  - NameError: name 'unit_price' is not defined は　’unit_price’は定義されていません の意味になります\n",
    "- 関数定義は閉じた空間であって、その中で定義されている変数等は関数外から参照することはできません\n",
    "  - 関数内で定義された変数を「ローカル変数」といいます。"
   ]
  },
  {
   "cell_type": "markdown",
   "metadata": {},
   "source": [
    "## 練習プログラム4 (0.4点)\n",
    "1. これまで練習プログラム内のオリジナルで作成した関数内で定義した変数を参照して、エラーを起こしてみましょう"
   ]
  },
  {
   "cell_type": "code",
   "execution_count": 12,
   "metadata": {},
   "outputs": [
    {
     "ename": "NameError",
     "evalue": "name 'input_str' is not defined",
     "output_type": "error",
     "traceback": [
      "\u001b[0;31m---------------------------------------------------------------------------\u001b[0m",
      "\u001b[0;31mNameError\u001b[0m                                 Traceback (most recent call last)",
      "Cell \u001b[0;32mIn[12], line 4\u001b[0m\n\u001b[1;32m      1\u001b[0m \u001b[38;5;66;03m# 1. これまで練習プログラム内のオリジナルで作成した関数内で定義した変数を参照して、エラーを起こしてみましょう\u001b[39;00m\n\u001b[1;32m      2\u001b[0m \n\u001b[1;32m      3\u001b[0m \u001b[38;5;66;03m# 正答例\u001b[39;00m\n\u001b[0;32m----> 4\u001b[0m \u001b[38;5;28mprint\u001b[39m(\u001b[43minput_str\u001b[49m)\n",
      "\u001b[0;31mNameError\u001b[0m: name 'input_str' is not defined"
     ]
    }
   ],
   "source": [
    "# 1. これまで練習プログラム内のオリジナルで作成した関数内で定義した変数を参照して、エラーを起こしてみましょう\n",
    "\n",
    "# 正答例\n",
    "print(input_str)"
   ]
  },
  {
   "cell_type": "code",
   "execution_count": null,
   "metadata": {},
   "outputs": [],
   "source": []
  },
  {
   "cell_type": "code",
   "execution_count": null,
   "metadata": {},
   "outputs": [],
   "source": []
  },
  {
   "cell_type": "code",
   "execution_count": null,
   "metadata": {},
   "outputs": [],
   "source": []
  },
  {
   "cell_type": "code",
   "execution_count": null,
   "metadata": {},
   "outputs": [],
   "source": []
  }
 ],
 "metadata": {
  "colab": {
   "authorship_tag": "ABX9TyMOtB7OiTVLb+yu2KoVwjto",
   "include_colab_link": true,
   "provenance": []
  },
  "kernelspec": {
   "display_name": "Python 3 (ipykernel)",
   "language": "python",
   "name": "python3"
  },
  "language_info": {
   "codemirror_mode": {
    "name": "ipython",
    "version": 3
   },
   "file_extension": ".py",
   "mimetype": "text/x-python",
   "name": "python",
   "nbconvert_exporter": "python",
   "pygments_lexer": "ipython3",
   "version": "3.11.9"
  }
 },
 "nbformat": 4,
 "nbformat_minor": 4
}
