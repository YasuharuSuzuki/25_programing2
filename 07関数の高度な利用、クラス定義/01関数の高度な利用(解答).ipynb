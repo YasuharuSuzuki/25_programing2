{
 "cells": [
  {
   "cell_type": "markdown",
   "metadata": {
    "colab_type": "text",
    "id": "view-in-github"
   },
   "source": [
    "<a href=\"https://colab.research.google.com/github/YasuharuSuzuki/25_programing2/blob/main/\" target=\"_parent\"><img src=\"https://colab.research.google.com/assets/colab-badge.svg\" alt=\"Open In Colab\"/></a>"
   ]
  },
  {
   "cell_type": "markdown",
   "metadata": {},
   "source": [
    "# Section 7 関数の高度な利用、クラス定義\n",
    "## Section 7-1 関数の高度な利用"
   ]
  },
  {
   "cell_type": "markdown",
   "metadata": {},
   "source": [
    "## 参考サイト\n",
    "### [参考サイト1【Python早見表】関数オブジェクト](https://chokkan.github.io/python/04function.html#id8)"
   ]
  },
  {
   "cell_type": "markdown",
   "metadata": {},
   "source": [
    "## サンプルプログラム1　関数オブジェクト\n",
    "- 関数はオブジェクトのため数値や文字列と同様に変数に代入したり、関数の引数に渡したりできます"
   ]
  },
  {
   "cell_type": "code",
   "execution_count": 1,
   "metadata": {},
   "outputs": [
    {
     "name": "stdout",
     "output_type": "stream",
     "text": [
      "グー\n"
     ]
    }
   ],
   "source": [
    "def janken_say1 (func):\n",
    "    func()\n",
    "\n",
    "def janken_goo1 ():\n",
    "    print(\"グー\")\n",
    "\n",
    "janken_say1(janken_goo1)"
   ]
  },
  {
   "cell_type": "markdown",
   "metadata": {},
   "source": [
    "## 練習プログラム1　関数オブジェクト (1点)\n",
    "- 関数を２つ定義して、片方の関数の引数にもう一方の関数を渡して実行してみましょう"
   ]
  },
  {
   "cell_type": "code",
   "execution_count": 2,
   "metadata": {},
   "outputs": [
    {
     "name": "stdout",
     "output_type": "stream",
     "text": [
      "セキセイインコ\n",
      "オカメインコ\n",
      "文鳥\n",
      "コザクラインコ\n",
      "オカメインコ\n",
      "文鳥\n"
     ]
    }
   ],
   "source": [
    "# 関数を２つ定義して、片方の関数の引数にもう一方の関数を渡して実行してみましょう\n",
    "# 定義する関数は何でも良いですが、このNotebookのサンプルプログラムや教科書の値とは違う独自の値を入れましょう\n",
    "# 変数名も独自のものに変えましょう\n",
    "\n",
    "# ここにPythonプログラムを記述してください\n",
    "def bard_type (func):\n",
    "    return func()\n",
    "\n",
    "def budgie ():  # バジー\n",
    "    return \"セキセイインコ\"\n",
    "\n",
    "def cockatiel ():  # コッカティル\n",
    "    return \"オカメインコ\"\n",
    "\n",
    "def java_sparrow ():  # ジャバスパロー\n",
    "    return \"文鳥\"\n",
    "\n",
    "def lovebird ():  # ラブバード\n",
    "    return \"コザクラインコ\"\n",
    "\n",
    "print(bard_type(budgie))\n",
    "print(bard_type(cockatiel))\n",
    "print(bard_type(java_sparrow))\n",
    "print(bard_type(lovebird))\n",
    "\n",
    "# 鳥の種類生成関数\n",
    "def bird_generate(bird_type_number):\n",
    "    bird_functions = [\n",
    "        budgie,  # バジー\n",
    "        cockatiel,  # コッカティル\n",
    "        java_sparrow,  # ジャバスパロー\n",
    "        lovebird,  # ラブバード\n",
    "    ]\n",
    "    return bird_functions[bird_type_number % len(bird_functions)]()\n",
    "\n",
    "print(bird_generate(5))\n",
    "print(bird_generate(6))"
   ]
  },
  {
   "cell_type": "markdown",
   "metadata": {},
   "source": [
    "---\n",
    "---\n",
    "---\n",
    "---\n",
    "---"
   ]
  },
  {
   "cell_type": "markdown",
   "metadata": {},
   "source": [
    "## サンプルプログラム2　無名関数（匿名関数、ラムダ式）\n",
    "- 無名関数（lambda関数）を使うと、defキーワードで関数を定義せずに、簡単な関数を定義できます。\n",
    "- 無名関数は以下のように定義できます\n",
    "```python\n",
    "lambda 引数のリスト: 返り値\n",
    "```"
   ]
  },
  {
   "cell_type": "code",
   "execution_count": 5,
   "metadata": {},
   "outputs": [
    {
     "name": "stdout",
     "output_type": "stream",
     "text": [
      "21.0\n"
     ]
    }
   ],
   "source": [
    "# 無名関数を一度変数に格納、その後呼び出して台形の面積を求める例\n",
    "lambda_trapezoid = lambda up, down, high : (up+down)*high*0.5\n",
    "print(lambda_trapezoid(3,3,7))"
   ]
  },
  {
   "cell_type": "code",
   "execution_count": 6,
   "metadata": {},
   "outputs": [
    {
     "name": "stdout",
     "output_type": "stream",
     "text": [
      "21.0\n"
     ]
    }
   ],
   "source": [
    "# 台形の面積を計算するシンプルなユーザー定義関数の例\n",
    "def def_trapezoid(up,down,high):\n",
    "    return (up+down)*high*0.5\n",
    "\n",
    "print(def_trapezoid(3,3,7))"
   ]
  },
  {
   "cell_type": "code",
   "execution_count": 7,
   "metadata": {},
   "outputs": [
    {
     "name": "stdout",
     "output_type": "stream",
     "text": [
      "21.0\n"
     ]
    }
   ],
   "source": [
    "# 無名関数を定義してそのまま呼び出し、台形の面積を求める例\n",
    "print((lambda up, down, high : (up+down)*high*0.5)(3,3,7))"
   ]
  },
  {
   "cell_type": "markdown",
   "metadata": {},
   "source": [
    "## 練習プログラム2　無名関数（匿名関数、ラムダ式） (1点)\n",
    "1. 無名関数を使用した関数を定義、使用してみましょう。\n",
    "2. 作成した無名関数と同じ処理を行うユーザー定義関数をdefキーワードを用いて作成、呼び出してみましょう。"
   ]
  },
  {
   "cell_type": "code",
   "execution_count": 3,
   "metadata": {},
   "outputs": [
    {
     "name": "stdout",
     "output_type": "stream",
     "text": [
      "10.5\n"
     ]
    }
   ],
   "source": [
    "# 1. 無名関数を使用した関数を定義、使用してみましょう。\n",
    "# 定義する無名関数は何でも良いですが、このNotebookのサンプルプログラムや教科書の値とは違う独自の関数を定義しましょう\n",
    "# 変数名も独自のものに変えましょう\n",
    "\n",
    "# ここにPythonプログラムを記述してください\n",
    "lambda_triangle = lambda base, height : base*height*0.5\n",
    "print(lambda_triangle(3,7))"
   ]
  },
  {
   "cell_type": "code",
   "execution_count": 4,
   "metadata": {},
   "outputs": [
    {
     "name": "stdout",
     "output_type": "stream",
     "text": [
      "10.5\n"
     ]
    }
   ],
   "source": [
    "# 2. defキーワードを使用した関数を定義、使用してみましょう。\n",
    "# 定義する関数は何でも良いですが、このNotebookのサンプルプログラムや教科書の値とは違う独自の関数を定義しましょう\n",
    "# 変数名も独自のものに変えましょう\n",
    "\n",
    "# ここにPythonプログラムを記述してください\n",
    "def def_triangle(base,height):\n",
    "    return base*height*0.5\n",
    "\n",
    "print(def_triangle(3,7))"
   ]
  },
  {
   "cell_type": "markdown",
   "metadata": {},
   "source": [
    "---\n",
    "---\n",
    "---\n",
    "---\n",
    "---"
   ]
  },
  {
   "cell_type": "markdown",
   "metadata": {},
   "source": [
    "## サンプルプログラム3　ソート関数を作る\n",
    "- リストの値をソートするsort()およびsorted()では、値を比較する際に使用する関数を指定できます。\n",
    "- 比較関数を作成してみましょう。"
   ]
  },
  {
   "cell_type": "code",
   "execution_count": 10,
   "metadata": {},
   "outputs": [
    {
     "data": {
      "text/plain": [
       "['XS', 'XS', 'S', 'S', 'M', 'M', 'M', 'M', 'M', 'L', 'L']"
      ]
     },
     "execution_count": 10,
     "metadata": {},
     "output_type": "execute_result"
    }
   ],
   "source": [
    "def size(item):\n",
    "    sizelist = [\"XS\",\"S\",\"M\",\"L\"] # この順に並べ替える\n",
    "    pos = sizelist.index(item) # itemのインデックス番号を値として返す\n",
    "    return pos\n",
    "\n",
    "# 並び替えるリスト\n",
    "data1 = [\"S\",\"M\",\"XS\",\"L\",\"M\",\"M\",\"XS\",\"S\",\"M\",\"L\",\"M\"]\n",
    "data1.sort(key=size)\n",
    "data1"
   ]
  },
  {
   "cell_type": "markdown",
   "metadata": {},
   "source": [
    "- lambda関数で比較関数を作成してみましょう。"
   ]
  },
  {
   "cell_type": "code",
   "execution_count": 11,
   "metadata": {},
   "outputs": [
    {
     "data": {
      "text/plain": [
       "['XS', 'XS', 'S', 'S', 'M', 'M', 'M', 'M', 'M', 'L', 'L']"
      ]
     },
     "execution_count": 11,
     "metadata": {},
     "output_type": "execute_result"
    }
   ],
   "source": [
    "sizelist = [\"XS\",\"S\",\"M\",\"L\"] # この順に並べ替える\n",
    "data2 = [\"S\",\"M\",\"XS\",\"L\",\"M\",\"M\",\"XS\",\"S\",\"M\",\"L\",\"M\"]\n",
    "data2.sort(key=lambda item:sizelist.index(item))\n",
    "data2"
   ]
  },
  {
   "cell_type": "markdown",
   "metadata": {},
   "source": [
    "## 練習プログラム3　ソート関数を作る (1点)\n",
    "1. sort()関数に渡す比較関数を自作してみましょう。\n",
    "2. 比較関数を無名関数で自作してみましょう。"
   ]
  },
  {
   "cell_type": "code",
   "execution_count": 5,
   "metadata": {},
   "outputs": [
    {
     "name": "stdout",
     "output_type": "stream",
     "text": [
      "Sorted by name:\n",
      "[('Alice', 20, 85), ('Bob', 22, 90), ('Charlie', 19, 80), ('David', 21, 95), ('Eve', 20, 88)]\n",
      "\n",
      "Sorted by age (descending):\n",
      "[('Bob', 22, 90), ('David', 21, 95), ('Alice', 20, 85), ('Eve', 20, 88), ('Charlie', 19, 80)]\n",
      "\n",
      "Sorted by grade:\n",
      "[('David', 21, 95), ('Bob', 22, 90), ('Eve', 20, 88), ('Alice', 20, 85), ('Charlie', 19, 80)]\n",
      "\n",
      "Sorted by length of name:\n",
      "[('Bob', 22, 90), ('Eve', 20, 88), ('David', 21, 95), ('Alice', 20, 85), ('Charlie', 19, 80)]\n"
     ]
    }
   ],
   "source": [
    "# 1. sort()関数に渡す比較関数を自作してみましょう。\n",
    "# 定義する関数は何でも良いですが、このNotebookのサンプルプログラムや教科書の値とは違う独自の関数を定義しましょう\n",
    "# 変数名も独自のものに変えましょう\n",
    "\n",
    "# ここにPythonプログラムを記述してください\n",
    "# 学生の情報をタプルのリストで作成\n",
    "students = [\n",
    "    (\"Alice\", 20, 85),\n",
    "    (\"Bob\", 22, 90),\n",
    "    (\"Charlie\", 19, 80),\n",
    "    (\"David\", 21, 95),\n",
    "    (\"Eve\", 20, 88)\n",
    "]\n",
    "\n",
    "def sort_by_name(student):\n",
    "    return student[0]\n",
    "\n",
    "def sort_by_age(student):\n",
    "    return student[1]\n",
    "\n",
    "def sort_by_grade(student):\n",
    "    return student[2]\n",
    "\n",
    "def sort_by_name_length(student):\n",
    "    return len(student[0])\n",
    "\n",
    "# 名前で昇順に並べ替える\n",
    "print(\"Sorted by name:\")\n",
    "students.sort(key=sort_by_name)\n",
    "print(students)\n",
    "\n",
    "# 年齢で降順に並べ替える\n",
    "print(\"\\nSorted by age (descending):\")\n",
    "students.sort(key=sort_by_age, reverse=True)\n",
    "print(students)\n",
    "\n",
    "# 成績で降順に並べ替える\n",
    "print(\"\\nSorted by grade:\")\n",
    "students.sort(key=sort_by_grade, reverse=True)\n",
    "print(students)\n",
    "\n",
    "# 名前の長さで昇順に並べ替える\n",
    "print(\"\\nSorted by length of name:\")\n",
    "students.sort(key=sort_by_name_length)\n",
    "print(students)"
   ]
  },
  {
   "cell_type": "code",
   "execution_count": 6,
   "metadata": {},
   "outputs": [
    {
     "name": "stdout",
     "output_type": "stream",
     "text": [
      "Sorted by name:\n",
      "[('Alice', 20, 85), ('Bob', 22, 90), ('Charlie', 19, 80), ('David', 21, 95), ('Eve', 20, 88)]\n",
      "\n",
      "Sorted by age (descending):\n",
      "[('Bob', 22, 90), ('David', 21, 95), ('Alice', 20, 85), ('Eve', 20, 88), ('Charlie', 19, 80)]\n",
      "\n",
      "Sorted by grade:\n",
      "[('Charlie', 19, 80), ('Alice', 20, 85), ('Eve', 20, 88), ('Bob', 22, 90), ('David', 21, 95)]\n",
      "\n",
      "Sorted by length of name:\n",
      "[('Eve', 20, 88), ('Bob', 22, 90), ('Alice', 20, 85), ('David', 21, 95), ('Charlie', 19, 80)]\n"
     ]
    }
   ],
   "source": [
    "# 2. 比較関数を無名関数で自作してみましょう。\n",
    "# 定義する無名関数は何でも良いですが、このNotebookのサンプルプログラムや教科書の値とは違う独自の関数を定義しましょう\n",
    "# 変数名も独自のものに変えましょう\n",
    "\n",
    "# ここにPythonプログラムを記述してください\n",
    "\n",
    "# 名前で昇順に並べ替える\n",
    "print(\"Sorted by name:\")\n",
    "students.sort(key=lambda x: x[0])\n",
    "print(students)\n",
    "\n",
    "# 年齢で降順に並べ替える\n",
    "print(\"\\nSorted by age (descending):\")\n",
    "students.sort(key=lambda x: x[1], reverse=True)\n",
    "print(students)\n",
    "\n",
    "# 成績で昇順に並べ替える\n",
    "print(\"\\nSorted by grade:\")\n",
    "students.sort(key=lambda x: x[2])\n",
    "print(students)\n",
    "\n",
    "# 名前の長さで昇順に並べ替える\n",
    "print(\"\\nSorted by length of name:\")\n",
    "students.sort(key=lambda x: len(x[0]))\n",
    "print(students)"
   ]
  },
  {
   "cell_type": "markdown",
   "metadata": {},
   "source": [
    "---\n",
    "---\n",
    "---\n",
    "---\n",
    "---"
   ]
  },
  {
   "cell_type": "markdown",
   "metadata": {},
   "source": [
    "## サンプルプログラム4　map()で自作の関数を指定する\n",
    "- map()に独自の関数を指定して、リストの各値に対して指定の関数を実行しましょう"
   ]
  },
  {
   "cell_type": "code",
   "execution_count": 7,
   "metadata": {},
   "outputs": [
    {
     "name": "stdout",
     "output_type": "stream",
     "text": [
      "[8, 6, 14, 12, 4, 2]\n"
     ]
    }
   ],
   "source": [
    "# def キーワードを用いた関数を使用した時の例\n",
    "def double(x):\n",
    "    return x * 2\n",
    "\n",
    "nums1 = [4, 3, 7, 6, 2, 1]\n",
    "nums2 = list(map(double,nums1))\n",
    "print(nums2)"
   ]
  },
  {
   "cell_type": "code",
   "execution_count": 8,
   "metadata": {},
   "outputs": [
    {
     "name": "stdout",
     "output_type": "stream",
     "text": [
      "[8, 6, 14, 12, 4, 2]\n"
     ]
    }
   ],
   "source": [
    "# 無名関数を使用した時の例\n",
    "nums1 = [4, 3, 7, 6, 2, 1]\n",
    "nums3 = list(map(lambda x : x * 2,nums1))\n",
    "print(nums3)"
   ]
  },
  {
   "cell_type": "markdown",
   "metadata": {},
   "source": [
    "## 練習プログラム4　map()で自作の関数を指定する (1点)\n",
    "1. map()関数に渡す関数を自作してみましょう。\n",
    "2. map()関数に渡す関数を無名関数で自作してみましょう。"
   ]
  },
  {
   "cell_type": "code",
   "execution_count": 9,
   "metadata": {},
   "outputs": [
    {
     "name": "stdout",
     "output_type": "stream",
     "text": [
      "['セキセイインコ', 'コザクラインコ', 'コザクラインコ', '文鳥', '文鳥', 'オカメインコ']\n"
     ]
    }
   ],
   "source": [
    "# 1. map()関数に渡す関数を自作してみましょう。\n",
    "# 定義する関数は何でも良いですが、このNotebookのサンプルプログラムや教科書の値とは違う独自の関数を定義しましょう\n",
    "# 変数名も独自のものに変えましょう\n",
    "\n",
    "# ここにPythonプログラムを記述してください\n",
    "bird_nums1 = [4, 3, 7, 6, 2, 1]\n",
    "bird_types = list(map(bird_generate,bird_nums1))\n",
    "print(bird_types)"
   ]
  },
  {
   "cell_type": "code",
   "execution_count": 11,
   "metadata": {},
   "outputs": [
    {
     "name": "stdout",
     "output_type": "stream",
     "text": [
      "['セキセイインコ', 'コザクラインコ', 'コザクラインコ', '文鳥', '文鳥', 'オカメインコ']\n"
     ]
    }
   ],
   "source": [
    "# 2. map()関数に渡す関数を無名関数で自作してみましょう。\n",
    "# 定義する無名関数は何でも良いですが、このNotebookのサンプルプログラムや教科書の値とは違う独自の関数を定義しましょう\n",
    "# 変数名も独自のものに変えましょう\n",
    "\n",
    "# ここにPythonプログラムを記述してください\n",
    "bird_types = list(map(lambda x : bird_generate(x),bird_nums1))\n",
    "print(bird_types)"
   ]
  },
  {
   "cell_type": "markdown",
   "metadata": {},
   "source": [
    "---\n",
    "---\n",
    "---\n",
    "---\n",
    "---"
   ]
  },
  {
   "cell_type": "markdown",
   "metadata": {},
   "source": [
    "## サンプルプログラム5　filter()で自作の関数を指定する\n",
    "- filter()に独自の関数を指定して、条件に合う要素だけを抜き出してみましょう"
   ]
  },
  {
   "cell_type": "code",
   "execution_count": 12,
   "metadata": {},
   "outputs": [
    {
     "name": "stdout",
     "output_type": "stream",
     "text": [
      "[4, 7, 1]\n"
     ]
    }
   ],
   "source": [
    "nums1 = [4, -3, 7, -6, -2, 1]\n",
    "nums4 = list(filter(lambda x : x > 0,nums1))\n",
    "print(nums4)"
   ]
  },
  {
   "cell_type": "markdown",
   "metadata": {},
   "source": [
    "## 練習プログラム5　filter()で自作の関数を指定する (1点)\n",
    "1. filter()関数に渡す関数を自作してみましょう。"
   ]
  },
  {
   "cell_type": "code",
   "execution_count": 16,
   "metadata": {},
   "outputs": [
    {
     "name": "stdout",
     "output_type": "stream",
     "text": [
      "['セキセイインコ', 'コザクラインコ', 'コザクラインコ', 'オカメインコ']\n"
     ]
    }
   ],
   "source": [
    "# 1. filter()関数に渡す関数を自作してみましょう。\n",
    "# 定義する関数は何でも良いですが、このNotebookのサンプルプログラムや教科書の値とは違う独自の関数を定義しましょう\n",
    "# 変数名も独自のものに変えましょう\n",
    "\n",
    "# ここにPythonプログラムを記述してください\n",
    "bird_types = list(map(bird_generate, filter(lambda x : bird_generate(x).find('インコ') >= 0, bird_nums1)))\n",
    "print(bird_types)"
   ]
  },
  {
   "cell_type": "code",
   "execution_count": null,
   "metadata": {},
   "outputs": [],
   "source": []
  }
 ],
 "metadata": {
  "colab": {
   "authorship_tag": "ABX9TyMOtB7OiTVLb+yu2KoVwjto",
   "include_colab_link": true,
   "provenance": []
  },
  "kernelspec": {
   "display_name": "Python 3 (ipykernel)",
   "language": "python",
   "name": "python3"
  },
  "language_info": {
   "codemirror_mode": {
    "name": "ipython",
    "version": 3
   },
   "file_extension": ".py",
   "mimetype": "text/x-python",
   "name": "python",
   "nbconvert_exporter": "python",
   "pygments_lexer": "ipython3",
   "version": "3.11.9"
  }
 },
 "nbformat": 4,
 "nbformat_minor": 4
}
