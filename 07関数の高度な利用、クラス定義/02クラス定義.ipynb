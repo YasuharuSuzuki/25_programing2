{
 "cells": [
  {
   "cell_type": "markdown",
   "metadata": {
    "colab_type": "text",
    "id": "view-in-github"
   },
   "source": [
    "## <a href=\"https://colab.research.google.com/github/YasuharuSuzuki/25_programing2/blob/main/\" target=\"_parent\"><img src=\"https://colab.research.google.com/assets/colab-badge.svg\" alt=\"Open In Colab\"/></a>"
   ]
  },
  {
   "cell_type": "markdown",
   "metadata": {},
   "source": [
    "## Section 7-2 クラス定義"
   ]
  },
  {
   "cell_type": "markdown",
   "metadata": {},
   "source": [
    "## 参考サイト\n",
    "### [【Python早見表】クラス](https://chokkan.github.io/python/13class.html)\n",
    "### [【Python入門】クラス](https://utokyo-ipp.github.io/6/6-3.html)"
   ]
  },
  {
   "cell_type": "markdown",
   "metadata": {},
   "source": [
    "## オブジェクトとは\n",
    "- プログラミングにおける「オブジェクト」とはデータとメソッドをもった、概念をまとめた「モノ」です。\n",
    "- 例えばポケモンなら名前（ピカチュウなど）やHP、攻撃力、守備力など様々な「データ」と、通常攻撃や鳴き声で泣いたり、必殺技を繰り出すといった処理を行う「メソッド」をもった「オブジェクト」として考えることができます"
   ]
  },
  {
   "cell_type": "markdown",
   "metadata": {},
   "source": [
    "## クラスとは\n",
    "- オブジェクトの「型」のことです。\n",
    "- 先の例ではポケモンクラスという「型」を定義しておくことで、複数のオブジェクトを実体化させることができます\n",
    "- 実体化したクラスのことは「インスタンス」と言います。オブジェクトとほぼ同義ですが、「インスタンス」の方がメモリが確保されて実体化されたことを明確に示す用語になります"
   ]
  },
  {
   "cell_type": "markdown",
   "metadata": {},
   "source": [
    "<img src=\"./class.png\">"
   ]
  },
  {
   "cell_type": "markdown",
   "metadata": {},
   "source": [
    "## サンプルプログラム6　クラス定義\n",
    "### 例：ポケモンクラス\n",
    "- クラスの定義\n",
    "- 初期化メソッドを呼び出す\n",
    "- インスタンス変数\n",
    "- インスタンスメソッドの定義\n",
    "\n",
    "※謝辞 [PythonBeginnersの過去の発表](https://github.com/PythonBeginners/Meetup028_StartDash)から拝借しました。"
   ]
  },
  {
   "cell_type": "code",
   "execution_count": 5,
   "metadata": {},
   "outputs": [],
   "source": [
    "class Pokemon(): # Pokemon クラスの定義\n",
    "    def __init__(self, name, hp, attack, defence, sound): # 初期化メソッド\n",
    "        self.name = name # インスタンス変数に値を格納\n",
    "        self.hp = hp # インスタンス変数に値を格納\n",
    "        self.attack = attack # インスタンス変数に値を格納\n",
    "        self.defence = defence # インスタンス変数に値を格納\n",
    "        self.sound = sound # インスタンス変数に値を格納\n",
    "    \n",
    "    def say(self): # インスタンスメソッドの定義（鳴き声出力メソッド）\n",
    "        print(f\"{self.sound}\") # ポケモンの鳴き声を出力\n",
    "        \n",
    "    def attack(self, attack): # インスタンスメソッドの定義（攻撃メソッド）\n",
    "        return self.attack # 攻撃\n",
    "    \n",
    "    def view_status(self): # インスタンスメソッドの定義（ステータス表示メソッド）\n",
    "        print(f\"name:{self.name}\")\n",
    "        print(f\"hp:{self.hp}\")\n",
    "        print(f\"attack:{self.attack}\")\n",
    "        print(f\"defence:{self.defence}\")"
   ]
  },
  {
   "cell_type": "markdown",
   "metadata": {},
   "source": [
    "#### Pokemonインスタンスを2つ確保"
   ]
  },
  {
   "cell_type": "code",
   "execution_count": 6,
   "metadata": {},
   "outputs": [],
   "source": [
    "poke1 = Pokemon('ピカチュウ', 80, 50, 20, 'ﾋﾟｨｶﾞﾁﾞｭｩｩｳｩｳ!!')\n",
    "poke2 = Pokemon('イーブイ', 150, 40, 10, 'ｲｲｲｲｲｲｲｲﾌﾞｲｲｲｲｲｲｲｲ!!')"
   ]
  },
  {
   "cell_type": "markdown",
   "metadata": {},
   "source": [
    "#### say() メソッドで泣いてみましょう"
   ]
  },
  {
   "cell_type": "code",
   "execution_count": 7,
   "metadata": {},
   "outputs": [
    {
     "name": "stdout",
     "output_type": "stream",
     "text": [
      "ﾋﾟｨｶﾞﾁﾞｭｩｩｳｩｳ!!\n"
     ]
    }
   ],
   "source": [
    "poke1.say()"
   ]
  },
  {
   "cell_type": "code",
   "execution_count": 8,
   "metadata": {},
   "outputs": [
    {
     "name": "stdout",
     "output_type": "stream",
     "text": [
      "ｲｲｲｲｲｲｲｲﾌﾞｲｲｲｲｲｲｲｲ!!\n"
     ]
    }
   ],
   "source": [
    "poke2.say()"
   ]
  },
  {
   "cell_type": "markdown",
   "metadata": {},
   "source": [
    "## 練習プログラム6　クラス定義 (2点)\n",
    "- クラスを定義してみましょう\n",
    "- 初期化メソッドを定義してみましょう\n",
    "- インスタンス変数に値を格納してみましょう\n",
    "- インスタンスメソッドを定義して呼び出してみましょう"
   ]
  },
  {
   "cell_type": "code",
   "execution_count": 11,
   "metadata": {},
   "outputs": [],
   "source": [
    "# クラスを定義してみましょう\n",
    "# 初期化メソッド、インスタンス変数、インスタンスメソッドも定義してみましょう\n",
    "# 定義するクラスは何でも良いですが、このNotebookのサンプルプログラムの値とは違う独自の値を入れましょう\n",
    "# 変数名も独自のものに変えましょう\n",
    "\n",
    "# ここにPythonプログラムを記述してください"
   ]
  },
  {
   "cell_type": "code",
   "execution_count": 12,
   "metadata": {},
   "outputs": [],
   "source": [
    "# インスタンスメソッドを呼び出してみましょう\n",
    "# 定義するクラスは何でも良いですが、このNotebookのサンプルプログラムの値とは違う独自の値を入れましょう\n",
    "# 変数名も独自のものに変えましょう\n",
    "\n",
    "# ここにPythonプログラムを記述してください"
   ]
  },
  {
   "cell_type": "markdown",
   "metadata": {},
   "source": [
    "---\n",
    "---\n",
    "---\n",
    "---\n",
    "---"
   ]
  },
  {
   "cell_type": "markdown",
   "metadata": {},
   "source": [
    "## サンプルプログラム7　クラス変数とクラスメソッド\n",
    "- クラス自身がクラス変数とクラスメソッドを持つことが出来ます"
   ]
  },
  {
   "cell_type": "code",
   "execution_count": 15,
   "metadata": {},
   "outputs": [],
   "source": [
    "class Pokemon2(): # Pokemon クラスの定義\n",
    "    \n",
    "    # クラス変数\n",
    "    count = 0 # 生成したポケモン数をカウントする\n",
    "    \n",
    "    # クラスメソッド\n",
    "    @classmethod\n",
    "    def count_up(cls): # 生成したポケモン数をカウントアップする\n",
    "        cls.count += 1\n",
    "        cls.print_count()\n",
    "\n",
    "    # クラスメソッド\n",
    "    @classmethod\n",
    "    def print_count(cls): # ポケモン数の累計をカウントアップする\n",
    "        print(f\"ポケモン出現回数：{cls.count}\")\n",
    "        \n",
    "    def __init__(self, name, hp, attack, defence, sound):\n",
    "        self.name = name\n",
    "        self.hp = hp\n",
    "        self.attack = attack\n",
    "        self.defence = defence\n",
    "        self.sound = sound\n",
    "        Pokemon2.count_up() # クラスメソッドを呼び出す\n",
    "    \n",
    "    def say(self):\n",
    "        print(f\"{self.sound}\")\n",
    "        \n",
    "    def attack(self, attack): # インスタンスメソッドの定義（攻撃メソッド）\n",
    "        return self.attack # 攻撃\n",
    "    \n",
    "    def view_status(self): # インスタンスメソッドの定義（ステータス表示メソッド）\n",
    "        print(f\"name:{self.name}\")\n",
    "        print(f\"hp:{self.hp}\")\n",
    "        print(f\"attack:{self.attack}\")\n",
    "        print(f\"defence:{self.defence}\")"
   ]
  },
  {
   "cell_type": "code",
   "execution_count": 16,
   "metadata": {},
   "outputs": [
    {
     "name": "stdout",
     "output_type": "stream",
     "text": [
      "ポケモン出現回数：1\n",
      "ポケモン出現回数：2\n"
     ]
    }
   ],
   "source": [
    "poke1 = Pokemon2('ピカチュウ', 80, 50, 20, 'ﾋﾟｨｶﾞﾁﾞｭｩｩｳｩｳ!!')\n",
    "poke2 = Pokemon2('イーブイ', 150, 40, 10, 'ｲｲｲｲｲｲｲｲﾌﾞｲｲｲｲｲｲｲｲ!!')"
   ]
  },
  {
   "cell_type": "code",
   "execution_count": 17,
   "metadata": {},
   "outputs": [
    {
     "name": "stdout",
     "output_type": "stream",
     "text": [
      "ポケモン出現回数：2\n"
     ]
    }
   ],
   "source": [
    "Pokemon2.print_count()"
   ]
  },
  {
   "cell_type": "markdown",
   "metadata": {},
   "source": [
    "## 練習プログラム7　クラスメンバーとクラスメソッド(1.8点)\n",
    "- クラスメンバーとクラスメソッドを定義してみましょう"
   ]
  },
  {
   "cell_type": "code",
   "execution_count": 18,
   "metadata": {},
   "outputs": [],
   "source": [
    "# クラスメソッド、クラスメンバーも定義してみましょう\n",
    "# 定義するクラスは何でも良いですが、このNotebookのサンプルプログラムの値とは違う独自の値を入れましょう\n",
    "# 変数名も独自のものに変えましょう\n",
    "\n",
    "# ここにPythonプログラムを記述してください"
   ]
  },
  {
   "cell_type": "code",
   "execution_count": null,
   "metadata": {},
   "outputs": [],
   "source": []
  }
 ],
 "metadata": {
  "colab": {
   "authorship_tag": "ABX9TyMOtB7OiTVLb+yu2KoVwjto",
   "include_colab_link": true,
   "provenance": []
  },
  "kernelspec": {
   "display_name": "Python 3 (ipykernel)",
   "language": "python",
   "name": "python3"
  },
  "language_info": {
   "codemirror_mode": {
    "name": "ipython",
    "version": 3
   },
   "file_extension": ".py",
   "mimetype": "text/x-python",
   "name": "python",
   "nbconvert_exporter": "python",
   "pygments_lexer": "ipython3",
   "version": "3.11.9"
  }
 },
 "nbformat": 4,
 "nbformat_minor": 4
}
