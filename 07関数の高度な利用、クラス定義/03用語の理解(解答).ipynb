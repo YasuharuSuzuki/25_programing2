{
 "cells": [
  {
   "cell_type": "markdown",
   "metadata": {},
   "source": [
    "<a href=\"https://colab.research.google.com/github/YasuharuSuzuki/25_programing2/blob/main/\" target=\"_parent\"><img src=\"https://colab.research.google.com/assets/colab-badge.svg\" alt=\"Open In Colab\"/></a>"
   ]
  },
  {
   "cell_type": "markdown",
   "metadata": {
    "id": "KSSJqXOosEeX"
   },
   "source": [
    "# 03_用語の理解"
   ]
  },
  {
   "cell_type": "markdown",
   "metadata": {
    "id": "VRQcesdKsEec"
   },
   "source": [
    "## 用語の理解を問う問題\n",
    "- 以下の問題について、正解となる選択肢を出力してください"
   ]
  },
  {
   "cell_type": "markdown",
   "metadata": {
    "id": "bP053hXUsEee"
   },
   "source": [
    "---\n",
    "---\n",
    "---\n",
    "### 問8 無名関数 (0.3点)\n",
    "- 以下のコードで、空欄に入る適切なキーワードを選んでください\n",
    "\n",
    "```python\n",
    "squared = list(map( [ a ]  x: x**2, [1, 2, 3, 4]))\n",
    "```\n",
    "\n",
    "1. def\n",
    "2. lambda\n",
    "3. function\n",
    "4. return\n"
   ]
  },
  {
   "cell_type": "code",
   "execution_count": 1,
   "metadata": {
    "colab": {
     "base_uri": "https://localhost:8080/"
    },
    "executionInfo": {
     "elapsed": 255,
     "status": "ok",
     "timestamp": 1715147036615,
     "user": {
      "displayName": "鈴木康元",
      "userId": "15385942521303414593"
     },
     "user_tz": -540
    },
    "id": "8cg5YTLosEee",
    "outputId": "c6671804-b225-4341-ea70-8833bd5eb194"
   },
   "outputs": [
    {
     "name": "stdout",
     "output_type": "stream",
     "text": [
      "2\n"
     ]
    }
   ],
   "source": [
    "# 正解を出力してください\n",
    "print('2')"
   ]
  },
  {
   "cell_type": "markdown",
   "metadata": {},
   "source": [
    "#### 解説\n",
    "1. defは通常の関数定義で使用し、無名関数では使いません\n",
    "2. 正解。lambdaは無名関数を定義するためのキーワードです\n",
    "3. functionはPythonの予約語ではありません\n",
    "4. returnは関数内で値を返すために使用します\n"
   ]
  },
  {
   "cell_type": "markdown",
   "metadata": {},
   "source": [
    "---\n",
    "---\n",
    "---\n",
    "### 問9 sort()メソッドのkey引数 (0.3点)\n",
    "\n",
    "- リストの要素を絶対値の大きさでソートしたい場合、sort()メソッドのkey引数に渡す a として最も適切なものを選んでください\n",
    "\n",
    "```python\n",
    "numbers = [-5, 3, -1, 4, -2]\n",
    "numbers.sort(key= [ a ] )\n",
    "```\n",
    "\n",
    "1. key=abs\n",
    "2. key=absolute\n",
    "3. key=lambda x: abs\n",
    "4. key=\"abs\"\n"
   ]
  },
  {
   "cell_type": "code",
   "execution_count": 2,
   "metadata": {
    "colab": {
     "base_uri": "https://localhost:8080/"
    },
    "executionInfo": {
     "elapsed": 278,
     "status": "ok",
     "timestamp": 1715147048787,
     "user": {
      "displayName": "鈴木康元",
      "userId": "15385942521303414593"
     },
     "user_tz": -540
    },
    "id": "y2CxWqMusEef",
    "outputId": "8129fcea-362e-4f33-d57b-529f8313a51f"
   },
   "outputs": [
    {
     "name": "stdout",
     "output_type": "stream",
     "text": [
      "1\n"
     ]
    }
   ],
   "source": [
    "# 正解を出力してください\n",
    "print('1')"
   ]
  },
  {
   "cell_type": "markdown",
   "metadata": {},
   "source": [
    "#### 解説\n",
    "1. 正解。abs関数オブジェクトを直接渡すことで、各要素の絶対値を基準にソートできます\n",
    "2. absoluteという関数は存在しません\n",
    "3. lambda式が不完全で、正しくはlambda x: abs(x)とする必要があります\n",
    "4. 文字列 \"abs\" は関数ではないため、エラーになります"
   ]
  },
  {
   "cell_type": "markdown",
   "metadata": {},
   "source": [
    "---\n",
    "---\n",
    "---\n",
    "### 問10 初期化メソッド (0.3点)  \n",
    "\n",
    "Pythonでクラスの初期化メソッドを定義する際に使用する特殊メソッド名はどれですか？\n",
    "最も適切なものを選んでください。\n",
    "\n",
    "```\n",
    "1. __init__()\n",
    "2. __new__()\n",
    "3. __create__()\n",
    "4. __construct__()\n",
    "```"
   ]
  },
  {
   "cell_type": "code",
   "execution_count": 3,
   "metadata": {},
   "outputs": [
    {
     "name": "stdout",
     "output_type": "stream",
     "text": [
      "1\n"
     ]
    }
   ],
   "source": [
    "# 正解を出力してください\n",
    "print('1')"
   ]
  },
  {
   "cell_type": "markdown",
   "metadata": {},
   "source": [
    "#### 解説\n",
    "```\n",
    "1. __init__()は正しい初期化メソッド名で、インスタンス作成時に自動的に呼び出される\n",
    "2. __new__()はインスタンス生成前に呼ばれる特殊メソッドで、初期化メソッドとは異なる\n",
    "3. __create__()という特殊メソッドは存在しない\n",
    "4. __construct__()という名前はPythonでは使用されない（他の言語での名称）\n",
    "```"
   ]
  },
  {
   "cell_type": "markdown",
   "metadata": {},
   "source": [
    "---\n",
    "---\n",
    "---\n",
    "### 問11 インスタンス変数 (0.3点)\n",
    "\n",
    "以下のコードで、インスタンス変数を正しく定義している部分はどれですか？\n",
    "\n",
    "```python\n",
    "class Animal:\n",
    "    count = 0  # (1)\n",
    "    \n",
    "    def __init__(self, name):\n",
    "        self.name = name  # (2)\n",
    "        Animal.count += 1  # (3)\n",
    "    \n",
    "    def make_sound(self):\n",
    "        sound = \"\"Woof!\"\"  # (4)\n",
    "        print(sound)\n",
    "```\n",
    "\n"
   ]
  },
  {
   "cell_type": "code",
   "execution_count": 5,
   "metadata": {},
   "outputs": [
    {
     "name": "stdout",
     "output_type": "stream",
     "text": [
      "2\n"
     ]
    }
   ],
   "source": [
    "# 正解を出力してください\n",
    "print('2')"
   ]
  },
  {
   "cell_type": "markdown",
   "metadata": {
    "jp-MarkdownHeadingCollapsed": true
   },
   "source": [
    "#### 解説\n",
    "\n",
    "1. count = 0はクラス変数の定義\n",
    "2. self.name = name は正しいインスタンス変数の定義方法\n",
    "3. クラス変数への値の代入操作\n",
    "4. メソッド内のローカル変数の定義"
   ]
  },
  {
   "cell_type": "markdown",
   "metadata": {},
   "source": [
    "---\n",
    "---\n",
    "---\n",
    "---\n",
    "---"
   ]
  },
  {
   "cell_type": "code",
   "execution_count": null,
   "metadata": {},
   "outputs": [],
   "source": []
  }
 ],
 "metadata": {
  "colab": {
   "provenance": [
    {
     "file_id": "https://github.com/YasuharuSuzuki/24_programing2/blob/main/04%E8%BE%9E%E6%9B%B8/01%E8%BE%9E%E6%9B%B8%E3%82%92%E4%BD%9C%E3%82%8B.ipynb",
     "timestamp": 1715146358060
    }
   ]
  },
  "kernelspec": {
   "display_name": "Python 3 (ipykernel)",
   "language": "python",
   "name": "python3"
  },
  "language_info": {
   "codemirror_mode": {
    "name": "ipython",
    "version": 3
   },
   "file_extension": ".py",
   "mimetype": "text/x-python",
   "name": "python",
   "nbconvert_exporter": "python",
   "pygments_lexer": "ipython3",
   "version": "3.11.9"
  }
 },
 "nbformat": 4,
 "nbformat_minor": 4
}
