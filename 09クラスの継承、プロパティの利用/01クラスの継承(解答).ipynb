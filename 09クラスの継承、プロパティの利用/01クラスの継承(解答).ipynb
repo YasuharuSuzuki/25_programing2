{
 "cells": [
  {
   "attachments": {},
   "cell_type": "markdown",
   "metadata": {
    "colab_type": "text",
    "id": "view-in-github"
   },
   "source": [
    "<a href=\"https://colab.research.google.com/github/YasuharuSuzuki/25_programing2/blob/main/\" target=\"_parent\"><img src=\"https://colab.research.google.com/assets/colab-badge.svg\" alt=\"Open In Colab\"/></a>"
   ]
  },
  {
   "attachments": {},
   "cell_type": "markdown",
   "metadata": {},
   "source": [
    "### Section 9 クラスの継承、プロパティの利用\n",
    "# Section 9-1 クラスの継承"
   ]
  },
  {
   "attachments": {},
   "cell_type": "markdown",
   "metadata": {},
   "source": [
    "## 参考サイト\n",
    "### [【Python早見表】クラス継承](https://chokkan.github.io/python/13class.html#id4)\n",
    "### [【Python入門】クラス継承](https://utokyo-ipp.github.io/6/6-3.html#%E7%B6%99%E6%89%BF)"
   ]
  },
  {
   "attachments": {},
   "cell_type": "markdown",
   "metadata": {},
   "source": [
    "## サンプルプログラム１　クラス継承"
   ]
  },
  {
   "attachments": {},
   "cell_type": "markdown",
   "metadata": {},
   "source": [
    "### 継承とは\n",
    "- クラス継承とは、オブジェクト指向プログラミングにおいて、既存のクラスを基にして新しいクラスを作成する仕組みです。\n",
    "- 基本的に、継承元となるクラス（親クラス、基底クラスまたはスーパークラス）の属性やメソッドを、新しいクラス（子クラス、派生クラスまたはサブクラス）が受け継ぐことができます。"
   ]
  },
  {
   "attachments": {},
   "cell_type": "markdown",
   "metadata": {},
   "source": [
    "#### スーパークラスの定義\n",
    "- PokemonBase というクラスを定義します"
   ]
  },
  {
   "cell_type": "code",
   "execution_count": 8,
   "metadata": {},
   "outputs": [],
   "source": [
    "class PokemonBase(): # Pokemon 基底クラスの定義\n",
    "    \n",
    "    # クラス変数\n",
    "    count = 0 # 生成したポケモン数をカウントする\n",
    "    \n",
    "    # クラスメソッド\n",
    "    @classmethod\n",
    "    def count_up(cls): # 生成したポケモン数をカウントアップする\n",
    "        cls.count += 1\n",
    "        cls.print_count()\n",
    "\n",
    "    # クラスメソッド\n",
    "    @classmethod\n",
    "    def print_count(cls): # ポケモン数の累計をカウントアップする\n",
    "        print(f\"ポケモン出現回数：{cls.count}\")\n",
    "        \n",
    "    def __init__(self, name, hp, attack, defence, sound):\n",
    "        self.name = name\n",
    "        self.hp = hp\n",
    "        self.attack = attack\n",
    "        self.defence = defence\n",
    "        self.sound = sound\n",
    "        PokemonBase.count_up() # クラスメソッドを呼び出す\n",
    "    \n",
    "    def say(self):\n",
    "        print(f\"{self.sound}\")\n",
    "        \n",
    "    def attack(self, attack): # インスタンスメソッドの定義（攻撃メソッド）\n",
    "        return self.attack # 攻撃\n",
    "    \n",
    "    def view_status(self): # インスタンスメソッドの定義（ステータス表示メソッド）\n",
    "        print(f\"name:{self.name}\")\n",
    "        print(f\"hp:{self.hp}\")\n",
    "        print(f\"attack:{self.attack}\")\n",
    "        print(f\"defence:{self.defence}\")"
   ]
  },
  {
   "attachments": {},
   "cell_type": "markdown",
   "metadata": {},
   "source": [
    "#### サブクラスの定義\n",
    "- Pikachu、Eevee というサブクラスを定義します\n",
    "- 初期化メソッドを”オーバーライド”して、スーパークラスの初期化メソッドを呼び出しています\n",
    "\n",
    "##### オーバーライド\n",
    "- オーバーライド（Override）は、オブジェクト指向プログラミングにおいて、親クラス（スーパークラス）で定義されているメソッドを、子クラス（サブクラス）で再定義すること。\n",
    "- 子クラスが親クラスのメソッドを上書きして新たな実装を提供することができます。"
   ]
  },
  {
   "cell_type": "code",
   "execution_count": 13,
   "metadata": {},
   "outputs": [],
   "source": [
    "class Pikachu(PokemonBase):\n",
    "    def __init__(self, hp=80, attack=50, defence=20): # 初期化メソッドをオーバーライド\n",
    "        super().__init__(name='ピカチュウ', hp=hp, attack=attack, defence=defence, sound='ﾋﾟｨｶﾞﾁﾞｭｩｩｳｩｳ!!') # スーパークラスの初期化メソッドを呼び出す\n",
    "\n",
    "class Eevee(PokemonBase):\n",
    "    def __init__(self, hp=150, attack=40, defence=10): # 初期化メソッドをオーバーライド\n",
    "        super().__init__(name='イーブイ', hp=hp, attack=attack, defence=defence, sound='ｲｲｲｲｲｲｲｲﾌﾞｲｲｲｲｲｲｲｲ!!') # スーパークラスの初期化メソッドを呼び出す"
   ]
  },
  {
   "attachments": {},
   "cell_type": "markdown",
   "metadata": {},
   "source": [
    "#### PikachuとEeveeのインスタンスを確保"
   ]
  },
  {
   "cell_type": "code",
   "execution_count": 18,
   "metadata": {},
   "outputs": [
    {
     "name": "stdout",
     "output_type": "stream",
     "text": [
      "ポケモン出現回数：7\n",
      "ポケモン出現回数：8\n"
     ]
    }
   ],
   "source": [
    "poke1 = Pikachu(attack=100) # 個体差で攻撃力が高いピカチュウ\n",
    "poke2 = Eevee(defence=100) # 個体差で防御力が高いイーブイ"
   ]
  },
  {
   "attachments": {},
   "cell_type": "markdown",
   "metadata": {},
   "source": [
    "- インスタンス生成時に、オーバーライドした初期化メソッドが呼ばれ、さらにその中でスーパークラスの初期化メソッドを呼び出しています\n",
    "- そのため「ポケモン出現回数」もカウントアップされ、print()文で出力も行われています"
   ]
  },
  {
   "attachments": {},
   "cell_type": "markdown",
   "metadata": {},
   "source": [
    "#### say() メソッドで泣いてみましょう\n",
    "- スーパークラスのメソッドを呼び出して、共通の処理が実行されることを確認しましょう。"
   ]
  },
  {
   "cell_type": "code",
   "execution_count": 19,
   "metadata": {},
   "outputs": [
    {
     "name": "stdout",
     "output_type": "stream",
     "text": [
      "ﾋﾟｨｶﾞﾁﾞｭｩｩｳｩｳ!!\n"
     ]
    }
   ],
   "source": [
    "poke1.say()"
   ]
  },
  {
   "cell_type": "code",
   "execution_count": 20,
   "metadata": {},
   "outputs": [
    {
     "name": "stdout",
     "output_type": "stream",
     "text": [
      "ｲｲｲｲｲｲｲｲﾌﾞｲｲｲｲｲｲｲｲ!!\n"
     ]
    }
   ],
   "source": [
    "poke2.say()"
   ]
  },
  {
   "attachments": {},
   "cell_type": "markdown",
   "metadata": {},
   "source": [
    "## 練習プログラム１　クラス継承 (4.4点)\n",
    "- スーパークラスを１つ、サブクラスを２つ定義してみましょう\n",
    "- 初期化メソッドをオーバーライドして、スーパークラスの初期化メソッドを呼び出しましょう\n",
    "- スーパークラスのクラスメソッド、クラス変数を使用して、共通の処理が実行されることを確認しましょう"
   ]
  },
  {
   "cell_type": "code",
   "execution_count": 1,
   "metadata": {},
   "outputs": [],
   "source": [
    "# クラス継承のプログラムを書いてみましょう\n",
    "# スーパークラス、サブクラス、サブクラスからスーパークラスの初期化メソッド呼び出し、を実装してみましょう\n",
    "# スーパークラスのクラスメソッド、クラス変数を使用して、共通の処理が実行されることを確認しましょう。\n",
    "# 定義するクラスは何でも良いですが、このNotebookのサンプルプログラムの値とは違う独自の値を入れましょう\n",
    "# 変数名も独自のものに変えましょう\n",
    "\n",
    "# ここにPythonプログラムを記述してください"
   ]
  },
  {
   "cell_type": "code",
   "execution_count": 7,
   "metadata": {},
   "outputs": [],
   "source": [
    "# スーパークラス\n",
    "class SpaceObject:\n",
    "    count = 0  # クラス変数\n",
    "\n",
    "    def __init__(self, name, mass):\n",
    "        self.name = name\n",
    "        self.mass = mass\n",
    "        SpaceObject.count += 1  # オブジェクトが生成されるたびにカウントを増やす\n",
    "\n",
    "    def describe(self):\n",
    "        mass_str = self.format_mass(self.mass)\n",
    "        return f\"{self.name}は質量が{mass_str}kgの宇宙物体です。\"\n",
    "\n",
    "    @staticmethod\n",
    "    def format_mass(mass):\n",
    "        units = [\"\", \"万\", \"億\", \"兆\", \"京\", \"垓\", \"𥝱\", \"穣\", \"溝\", \"澗\", \"正\", \"載\", \"極\"]\n",
    "        thresholds = [10 ** (4 * i) for i in range(len(units))]\n",
    "        unit_index = 0\n",
    "        for i in range(len(thresholds) - 1, -1, -1):\n",
    "            if mass >= thresholds[i]:\n",
    "                mass /= thresholds[i]\n",
    "                unit_index = i\n",
    "                break\n",
    "        return f\"{mass:.2f}{units[unit_index]}\"\n",
    "\n",
    "    @classmethod\n",
    "    def get_count(cls):\n",
    "        return cls.count"
   ]
  },
  {
   "cell_type": "code",
   "execution_count": 8,
   "metadata": {},
   "outputs": [],
   "source": [
    "# サブクラス: Planet\n",
    "class Planet(SpaceObject):\n",
    "    def __init__(self, name, mass, orbit_radius):\n",
    "        super().__init__(name, mass)  # スーパークラスの初期化メソッドを呼び出す\n",
    "        self.orbit_radius = orbit_radius\n",
    "\n",
    "    def describe(self):\n",
    "        mass_str = self.format_mass(self.mass)\n",
    "        orbit_radius_billion_km = self.orbit_radius / 1e8\n",
    "        return f\"{self.name}は質量が{mass_str}kgで、軌道半径が{orbit_radius_billion_km:.3f}億kmの惑星です。\""
   ]
  },
  {
   "cell_type": "code",
   "execution_count": 9,
   "metadata": {},
   "outputs": [],
   "source": [
    "# サブクラス: Star\n",
    "class Star(SpaceObject):\n",
    "    def __init__(self, name, mass, absolute_magnitude):\n",
    "        super().__init__(name, mass)  # スーパークラスの初期化メソッドを呼び出す\n",
    "        self.absolute_magnitude = absolute_magnitude\n",
    "\n",
    "    def describe(self):\n",
    "        mass_str = self.format_mass(self.mass)\n",
    "        return f\"{self.name}は質量が{mass_str}kgで、絶対等級が{self.absolute_magnitude}の恒星です。\""
   ]
  },
  {
   "cell_type": "code",
   "execution_count": 10,
   "metadata": {},
   "outputs": [],
   "source": [
    "# サブクラス: Satellite\n",
    "class Satellite(SpaceObject):\n",
    "    def __init__(self, name, mass, planet_name):\n",
    "        super().__init__(name, mass)  # スーパークラスの初期化メソッドを呼び出す\n",
    "        self.planet_name = planet_name\n",
    "\n",
    "    def describe(self):\n",
    "        mass_str = self.format_mass(self.mass)\n",
    "        return f\"{self.name}は質量が{mass_str}kgで、{self.planet_name}の衛星です。\""
   ]
  },
  {
   "cell_type": "code",
   "execution_count": 11,
   "metadata": {},
   "outputs": [],
   "source": [
    "# オブジェクトの生成とテスト\n",
    "earth = Planet(\"地球\", 5.97e24, 149.6e6)\n",
    "venus = Planet(\"金星\", 4.87e24, 108.2e6)\n",
    "mars = Planet(\"火星\", 6.42e23, 227.9e6)\n",
    "moon = Satellite(\"月\", 7.35e22, \"地球\")\n",
    "sun = Star(\"太陽\", 1.99e30, 4.83)"
   ]
  },
  {
   "cell_type": "code",
   "execution_count": 12,
   "metadata": {},
   "outputs": [
    {
     "name": "stdout",
     "output_type": "stream",
     "text": [
      "地球は質量が5.97𥝱kgで、軌道半径が1.496億kmの惑星です。\n",
      "金星は質量が4.87𥝱kgで、軌道半径が1.082億kmの惑星です。\n",
      "火星は質量が6420.00垓kgで、軌道半径が2.279億kmの惑星です。\n",
      "月は質量が735.00垓kgで、地球の衛星です。\n",
      "太陽は質量が199.00穣kgで、絶対等級が4.83の恒星です。\n",
      "総宇宙物体数: 5\n"
     ]
    }
   ],
   "source": [
    "print(earth.describe())\n",
    "print(venus.describe())\n",
    "print(mars.describe())\n",
    "print(moon.describe())\n",
    "print(sun.describe())\n",
    "\n",
    "print(f\"総宇宙物体数: {SpaceObject.get_count()}\")"
   ]
  },
  {
   "cell_type": "code",
   "execution_count": null,
   "metadata": {},
   "outputs": [],
   "source": []
  },
  {
   "cell_type": "code",
   "execution_count": null,
   "metadata": {},
   "outputs": [],
   "source": []
  },
  {
   "cell_type": "code",
   "execution_count": null,
   "metadata": {},
   "outputs": [],
   "source": []
  },
  {
   "attachments": {},
   "cell_type": "markdown",
   "metadata": {},
   "source": [
    "---\n",
    "---\n",
    "---\n",
    "---\n",
    "---"
   ]
  },
  {
   "cell_type": "code",
   "execution_count": null,
   "metadata": {},
   "outputs": [],
   "source": []
  }
 ],
 "metadata": {
  "colab": {
   "authorship_tag": "ABX9TyMOtB7OiTVLb+yu2KoVwjto",
   "include_colab_link": true,
   "provenance": []
  },
  "kernelspec": {
   "display_name": "Python 3 (ipykernel)",
   "language": "python",
   "name": "python3"
  },
  "language_info": {
   "codemirror_mode": {
    "name": "ipython",
    "version": 3
   },
   "file_extension": ".py",
   "mimetype": "text/x-python",
   "name": "python",
   "nbconvert_exporter": "python",
   "pygments_lexer": "ipython3",
   "version": "3.11.9"
  }
 },
 "nbformat": 4,
 "nbformat_minor": 4
}
