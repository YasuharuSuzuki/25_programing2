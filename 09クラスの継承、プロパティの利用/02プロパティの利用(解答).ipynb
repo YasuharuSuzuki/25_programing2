{
 "cells": [
  {
   "cell_type": "markdown",
   "metadata": {
    "colab_type": "text",
    "id": "view-in-github"
   },
   "source": [
    "<a href=\"https://colab.research.google.com/github/YasuharuSuzuki/24_programing2/blob/main/\" target=\"_parent\"><img src=\"https://colab.research.google.com/assets/colab-badge.svg\" alt=\"Open In Colab\"/></a>"
   ]
  },
  {
   "cell_type": "markdown",
   "metadata": {},
   "source": [
    "### Section 9 クラスの継承、プロパティの利用\n",
    "# Section 9-2 プロパティの利用"
   ]
  },
  {
   "cell_type": "markdown",
   "metadata": {},
   "source": [
    "## インスタンス変数の非公開\n",
    "- インスタンス変数をアンダースコア２個の __ から始まる名前にすると、外部から値を参照したり、設定したり出来なくなります。\n",
    "- インスタンス変数を非公開にしたい時に便利です"
   ]
  },
  {
   "cell_type": "markdown",
   "metadata": {},
   "source": [
    "```python\n",
    "# インスタンス変数を非公開にする書き方\n",
    "self.__変数名\n",
    "````"
   ]
  },
  {
   "cell_type": "markdown",
   "metadata": {},
   "source": [
    "## プロパティ\n",
    "- プロパティはインスタンスの状態を変更するために使用する機能の一種です。\n",
    "- プロパティの機能を使用することで、外部からはインスタンス変数を操作しているかのように見せつつ、クラス内部ではインスタンスメソッドを通して処理をカスタマイズすることが出来ます。\n",
    "- インスタンス変数やインスタンスメソッドでも状態を変更することは出来ますが、プロパティを使用するとインスタンス変数取得時に処理を追加したり、値を設定する時に制約やバリデーションを追加したり、インスタンス変数の体裁を保ちながら内部的な処理を隠蔽、修正することができます。\n",
    "- プロパティの値を取得するための getter と、プロパティに値を設定するための setter の2種類があります。"
   ]
  },
  {
   "cell_type": "markdown",
   "metadata": {},
   "source": [
    "### getterとは？\n",
    "\n",
    "- getter（ゲッター）は、プロパティの値を取得するためのメソッドです。\n",
    "- @propertyデコレータ を使用して定義し、属性にアクセスする際に自動的に呼び出されます。\n",
    "- 単純な値の返却だけでなく、計算処理やデータの加工、アクセス制御などを組み込むことができます。\n",
    "- 例：obj.nameでアクセスした時に、内部的にgetterメソッドが実行され、適切な値が返される"
   ]
  },
  {
   "cell_type": "markdown",
   "metadata": {},
   "source": [
    "```python\n",
    "# getterの書き方（デコレータを使用する書き方）\n",
    "@property\n",
    "def 変数名(self):\n",
    "    return self.変数名\n",
    "````"
   ]
  },
  {
   "cell_type": "markdown",
   "metadata": {},
   "source": [
    "### setterとは？\n",
    "\n",
    "- setter（セッター）は、プロパティの値を設定するためのメソッドです。\n",
    "- @プロパティ名.setter デコレータを使用して定義し、属性に値を代入する際に自動的に呼び出されます。\n",
    "- 値の検証（バリデーション）、型チェック、値の変換、副作用のある処理などを組み込むことができます。\n",
    "- 例：obj.name = \"新しい名前\"で代入した時に、内部的にsetterメソッドが実行され、適切な処理が行われる"
   ]
  },
  {
   "cell_type": "markdown",
   "metadata": {},
   "source": [
    "```python\n",
    "# setterの書き方（デコレータを使用する書き方）\n",
    "@変数名.setter\n",
    "def 変数名(self, value):\n",
    "    self.変数名 = value\n",
    "````"
   ]
  },
  {
   "cell_type": "markdown",
   "metadata": {},
   "source": [
    "### デコレータを使用しないプロパティの書き方\n",
    "- Pythonでは@propertyデコレータを使う方法が一般的ですが、property()関数を直接使用する従来の書き方も可能です。\n",
    "- property(getter, setter)の形式で定義します。\n",
    "- この方法では、まず通常のメソッドとしてgetter、setterを定義し、その後にproperty()関数でプロパティオブジェクトを作成します。"
   ]
  },
  {
   "cell_type": "markdown",
   "metadata": {},
   "source": [
    "```python\n",
    "class Person:\n",
    "    def __init__(self):\n",
    "        self._name = \"\"\n",
    "    \n",
    "    def get_name(self):        # getter メソッド\n",
    "        return self._name\n",
    "    \n",
    "    def set_name(self, value): # setter メソッド\n",
    "        if not isinstance(value, str):\n",
    "            raise TypeError(\"名前は文字列である必要があります\")\n",
    "        self._name = value\n",
    "    \n",
    "    # property()関数を使ってプロパティを定義\n",
    "    name = property(get_name, set_name)\n",
    "```"
   ]
  },
  {
   "cell_type": "markdown",
   "metadata": {},
   "source": [
    "## サンプルプログラム２　プロパティの利用"
   ]
  },
  {
   "cell_type": "code",
   "execution_count": 1,
   "metadata": {},
   "outputs": [],
   "source": [
    "class PokemonBase2(): # Pokemon 基底クラスの定義\n",
    "    \n",
    "    # クラス変数\n",
    "    count = 0 # 生成したポケモン数をカウントする\n",
    "    \n",
    "    # クラスメソッド\n",
    "    @classmethod\n",
    "    def count_up(cls): # 生成したポケモン数をカウントアップする\n",
    "        cls.count += 1\n",
    "        cls.print_count()\n",
    "\n",
    "    # クラスメソッド\n",
    "    @classmethod\n",
    "    def print_count(cls): # ポケモン数の累計をカウントアップする\n",
    "        print(f\"ポケモン出現回数：{cls.count}\")\n",
    "        \n",
    "    def __init__(self, name, hp, attack, defence, sound):\n",
    "        self.__name = name # インスタンス変数を非公開にします\n",
    "        self.__hp = hp\n",
    "        self.__attack = attack\n",
    "        self.__defence = defence\n",
    "        self.__sound = sound\n",
    "        PokemonBase2.count_up() # クラスメソッドを呼び出す\n",
    "    \n",
    "    def say(self):\n",
    "        print(f\"{self.__sound}\")\n",
    "        \n",
    "    def attack(self, attack): # インスタンスメソッドの定義（攻撃メソッド）\n",
    "        return self.__attack # 攻撃\n",
    "    \n",
    "    def view_status(self): # インスタンスメソッドの定義（ステータス表示メソッド）\n",
    "        print(f\"name:{self.__name}\")\n",
    "        print(f\"hp:{self.__hp}\")\n",
    "        print(f\"attack:{self.__attack}\")\n",
    "        print(f\"defence:{self.__defence}\")\n",
    "    \n",
    "    # name ゲッターの定義\n",
    "    @property\n",
    "    def name (self):\n",
    "        return self.__name\n",
    "\n",
    "    # hp ゲッターの定義\n",
    "    @property\n",
    "    def hp (self):\n",
    "        return self.__hp\n",
    "\n",
    "    # hp セッターの定義\n",
    "    @hp.setter\n",
    "    def hp (self, new_hp):\n",
    "        self.__hp = new_hp\n",
    "    \n",
    "    # attackゲッターの定義\n",
    "    def get_attack (self):\n",
    "        return self.__attack\n",
    "    \n",
    "    # attackセッターの定義\n",
    "    def set_attack (self, new_attack):\n",
    "        self.__attack = new_attack\n",
    "        \n",
    "    # soundゲッターの定義\n",
    "    def get_sound (self):\n",
    "        return self.__sound\n",
    "    \n",
    "    # プロパティの設定（デコレータを使用しない方法）\n",
    "    attack = property(get_attack, set_attack)\n",
    "    sound = property(get_sound)"
   ]
  },
  {
   "cell_type": "markdown",
   "metadata": {},
   "source": [
    "#### サブクラスの定義"
   ]
  },
  {
   "cell_type": "code",
   "execution_count": 2,
   "metadata": {},
   "outputs": [],
   "source": [
    "class Pikachu(PokemonBase2):\n",
    "    def __init__(self, hp=80, attack=50, defence=20): # 初期化メソッドをオーバーライド\n",
    "        super().__init__(name='ピカチュウ', hp=hp, attack=attack, defence=defence, sound='ﾋﾟｨｶﾞﾁﾞｭｩｩｳｩｳ!!') # スーパークラスの初期化メソッドを呼び出す\n",
    "\n",
    "class Eevee(PokemonBase2):\n",
    "    def __init__(self, hp=150, attack=40, defence=10): # 初期化メソッドをオーバーライド\n",
    "        super().__init__(name='イーブイ', hp=hp, attack=attack, defence=defence, sound='ｲｲｲｲｲｲｲｲﾌﾞｲｲｲｲｲｲｲｲ!!') # スーパークラスの初期化メソッドを呼び出す"
   ]
  },
  {
   "cell_type": "markdown",
   "metadata": {},
   "source": [
    "#### PikachuとEeveeのインスタンスを確保"
   ]
  },
  {
   "cell_type": "code",
   "execution_count": 3,
   "metadata": {},
   "outputs": [
    {
     "name": "stdout",
     "output_type": "stream",
     "text": [
      "ポケモン出現回数：1\n",
      "ポケモン出現回数：2\n"
     ]
    }
   ],
   "source": [
    "poke1 = Pikachu(attack=100) # 個体差で攻撃力が高いピカチュウ\n",
    "poke2 = Eevee(defence=100) # 個体差で防御力が高いイーブイ"
   ]
  },
  {
   "cell_type": "code",
   "execution_count": 4,
   "metadata": {},
   "outputs": [
    {
     "ename": "AttributeError",
     "evalue": "'Pikachu' object has no attribute '__name'",
     "output_type": "error",
     "traceback": [
      "\u001b[0;31m---------------------------------------------------------------------------\u001b[0m",
      "\u001b[0;31mAttributeError\u001b[0m                            Traceback (most recent call last)",
      "Cell \u001b[0;32mIn[4], line 1\u001b[0m\n\u001b[0;32m----> 1\u001b[0m \u001b[43mpoke1\u001b[49m\u001b[38;5;241;43m.\u001b[39;49m\u001b[43m__name\u001b[49m\n",
      "\u001b[0;31mAttributeError\u001b[0m: 'Pikachu' object has no attribute '__name'"
     ]
    }
   ],
   "source": [
    "poke1.__name"
   ]
  },
  {
   "cell_type": "markdown",
   "metadata": {},
   "source": [
    "- アンダースコアｘ２で定義された変数はアクセスできません"
   ]
  },
  {
   "cell_type": "code",
   "execution_count": 5,
   "metadata": {},
   "outputs": [
    {
     "data": {
      "text/plain": [
       "'ピカチュウ'"
      ]
     },
     "execution_count": 5,
     "metadata": {},
     "output_type": "execute_result"
    }
   ],
   "source": [
    "poke1.name"
   ]
  },
  {
   "cell_type": "code",
   "execution_count": 6,
   "metadata": {},
   "outputs": [
    {
     "name": "stdout",
     "output_type": "stream",
     "text": [
      "name:ピカチュウ\n",
      "hp:80\n",
      "attack:100\n",
      "defence:20\n"
     ]
    }
   ],
   "source": [
    "poke1.view_status()"
   ]
  },
  {
   "cell_type": "code",
   "execution_count": 7,
   "metadata": {},
   "outputs": [
    {
     "ename": "AttributeError",
     "evalue": "property 'name' of 'Pikachu' object has no setter",
     "output_type": "error",
     "traceback": [
      "\u001b[0;31m---------------------------------------------------------------------------\u001b[0m",
      "\u001b[0;31mAttributeError\u001b[0m                            Traceback (most recent call last)",
      "Cell \u001b[0;32mIn[7], line 1\u001b[0m\n\u001b[0;32m----> 1\u001b[0m \u001b[43mpoke1\u001b[49m\u001b[38;5;241;43m.\u001b[39;49m\u001b[43mname\u001b[49m \u001b[38;5;241m=\u001b[39m \u001b[38;5;124m'\u001b[39m\u001b[38;5;124mイーヴイ\u001b[39m\u001b[38;5;124m'\u001b[39m\n",
      "\u001b[0;31mAttributeError\u001b[0m: property 'name' of 'Pikachu' object has no setter"
     ]
    }
   ],
   "source": [
    "poke1.name = 'イーヴイ'"
   ]
  },
  {
   "cell_type": "markdown",
   "metadata": {},
   "source": [
    "- セッターが定義されていないため失敗します"
   ]
  },
  {
   "cell_type": "code",
   "execution_count": 8,
   "metadata": {},
   "outputs": [
    {
     "ename": "AttributeError",
     "evalue": "'Pikachu' object has no attribute '__attack'",
     "output_type": "error",
     "traceback": [
      "\u001b[0;31m---------------------------------------------------------------------------\u001b[0m",
      "\u001b[0;31mAttributeError\u001b[0m                            Traceback (most recent call last)",
      "Cell \u001b[0;32mIn[8], line 1\u001b[0m\n\u001b[0;32m----> 1\u001b[0m \u001b[43mpoke1\u001b[49m\u001b[38;5;241;43m.\u001b[39;49m\u001b[43m__attack\u001b[49m\n",
      "\u001b[0;31mAttributeError\u001b[0m: 'Pikachu' object has no attribute '__attack'"
     ]
    }
   ],
   "source": [
    "poke1.__attack"
   ]
  },
  {
   "cell_type": "code",
   "execution_count": 9,
   "metadata": {},
   "outputs": [
    {
     "data": {
      "text/plain": [
       "100"
      ]
     },
     "execution_count": 9,
     "metadata": {},
     "output_type": "execute_result"
    }
   ],
   "source": [
    "poke1.attack"
   ]
  },
  {
   "cell_type": "markdown",
   "metadata": {},
   "source": [
    "- ゲッターで現在の値を確認できます"
   ]
  },
  {
   "cell_type": "code",
   "execution_count": 10,
   "metadata": {},
   "outputs": [],
   "source": [
    "poke1.attack = 55"
   ]
  },
  {
   "cell_type": "markdown",
   "metadata": {},
   "source": [
    "- セッターが定義されているため成功します"
   ]
  },
  {
   "cell_type": "code",
   "execution_count": 11,
   "metadata": {},
   "outputs": [
    {
     "data": {
      "text/plain": [
       "55"
      ]
     },
     "execution_count": 11,
     "metadata": {},
     "output_type": "execute_result"
    }
   ],
   "source": [
    "poke1.attack"
   ]
  },
  {
   "cell_type": "markdown",
   "metadata": {},
   "source": [
    "- ゲッターで値を取得してみると、変更が反映されていることがわかります"
   ]
  },
  {
   "cell_type": "code",
   "execution_count": 12,
   "metadata": {},
   "outputs": [
    {
     "name": "stdout",
     "output_type": "stream",
     "text": [
      "ﾋﾟｨｶﾞﾁﾞｭｩｩｳｩｳ!!\n"
     ]
    }
   ],
   "source": [
    "poke1.say()"
   ]
  },
  {
   "cell_type": "code",
   "execution_count": 13,
   "metadata": {},
   "outputs": [
    {
     "name": "stdout",
     "output_type": "stream",
     "text": [
      "ｲｲｲｲｲｲｲｲﾌﾞｲｲｲｲｲｲｲｲ!!\n"
     ]
    }
   ],
   "source": [
    "poke2.say()"
   ]
  },
  {
   "cell_type": "markdown",
   "metadata": {},
   "source": [
    "## 練習プログラム２ プロパティ (4.4点)\n",
    "- スーパークラスを１つ、サブクラスを２つ定義しましょう。\n",
    "- アンダースコアを２個つけたインスタンス変数を定義して、アクセスが制限されていることを確認しましょう。\n",
    "- ゲッターだけのプロパティを作成して、呼び出してみましょう。また、値をセットしてみるとエラーになることも確認しましょう。\n",
    "- ゲッターとセッター両方使用したプロパティを作成して、呼び出してみましょう。また、値をセットしてみると変更が反映されることも確認しましょう。"
   ]
  },
  {
   "cell_type": "code",
   "execution_count": 14,
   "metadata": {},
   "outputs": [],
   "source": [
    "# クラス継承のプログラムを書いてみましょう\n",
    "# スーパークラス、サブクラス、非公開のインスタンス変数、プロパティをそれぞれ実装してみましょう\n",
    "# ゲッターだけのプロパティを作成して、呼び出してみましょう。また、値をセットしてみるとエラーになることも確認しましょう。\n",
    "# ゲッターとセッター両方使用したプロパティを作成して、呼び出してみましょう。また、値をセットしてみると変更が反映されることも確認しましょう。\n",
    "# 定義するクラスは何でも良いですが、このNotebookのサンプルプログラムの値とは違う独自の値を入れましょう\n",
    "# 変数名も独自のものに変えましょう\n",
    "\n",
    "# ここにPythonプログラムを記述してください"
   ]
  },
  {
   "cell_type": "code",
   "execution_count": 15,
   "metadata": {},
   "outputs": [],
   "source": [
    "# スーパークラス\n",
    "class SpaceObject:\n",
    "    count = 0  # クラス変数\n",
    "\n",
    "    def __init__(self, name, mass):\n",
    "        self.__name = name  # 非公開のインスタンス変数\n",
    "        self.__mass = mass  # 非公開のインスタンス変数\n",
    "        SpaceObject.count += 1  # オブジェクトが生成されるたびにカウントを増やす\n",
    "\n",
    "    @property\n",
    "    def name(self):\n",
    "        return self.__name\n",
    "\n",
    "    @property\n",
    "    def mass(self):\n",
    "        return self.__mass\n",
    "\n",
    "    @mass.setter\n",
    "    def mass(self, value):\n",
    "        self.__mass = value\n",
    "\n",
    "    def describe(self):\n",
    "        mass_str = self.format_mass(self.__mass)\n",
    "        return f\"{self._name}は質量が{mass_str}kgの宇宙物体です。\"\n",
    "\n",
    "    @staticmethod\n",
    "    def format_mass(mass):\n",
    "        units = [\"\", \"万\", \"億\", \"兆\", \"京\", \"垓\", \"𥝱\", \"穣\", \"溝\", \"澗\", \"正\", \"載\", \"極\"]\n",
    "        thresholds = [10 ** (4 * i) for i in range(len(units))]\n",
    "        unit_index = 0\n",
    "        for i in range(len(thresholds) - 1, -1, -1):\n",
    "            if mass >= thresholds[i]:\n",
    "                mass /= thresholds[i]\n",
    "                unit_index = i\n",
    "                break\n",
    "        return f\"{mass:.2f}{units[unit_index]}\"\n",
    "\n",
    "    @classmethod\n",
    "    def get_count(cls):\n",
    "        return cls.count"
   ]
  },
  {
   "cell_type": "code",
   "execution_count": 16,
   "metadata": {},
   "outputs": [],
   "source": [
    "# サブクラス: Planet\n",
    "class Planet(SpaceObject):\n",
    "    def __init__(self, name, mass, orbit_radius):\n",
    "        super().__init__(name, mass)  # スーパークラスの初期化メソッドを呼び出す\n",
    "        self.__orbit_radius = orbit_radius  # 非公開のインスタンス変数\n",
    "\n",
    "    @property\n",
    "    def orbit_radius(self):\n",
    "        return self.__orbit_radius\n",
    "\n",
    "    @orbit_radius.setter\n",
    "    def orbit_radius(self, value):\n",
    "        self.__orbit_radius = value\n",
    "\n",
    "    def describe(self):\n",
    "        mass_str = self.format_mass(self.mass)\n",
    "        orbit_radius_billion_km = self.orbit_radius / 1e8\n",
    "        return f\"{self.name}は質量が{mass_str}kgで、軌道半径が{orbit_radius_billion_km:.3f}億kmの惑星です。\"\n"
   ]
  },
  {
   "cell_type": "code",
   "execution_count": 17,
   "metadata": {},
   "outputs": [],
   "source": [
    "# サブクラス: Star\n",
    "class Star(SpaceObject):\n",
    "    def __init__(self, name, mass, absolute_magnitude):\n",
    "        super().__init__(name, mass)  # スーパークラスの初期化メソッドを呼び出す\n",
    "        self.__absolute_magnitude = absolute_magnitude  # 非公開のインスタンス変数\n",
    "\n",
    "    @property\n",
    "    def absolute_magnitude(self):\n",
    "        return self.__absolute_magnitude\n",
    "\n",
    "    def describe(self):\n",
    "        mass_str = self.format_mass(self.mass)\n",
    "        return f\"{self.name}は質量が{mass_str}kgで、絶対等級が{self.absolute_magnitude}の恒星です。\"\n"
   ]
  },
  {
   "cell_type": "code",
   "execution_count": 18,
   "metadata": {},
   "outputs": [],
   "source": [
    "# サブクラス: Satellite\n",
    "class Satellite(SpaceObject):\n",
    "    def __init__(self, name, mass, planet_name):\n",
    "        super().__init__(name, mass)  # スーパークラスの初期化メソッドを呼び出す\n",
    "        self.__planet_name = planet_name  # 非公開のインスタンス変数\n",
    "\n",
    "    @property\n",
    "    def planet_name(self):\n",
    "        return self.__planet_name\n",
    "\n",
    "    def describe(self):\n",
    "        mass_str = self.format_mass(self.mass)\n",
    "        return f\"{self.name}は質量が{mass_str}kgで、{self.planet_name}の衛星です。\"\n"
   ]
  },
  {
   "cell_type": "code",
   "execution_count": 19,
   "metadata": {},
   "outputs": [],
   "source": [
    "# オブジェクトの生成とテスト\n",
    "earth = Planet(\"地球\", 5.97e24, 149.6e6)\n",
    "venus = Planet(\"金星\", 4.87e24, 108.2e6)\n",
    "mars = Planet(\"火星\", 6.42e23, 227.9e6)\n",
    "moon = Satellite(\"月\", 7.35e22, \"地球\")\n",
    "sun = Star(\"太陽\", 1.99e30, 4.83)"
   ]
  },
  {
   "cell_type": "code",
   "execution_count": 20,
   "metadata": {},
   "outputs": [
    {
     "name": "stdout",
     "output_type": "stream",
     "text": [
      "地球\n",
      "'Planet' object has no attribute '__name'\n"
     ]
    }
   ],
   "source": [
    "# ゲッターだけのプロパティのテスト\n",
    "print(earth.name)  # 地球\n",
    "try:\n",
    "    # earth.name = \"New Earth\"  # エラーが発生するはず\n",
    "    print(earth.__name)\n",
    "except AttributeError as e:\n",
    "    print(e)  # can't set attribute"
   ]
  },
  {
   "cell_type": "code",
   "execution_count": 21,
   "metadata": {},
   "outputs": [
    {
     "name": "stdout",
     "output_type": "stream",
     "text": [
      "5.97e+24\n",
      "6e+24\n"
     ]
    }
   ],
   "source": [
    "# ゲッターとセッター両方のプロパティのテスト\n",
    "print(earth.mass)  # 5.97e24\n",
    "earth.mass = 6.00e24\n",
    "print(earth.mass)  # 6.00e24"
   ]
  },
  {
   "cell_type": "code",
   "execution_count": 22,
   "metadata": {},
   "outputs": [
    {
     "name": "stdout",
     "output_type": "stream",
     "text": [
      "地球は質量が6.00𥝱kgで、軌道半径が1.496億kmの惑星です。\n",
      "金星は質量が4.87𥝱kgで、軌道半径が1.082億kmの惑星です。\n",
      "火星は質量が6420.00垓kgで、軌道半径が2.279億kmの惑星です。\n",
      "月は質量が735.00垓kgで、地球の衛星です。\n",
      "太陽は質量が199.00穣kgで、絶対等級が4.83の恒星です。\n"
     ]
    }
   ],
   "source": [
    "print(earth.describe())\n",
    "print(venus.describe())\n",
    "print(mars.describe())\n",
    "print(moon.describe())\n",
    "print(sun.describe())"
   ]
  },
  {
   "cell_type": "code",
   "execution_count": 23,
   "metadata": {},
   "outputs": [
    {
     "name": "stdout",
     "output_type": "stream",
     "text": [
      "総宇宙物体数: 5\n"
     ]
    }
   ],
   "source": [
    "print(f\"総宇宙物体数: {SpaceObject.get_count()}\")"
   ]
  },
  {
   "cell_type": "markdown",
   "metadata": {},
   "source": [
    "---\n",
    "---\n",
    "---\n",
    "---\n",
    "---"
   ]
  },
  {
   "cell_type": "code",
   "execution_count": null,
   "metadata": {},
   "outputs": [],
   "source": []
  }
 ],
 "metadata": {
  "colab": {
   "authorship_tag": "ABX9TyMOtB7OiTVLb+yu2KoVwjto",
   "include_colab_link": true,
   "provenance": []
  },
  "kernelspec": {
   "display_name": "Python 3 (ipykernel)",
   "language": "python",
   "name": "python3"
  },
  "language_info": {
   "codemirror_mode": {
    "name": "ipython",
    "version": 3
   },
   "file_extension": ".py",
   "mimetype": "text/x-python",
   "name": "python",
   "nbconvert_exporter": "python",
   "pygments_lexer": "ipython3",
   "version": "3.11.9"
  }
 },
 "nbformat": 4,
 "nbformat_minor": 4
}
