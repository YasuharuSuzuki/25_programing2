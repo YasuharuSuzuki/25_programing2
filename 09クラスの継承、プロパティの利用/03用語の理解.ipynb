{
 "cells": [
  {
   "cell_type": "markdown",
   "metadata": {},
   "source": [
    "<a href=\"https://colab.research.google.com/github/YasuharuSuzuki/25_programing2/blob/main/\" target=\"_parent\"><img src=\"https://colab.research.google.com/assets/colab-badge.svg\" alt=\"Open In Colab\"/></a>"
   ]
  },
  {
   "cell_type": "markdown",
   "metadata": {
    "id": "KSSJqXOosEeX"
   },
   "source": [
    "# 03_用語の理解"
   ]
  },
  {
   "cell_type": "markdown",
   "metadata": {
    "id": "VRQcesdKsEec"
   },
   "source": [
    "## 用語の理解を問う問題\n",
    "- 以下の問題について、正解となる選択肢を出力してください"
   ]
  },
  {
   "cell_type": "markdown",
   "metadata": {
    "id": "bP053hXUsEee"
   },
   "source": [
    "---\n",
    "---\n",
    "---\n",
    "### 問3 オーバーライド (0.3点)\n",
    "- オーバーライド（Override）について正しい説明はどれか？\n",
    "\n",
    "1. 親クラスに新しいメソッドを追加すること\n",
    "2. 子クラスで親クラスのメソッドを再定義すること\n",
    "3. 複数のクラスを同時に継承すること\n",
    "4. クラス変数を初期化すること\n"
   ]
  },
  {
   "cell_type": "code",
   "execution_count": 1,
   "metadata": {
    "colab": {
     "base_uri": "https://localhost:8080/"
    },
    "executionInfo": {
     "elapsed": 255,
     "status": "ok",
     "timestamp": 1715147036615,
     "user": {
      "displayName": "鈴木康元",
      "userId": "15385942521303414593"
     },
     "user_tz": -540
    },
    "id": "8cg5YTLosEee",
    "outputId": "c6671804-b225-4341-ea70-8833bd5eb194"
   },
   "outputs": [
    {
     "name": "stdout",
     "output_type": "stream",
     "text": [
      "\n"
     ]
    }
   ],
   "source": [
    "# 正解を出力してください\n",
    "print('')"
   ]
  },
  {
   "cell_type": "markdown",
   "metadata": {},
   "source": [
    "---\n",
    "---\n",
    "---\n",
    "### 問4 クラスの継承 (0.3点)\n",
    "\n",
    "- 以下のコードで、Dogクラスのインスタンスを作成した際の出力はどれですか？\n",
    "\n",
    "```python\n",
    "class Animal:\n",
    "    count = 0\n",
    "    \n",
    "    def __init__(self, name):\n",
    "        self.name = name\n",
    "        Animal.count += 1\n",
    "        print(f\"動物が生まれました: {self.name}\")\n",
    "\n",
    "class Dog(Animal):\n",
    "    def __init__(self, name, breed):\n",
    "        super().__init__(name)\n",
    "        self.breed = breed\n",
    "        print(f\"犬種: {self.breed}\")\n",
    "\n",
    "my_dog = Dog(\"ポチ\", \"柴犬\")\n",
    "```\n",
    "\n",
    "---\n",
    "\n",
    "#### 1\n",
    "```\n",
    "動物が生まれました: ポチ\n",
    "```\n",
    "\n",
    "---\n",
    "\n",
    "#### 2\n",
    "```\n",
    "犬種: 柴犬\n",
    "```\n",
    "\n",
    "---\n",
    "\n",
    "#### 3\n",
    "```\n",
    "動物が生まれました: ポチ\n",
    "犬種: 柴犬\n",
    "```\n",
    "\n",
    "---\n",
    "\n",
    "#### 4\n",
    "```\n",
    "犬種: 柴犬\n",
    "動物が生まれました: ポチ\n",
    "```"
   ]
  },
  {
   "cell_type": "code",
   "execution_count": 2,
   "metadata": {
    "colab": {
     "base_uri": "https://localhost:8080/"
    },
    "executionInfo": {
     "elapsed": 278,
     "status": "ok",
     "timestamp": 1715147048787,
     "user": {
      "displayName": "鈴木康元",
      "userId": "15385942521303414593"
     },
     "user_tz": -540
    },
    "id": "y2CxWqMusEef",
    "outputId": "8129fcea-362e-4f33-d57b-529f8313a51f"
   },
   "outputs": [
    {
     "name": "stdout",
     "output_type": "stream",
     "text": [
      "\n"
     ]
    }
   ],
   "source": [
    "# 正解を出力してください\n",
    "print('')"
   ]
  },
  {
   "cell_type": "markdown",
   "metadata": {},
   "source": [
    "---\n",
    "---\n",
    "---\n",
    "### 問5 getter (0.3点)\n",
    "\n",
    "- nameプロパティのgetterを正しく定義しているものを次から選べ\n",
    "\n",
    "1. @property.getter\n",
    "2. @property\n",
    "3. @getter\n",
    "4. @name.getter\n"
   ]
  },
  {
   "cell_type": "code",
   "execution_count": 3,
   "metadata": {},
   "outputs": [
    {
     "name": "stdout",
     "output_type": "stream",
     "text": [
      "\n"
     ]
    }
   ],
   "source": [
    "# 正解を出力してください\n",
    "print('')"
   ]
  },
  {
   "cell_type": "markdown",
   "metadata": {},
   "source": [
    "---\n",
    "---\n",
    "---\n",
    "### 問6 インスタンス変数 (0.3点)\n",
    "\n",
    "- 以下のコードを実行した場合、どのような結果になりますか？\n",
    "\n",
    "```python\n",
    "class Sample:\n",
    "    def __init__(self):\n",
    "        self.__name = \"ゆうしゃ\"\n",
    "\n",
    "sample = Sample()\n",
    "print(sample.__name)\n",
    "```\n"
   ]
  },
  {
   "cell_type": "markdown",
   "metadata": {},
   "source": [
    "1. ”ゆうしゃ” と出力される\n",
    "2. Noneと出力される\n",
    "3. AttributeErrorが発生する\n",
    "4. 空文字列が出力される"
   ]
  },
  {
   "cell_type": "code",
   "execution_count": 4,
   "metadata": {},
   "outputs": [
    {
     "name": "stdout",
     "output_type": "stream",
     "text": [
      "\n"
     ]
    }
   ],
   "source": [
    "# 正解を出力してください\n",
    "print('')"
   ]
  },
  {
   "cell_type": "markdown",
   "metadata": {},
   "source": [
    "---\n",
    "---\n",
    "---\n",
    "---\n",
    "---"
   ]
  },
  {
   "cell_type": "code",
   "execution_count": null,
   "metadata": {},
   "outputs": [],
   "source": []
  }
 ],
 "metadata": {
  "colab": {
   "provenance": [
    {
     "file_id": "https://github.com/YasuharuSuzuki/24_programing2/blob/main/04%E8%BE%9E%E6%9B%B8/01%E8%BE%9E%E6%9B%B8%E3%82%92%E4%BD%9C%E3%82%8B.ipynb",
     "timestamp": 1715146358060
    }
   ]
  },
  "kernelspec": {
   "display_name": "Python 3 (ipykernel)",
   "language": "python",
   "name": "python3"
  },
  "language_info": {
   "codemirror_mode": {
    "name": "ipython",
    "version": 3
   },
   "file_extension": ".py",
   "mimetype": "text/x-python",
   "name": "python",
   "nbconvert_exporter": "python",
   "pygments_lexer": "ipython3",
   "version": "3.11.9"
  }
 },
 "nbformat": 4,
 "nbformat_minor": 4
}
