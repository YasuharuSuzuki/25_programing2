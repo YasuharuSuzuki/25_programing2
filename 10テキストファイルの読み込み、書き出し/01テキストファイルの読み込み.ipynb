{
 "cells": [
  {
   "cell_type": "markdown",
   "metadata": {
    "colab_type": "text",
    "id": "view-in-github"
   },
   "source": [
    "<a href=\"https://colab.research.google.com/github/YasuharuSuzuki/25_programing2/blob/main/\" target=\"_parent\"><img src=\"https://colab.research.google.com/assets/colab-badge.svg\" alt=\"Open In Colab\"/></a>"
   ]
  },
  {
   "cell_type": "markdown",
   "metadata": {},
   "source": [
    "### Section 10 テキストファイルの読み込み、書き出し\n",
    "# Section 10-1 テキストファイルを読み込む"
   ]
  },
  {
   "cell_type": "markdown",
   "metadata": {},
   "source": [
    "## 参考サイト"
   ]
  },
  {
   "cell_type": "markdown",
   "metadata": {},
   "source": [
    "### [【Python早見表】ファイルからの読み込み](https://chokkan.github.io/python/11file.html#id3)\n",
    "\n",
    "#### 座学：サイトからの情報紹介（ファイルへの書き込み → ファイルからの読み込み）\n",
    "- ファイルへの書き込み\n",
    "  - open()を使用してファイルを書き込みモードで開き、ファイルオブジェクトを取得。\n",
    "  - print()もしくはwrite()でファイル出力。（内部的にキャッシュされているため実際には反映されていないことがある）\n",
    "  - close()でファイルを閉じると、ファイル出力が実行される。（閉じ忘れると保存されないことがある）\n",
    "  - with文を使用すると自動的にclose()が実行されるため、便利。\n",
    "\n",
    "- ファイルからの読み込み\n",
    "  - open()を使用してファイルを開き、forで読む。\n",
    "  - こちらも書き込み時同様にclose()で閉じる。with文を使用すると便利なのも同様"
   ]
  },
  {
   "cell_type": "markdown",
   "metadata": {},
   "source": [
    "### [【Python入門】ファイル入出力](https://utokyo-ipp.github.io/4/4-1.html)\n",
    "\n",
    "#### 座学：サイトからの情報紹介（こちらはそれぞれの操作について詳しく書かれています）\n",
    "- ファイルのオープン\n",
    "  - 読み込みモード(r)、書き込みモード(w)、追記モード(a)\n",
    "- ファイルのクローズ（close()メソッド）\n",
    "  - with文おすすめ\n",
    "- ファイルからの読み込み\n",
    "  - readline()を使用した1行読み込み\n",
    "  - read()を使用したファイル全体の読み込み\n",
    "\n",
    "- ファイルへの書き込み\n",
    "  - print()もしくはwrite()でファイル出力\n",
    "\n",
    "- ファイルの読み書きにおける文字コード指定\n",
    "  - 文字コードではWindowsではShift-JISが多く、GoogleColaboはLinuxのためUTF-8が使用されることが多い。MacもUTF-8。\n",
    "  - 文字化けが発生したときは文字コードを設定して読み込み、書き込みを行ってみましょう。"
   ]
  },
  {
   "cell_type": "markdown",
   "metadata": {},
   "source": [
    "---\n",
    "---\n",
    "---\n",
    "---\n",
    "---"
   ]
  },
  {
   "cell_type": "markdown",
   "metadata": {},
   "source": [
    "## サンプルプログラム1　テキストファイルを読み込む(with-as)\n",
    "- with-as 文を使うことでclose忘れを防ぐ事ができます。"
   ]
  },
  {
   "cell_type": "code",
   "execution_count": null,
   "metadata": {},
   "outputs": [],
   "source": [
    "# drive.mount()を使用してGoogleDriveをMount\n",
    "from google.colab import drive\n",
    "drive.mount('/content/drive')\n",
    "\n",
    "# os.chdir()を使用してカレントディレクトリを変更。作成したショーットカット名を使ってパスを指定します。\n",
    "import os\n",
    "os.chdir('/content/drive/MyDrive/＜作成したショートカット名＞')"
   ]
  },
  {
   "cell_type": "code",
   "execution_count": 6,
   "metadata": {},
   "outputs": [
    {
     "name": "stdout",
     "output_type": "stream",
     "text": [
      "Hanshin won 9 straight games for the first time in 16 years, the longest winning streak this season.\n",
      "19 wins in a month tied for the most by a team in 55 years.\n",
      "\n"
     ]
    }
   ],
   "source": [
    "# ./data/以下のファイルをアップロードしておき、ここでパスを指定します\n",
    "file_path = \"./data/tiger.txt\"\n",
    "\n",
    "# ファイルを読み込みます\n",
    "with open(file_path, \"r\", encoding=\"utf_8\") as fileobj:\n",
    "    text = fileobj.read()\n",
    "    print(text)"
   ]
  },
  {
   "cell_type": "markdown",
   "metadata": {},
   "source": [
    "## 練習プログラム1　テキストファイルを読み込む(with-as) (1.0点)\n",
    "- \"./data/sasaki.txt\" を読み込んで出力してみましょう。 "
   ]
  },
  {
   "cell_type": "code",
   "execution_count": 15,
   "metadata": {},
   "outputs": [
    {
     "name": "stdout",
     "output_type": "stream",
     "text": [
      "Roki Sasaki's \"disappearing magic ball\" is \"impossible to hit\".\n",
      "Batter's one-turn \"top level of all time\".\n"
     ]
    }
   ],
   "source": [
    "# with-as を使用してテキスト読み込みのプログラムを書いてみましょう\n",
    "# このNotebookのサンプルプログラムの値とは違う独自の値を入れましょう。変数名も独自のものに変えましょう。\n",
    "\n",
    "# ここにPythonプログラムを記述してください\n"
   ]
  },
  {
   "cell_type": "markdown",
   "metadata": {},
   "source": [
    "---\n",
    "---\n",
    "---\n",
    "---\n",
    "---"
   ]
  },
  {
   "cell_type": "markdown",
   "metadata": {},
   "source": [
    "## サンプルプログラム2　1行ずつ読み込む\n",
    "- readline()を使用して１行ずつ文字列を読み込むことが出来ます。"
   ]
  },
  {
   "cell_type": "code",
   "execution_count": 12,
   "metadata": {},
   "outputs": [
    {
     "name": "stdout",
     "output_type": "stream",
     "text": [
      "我が名はアシタカ！\n",
      "東の果てよりこの地へ来た！\n",
      "そなたたちはシシ神の森に住むと聞く古い神か！\n"
     ]
    }
   ],
   "source": [
    "file_path = \"./data/asitaka.txt\"\n",
    "with open(file_path, \"r\", encoding=\"utf_8\") as fileobj: # ファイルオブジェクトを作る\n",
    "    while True :\n",
    "        line = fileobj.readline()    # 1行ずつ読み込む\n",
    "        aline = line.rstrip()    # 改行を取り除く\n",
    "        if aline :    # 文字列があれば出力する\n",
    "            print(aline) \n",
    "        else:\n",
    "            break    # 読み込みを終了する"
   ]
  },
  {
   "cell_type": "markdown",
   "metadata": {},
   "source": [
    "## 練習プログラム2　1行ずつ読み込む (1.5点)\n",
    "- \"./data/melos.txt\" を1行ずつ読み込んで出力してみましょう。"
   ]
  },
  {
   "cell_type": "code",
   "execution_count": 13,
   "metadata": {},
   "outputs": [
    {
     "name": "stdout",
     "output_type": "stream",
     "text": [
      "メロスは激怒した。\n",
      "必ず、かの邪智暴虐の王を除かなければならぬと決意した。\n",
      "メロスには政治がわからぬ。\n",
      "メロスは、村の牧人である。\n",
      "笛を吹き、羊と遊んで暮して来た。\n",
      "けれども邪悪に対しては、人一倍に敏感であった。\n",
      "きょう未明メロスは村を出発し、野を越え山越え、十里はなれた此このシラクスの市にやって来た。\n",
      "メロスには父も、母も無い。女房も無い。\n",
      "十六の、内気な妹と二人暮しだ。\n"
     ]
    }
   ],
   "source": [
    "# 1行ずつテキストを読み込むプログラムを書いてみましょう\n",
    "# このNotebookのサンプルプログラムの値とは違う独自の値を入れましょう。変数名も独自のものに変えましょう。\n",
    "\n",
    "# ここにPythonプログラムを記述してください\n"
   ]
  },
  {
   "cell_type": "markdown",
   "metadata": {},
   "source": [
    "---\n",
    "---\n",
    "---\n",
    "---\n",
    "---"
   ]
  },
  {
   "cell_type": "code",
   "execution_count": null,
   "metadata": {},
   "outputs": [],
   "source": []
  }
 ],
 "metadata": {
  "colab": {
   "authorship_tag": "ABX9TyMOtB7OiTVLb+yu2KoVwjto",
   "include_colab_link": true,
   "provenance": []
  },
  "kernelspec": {
   "display_name": "Python 3 (ipykernel)",
   "language": "python",
   "name": "python3"
  },
  "language_info": {
   "codemirror_mode": {
    "name": "ipython",
    "version": 3
   },
   "file_extension": ".py",
   "mimetype": "text/x-python",
   "name": "python",
   "nbconvert_exporter": "python",
   "pygments_lexer": "ipython3",
   "version": "3.11.9"
  }
 },
 "nbformat": 4,
 "nbformat_minor": 4
}
