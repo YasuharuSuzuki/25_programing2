{
 "cells": [
  {
   "cell_type": "markdown",
   "metadata": {
    "colab_type": "text",
    "id": "view-in-github"
   },
   "source": [
    "<a href=\"https://colab.research.google.com/github/YasuharuSuzuki/25_programing2/blob/main/\" target=\"_parent\"><img src=\"https://colab.research.google.com/assets/colab-badge.svg\" alt=\"Open In Colab\"/></a>"
   ]
  },
  {
   "cell_type": "markdown",
   "metadata": {},
   "source": [
    "### Section 10 テキストファイルの読み込み、書き出し\n",
    "# Section 10-6 テキストファイルへの書き込み"
   ]
  },
  {
   "cell_type": "markdown",
   "metadata": {},
   "source": [
    "## 参考サイト\n",
    "### [【Python早見表】ファイルからの書き込み](https://chokkan.github.io/python/11file.html#id2)\n",
    "### [【Python入門】ファイルへの書き込み](https://utokyo-ipp.github.io/4/4-1.html#%E3%83%95%E3%82%A1%E3%82%A4%E3%83%AB%E3%81%B8%E3%81%AE%E6%9B%B8%E3%81%8D%E8%BE%BC%E3%81%BF)"
   ]
  },
  {
   "cell_type": "markdown",
   "metadata": {},
   "source": [
    "## サンプルプログラム5　テキストファイルへの書き込み(with-as)\n",
    "- with-as 文を使うことでclose忘れを防ぐ事ができます。"
   ]
  },
  {
   "cell_type": "code",
   "execution_count": null,
   "metadata": {},
   "outputs": [],
   "source": [
    "# drive.mount()を使用してGoogleDriveをMount\n",
    "from google.colab import drive\n",
    "drive.mount('/content/drive')\n",
    "\n",
    "# os.chdir()を使用してカレントディレクトリを変更。作成したショーットカット名を使ってパスを指定します。\n",
    "import os\n",
    "os.chdir('/content/drive/MyDrive/＜作成したショートカット名＞')"
   ]
  },
  {
   "cell_type": "code",
   "execution_count": 3,
   "metadata": {},
   "outputs": [],
   "source": [
    "# 出力パスを指定します\n",
    "file_path = \"./data/lets_python.txt\"\n",
    "\n",
    "# ファイルに書き出す\n",
    "with open(file_path, \"w\", encoding=\"utf_8\") as fileobj:\n",
    "    fileobj.write(\"こんにちは\\n\")\n",
    "    fileobj.write(\"Pythonをはじめよう\\n\")"
   ]
  },
  {
   "cell_type": "markdown",
   "metadata": {},
   "source": [
    "## 練習プログラム5　テキストファイルへの書き込み(with-as) (1.5点)\n",
    "- with-asを使用して \"./data/lets_programming.txt\" に「こんにちは」「プログラミングをはじめよう」の２行を出力してみましょう。 "
   ]
  },
  {
   "cell_type": "code",
   "execution_count": 5,
   "metadata": {},
   "outputs": [],
   "source": [
    "# with-asを使用して \"./data/lets_programming.txt\" に「こんにちは」「プログラミングをはじめよう」の２行を出力してみましょう。\n",
    "\n",
    "# ここにPythonプログラムを記述してください\n"
   ]
  },
  {
   "cell_type": "markdown",
   "metadata": {},
   "source": [
    "---\n",
    "---\n",
    "---\n",
    "---\n",
    "---"
   ]
  },
  {
   "cell_type": "markdown",
   "metadata": {},
   "source": [
    "## サンプルプログラム6　テキストファイルへの追記\n",
    "- open()のmode引数を\"a\"にしてファイルを書き出すと、指定のファイルが存在しない時は新規ファイルが作られ、ファイルがある場合はその内容に追記されます。"
   ]
  },
  {
   "cell_type": "code",
   "execution_count": 14,
   "metadata": {},
   "outputs": [],
   "source": [
    "import sys\n",
    "from datetime import datetime\n",
    "\n",
    "file_path = \"./data/log.txt\"\n",
    "now = str(datetime.now())\n",
    "input_text = \"ログ\"\n",
    "\n",
    "line = \"-\"*10    # 区切り線\n",
    "with open(file_path, \"a\") as fileobj:    # 追記モードのファイルオブジェクト\n",
    "    fileobj.write(now + \"\\n\") \n",
    "    fileobj.write(input_text + \"\\n\") \n",
    "    fileobj.write(line + \"\\n\")"
   ]
  },
  {
   "cell_type": "markdown",
   "metadata": {},
   "source": [
    "## 練習プログラム6　テキストファイルへの追記 (1.3点)\n",
    "- input()でテキストを受け取り、\"./data/log.txt\" に追記モードで書き込むプログラムを作成しましょう。"
   ]
  },
  {
   "cell_type": "code",
   "execution_count": null,
   "metadata": {},
   "outputs": [],
   "source": [
    "# input()でテキストを受け取り、\"./data/log.txt\" に追記モードで書き込むプログラムを作成しましょう。\n",
    "\n",
    "# ここにPythonプログラムを記述してください\n"
   ]
  },
  {
   "cell_type": "markdown",
   "metadata": {},
   "source": [
    "---\n",
    "---\n",
    "---\n",
    "---\n",
    "---"
   ]
  },
  {
   "cell_type": "code",
   "execution_count": null,
   "metadata": {},
   "outputs": [],
   "source": []
  }
 ],
 "metadata": {
  "colab": {
   "authorship_tag": "ABX9TyMOtB7OiTVLb+yu2KoVwjto",
   "include_colab_link": true,
   "provenance": []
  },
  "kernelspec": {
   "display_name": "Python 3 (ipykernel)",
   "language": "python",
   "name": "python3"
  },
  "language_info": {
   "codemirror_mode": {
    "name": "ipython",
    "version": 3
   },
   "file_extension": ".py",
   "mimetype": "text/x-python",
   "name": "python",
   "nbconvert_exporter": "python",
   "pygments_lexer": "ipython3",
   "version": "3.11.9"
  }
 },
 "nbformat": 4,
 "nbformat_minor": 4
}
