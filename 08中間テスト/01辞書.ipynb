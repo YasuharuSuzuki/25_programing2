{
 "cells": [
  {
   "cell_type": "markdown",
   "metadata": {},
   "source": [
    "<a href=\"https://colab.research.google.com/github/YasuharuSuzuki/25_programing2/blob/main/\" target=\"_parent\">\n",
    "<img src=\"https://colab.research.google.com/assets/colab-badge.svg\" alt=\"Open In Colab\"/></a>"
   ]
  },
  {
   "cell_type": "markdown",
   "metadata": {
    "id": "KSSJqXOosEeX"
   },
   "source": [
    "# 01 辞書に関する問題"
   ]
  },
  {
   "cell_type": "markdown",
   "metadata": {
    "id": "VRQcesdKsEec"
   },
   "source": [
    "## 用語の理解を問う問題\n",
    "- 以下の問題について、正解となる選択肢を出力してください"
   ]
  },
  {
   "cell_type": "markdown",
   "metadata": {},
   "source": [
    "### 例題1\n",
    "- 繰り返し文（ループ文）で使用する制御文を次から選択してください\n",
    "  1. loop\n",
    "  2. whole\n",
    "  3. for\n",
    "  4. if"
   ]
  },
  {
   "cell_type": "code",
   "execution_count": 2,
   "metadata": {
    "colab": {
     "base_uri": "https://localhost:8080/"
    },
    "executionInfo": {
     "elapsed": 4,
     "status": "ok",
     "timestamp": 1715146891566,
     "user": {
      "displayName": "鈴木康元",
      "userId": "15385942521303414593"
     },
     "user_tz": -540
    },
    "id": "EoLQwK5fsEec",
    "outputId": "7ba8a3ba-9e37-42db-c12e-d410e0a3ab2c"
   },
   "outputs": [
    {
     "name": "stdout",
     "output_type": "stream",
     "text": [
      "3\n"
     ]
    }
   ],
   "source": [
    "# 正解例\n",
    "print('3')"
   ]
  },
  {
   "cell_type": "markdown",
   "metadata": {},
   "source": [
    "### 問題1 (3点)\n",
    "- 次の[ a ][ b ]に当てはまる語句の組み合わせを選んでください\n",
    "    - Pythonの辞書（[ a ]）は、キー（key）と [ b ] のペアを格納するデータ構造です。\n",
    "\n",
    "      1. [a]list, [b]値(value)\n",
    "      2. [a]dict, [b]値(value)\n",
    "      3. [a]list, [b]インスタンス(instance)\n",
    "      4. [a]dict, [b]インスタンス(instance)"
   ]
  },
  {
   "cell_type": "code",
   "execution_count": 1,
   "metadata": {
    "colab": {
     "base_uri": "https://localhost:8080/"
    },
    "executionInfo": {
     "elapsed": 265,
     "status": "ok",
     "timestamp": 1715146988599,
     "user": {
      "displayName": "鈴木康元",
      "userId": "15385942521303414593"
     },
     "user_tz": -540
    },
    "id": "_oiNYIaxsEed",
    "outputId": "c127d002-8e8c-45b3-d98b-c5304b00f17d"
   },
   "outputs": [],
   "source": [
    "# 正解を出力してください\n"
   ]
  },
  {
   "cell_type": "markdown",
   "metadata": {
    "id": "bP053hXUsEee"
   },
   "source": [
    "### 問題2 (3点)\n",
    "- 辞書内のすべてのキーと値を取得するメソッドは次のうちどれか？\n",
    "  1. values()\n",
    "  2. elements()\n",
    "  3. keys()\n",
    "  4. items()"
   ]
  },
  {
   "cell_type": "code",
   "execution_count": 2,
   "metadata": {
    "colab": {
     "base_uri": "https://localhost:8080/"
    },
    "executionInfo": {
     "elapsed": 255,
     "status": "ok",
     "timestamp": 1715147036615,
     "user": {
      "displayName": "鈴木康元",
      "userId": "15385942521303414593"
     },
     "user_tz": -540
    },
    "id": "8cg5YTLosEee",
    "outputId": "c6671804-b225-4341-ea70-8833bd5eb194",
    "scrolled": true
   },
   "outputs": [],
   "source": [
    "# 正解を出力してください\n"
   ]
  },
  {
   "cell_type": "markdown",
   "metadata": {},
   "source": [
    "### 問題3 (3点)\n",
    "\n",
    "以下の辞書があります。  \n",
    "student = {\"name\": \"山田太郎\", \"age\": 18, \"grade\": 3, \"subjects\": [\"国語\", \"数学\", \"英語\"]}  \n",
    "この辞書から、年齢を取得するにはどのようなプログラムを書けば良いか選べ  \n",
    "  1. student[\"山田太郎\"]\n",
    "  2. student[\"年齢\"]\n",
    "  3. student[\"age\"]\n",
    "  4. student[\"subjects\"]"
   ]
  },
  {
   "cell_type": "code",
   "execution_count": 3,
   "metadata": {
    "colab": {
     "base_uri": "https://localhost:8080/"
    },
    "executionInfo": {
     "elapsed": 278,
     "status": "ok",
     "timestamp": 1715147048787,
     "user": {
      "displayName": "鈴木康元",
      "userId": "15385942521303414593"
     },
     "user_tz": -540
    },
    "id": "y2CxWqMusEef",
    "outputId": "8129fcea-362e-4f33-d57b-529f8313a51f"
   },
   "outputs": [],
   "source": [
    "# 正解を出力してください\n"
   ]
  },
  {
   "cell_type": "markdown",
   "metadata": {
    "id": "sqzgb-X2sEef"
   },
   "source": [
    "## 簡単なプログラムを書く問題"
   ]
  },
  {
   "cell_type": "markdown",
   "metadata": {},
   "source": [
    "### 問題4 (6点)\n",
    "以下の辞書があります。  \n",
    "\n",
    "```python\n",
    "prices = {\"apple\": 100, \"banana\": 80, \"orange\": 120}  \n",
    "```\n",
    "\n",
    "この辞書に、新しいキーと値のペア \"grape\": 150 を追加してください。  "
   ]
  },
  {
   "cell_type": "code",
   "execution_count": 5,
   "metadata": {
    "colab": {
     "base_uri": "https://localhost:8080/"
    },
    "executionInfo": {
     "elapsed": 440,
     "status": "ok",
     "timestamp": 1715147253788,
     "user": {
      "displayName": "鈴木康元",
      "userId": "15385942521303414593"
     },
     "user_tz": -540
    },
    "id": "l8NxqEh3sEef",
    "outputId": "82144241-b18d-429f-a4c6-e2ba9b680e47"
   },
   "outputs": [
    {
     "data": {
      "text/plain": [
       "{'apple': 100, 'banana': 80, 'orange': 120, 'grape': 150}"
      ]
     },
     "execution_count": 5,
     "metadata": {},
     "output_type": "execute_result"
    }
   ],
   "source": [
    "prices = {\"apple\": 100, \"banana\": 80, \"orange\": 120}\n"
   ]
  },
  {
   "cell_type": "markdown",
   "metadata": {
    "colab": {
     "base_uri": "https://localhost:8080/"
    },
    "executionInfo": {
     "elapsed": 268,
     "status": "ok",
     "timestamp": 1715147255303,
     "user": {
      "displayName": "鈴木康元",
      "userId": "15385942521303414593"
     },
     "user_tz": -540
    },
    "id": "AXmjTxIdsEeg",
    "outputId": "2e2c42b9-ea55-4aae-c6cf-38e3e3f47720"
   },
   "source": [
    "### 問題5 (8点)\n",
    "以下の辞書があります。  \n",
    "\n",
    "```python\n",
    "scores = {\"math\": 85, \"science\": 92, \"english\": 78}\n",
    "```\n",
    "\n",
    "この辞書を使い、繰り返し文を使用して科目名とそれに対応する点数を1行ずつ出力するプログラムを作成してください  \n",
    "\n",
    "出力例:  \n",
    "```\n",
    "math: 85\n",
    "science: 92\n",
    "english: 78\n",
    "```"
   ]
  },
  {
   "cell_type": "code",
   "execution_count": 16,
   "metadata": {
    "colab": {
     "base_uri": "https://localhost:8080/"
    },
    "executionInfo": {
     "elapsed": 265,
     "status": "ok",
     "timestamp": 1715147279777,
     "user": {
      "displayName": "鈴木康元",
      "userId": "15385942521303414593"
     },
     "user_tz": -540
    },
    "id": "pEkOVG3gsEeg",
    "outputId": "eb0c6f0e-d9ad-4bca-c50b-fbf552763c1c"
   },
   "outputs": [
    {
     "name": "stdout",
     "output_type": "stream",
     "text": [
      "math: 85\n",
      "science: 92\n",
      "english: 78\n"
     ]
    }
   ],
   "source": [
    "scores = {\"math\": 85, \"science\": 92, \"english\": 78}\n"
   ]
  },
  {
   "cell_type": "markdown",
   "metadata": {
    "id": "lPjbKnAosEem"
   },
   "source": [
    "## 難しめのプログラムを書く問題\n",
    "### 問題6 (15点)\n",
    "- 以下のようなネストした辞書があります。\n",
    "```python\n",
    "students = {\n",
    "    \"A組\": {\n",
    "        \"山田太郎\": {\"国語\": 85, \"数学\": 92, \"英語\": 78},\n",
    "        \"鈴木花子\": {\"国語\": 90, \"数学\": 88, \"英語\": 95},\n",
    "    },\n",
    "    \"B組\": {\n",
    "        \"佐藤次郎\": {\"国語\": 82, \"数学\": 90, \"英語\": 88},\n",
    "        \"田中美穂\": {\"国語\": 95, \"数学\": 85, \"英語\": 92},\n",
    "    },\n",
    "}\n",
    "```\n",
    "- このデータは、各クラスの生徒とその生徒の教科ごとの点数を表しています。\n",
    "- 全生徒の中で、各教科の最高得点を取った生徒の名前と得点を出力するプログラムを作成してください。"
   ]
  },
  {
   "cell_type": "markdown",
   "metadata": {},
   "source": [
    "### 出力例\n",
    "```python\n",
    "国語の最高得点: 田中美穂 (95点)\n",
    "数学の最高得点: 山田太郎 (92点)\n",
    "英語の最高得点: 鈴木花子 (95点)\n",
    "```"
   ]
  },
  {
   "cell_type": "code",
   "execution_count": 19,
   "metadata": {
    "id": "spxE7dZUsEem"
   },
   "outputs": [
    {
     "name": "stdout",
     "output_type": "stream",
     "text": [
      "国語の最高得点: 田中美穂 (95点)\n",
      "数学の最高得点: 山田太郎 (92点)\n",
      "英語の最高得点: 鈴木花子 (95点)\n"
     ]
    }
   ],
   "source": [
    "students = {\n",
    "    \"A組\": {\n",
    "        \"山田太郎\": {\"国語\": 85, \"数学\": 92, \"英語\": 78},\n",
    "        \"鈴木花子\": {\"国語\": 90, \"数学\": 88, \"英語\": 95},\n",
    "    },\n",
    "    \"B組\": {\n",
    "        \"佐藤次郎\": {\"国語\": 82, \"数学\": 90, \"英語\": 88},\n",
    "        \"田中美穂\": {\"国語\": 95, \"数学\": 85, \"英語\": 92},\n",
    "    },\n",
    "}"
   ]
  },
  {
   "cell_type": "code",
   "execution_count": null,
   "metadata": {
    "id": "M502lp_JsEem"
   },
   "outputs": [],
   "source": []
  },
  {
   "cell_type": "code",
   "execution_count": null,
   "metadata": {
    "id": "iImoZwTasEem"
   },
   "outputs": [],
   "source": []
  }
 ],
 "metadata": {
  "colab": {
   "provenance": [
    {
     "file_id": "https://github.com/YasuharuSuzuki/24_programing2/blob/main/04%E8%BE%9E%E6%9B%B8/01%E8%BE%9E%E6%9B%B8%E3%82%92%E4%BD%9C%E3%82%8B.ipynb",
     "timestamp": 1715146358060
    }
   ]
  },
  "kernelspec": {
   "display_name": "Python 3 (ipykernel)",
   "language": "python",
   "name": "python3"
  },
  "language_info": {
   "codemirror_mode": {
    "name": "ipython",
    "version": 3
   },
   "file_extension": ".py",
   "mimetype": "text/x-python",
   "name": "python",
   "nbconvert_exporter": "python",
   "pygments_lexer": "ipython3",
   "version": "3.11.9"
  }
 },
 "nbformat": 4,
 "nbformat_minor": 4
}
