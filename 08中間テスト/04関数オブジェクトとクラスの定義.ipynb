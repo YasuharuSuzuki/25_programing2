{
 "cells": [
  {
   "cell_type": "markdown",
   "metadata": {
    "id": "KSSJqXOosEeX"
   },
   "source": [
    "# 04関数オブジェクトとクラスの定義に関する問題"
   ]
  },
  {
   "cell_type": "markdown",
   "metadata": {
    "id": "VRQcesdKsEec"
   },
   "source": [
    "## 用語の理解を問う問題\n",
    "- 以下の問題について、正解となる選択肢を出力してください"
   ]
  },
  {
   "cell_type": "markdown",
   "metadata": {},
   "source": [
    "### 問題16 (3点)\n",
    "- リストの各要素に対して関数を呼び出す処理を行いたい場合、どの関数を使用すると便利ですか？  \n",
    "  関数オブジェクトの使用方法として最も適切なものを選んでください\n",
    "   1. map()\n",
    "   2. filter()\n",
    "   3. reduce()\n",
    "   4. apply()"
   ]
  },
  {
   "cell_type": "code",
   "execution_count": 1,
   "metadata": {
    "colab": {
     "base_uri": "https://localhost:8080/"
    },
    "executionInfo": {
     "elapsed": 265,
     "status": "ok",
     "timestamp": 1715146988599,
     "user": {
      "displayName": "鈴木康元",
      "userId": "15385942521303414593"
     },
     "user_tz": -540
    },
    "id": "_oiNYIaxsEed",
    "outputId": "c127d002-8e8c-45b3-d98b-c5304b00f17d"
   },
   "outputs": [],
   "source": [
    "# 正解を出力してください\n"
   ]
  },
  {
   "cell_type": "markdown",
   "metadata": {},
   "source": [
    "### 問題17 (3点)\n",
    "- 以下のコードの出力結果を選択肢の中から選択してください  \n",
    "  ※ただし、「無名関数」の部分はPythonの無名関数で使用される予約語を使用して動作するようにした上で出力結果を問うこととします\n",
    "\n",
    "```python\n",
    "numbers = [1, 2, 3, 4, 5]\n",
    "even_numbers = list(filter(無名関数 x: x % 2 == 0, numbers))\n",
    "print(even_numbers)\n",
    "```\n",
    "\n",
    "   1. [1, 2, 3, 4, 5]\n",
    "   2. [1, 3, 5]\n",
    "   3. [2, 4]\n",
    "   4. エラーが発生する"
   ]
  },
  {
   "cell_type": "code",
   "execution_count": 2,
   "metadata": {},
   "outputs": [],
   "source": [
    "# 正解を出力してください\n"
   ]
  },
  {
   "cell_type": "markdown",
   "metadata": {
    "id": "bP053hXUsEee"
   },
   "source": [
    "### 問題18 (3点)\n",
    "- クラス内で定義された関数を何と呼びますか？\n",
    "  最も適切なものを選んでください\n",
    "  1. インスタンス\n",
    "  2. メソッド\n",
    "  3. モジュール\n",
    "  4. コンストラクタ"
   ]
  },
  {
   "cell_type": "code",
   "execution_count": 3,
   "metadata": {
    "colab": {
     "base_uri": "https://localhost:8080/"
    },
    "executionInfo": {
     "elapsed": 255,
     "status": "ok",
     "timestamp": 1715147036615,
     "user": {
      "displayName": "鈴木康元",
      "userId": "15385942521303414593"
     },
     "user_tz": -540
    },
    "id": "8cg5YTLosEee",
    "outputId": "c6671804-b225-4341-ea70-8833bd5eb194",
    "scrolled": true
   },
   "outputs": [],
   "source": [
    "# 正解を出力してください\n"
   ]
  },
  {
   "cell_type": "markdown",
   "metadata": {},
   "source": [
    "### 問題19 (3点)\n",
    "\n",
    "- 実体化されたクラスのことを何と呼びますか？ 最も適切なものを選んでください\n",
    "  1. メソッド\n",
    "  2. プロパティ\n",
    "  3. コンストラクタ\n",
    "  4. インスタンス"
   ]
  },
  {
   "cell_type": "code",
   "execution_count": 4,
   "metadata": {
    "colab": {
     "base_uri": "https://localhost:8080/"
    },
    "executionInfo": {
     "elapsed": 278,
     "status": "ok",
     "timestamp": 1715147048787,
     "user": {
      "displayName": "鈴木康元",
      "userId": "15385942521303414593"
     },
     "user_tz": -540
    },
    "id": "y2CxWqMusEef",
    "outputId": "8129fcea-362e-4f33-d57b-529f8313a51f"
   },
   "outputs": [],
   "source": [
    "# 正解を出力してください\n"
   ]
  },
  {
   "cell_type": "markdown",
   "metadata": {
    "id": "sqzgb-X2sEef"
   },
   "source": [
    "## プログラムを書く問題"
   ]
  },
  {
   "cell_type": "markdown",
   "metadata": {},
   "source": [
    "### 問題20 (20点)\n",
    "以下の要件に従って、Studentクラスを定義し、リストに格納されたStudentオブジェクトを特定の条件でソートするプログラムを作成してください。\n",
    "\n",
    "1. Studentクラスは、name（名前）、gender（性別）、japanese_score（国語の点数）、math_score（数学の点数）の4つのインスタンス変数を持ちます。\n",
    "2. Studentクラスのコンストラクタは、名前、性別、国語の点数、数学の点数を引数として受け取り、インスタンス変数を初期化します。\n",
    "3. Studentクラスに、以下の4つのメソッドを定義してください。\n",
    "  - get_name(self): Studentオブジェクトの名前を返すメソッド\n",
    "  - get_gender(self): Studentオブジェクトの性別を返すメソッド\n",
    "  - get_japanese_score(self): Studentオブジェクトの国語の点数を返すメソッド\n",
    "  - get_math_score(self): Studentオブジェクトの数学の点数を返すメソッド\n",
    "4. 20名分のStudentオブジェクトをリストに格納してください。適当な名前、性別、国語と数学の点数を割り当ててください。\n",
    "5. 格納されたStudentオブジェクトのリストから、女性の生徒のみを選択してください。\n",
    "6. 選択された女性の生徒のリストを、国語と数学の合計点数の降順でソートしてください。\n",
    "7. ソートされたリストから、上位5名の生徒の名前、性別、国語の点数、数学の点数を取得し、出力してください。\n",
    "\n",
    "Studentクラスについては、ところどころ未記載の状態で定義したプログラムを以下に記述しておきますので、虫食いを埋める形で記載ください。\n",
    "20名分のStudentオブジェクトは、プログラムを書くのが大変なため記載してあります。そちらを流用する形で使用してください"
   ]
  },
  {
   "cell_type": "code",
   "execution_count": 6,
   "metadata": {},
   "outputs": [],
   "source": [
    "# クラス定義\n",
    "class Student:\n",
    "    def __init__(self, name, gender, japanese_score, math_score):\n",
    "        self.name = # ここにプログラムを記入して完成させましょう\n",
    "        self.gender = gender\n",
    "        self.japanese_score = japanese_score\n",
    "        self.math_score = math_score\n",
    "    \n",
    "    def get_name(self):\n",
    "        return self.name\n",
    "    \n",
    "    def get_gender(self):\n",
    "        return # ここにプログラムを記入して完成させましょう\n",
    "    \n",
    "    def get_japanese_score(self):\n",
    "        return self.japanese_score\n",
    "    \n",
    "    def get_math_score(self):\n",
    "        return self.math_score\n",
    "    \n",
    "    def get_total_score(self):\n",
    "        return # ここにプログラムを記入して完成させましょう"
   ]
  },
  {
   "cell_type": "code",
   "execution_count": 10,
   "metadata": {},
   "outputs": [],
   "source": [
    "# 20名分の学生データ定義（そのままご利用ください)\n",
    "students = [\n",
    "    Student(\"山田花子\", \"女\", 85, 90),\n",
    "    Student(\"田中太郎\", \"男\", 80, 85),\n",
    "    Student(\"鈴木美香\", \"女\", 90, 95),\n",
    "    Student(\"佐藤健司\", \"男\", 75, 80),\n",
    "    Student(\"伊藤舞\", \"女\", 94, 90),\n",
    "    Student(\"渡辺圭介\", \"男\", 70, 75),\n",
    "    Student(\"小林杏奈\", \"女\", 80, 85),\n",
    "    Student(\"加藤裕樹\", \"男\", 85, 90),\n",
    "    Student(\"山口莉奈\", \"女\", 90, 85),\n",
    "    Student(\"木村翔太\", \"男\", 80, 80),\n",
    "    Student(\"吉田紗織\", \"女\", 95, 95),\n",
    "    Student(\"松本大輝\", \"男\", 75, 70),\n",
    "    Student(\"石川結衣\", \"女\", 85, 90),\n",
    "    Student(\"中村駿\", \"男\", 90, 85),\n",
    "    Student(\"小野寺美咲\", \"女\", 80, 85),\n",
    "    Student(\"佐々木翔平\", \"男\", 75, 80),\n",
    "    Student(\"原田茜\", \"女\", 90, 93),\n",
    "    Student(\"斎藤大樹\", \"男\", 85, 90),\n",
    "    Student(\"榎本安奈\", \"女\", 92, 90),\n",
    "    Student(\"藤原健太\", \"男\", 80, 85)\n",
    "]"
   ]
  },
  {
   "cell_type": "code",
   "execution_count": 11,
   "metadata": {},
   "outputs": [],
   "source": [
    "# filter関数を使って女性の生徒のみを選択\n",
    "# ここにプログラムを記入して完成させましょう\n",
    "\n",
    "# 合計点数の降順でソート\n",
    "# ここにプログラムを記入して完成させましょう"
   ]
  },
  {
   "cell_type": "code",
   "execution_count": 12,
   "metadata": {
    "colab": {
     "base_uri": "https://localhost:8080/"
    },
    "executionInfo": {
     "elapsed": 440,
     "status": "ok",
     "timestamp": 1715147253788,
     "user": {
      "displayName": "鈴木康元",
      "userId": "15385942521303414593"
     },
     "user_tz": -540
    },
    "id": "l8NxqEh3sEef",
    "outputId": "82144241-b18d-429f-a4c6-e2ba9b680e47"
   },
   "outputs": [
    {
     "name": "stdout",
     "output_type": "stream",
     "text": [
      "名前: 吉田紗織, 性別: 女, 国語の点数: 95, 数学の点数: 95\n",
      "名前: 鈴木美香, 性別: 女, 国語の点数: 90, 数学の点数: 95\n",
      "名前: 伊藤舞, 性別: 女, 国語の点数: 94, 数学の点数: 90\n",
      "名前: 原田茜, 性別: 女, 国語の点数: 90, 数学の点数: 93\n",
      "名前: 榎本安奈, 性別: 女, 国語の点数: 92, 数学の点数: 90\n"
     ]
    }
   ],
   "source": [
    "# 上位5名の生徒の情報を出力\n",
    "# ここにプログラムを記入して完成させましょう"
   ]
  },
  {
   "cell_type": "code",
   "execution_count": null,
   "metadata": {
    "id": "M502lp_JsEem"
   },
   "outputs": [],
   "source": []
  },
  {
   "cell_type": "code",
   "execution_count": null,
   "metadata": {
    "id": "iImoZwTasEem"
   },
   "outputs": [],
   "source": []
  }
 ],
 "metadata": {
  "colab": {
   "provenance": [
    {
     "file_id": "https://github.com/YasuharuSuzuki/24_programing2/blob/main/04%E8%BE%9E%E6%9B%B8/01%E8%BE%9E%E6%9B%B8%E3%82%92%E4%BD%9C%E3%82%8B.ipynb",
     "timestamp": 1715146358060
    }
   ]
  },
  "kernelspec": {
   "display_name": "Python 3 (ipykernel)",
   "language": "python",
   "name": "python3"
  },
  "language_info": {
   "codemirror_mode": {
    "name": "ipython",
    "version": 3
   },
   "file_extension": ".py",
   "mimetype": "text/x-python",
   "name": "python",
   "nbconvert_exporter": "python",
   "pygments_lexer": "ipython3",
   "version": "3.11.9"
  }
 },
 "nbformat": 4,
 "nbformat_minor": 4
}
