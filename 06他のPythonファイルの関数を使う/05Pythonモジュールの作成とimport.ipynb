{
 "cells": [
  {
   "cell_type": "markdown",
   "metadata": {
    "colab_type": "text",
    "id": "view-in-github"
   },
   "source": [
    "<a href=\"https://colab.research.google.com/github/YasuharuSuzuki/25_programing2/blob/main/\" target=\"_parent\"><img src=\"https://colab.research.google.com/assets/colab-badge.svg\" alt=\"Open In Colab\"/></a>"
   ]
  },
  {
   "cell_type": "markdown",
   "metadata": {},
   "source": [
    "## サンプルプログラム3　Pythonモジュールの作成とimport\n",
    "### テキストエディタを使用してPythonモジュールを作成\n",
    "- 使用するテキストエディタは何でも良いです。\n",
    "  - 学科PCに入っているものではterapadやサクラエディタがあります\n",
    "  - 個人のPC/Macに入れているVSCodeなどでもOKです。\n",
    "\n",
    "1. テキストエディタを使用して以下のコードを貼り付けてください。\n",
    "```python\n",
    "# 台形の面積を計算するシンプルなユーザー定義関数の例\n",
    "def trapezoid(up,down,high):\n",
    "    return (up+down)*high*0.5\n",
    "```\n",
    "\n",
    "2. ファイル名「mytrapezoid.py」で保存して、GoogleDriveへアップロードしましょう。\n",
    "\n",
    "3. モジュールをimportして、実行してみましょう\n",
    "```python\n",
    "from mytrapezoid import trapezoid as mymath_trapezoid\n",
    "```\n",
    "\n",
    "4. 関数を呼び出してみましょう\n",
    "```python\n",
    "mymath_trapezoid(7, 5, 3)\n",
    "```"
   ]
  },
  {
   "cell_type": "markdown",
   "metadata": {},
   "source": [
    "### 実際に実行してみる"
   ]
  },
  {
   "cell_type": "code",
   "execution_count": 1,
   "metadata": {},
   "outputs": [],
   "source": [
    "# drive.mount()を使用してGoogleDriveをMount\n",
    "from google.colab import drive\n",
    "drive.mount('/content/drive')"
   ]
  },
  {
   "cell_type": "code",
   "execution_count": 2,
   "metadata": {},
   "outputs": [],
   "source": [
    "# os.chdir()を使用してカレントディレクトリを変更。作成したショーットカット名を使ってパスを指定します。\n",
    "import os\n",
    "os.chdir('/content/drive/MyDrive/＜作成したショートカット名＞')"
   ]
  },
  {
   "cell_type": "code",
   "execution_count": 3,
   "metadata": {},
   "outputs": [
    {
     "name": "stdout",
     "output_type": "stream",
     "text": [
      "01他のPythonファイルの関数を使う.ipynb\r\n",
      "02他のPythonファイルの関数を使う練習.ipynb\r\n",
      "03fromやasを使用した関数のimport.ipynb\r\n",
      "04fromやasを使用した関数のimport練習.ipynb\r\n",
      "05Pythonモジュールの作成とimport.ipynb\r\n",
      "\u001b[34m__pycache__\u001b[m\u001b[m\r\n",
      "myadd.py\r\n",
      "mygame.py\r\n",
      "mymath.py\r\n",
      "mysubtract.py\r\n",
      "mytrapezoid.py\r\n"
     ]
    }
   ],
   "source": [
    "# !ls コマンドを使用して Python ファイルを確認\n",
    "# Notebookでは ! を付けるとLinuxコマンドを実行できます。 \n",
    "# Linux コマンドの ls はファイル/ディレクトリの一覧を表示してくれます\n",
    "!ls"
   ]
  },
  {
   "cell_type": "code",
   "execution_count": 4,
   "metadata": {},
   "outputs": [],
   "source": [
    "# fromを使用してモジュールを読み込む\n",
    "from mytrapezoid import trapezoid as mymath_trapezoid"
   ]
  },
  {
   "cell_type": "code",
   "execution_count": 5,
   "metadata": {},
   "outputs": [
    {
     "data": {
      "text/plain": [
       "18.0"
      ]
     },
     "execution_count": 5,
     "metadata": {},
     "output_type": "execute_result"
    }
   ],
   "source": [
    "# 関数を呼び出す\n",
    "mymath_trapezoid(7, 5, 3)"
   ]
  },
  {
   "cell_type": "code",
   "execution_count": null,
   "metadata": {},
   "outputs": [],
   "source": []
  }
 ],
 "metadata": {
  "colab": {
   "authorship_tag": "ABX9TyMOtB7OiTVLb+yu2KoVwjto",
   "include_colab_link": true,
   "provenance": []
  },
  "kernelspec": {
   "display_name": "Python 3 (ipykernel)",
   "language": "python",
   "name": "python3"
  },
  "language_info": {
   "codemirror_mode": {
    "name": "ipython",
    "version": 3
   },
   "file_extension": ".py",
   "mimetype": "text/x-python",
   "name": "python",
   "nbconvert_exporter": "python",
   "pygments_lexer": "ipython3",
   "version": "3.11.9"
  }
 },
 "nbformat": 4,
 "nbformat_minor": 4
}
