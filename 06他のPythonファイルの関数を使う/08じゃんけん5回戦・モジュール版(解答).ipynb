{
 "cells": [
  {
   "cell_type": "markdown",
   "metadata": {
    "colab_type": "text",
    "id": "view-in-github"
   },
   "source": [
    "<a href=\"https://colab.research.google.com/github/YasuharuSuzuki/23_programing2/blob/main/\" target=\"_parent\"><img src=\"https://colab.research.google.com/assets/colab-badge.svg\" alt=\"Open In Colab\"/></a>"
   ]
  },
  {
   "cell_type": "markdown",
   "metadata": {},
   "source": [
    "## 練習プログラム4 ランダムじゃんけん5回戦・モジュール版 (1.1点)\n",
    "- AさんとBさんが５回じゃんけんをします。\n",
    "- 練習プログラム3で作成したjanken_hand()関数をimportして使用してください。\n",
    "- Aさんが勝ったときにはAさんの勝利数をカウントし、Bさんが勝ったときにはBさんの勝利数をカウントします。\n",
    "- あいこのときにはどちらの勝利数もカウントしません。\n",
    "- ５回戦ったAさんとBさんの勝利数を出力してください。\n",
    "\n",
    "### 注意\n",
    "- 入力は受け付けずに、単純に5回ランダムでじゃんけんした結果を表示するプログラムを作成してください。"
   ]
  },
  {
   "cell_type": "markdown",
   "metadata": {},
   "source": [
    "----\n",
    "----\n",
    "\n",
    "### ランダム生成例１\n",
    "```python\n",
    "グー チョキ\n",
    "チョキ グー\n",
    "パー パー\n",
    "パー チョキ\n",
    "チョキ グー\n",
    "```\n",
    "\n",
    "### 出力例１\n",
    "```python\n",
    "1 3\n",
    "```\n",
    "※ Aさんの1勝、Bさんの3勝のため、1 3 と出力します"
   ]
  },
  {
   "cell_type": "markdown",
   "metadata": {},
   "source": [
    "### ここ↓にPythonコードを記述してください"
   ]
  },
  {
   "cell_type": "code",
   "execution_count": 4,
   "metadata": {},
   "outputs": [
    {
     "name": "stdout",
     "output_type": "stream",
     "text": [
      "グー パー\n",
      "グー パー\n",
      "チョキ パー\n",
      "グー チョキ\n",
      "グー グー\n",
      "2 2\n"
     ]
    }
   ],
   "source": [
    "from mygame import janken_hand\n",
    "\n",
    "# じゃんけんを１回行うユーザー定義関数を作成\n",
    "def janken(a_win_count, b_win_count):\n",
    "    a = janken_hand()\n",
    "    b = janken_hand()\n",
    "\n",
    "    print(f\"{a} {b}\")\n",
    "\n",
    "    ab = a + b\n",
    "    if a == b:\n",
    "        pass\n",
    "    elif ab=='グーチョキ' or ab=='パーグー' or ab=='チョキパー':\n",
    "        a_win_count += 1\n",
    "    else:\n",
    "        b_win_count += 1\n",
    "    return a_win_count, b_win_count\n",
    "\n",
    "# ５回じゃんけんする\n",
    "a_win = b_win = 0\n",
    "for _ in range(5):\n",
    "    a_win, b_win = janken(a_win, b_win)\n",
    "    \n",
    "print(f\"{a_win} {b_win}\")    "
   ]
  },
  {
   "cell_type": "code",
   "execution_count": null,
   "metadata": {},
   "outputs": [],
   "source": []
  }
 ],
 "metadata": {
  "colab": {
   "authorship_tag": "ABX9TyMOtB7OiTVLb+yu2KoVwjto",
   "include_colab_link": true,
   "provenance": []
  },
  "kernelspec": {
   "display_name": "Python 3 (ipykernel)",
   "language": "python",
   "name": "python3"
  },
  "language_info": {
   "codemirror_mode": {
    "name": "ipython",
    "version": 3
   },
   "file_extension": ".py",
   "mimetype": "text/x-python",
   "name": "python",
   "nbconvert_exporter": "python",
   "pygments_lexer": "ipython3",
   "version": "3.11.9"
  }
 },
 "nbformat": 4,
 "nbformat_minor": 4
}
