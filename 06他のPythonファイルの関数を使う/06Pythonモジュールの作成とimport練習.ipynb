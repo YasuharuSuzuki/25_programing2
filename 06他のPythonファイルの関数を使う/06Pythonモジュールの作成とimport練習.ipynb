{
 "cells": [
  {
   "cell_type": "markdown",
   "metadata": {
    "colab_type": "text",
    "id": "view-in-github"
   },
   "source": [
    "<a href=\"https://colab.research.google.com/github/YasuharuSuzuki/25_programing2/blob/main/\" target=\"_parent\"><img src=\"https://colab.research.google.com/assets/colab-badge.svg\" alt=\"Open In Colab\"/></a>"
   ]
  },
  {
   "cell_type": "markdown",
   "metadata": {},
   "source": [
    "## 練習プログラム3　Pythonモジュールの作成とimport (2点)\n",
    "### 手順\n",
    "1. テキストエディタを開く\n",
    "2. 「ユーザ定義関数」の授業で作成したじゃんけんの関数を貼り付ける。（01関数の定義と実行.ipynbで作成したもの）\n",
    "  - 関数名はjanken_hand()とする。\n",
    "  - janken_hand()関数は、”グー”、”チョキ”、”パー”を返すこと\n",
    "3. ファイル名 mygame.py として保存\n",
    "4. 作成したPythonモジュールをGoogleDriveへアップロード\n",
    "5. Pythonモジュールをimport\n",
    "6. janken_hand() 関数を呼び出しましょう"
   ]
  },
  {
   "cell_type": "markdown",
   "metadata": {},
   "source": [
    "### こちらにPythonコードを記述してください"
   ]
  },
  {
   "cell_type": "code",
   "execution_count": null,
   "metadata": {},
   "outputs": [],
   "source": [
    "\n",
    "\n",
    "\n",
    "\n",
    "\n"
   ]
  }
 ],
 "metadata": {
  "colab": {
   "authorship_tag": "ABX9TyMOtB7OiTVLb+yu2KoVwjto",
   "include_colab_link": true,
   "provenance": []
  },
  "kernelspec": {
   "display_name": "Python 3 (ipykernel)",
   "language": "python",
   "name": "python3"
  },
  "language_info": {
   "codemirror_mode": {
    "name": "ipython",
    "version": 3
   },
   "file_extension": ".py",
   "mimetype": "text/x-python",
   "name": "python",
   "nbconvert_exporter": "python",
   "pygments_lexer": "ipython3",
   "version": "3.11.9"
  }
 },
 "nbformat": 4,
 "nbformat_minor": 4
}
