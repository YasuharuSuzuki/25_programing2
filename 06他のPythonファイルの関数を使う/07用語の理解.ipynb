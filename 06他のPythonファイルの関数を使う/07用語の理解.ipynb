{
 "cells": [
  {
   "cell_type": "markdown",
   "metadata": {},
   "source": [
    "<a href=\"https://colab.research.google.com/github/YasuharuSuzuki/25_programing2/blob/main/\" target=\"_parent\"><img src=\"https://colab.research.google.com/assets/colab-badge.svg\" alt=\"Open In Colab\"/></a>"
   ]
  },
  {
   "cell_type": "markdown",
   "metadata": {
    "id": "KSSJqXOosEeX"
   },
   "source": [
    "# 07_用語の理解"
   ]
  },
  {
   "cell_type": "markdown",
   "metadata": {
    "id": "VRQcesdKsEec"
   },
   "source": [
    "## 用語の理解を問う問題\n",
    "- 以下の問題について、正解となる選択肢を出力してください"
   ]
  },
  {
   "cell_type": "markdown",
   "metadata": {
    "id": "bP053hXUsEee"
   },
   "source": [
    "---\n",
    "---\n",
    "---\n",
    "### 問4 他のPythonファイルの関数呼び出し (0.3点)\n",
    "- 以下のプログラムで他のPythonファイル(module.py)を読み込んだ\n",
    "\n",
    "```python\n",
    "(他のPythonファイルを読み込む命令) module\n",
    "```\n",
    "\n",
    "module.py内で定義された関数(func1)を呼び出すための記法は次のうちどれですか\n",
    "\n",
    "\n",
    "1. func1()\n",
    "2. module::func1()\n",
    "3. modele->func1()\n",
    "4. module.func1()\n"
   ]
  },
  {
   "cell_type": "code",
   "execution_count": 1,
   "metadata": {
    "colab": {
     "base_uri": "https://localhost:8080/"
    },
    "executionInfo": {
     "elapsed": 255,
     "status": "ok",
     "timestamp": 1715147036615,
     "user": {
      "displayName": "鈴木康元",
      "userId": "15385942521303414593"
     },
     "user_tz": -540
    },
    "id": "8cg5YTLosEee",
    "outputId": "c6671804-b225-4341-ea70-8833bd5eb194"
   },
   "outputs": [
    {
     "name": "stdout",
     "output_type": "stream",
     "text": [
      "\n"
     ]
    }
   ],
   "source": [
    "# 正解を出力してください\n",
    "print('')"
   ]
  },
  {
   "cell_type": "markdown",
   "metadata": {},
   "source": [
    "---\n",
    "---\n",
    "---\n",
    "### 問5 モジュール呼び出しに別名を付ける (0.3点)\n",
    "\n",
    "- あるPythonファイル(module.py)を読み込む際、別名を付けるための構文は次のうちどれですか？\n",
    "\n",
    "1. モジュール読み込み文 module > alias\n",
    "2. モジュール読み込み文 module < alias\n",
    "3. モジュール読み込み文 module : alias\n",
    "4. モジュール読み込み文 module as alias\n"
   ]
  },
  {
   "cell_type": "code",
   "execution_count": 2,
   "metadata": {
    "colab": {
     "base_uri": "https://localhost:8080/"
    },
    "executionInfo": {
     "elapsed": 278,
     "status": "ok",
     "timestamp": 1715147048787,
     "user": {
      "displayName": "鈴木康元",
      "userId": "15385942521303414593"
     },
     "user_tz": -540
    },
    "id": "y2CxWqMusEef",
    "outputId": "8129fcea-362e-4f33-d57b-529f8313a51f"
   },
   "outputs": [
    {
     "name": "stdout",
     "output_type": "stream",
     "text": [
      "\n"
     ]
    }
   ],
   "source": [
    "# 正解を出力してください\n",
    "print('')"
   ]
  },
  {
   "cell_type": "markdown",
   "metadata": {},
   "source": [
    "---\n",
    "---\n",
    "---\n",
    "### 問6 モジュール読み込みの手順 (0.3点)  \n",
    "\n",
    "GoogleDriveで以下のフォルダ構成のcat.pyで定義されたsound()関数を呼び出したい\n",
    "共有アイテム/05沖国太郎/授業01/cat.py\n",
    "以下のa~dの手順を並べ替えて、動作する正しい順序を1～4から選んでください\n",
    "\n",
    "a)モジュールを読み込む\n",
    "import cat\n",
    "\n",
    "b)カレントディレクトリを移動する\n",
    "```python\n",
    "import os\n",
    "os.chdir('/content/drive/MyDrive/＜作成したショートカット名＞')\n",
    "```\n",
    "\n",
    "c)`共有アイテム/05沖国太郎/授業01/`へのショートカットをマイドライブ直下に作成する\n",
    "\n",
    "d)Googleドライブをマウントする\n",
    "```python\n",
    "from google.colab import drive\n",
    "drive.mount('/content/drive')\n",
    "```\n",
    "\n",
    "1. c → d → b → a\n",
    "2. b → c → d → a\n",
    "3. d → b → c → a\n",
    "4. a → c → d → b\n"
   ]
  },
  {
   "cell_type": "code",
   "execution_count": 3,
   "metadata": {},
   "outputs": [
    {
     "name": "stdout",
     "output_type": "stream",
     "text": [
      "\n"
     ]
    }
   ],
   "source": [
    "# 正解を出力してください\n",
    "print('')"
   ]
  },
  {
   "cell_type": "markdown",
   "metadata": {},
   "source": [
    "---\n",
    "---\n",
    "---\n",
    "---\n",
    "---"
   ]
  },
  {
   "cell_type": "code",
   "execution_count": null,
   "metadata": {},
   "outputs": [],
   "source": []
  }
 ],
 "metadata": {
  "colab": {
   "provenance": [
    {
     "file_id": "https://github.com/YasuharuSuzuki/24_programing2/blob/main/04%E8%BE%9E%E6%9B%B8/01%E8%BE%9E%E6%9B%B8%E3%82%92%E4%BD%9C%E3%82%8B.ipynb",
     "timestamp": 1715146358060
    }
   ]
  },
  "kernelspec": {
   "display_name": "Python 3 (ipykernel)",
   "language": "python",
   "name": "python3"
  },
  "language_info": {
   "codemirror_mode": {
    "name": "ipython",
    "version": 3
   },
   "file_extension": ".py",
   "mimetype": "text/x-python",
   "name": "python",
   "nbconvert_exporter": "python",
   "pygments_lexer": "ipython3",
   "version": "3.11.9"
  }
 },
 "nbformat": 4,
 "nbformat_minor": 4
}
