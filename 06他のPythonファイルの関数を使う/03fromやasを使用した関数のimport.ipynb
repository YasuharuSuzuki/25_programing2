{
 "cells": [
  {
   "cell_type": "markdown",
   "metadata": {
    "colab_type": "text",
    "id": "view-in-github"
   },
   "source": [
    "<a href=\"https://colab.research.google.com/github/YasuharuSuzuki/25_programing2/blob/main/\" target=\"_parent\"><img src=\"https://colab.research.google.com/assets/colab-badge.svg\" alt=\"Open In Colab\"/></a>"
   ]
  },
  {
   "cell_type": "markdown",
   "metadata": {},
   "source": [
    "## サンプルプログラム2　fromやasを使用した関数のimport\n",
    "### モジュール読み込みにfromを使用すると一部の機能に限定して読み込むことが出来ます\n",
    "- [参考サイト fromを使用したインポート(Python早見表)](https://chokkan.github.io/python/05module.html#from)\n",
    "1. fromを使用してモジュールをimport\n",
    "```python\n",
    "from myadd import add\n",
    "```\n",
    "\n",
    "2. 関数を呼び出す\n",
    "```python\n",
    "add(2, 3)\n",
    "```\n",
    "\n",
    "### モジュール読み込みにasを使用すると別名を付けることが出来ます\n",
    "- [参考サイト 名前空間の変更(Python早見表)](https://chokkan.github.io/python/05module.html#id3)\n",
    "\n",
    "1. asを使用してモジュールをimport\n",
    "```python\n",
    "from myadd import add as mymath_add\n",
    "```\n",
    "\n",
    "2. 関数を呼び出す\n",
    "```python\n",
    "mymath_add(2, 3)\n",
    "```"
   ]
  },
  {
   "cell_type": "markdown",
   "metadata": {},
   "source": [
    "### 実際に実行してみる"
   ]
  },
  {
   "cell_type": "code",
   "execution_count": 4,
   "metadata": {},
   "outputs": [],
   "source": [
    "# drive.mount()を使用してGoogleDriveをMount\n",
    "from google.colab import drive\n",
    "drive.mount('/content/drive')"
   ]
  },
  {
   "cell_type": "code",
   "execution_count": 5,
   "metadata": {},
   "outputs": [],
   "source": [
    "# os.chdir()を使用してカレントディレクトリを変更。作成したショーットカット名を使ってパスを指定します。\n",
    "import os\n",
    "os.chdir('/content/drive/MyDrive/＜作成したショートカット名＞')"
   ]
  },
  {
   "cell_type": "code",
   "execution_count": 7,
   "metadata": {},
   "outputs": [
    {
     "name": "stdout",
     "output_type": "stream",
     "text": [
      "01他のPythonファイルの関数を使う.ipynb\r\n",
      "myadd.py\r\n",
      "mygame.py\r\n",
      "mymath.py\r\n"
     ]
    }
   ],
   "source": [
    "# !ls コマンドを使用して Python ファイルを確認\n",
    "# Notebookでは ! を付けるとLinuxコマンドを実行できます。 \n",
    "# Linux コマンドの ls はファイル/ディレクトリの一覧を表示してくれます\n",
    "!ls"
   ]
  },
  {
   "cell_type": "code",
   "execution_count": 1,
   "metadata": {},
   "outputs": [],
   "source": [
    "# fromを使用してモジュールを読み込む\n",
    "from myadd import add"
   ]
  },
  {
   "cell_type": "code",
   "execution_count": 2,
   "metadata": {},
   "outputs": [
    {
     "data": {
      "text/plain": [
       "5"
      ]
     },
     "execution_count": 2,
     "metadata": {},
     "output_type": "execute_result"
    }
   ],
   "source": [
    "# 関数を呼び出す\n",
    "add(2, 3)"
   ]
  },
  {
   "cell_type": "code",
   "execution_count": 4,
   "metadata": {},
   "outputs": [],
   "source": [
    "# asを使用してモジュールを読み込む\n",
    "from myadd import add as mymath_add"
   ]
  },
  {
   "cell_type": "code",
   "execution_count": 5,
   "metadata": {},
   "outputs": [
    {
     "data": {
      "text/plain": [
       "5"
      ]
     },
     "execution_count": 5,
     "metadata": {},
     "output_type": "execute_result"
    }
   ],
   "source": [
    "# 関数を呼び出す\n",
    "mymath_add(2,3)"
   ]
  },
  {
   "cell_type": "code",
   "execution_count": null,
   "metadata": {},
   "outputs": [],
   "source": []
  }
 ],
 "metadata": {
  "colab": {
   "authorship_tag": "ABX9TyMOtB7OiTVLb+yu2KoVwjto",
   "include_colab_link": true,
   "provenance": []
  },
  "kernelspec": {
   "display_name": "Python 3 (ipykernel)",
   "language": "python",
   "name": "python3"
  },
  "language_info": {
   "codemirror_mode": {
    "name": "ipython",
    "version": 3
   },
   "file_extension": ".py",
   "mimetype": "text/x-python",
   "name": "python",
   "nbconvert_exporter": "python",
   "pygments_lexer": "ipython3",
   "version": "3.11.9"
  }
 },
 "nbformat": 4,
 "nbformat_minor": 4
}
