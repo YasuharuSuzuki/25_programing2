{
 "cells": [
  {
   "cell_type": "markdown",
   "metadata": {
    "colab_type": "text",
    "id": "view-in-github"
   },
   "source": [
    "<a href=\"https://colab.research.google.com/github/YasuharuSuzuki/25_programing2/blob/main/\" target=\"_parent\"><img src=\"https://colab.research.google.com/assets/colab-badge.svg\" alt=\"Open In Colab\"/></a>"
   ]
  },
  {
   "cell_type": "markdown",
   "metadata": {},
   "source": [
    "## 練習プログラム2　fromやasを使用してみましょう (2点)\n",
    "### 手順\n",
    "1. fromを使用して mysubtract.py モジュールを読み込む\n",
    "2. fromを使用して読み込んだ mysubtract.py の subtract() 関数を呼び出す\n",
    "3. as を使用して mysubtract.py モジュールを読み込む\n",
    "4. as を使用して読み込んだ mysubtract.py の subtract() 関数を呼び出す"
   ]
  },
  {
   "cell_type": "markdown",
   "metadata": {},
   "source": [
    "### こちらにPythonコードを記述してください"
   ]
  },
  {
   "cell_type": "code",
   "execution_count": null,
   "metadata": {},
   "outputs": [],
   "source": [
    "# drive.mount()を使用してGoogleDriveをMount\n",
    "from google.colab import drive\n",
    "drive.mount('/content/drive')"
   ]
  },
  {
   "cell_type": "code",
   "execution_count": null,
   "metadata": {},
   "outputs": [],
   "source": [
    "# os.chdir()を使用してカレントディレクトリを変更。作成したショーットカット名を使ってパスを指定します。\n",
    "import os\n",
    "os.chdir('/content/drive/MyDrive/＜作成したショートカット名＞')"
   ]
  },
  {
   "cell_type": "code",
   "execution_count": 1,
   "metadata": {},
   "outputs": [
    {
     "name": "stdout",
     "output_type": "stream",
     "text": [
      "01他のPythonファイルの関数を使う.ipynb\n",
      "02他のPythonファイルの関数を使う練習(解答).ipynb\n",
      "02他のPythonファイルの関数を使う練習.ipynb\n",
      "03fromやasを使用した関数のimport.ipynb\n",
      "04fromやasを使用した関数のimport練習(解答).ipynb\n",
      "04fromやasを使用した関数のimport練習.ipynb\n",
      "05Pythonモジュールの作成とimport.ipynb\n",
      "06Pythonモジュールの作成とimport練習(解答).ipynb\n",
      "06Pythonモジュールの作成とimport練習.ipynb\n",
      "07じゃんけん5回戦・モジュール版(解答).ipynb\n",
      "07じゃんけん5回戦・モジュール版.ipynb\n",
      "\u001b[34m__pycache__\u001b[m\u001b[m\n",
      "myadd.py\n",
      "mygame.py\n",
      "mymath.py\n",
      "mysubtract.py\n",
      "mytrapezoid.py\n"
     ]
    }
   ],
   "source": [
    "# !ls コマンドを使用して Python ファイルを確認\n",
    "# Notebookでは ! を付けるとLinuxコマンドを実行できます。 \n",
    "# Linux コマンドの ls はファイル/ディレクトリの一覧を表示してくれます\n",
    "!ls"
   ]
  },
  {
   "cell_type": "code",
   "execution_count": 2,
   "metadata": {},
   "outputs": [
    {
     "data": {
      "text/plain": [
       "4"
      ]
     },
     "execution_count": 2,
     "metadata": {},
     "output_type": "execute_result"
    }
   ],
   "source": [
    "# asを使用してモジュールを読み込む\n",
    "from mysubtract import subtract as mymath_subtract\n",
    "\n",
    "# 関数を呼び出す\n",
    "mymath_subtract(7,3)"
   ]
  },
  {
   "cell_type": "code",
   "execution_count": null,
   "metadata": {},
   "outputs": [],
   "source": []
  }
 ],
 "metadata": {
  "colab": {
   "authorship_tag": "ABX9TyMOtB7OiTVLb+yu2KoVwjto",
   "include_colab_link": true,
   "provenance": []
  },
  "kernelspec": {
   "display_name": "Python 3 (ipykernel)",
   "language": "python",
   "name": "python3"
  },
  "language_info": {
   "codemirror_mode": {
    "name": "ipython",
    "version": 3
   },
   "file_extension": ".py",
   "mimetype": "text/x-python",
   "name": "python",
   "nbconvert_exporter": "python",
   "pygments_lexer": "ipython3",
   "version": "3.11.9"
  }
 },
 "nbformat": 4,
 "nbformat_minor": 4
}
