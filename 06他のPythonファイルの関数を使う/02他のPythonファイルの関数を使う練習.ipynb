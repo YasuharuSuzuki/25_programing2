{
 "cells": [
  {
   "cell_type": "markdown",
   "metadata": {
    "colab_type": "text",
    "id": "view-in-github"
   },
   "source": [
    "<a href=\"https://colab.research.google.com/github/YasuharuSuzuki/25_programing2/blob/main/\" target=\"_parent\"><img src=\"https://colab.research.google.com/assets/colab-badge.svg\" alt=\"Open In Colab\"/></a>"
   ]
  },
  {
   "cell_type": "markdown",
   "metadata": {},
   "source": [
    "## 練習プログラム1　mysubtract.py を実行してみましょう (4点)\n",
    "### 手順\n",
    "1. Teamsで配布済みの「step8GoogleColabで共有アイテムを開こう.pdf」を参考にドライブへのショーットカットを作成\n",
    "2. drive.mount()を使用してGoogleDriveをMount\n",
    "3. os.chdir()を使用してカレントディレクトリを変更（作成したショーットカット名を使ってパスを指定する）\n",
    "4. !ls コマンドを使用して Python ファイルを確認\n",
    "5. importを使用してモジュールを読み込む\n",
    "6. 関数を呼び出す"
   ]
  },
  {
   "cell_type": "markdown",
   "metadata": {},
   "source": [
    "### こちらにPythonコードを記述してください"
   ]
  },
  {
   "cell_type": "code",
   "execution_count": null,
   "metadata": {},
   "outputs": [],
   "source": []
  }
 ],
 "metadata": {
  "colab": {
   "authorship_tag": "ABX9TyMOtB7OiTVLb+yu2KoVwjto",
   "include_colab_link": true,
   "provenance": []
  },
  "kernelspec": {
   "display_name": "Python 3 (ipykernel)",
   "language": "python",
   "name": "python3"
  },
  "language_info": {
   "codemirror_mode": {
    "name": "ipython",
    "version": 3
   },
   "file_extension": ".py",
   "mimetype": "text/x-python",
   "name": "python",
   "nbconvert_exporter": "python",
   "pygments_lexer": "ipython3",
   "version": "3.11.9"
  }
 },
 "nbformat": 4,
 "nbformat_minor": 4
}
