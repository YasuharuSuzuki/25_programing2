{
 "cells": [
  {
   "cell_type": "markdown",
   "metadata": {
    "colab_type": "text",
    "id": "view-in-github"
   },
   "source": [
    "<a href=\"https://colab.research.google.com/github/YasuharuSuzuki/25_programing2/blob/main/\" target=\"_parent\"><img src=\"https://colab.research.google.com/assets/colab-badge.svg\" alt=\"Open In Colab\"/></a>"
   ]
  },
  {
   "cell_type": "markdown",
   "metadata": {},
   "source": [
    "# Section 6 他のPythonファイルの関数を使う\n",
    "- Pythonファイルを読み込んで実行することにはいくつかのメリットがあります。\n",
    "\n",
    "1. モジュール化と再利用性\n",
    "   - コードを複数のファイルに分割することで、それぞれのファイルが独立したモジュールとして機能します。これにより、コードの再利用性が向上し、同じ機能を繰り返し利用することが容易になります。\n",
    "\n",
    "2. 保守性と可読性\n",
    "   - 一つのPythonファイルにすべてのコードを書くよりも、関連する機能ごとにファイルを分けることでコードの構造が整理され、可読性が向上します。また、バグの修正や機能の追加が容易になり、保守性も向上します。\n",
    "\n",
    "3. 名前空間の分離\n",
    "   - ファイルごとに独自の名前空間が提供されるため、変数や関数名の衝突を回避することができます。\n",
    "   - これにより、大規模なプロジェクトでのコードの管理が容易になります。\n",
    "\n",
    "4. 再利用可能なコードの共有\n",
    "   - 複数のプロジェクトで共通の機能が必要な場合、それらを別のPythonファイルに記述して読み込むことで、簡単にコードを共有できます。これにより、効率的なコード管理が可能になります。\n",
    "\n",
    "5. 独立したテスト\n",
    "   - 各ファイルを独立したモジュールとして扱うことで、それぞれのモジュールに対して独立したテストを実行することができます。これにより、バグの特定や修正が容易になり、コードの品質が向上します。"
   ]
  },
  {
   "cell_type": "markdown",
   "metadata": {},
   "source": [
    "## 他のPythonファイルの関数を使う 参考サイト\n",
    "### [参考サイト1【Python早見表】モジュール](https://chokkan.github.io/python/05module.html)\n",
    "### [参考サイト2【Python入門】モジュールの作り方](https://utokyo-ipp.github.io/5/5-2.html)\n",
    "### [参考サイト3 ColaboratoryでGoogle Driveの共有アイテム(Shared drives)を開けなくなったその時に](https://qiita.com/tbshiki/items/ed77f6f9f9ae3761b36d)"
   ]
  },
  {
   "cell_type": "markdown",
   "metadata": {},
   "source": [
    "## サンプルプログラム1　Google ColaboratoryでPythonファイルを実行する\n",
    "### Pythonファイルの実行方法\n",
    "1. Teamsで配布済みの「step8GoogleColabで共有アイテムを開こう.pdf」を参考にドライブへのショーットカットを作成\n",
    "2. drive.mount()を使用してGoogleDriveをMount\n",
    "```python\n",
    "from google.colab import drive\n",
    "drive.mount('/content/drive')\n",
    "```\n",
    "3. os.chdir()を使用してカレントディレクトリを変更。作成したショーットカット名を使ってパスを指定します。\n",
    "```python\n",
    "import os\n",
    "os.chdir('/content/drive/MyDrive/＜作成したショートカット名＞')\n",
    "```\n",
    "4. !ls コマンドを使用して Python ファイルを確認\n",
    "```python\n",
    "!ls\n",
    "```\n",
    "\n",
    "5. importを使用してモジュールを読み込む\n",
    "```python\n",
    "import myadd\n",
    "```\n",
    "\n",
    "6. 関数を呼び出す\n",
    "```python\n",
    "myadd.add(2, 3)\n",
    "```"
   ]
  },
  {
   "cell_type": "markdown",
   "metadata": {},
   "source": [
    "### 実際に実行してみる"
   ]
  },
  {
   "cell_type": "code",
   "execution_count": 2,
   "metadata": {},
   "outputs": [],
   "source": [
    "# drive.mount()を使用してGoogleDriveをMount\n",
    "from google.colab import drive\n",
    "drive.mount('/content/drive')"
   ]
  },
  {
   "cell_type": "code",
   "execution_count": 5,
   "metadata": {},
   "outputs": [],
   "source": [
    "# os.chdir()を使用してカレントディレクトリを変更。作成したショーットカット名を使ってパスを指定します。\n",
    "import os\n",
    "os.chdir('/content/drive/MyDrive/＜作成したショートカット名＞')"
   ]
  },
  {
   "cell_type": "code",
   "execution_count": 7,
   "metadata": {},
   "outputs": [
    {
     "name": "stdout",
     "output_type": "stream",
     "text": [
      "01他のPythonファイルの関数を使う.ipynb\r\n",
      "myadd.py\r\n",
      "mygame.py\r\n",
      "mymath.py\r\n"
     ]
    }
   ],
   "source": [
    "# !ls コマンドを使用して Python ファイルを確認\n",
    "# Notebookでは ! を付けるとLinuxコマンドを実行できます。 \n",
    "# Linux コマンドの ls はファイル/ディレクトリの一覧を表示してくれます\n",
    "!ls"
   ]
  },
  {
   "cell_type": "code",
   "execution_count": 9,
   "metadata": {},
   "outputs": [],
   "source": [
    "# importを使用してモジュールを読み込む\n",
    "# importを使用してモジュールを読み込みます。\n",
    "# 他の指定の仕方もありますが、まずは以下のようにPythonファイル名を指定するやり方を試してみましょう。\n",
    "import myadd"
   ]
  },
  {
   "cell_type": "code",
   "execution_count": 10,
   "metadata": {},
   "outputs": [
    {
     "data": {
      "text/plain": [
       "5"
      ]
     },
     "execution_count": 10,
     "metadata": {},
     "output_type": "execute_result"
    }
   ],
   "source": [
    "# 関数を呼び出す\n",
    "myadd.add(2,3)"
   ]
  },
  {
   "cell_type": "code",
   "execution_count": null,
   "metadata": {},
   "outputs": [],
   "source": []
  }
 ],
 "metadata": {
  "colab": {
   "authorship_tag": "ABX9TyMOtB7OiTVLb+yu2KoVwjto",
   "include_colab_link": true,
   "provenance": []
  },
  "kernelspec": {
   "display_name": "Python 3 (ipykernel)",
   "language": "python",
   "name": "python3"
  },
  "language_info": {
   "codemirror_mode": {
    "name": "ipython",
    "version": 3
   },
   "file_extension": ".py",
   "mimetype": "text/x-python",
   "name": "python",
   "nbconvert_exporter": "python",
   "pygments_lexer": "ipython3",
   "version": "3.11.9"
  }
 },
 "nbformat": 4,
 "nbformat_minor": 4
}
